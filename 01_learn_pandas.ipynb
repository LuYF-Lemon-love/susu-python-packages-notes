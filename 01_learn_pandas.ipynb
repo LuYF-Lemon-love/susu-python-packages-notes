{
 "cells": [
  {
   "cell_type": "markdown",
   "id": "227941c8",
   "metadata": {},
   "source": [
    "## 十分钟入门 Pandas"
   ]
  },
  {
   "cell_type": "code",
   "execution_count": 1,
   "id": "3bea394b",
   "metadata": {},
   "outputs": [],
   "source": [
    "# 01_learn_pandas\n",
    "#\n",
    "# created by LuYF-Lemon-love <luyanfeng_nlp@qq.com> on November 27, 2022\n",
    "# updated by LuYF-Lemon-love <luyanfeng_nlp@qq.com> on February 3, 2023\n",
    "#\n",
    "# 参考文档链接: https://www.pypandas.cn/docs/getting_started/10min.html"
   ]
  },
  {
   "cell_type": "markdown",
   "id": "cb145d61",
   "metadata": {},
   "source": [
    "## 导入 Pandas 与 NumPy"
   ]
  },
  {
   "cell_type": "code",
   "execution_count": 2,
   "id": "109b75e0",
   "metadata": {},
   "outputs": [],
   "source": [
    "import numpy as np\n",
    "import pandas as pd"
   ]
  },
  {
   "cell_type": "markdown",
   "id": "fff8147f",
   "metadata": {},
   "source": [
    "## 生成对象"
   ]
  },
  {
   "cell_type": "markdown",
   "id": "e5854d77",
   "metadata": {},
   "source": [
    "用**列表**生成 **Series** 时，**Pandas** 默认**自动生成整数索引**："
   ]
  },
  {
   "cell_type": "code",
   "execution_count": 3,
   "id": "e2996a33",
   "metadata": {},
   "outputs": [
    {
     "data": {
      "text/plain": [
       "0    1.0\n",
       "1    3.0\n",
       "2    5.0\n",
       "3    NaN\n",
       "4    6.0\n",
       "5    8.0\n",
       "dtype: float64"
      ]
     },
     "execution_count": 3,
     "metadata": {},
     "output_type": "execute_result"
    }
   ],
   "source": [
    "s = pd.Series([1, 3, 5, np.nan, 6, 8])\n",
    "s"
   ]
  },
  {
   "cell_type": "markdown",
   "id": "5c7b82a1",
   "metadata": {},
   "source": [
    "用含**日期时间索引**与**标签 (列名)**的 **NumPy 数组**生成 **DataFrame** ："
   ]
  },
  {
   "cell_type": "code",
   "execution_count": 4,
   "id": "9974c972",
   "metadata": {},
   "outputs": [
    {
     "data": {
      "text/plain": [
       "DatetimeIndex(['2013-01-01', '2013-01-02', '2013-01-03', '2013-01-04',\n",
       "               '2013-01-05', '2013-01-06'],\n",
       "              dtype='datetime64[ns]', freq='D')"
      ]
     },
     "execution_count": 4,
     "metadata": {},
     "output_type": "execute_result"
    }
   ],
   "source": [
    "dates = pd.date_range('20130101', periods=6)\n",
    "dates"
   ]
  },
  {
   "cell_type": "code",
   "execution_count": 5,
   "id": "3fa34187",
   "metadata": {},
   "outputs": [
    {
     "data": {
      "text/html": [
       "<div>\n",
       "<style scoped>\n",
       "    .dataframe tbody tr th:only-of-type {\n",
       "        vertical-align: middle;\n",
       "    }\n",
       "\n",
       "    .dataframe tbody tr th {\n",
       "        vertical-align: top;\n",
       "    }\n",
       "\n",
       "    .dataframe thead th {\n",
       "        text-align: right;\n",
       "    }\n",
       "</style>\n",
       "<table border=\"1\" class=\"dataframe\">\n",
       "  <thead>\n",
       "    <tr style=\"text-align: right;\">\n",
       "      <th></th>\n",
       "      <th>A</th>\n",
       "      <th>B</th>\n",
       "      <th>C</th>\n",
       "      <th>D</th>\n",
       "    </tr>\n",
       "  </thead>\n",
       "  <tbody>\n",
       "    <tr>\n",
       "      <th>2013-01-01</th>\n",
       "      <td>-1.606908</td>\n",
       "      <td>0.751458</td>\n",
       "      <td>0.128680</td>\n",
       "      <td>1.003750</td>\n",
       "    </tr>\n",
       "    <tr>\n",
       "      <th>2013-01-02</th>\n",
       "      <td>-0.154668</td>\n",
       "      <td>-1.116446</td>\n",
       "      <td>0.225782</td>\n",
       "      <td>0.971350</td>\n",
       "    </tr>\n",
       "    <tr>\n",
       "      <th>2013-01-03</th>\n",
       "      <td>-0.545779</td>\n",
       "      <td>0.761576</td>\n",
       "      <td>-0.658073</td>\n",
       "      <td>0.341236</td>\n",
       "    </tr>\n",
       "    <tr>\n",
       "      <th>2013-01-04</th>\n",
       "      <td>-0.425134</td>\n",
       "      <td>0.063181</td>\n",
       "      <td>-0.062794</td>\n",
       "      <td>-0.326792</td>\n",
       "    </tr>\n",
       "    <tr>\n",
       "      <th>2013-01-05</th>\n",
       "      <td>-1.162755</td>\n",
       "      <td>-1.930601</td>\n",
       "      <td>-0.679523</td>\n",
       "      <td>-0.737735</td>\n",
       "    </tr>\n",
       "    <tr>\n",
       "      <th>2013-01-06</th>\n",
       "      <td>1.753950</td>\n",
       "      <td>1.529396</td>\n",
       "      <td>-0.294100</td>\n",
       "      <td>1.222128</td>\n",
       "    </tr>\n",
       "  </tbody>\n",
       "</table>\n",
       "</div>"
      ],
      "text/plain": [
       "                   A         B         C         D\n",
       "2013-01-01 -1.606908  0.751458  0.128680  1.003750\n",
       "2013-01-02 -0.154668 -1.116446  0.225782  0.971350\n",
       "2013-01-03 -0.545779  0.761576 -0.658073  0.341236\n",
       "2013-01-04 -0.425134  0.063181 -0.062794 -0.326792\n",
       "2013-01-05 -1.162755 -1.930601 -0.679523 -0.737735\n",
       "2013-01-06  1.753950  1.529396 -0.294100  1.222128"
      ]
     },
     "execution_count": 5,
     "metadata": {},
     "output_type": "execute_result"
    }
   ],
   "source": [
    "df = pd.DataFrame(np.random.randn(6, 4), index=dates, columns=list('ABCD'))\n",
    "df"
   ]
  },
  {
   "cell_type": "markdown",
   "id": "0eb6f264",
   "metadata": {},
   "source": [
    "用 **Series** **字典**对象生成 **DataFrame**："
   ]
  },
  {
   "cell_type": "code",
   "execution_count": 6,
   "id": "defa51df",
   "metadata": {},
   "outputs": [
    {
     "data": {
      "text/html": [
       "<div>\n",
       "<style scoped>\n",
       "    .dataframe tbody tr th:only-of-type {\n",
       "        vertical-align: middle;\n",
       "    }\n",
       "\n",
       "    .dataframe tbody tr th {\n",
       "        vertical-align: top;\n",
       "    }\n",
       "\n",
       "    .dataframe thead th {\n",
       "        text-align: right;\n",
       "    }\n",
       "</style>\n",
       "<table border=\"1\" class=\"dataframe\">\n",
       "  <thead>\n",
       "    <tr style=\"text-align: right;\">\n",
       "      <th></th>\n",
       "      <th>A</th>\n",
       "      <th>B</th>\n",
       "      <th>C</th>\n",
       "      <th>D</th>\n",
       "      <th>E</th>\n",
       "      <th>F</th>\n",
       "    </tr>\n",
       "  </thead>\n",
       "  <tbody>\n",
       "    <tr>\n",
       "      <th>0</th>\n",
       "      <td>1.0</td>\n",
       "      <td>2013-01-02</td>\n",
       "      <td>1.0</td>\n",
       "      <td>3</td>\n",
       "      <td>test</td>\n",
       "      <td>foo</td>\n",
       "    </tr>\n",
       "    <tr>\n",
       "      <th>1</th>\n",
       "      <td>1.0</td>\n",
       "      <td>2013-01-02</td>\n",
       "      <td>1.0</td>\n",
       "      <td>3</td>\n",
       "      <td>train</td>\n",
       "      <td>foo</td>\n",
       "    </tr>\n",
       "    <tr>\n",
       "      <th>2</th>\n",
       "      <td>1.0</td>\n",
       "      <td>2013-01-02</td>\n",
       "      <td>1.0</td>\n",
       "      <td>3</td>\n",
       "      <td>test</td>\n",
       "      <td>foo</td>\n",
       "    </tr>\n",
       "    <tr>\n",
       "      <th>3</th>\n",
       "      <td>1.0</td>\n",
       "      <td>2013-01-02</td>\n",
       "      <td>1.0</td>\n",
       "      <td>3</td>\n",
       "      <td>train</td>\n",
       "      <td>foo</td>\n",
       "    </tr>\n",
       "  </tbody>\n",
       "</table>\n",
       "</div>"
      ],
      "text/plain": [
       "     A          B    C  D      E    F\n",
       "0  1.0 2013-01-02  1.0  3   test  foo\n",
       "1  1.0 2013-01-02  1.0  3  train  foo\n",
       "2  1.0 2013-01-02  1.0  3   test  foo\n",
       "3  1.0 2013-01-02  1.0  3  train  foo"
      ]
     },
     "execution_count": 6,
     "metadata": {},
     "output_type": "execute_result"
    }
   ],
   "source": [
    "df2 = pd.DataFrame({'A': 1.,\n",
    "                    'B': pd.Timestamp('20130102'),\n",
    "                    'C': pd.Series(1, index=list(range(4)), dtype='float32'),\n",
    "                    'D': np.array([3] * 4, dtype='int32'),\n",
    "                    'E': pd.Categorical([\"test\", \"train\", \"test\", \"train\"]),\n",
    "                    'F': 'foo'})\n",
    "df2"
   ]
  },
  {
   "cell_type": "markdown",
   "id": "5f694e45",
   "metadata": {},
   "source": [
    "**DataFrame** 的**列**有**不同数据类型**。"
   ]
  },
  {
   "cell_type": "code",
   "execution_count": 7,
   "id": "a2d6b2ea",
   "metadata": {},
   "outputs": [
    {
     "data": {
      "text/plain": [
       "A           float64\n",
       "B    datetime64[ns]\n",
       "C           float32\n",
       "D             int32\n",
       "E          category\n",
       "F            object\n",
       "dtype: object"
      ]
     },
     "execution_count": 7,
     "metadata": {},
     "output_type": "execute_result"
    }
   ],
   "source": [
    "df2.dtypes"
   ]
  },
  {
   "cell_type": "markdown",
   "id": "c2794f64",
   "metadata": {},
   "source": [
    "**IPython** 支持 **tab** 键**自动补全列名与公共属性**。列 **A**、**B**、**C**、**D** 和 **E** 都可以**自动补全**。"
   ]
  },
  {
   "cell_type": "markdown",
   "id": "1468f28e",
   "metadata": {},
   "source": [
    "## 查看数据"
   ]
  },
  {
   "cell_type": "markdown",
   "id": "19ec8e8e",
   "metadata": {},
   "source": [
    "查看 **DataFrame** **头部**和**尾部**数据："
   ]
  },
  {
   "cell_type": "code",
   "execution_count": 8,
   "id": "d2a55afa",
   "metadata": {},
   "outputs": [
    {
     "data": {
      "text/html": [
       "<div>\n",
       "<style scoped>\n",
       "    .dataframe tbody tr th:only-of-type {\n",
       "        vertical-align: middle;\n",
       "    }\n",
       "\n",
       "    .dataframe tbody tr th {\n",
       "        vertical-align: top;\n",
       "    }\n",
       "\n",
       "    .dataframe thead th {\n",
       "        text-align: right;\n",
       "    }\n",
       "</style>\n",
       "<table border=\"1\" class=\"dataframe\">\n",
       "  <thead>\n",
       "    <tr style=\"text-align: right;\">\n",
       "      <th></th>\n",
       "      <th>A</th>\n",
       "      <th>B</th>\n",
       "      <th>C</th>\n",
       "      <th>D</th>\n",
       "    </tr>\n",
       "  </thead>\n",
       "  <tbody>\n",
       "    <tr>\n",
       "      <th>2013-01-01</th>\n",
       "      <td>-1.606908</td>\n",
       "      <td>0.751458</td>\n",
       "      <td>0.128680</td>\n",
       "      <td>1.003750</td>\n",
       "    </tr>\n",
       "    <tr>\n",
       "      <th>2013-01-02</th>\n",
       "      <td>-0.154668</td>\n",
       "      <td>-1.116446</td>\n",
       "      <td>0.225782</td>\n",
       "      <td>0.971350</td>\n",
       "    </tr>\n",
       "    <tr>\n",
       "      <th>2013-01-03</th>\n",
       "      <td>-0.545779</td>\n",
       "      <td>0.761576</td>\n",
       "      <td>-0.658073</td>\n",
       "      <td>0.341236</td>\n",
       "    </tr>\n",
       "    <tr>\n",
       "      <th>2013-01-04</th>\n",
       "      <td>-0.425134</td>\n",
       "      <td>0.063181</td>\n",
       "      <td>-0.062794</td>\n",
       "      <td>-0.326792</td>\n",
       "    </tr>\n",
       "    <tr>\n",
       "      <th>2013-01-05</th>\n",
       "      <td>-1.162755</td>\n",
       "      <td>-1.930601</td>\n",
       "      <td>-0.679523</td>\n",
       "      <td>-0.737735</td>\n",
       "    </tr>\n",
       "  </tbody>\n",
       "</table>\n",
       "</div>"
      ],
      "text/plain": [
       "                   A         B         C         D\n",
       "2013-01-01 -1.606908  0.751458  0.128680  1.003750\n",
       "2013-01-02 -0.154668 -1.116446  0.225782  0.971350\n",
       "2013-01-03 -0.545779  0.761576 -0.658073  0.341236\n",
       "2013-01-04 -0.425134  0.063181 -0.062794 -0.326792\n",
       "2013-01-05 -1.162755 -1.930601 -0.679523 -0.737735"
      ]
     },
     "execution_count": 8,
     "metadata": {},
     "output_type": "execute_result"
    }
   ],
   "source": [
    "df.head()"
   ]
  },
  {
   "cell_type": "code",
   "execution_count": 9,
   "id": "e49e18e4",
   "metadata": {},
   "outputs": [
    {
     "data": {
      "text/html": [
       "<div>\n",
       "<style scoped>\n",
       "    .dataframe tbody tr th:only-of-type {\n",
       "        vertical-align: middle;\n",
       "    }\n",
       "\n",
       "    .dataframe tbody tr th {\n",
       "        vertical-align: top;\n",
       "    }\n",
       "\n",
       "    .dataframe thead th {\n",
       "        text-align: right;\n",
       "    }\n",
       "</style>\n",
       "<table border=\"1\" class=\"dataframe\">\n",
       "  <thead>\n",
       "    <tr style=\"text-align: right;\">\n",
       "      <th></th>\n",
       "      <th>A</th>\n",
       "      <th>B</th>\n",
       "      <th>C</th>\n",
       "      <th>D</th>\n",
       "    </tr>\n",
       "  </thead>\n",
       "  <tbody>\n",
       "    <tr>\n",
       "      <th>2013-01-04</th>\n",
       "      <td>-0.425134</td>\n",
       "      <td>0.063181</td>\n",
       "      <td>-0.062794</td>\n",
       "      <td>-0.326792</td>\n",
       "    </tr>\n",
       "    <tr>\n",
       "      <th>2013-01-05</th>\n",
       "      <td>-1.162755</td>\n",
       "      <td>-1.930601</td>\n",
       "      <td>-0.679523</td>\n",
       "      <td>-0.737735</td>\n",
       "    </tr>\n",
       "    <tr>\n",
       "      <th>2013-01-06</th>\n",
       "      <td>1.753950</td>\n",
       "      <td>1.529396</td>\n",
       "      <td>-0.294100</td>\n",
       "      <td>1.222128</td>\n",
       "    </tr>\n",
       "  </tbody>\n",
       "</table>\n",
       "</div>"
      ],
      "text/plain": [
       "                   A         B         C         D\n",
       "2013-01-04 -0.425134  0.063181 -0.062794 -0.326792\n",
       "2013-01-05 -1.162755 -1.930601 -0.679523 -0.737735\n",
       "2013-01-06  1.753950  1.529396 -0.294100  1.222128"
      ]
     },
     "execution_count": 9,
     "metadata": {},
     "output_type": "execute_result"
    }
   ],
   "source": [
    "df.tail(3)"
   ]
  },
  {
   "cell_type": "markdown",
   "id": "65095466",
   "metadata": {},
   "source": [
    "显示**索引**与**列名**："
   ]
  },
  {
   "cell_type": "code",
   "execution_count": 10,
   "id": "86c202b5",
   "metadata": {},
   "outputs": [
    {
     "data": {
      "text/plain": [
       "DatetimeIndex(['2013-01-01', '2013-01-02', '2013-01-03', '2013-01-04',\n",
       "               '2013-01-05', '2013-01-06'],\n",
       "              dtype='datetime64[ns]', freq='D')"
      ]
     },
     "execution_count": 10,
     "metadata": {},
     "output_type": "execute_result"
    }
   ],
   "source": [
    "df.index"
   ]
  },
  {
   "cell_type": "code",
   "execution_count": 11,
   "id": "e11587e1",
   "metadata": {},
   "outputs": [
    {
     "data": {
      "text/plain": [
       "Index(['A', 'B', 'C', 'D'], dtype='object')"
      ]
     },
     "execution_count": 11,
     "metadata": {},
     "output_type": "execute_result"
    }
   ],
   "source": [
    "df.columns"
   ]
  },
  {
   "cell_type": "markdown",
   "id": "16c4ef84",
   "metadata": {},
   "source": [
    "**DataFrame.to_numpy()** 输出底层数据的 **NumPy** 对象。注意，**DataFrame** 的列由**多种数据类型**组成时，该操作**耗费系统资源较大**，这也是 **Pandas** 和 **NumPy** 的本质区别：**NumPy 数组只有一种数据类型，DataFrame 每列的数据类型各不相同**。调用 **DataFrame.to_numpy()** 时，**Pandas** 查找**支持 DataFrame 里所有数据类型**的 **NumPy 数据类型**。还有一种数据类型是 **object**，可以把 **DataFrame** 列里的值强制转换为 **Python** 对象。"
   ]
  },
  {
   "cell_type": "markdown",
   "id": "c5b5170b",
   "metadata": {},
   "source": [
    "下面的 **df** 这个 **DataFrame** 里的值都是**浮点数**，**DataFrame.to_numpy()** 的**操作会很快**，而且**不复制数据**。"
   ]
  },
  {
   "cell_type": "code",
   "execution_count": 12,
   "id": "6a56d60c",
   "metadata": {},
   "outputs": [
    {
     "data": {
      "text/plain": [
       "array([[-1.60690787,  0.75145843,  0.1286795 ,  1.00375   ],\n",
       "       [-0.15466765, -1.11644561,  0.22578227,  0.97134972],\n",
       "       [-0.54577872,  0.76157583, -0.65807326,  0.34123578],\n",
       "       [-0.42513371,  0.06318085, -0.06279373, -0.3267921 ],\n",
       "       [-1.16275478, -1.9306014 , -0.67952254, -0.73773519],\n",
       "       [ 1.75394952,  1.52939595, -0.29409998,  1.22212848]])"
      ]
     },
     "execution_count": 12,
     "metadata": {},
     "output_type": "execute_result"
    }
   ],
   "source": [
    "df.to_numpy()"
   ]
  },
  {
   "cell_type": "markdown",
   "id": "dcf6e121",
   "metadata": {},
   "source": [
    "**df2** 这个 **DataFrame** 包含了**多种类型**，**DataFrame.to_numpy()** 操作会**耗费较多资源**。"
   ]
  },
  {
   "cell_type": "code",
   "execution_count": 13,
   "id": "13092986",
   "metadata": {},
   "outputs": [
    {
     "data": {
      "text/plain": [
       "array([[1.0, Timestamp('2013-01-02 00:00:00'), 1.0, 3, 'test', 'foo'],\n",
       "       [1.0, Timestamp('2013-01-02 00:00:00'), 1.0, 3, 'train', 'foo'],\n",
       "       [1.0, Timestamp('2013-01-02 00:00:00'), 1.0, 3, 'test', 'foo'],\n",
       "       [1.0, Timestamp('2013-01-02 00:00:00'), 1.0, 3, 'train', 'foo']],\n",
       "      dtype=object)"
      ]
     },
     "execution_count": 13,
     "metadata": {},
     "output_type": "execute_result"
    }
   ],
   "source": [
    "df2.to_numpy()"
   ]
  },
  {
   "cell_type": "markdown",
   "id": "980732ac",
   "metadata": {},
   "source": [
    ">**DataFrame.to_numpy()** 的**输出**不包含**行索引**和**列标签**。"
   ]
  },
  {
   "cell_type": "markdown",
   "id": "a94e83c5",
   "metadata": {},
   "source": [
    "**describe()** 可以**快速查看数据的统计摘要**："
   ]
  },
  {
   "cell_type": "code",
   "execution_count": 14,
   "id": "ca448695",
   "metadata": {},
   "outputs": [
    {
     "data": {
      "text/html": [
       "<div>\n",
       "<style scoped>\n",
       "    .dataframe tbody tr th:only-of-type {\n",
       "        vertical-align: middle;\n",
       "    }\n",
       "\n",
       "    .dataframe tbody tr th {\n",
       "        vertical-align: top;\n",
       "    }\n",
       "\n",
       "    .dataframe thead th {\n",
       "        text-align: right;\n",
       "    }\n",
       "</style>\n",
       "<table border=\"1\" class=\"dataframe\">\n",
       "  <thead>\n",
       "    <tr style=\"text-align: right;\">\n",
       "      <th></th>\n",
       "      <th>A</th>\n",
       "      <th>B</th>\n",
       "      <th>C</th>\n",
       "      <th>D</th>\n",
       "    </tr>\n",
       "  </thead>\n",
       "  <tbody>\n",
       "    <tr>\n",
       "      <th>count</th>\n",
       "      <td>6.000000</td>\n",
       "      <td>6.000000</td>\n",
       "      <td>6.000000</td>\n",
       "      <td>6.000000</td>\n",
       "    </tr>\n",
       "    <tr>\n",
       "      <th>mean</th>\n",
       "      <td>-0.356882</td>\n",
       "      <td>0.009761</td>\n",
       "      <td>-0.223338</td>\n",
       "      <td>0.412323</td>\n",
       "    </tr>\n",
       "    <tr>\n",
       "      <th>std</th>\n",
       "      <td>1.161795</td>\n",
       "      <td>1.300833</td>\n",
       "      <td>0.388203</td>\n",
       "      <td>0.799007</td>\n",
       "    </tr>\n",
       "    <tr>\n",
       "      <th>min</th>\n",
       "      <td>-1.606908</td>\n",
       "      <td>-1.930601</td>\n",
       "      <td>-0.679523</td>\n",
       "      <td>-0.737735</td>\n",
       "    </tr>\n",
       "    <tr>\n",
       "      <th>25%</th>\n",
       "      <td>-1.008511</td>\n",
       "      <td>-0.821539</td>\n",
       "      <td>-0.567080</td>\n",
       "      <td>-0.159785</td>\n",
       "    </tr>\n",
       "    <tr>\n",
       "      <th>50%</th>\n",
       "      <td>-0.485456</td>\n",
       "      <td>0.407320</td>\n",
       "      <td>-0.178447</td>\n",
       "      <td>0.656293</td>\n",
       "    </tr>\n",
       "    <tr>\n",
       "      <th>75%</th>\n",
       "      <td>-0.222284</td>\n",
       "      <td>0.759046</td>\n",
       "      <td>0.080811</td>\n",
       "      <td>0.995650</td>\n",
       "    </tr>\n",
       "    <tr>\n",
       "      <th>max</th>\n",
       "      <td>1.753950</td>\n",
       "      <td>1.529396</td>\n",
       "      <td>0.225782</td>\n",
       "      <td>1.222128</td>\n",
       "    </tr>\n",
       "  </tbody>\n",
       "</table>\n",
       "</div>"
      ],
      "text/plain": [
       "              A         B         C         D\n",
       "count  6.000000  6.000000  6.000000  6.000000\n",
       "mean  -0.356882  0.009761 -0.223338  0.412323\n",
       "std    1.161795  1.300833  0.388203  0.799007\n",
       "min   -1.606908 -1.930601 -0.679523 -0.737735\n",
       "25%   -1.008511 -0.821539 -0.567080 -0.159785\n",
       "50%   -0.485456  0.407320 -0.178447  0.656293\n",
       "75%   -0.222284  0.759046  0.080811  0.995650\n",
       "max    1.753950  1.529396  0.225782  1.222128"
      ]
     },
     "execution_count": 14,
     "metadata": {},
     "output_type": "execute_result"
    }
   ],
   "source": [
    "df.describe()"
   ]
  },
  {
   "cell_type": "markdown",
   "id": "438dd7e2",
   "metadata": {},
   "source": [
    "转置数据："
   ]
  },
  {
   "cell_type": "code",
   "execution_count": 15,
   "id": "fbf2e347",
   "metadata": {},
   "outputs": [
    {
     "data": {
      "text/html": [
       "<div>\n",
       "<style scoped>\n",
       "    .dataframe tbody tr th:only-of-type {\n",
       "        vertical-align: middle;\n",
       "    }\n",
       "\n",
       "    .dataframe tbody tr th {\n",
       "        vertical-align: top;\n",
       "    }\n",
       "\n",
       "    .dataframe thead th {\n",
       "        text-align: right;\n",
       "    }\n",
       "</style>\n",
       "<table border=\"1\" class=\"dataframe\">\n",
       "  <thead>\n",
       "    <tr style=\"text-align: right;\">\n",
       "      <th></th>\n",
       "      <th>2013-01-01</th>\n",
       "      <th>2013-01-02</th>\n",
       "      <th>2013-01-03</th>\n",
       "      <th>2013-01-04</th>\n",
       "      <th>2013-01-05</th>\n",
       "      <th>2013-01-06</th>\n",
       "    </tr>\n",
       "  </thead>\n",
       "  <tbody>\n",
       "    <tr>\n",
       "      <th>A</th>\n",
       "      <td>-1.606908</td>\n",
       "      <td>-0.154668</td>\n",
       "      <td>-0.545779</td>\n",
       "      <td>-0.425134</td>\n",
       "      <td>-1.162755</td>\n",
       "      <td>1.753950</td>\n",
       "    </tr>\n",
       "    <tr>\n",
       "      <th>B</th>\n",
       "      <td>0.751458</td>\n",
       "      <td>-1.116446</td>\n",
       "      <td>0.761576</td>\n",
       "      <td>0.063181</td>\n",
       "      <td>-1.930601</td>\n",
       "      <td>1.529396</td>\n",
       "    </tr>\n",
       "    <tr>\n",
       "      <th>C</th>\n",
       "      <td>0.128680</td>\n",
       "      <td>0.225782</td>\n",
       "      <td>-0.658073</td>\n",
       "      <td>-0.062794</td>\n",
       "      <td>-0.679523</td>\n",
       "      <td>-0.294100</td>\n",
       "    </tr>\n",
       "    <tr>\n",
       "      <th>D</th>\n",
       "      <td>1.003750</td>\n",
       "      <td>0.971350</td>\n",
       "      <td>0.341236</td>\n",
       "      <td>-0.326792</td>\n",
       "      <td>-0.737735</td>\n",
       "      <td>1.222128</td>\n",
       "    </tr>\n",
       "  </tbody>\n",
       "</table>\n",
       "</div>"
      ],
      "text/plain": [
       "   2013-01-01  2013-01-02  2013-01-03  2013-01-04  2013-01-05  2013-01-06\n",
       "A   -1.606908   -0.154668   -0.545779   -0.425134   -1.162755    1.753950\n",
       "B    0.751458   -1.116446    0.761576    0.063181   -1.930601    1.529396\n",
       "C    0.128680    0.225782   -0.658073   -0.062794   -0.679523   -0.294100\n",
       "D    1.003750    0.971350    0.341236   -0.326792   -0.737735    1.222128"
      ]
     },
     "execution_count": 15,
     "metadata": {},
     "output_type": "execute_result"
    }
   ],
   "source": [
    "df.T"
   ]
  },
  {
   "cell_type": "markdown",
   "id": "04b657da",
   "metadata": {},
   "source": [
    "按轴排序："
   ]
  },
  {
   "cell_type": "code",
   "execution_count": 16,
   "id": "3698a741",
   "metadata": {},
   "outputs": [
    {
     "data": {
      "text/html": [
       "<div>\n",
       "<style scoped>\n",
       "    .dataframe tbody tr th:only-of-type {\n",
       "        vertical-align: middle;\n",
       "    }\n",
       "\n",
       "    .dataframe tbody tr th {\n",
       "        vertical-align: top;\n",
       "    }\n",
       "\n",
       "    .dataframe thead th {\n",
       "        text-align: right;\n",
       "    }\n",
       "</style>\n",
       "<table border=\"1\" class=\"dataframe\">\n",
       "  <thead>\n",
       "    <tr style=\"text-align: right;\">\n",
       "      <th></th>\n",
       "      <th>D</th>\n",
       "      <th>C</th>\n",
       "      <th>B</th>\n",
       "      <th>A</th>\n",
       "    </tr>\n",
       "  </thead>\n",
       "  <tbody>\n",
       "    <tr>\n",
       "      <th>2013-01-01</th>\n",
       "      <td>1.003750</td>\n",
       "      <td>0.128680</td>\n",
       "      <td>0.751458</td>\n",
       "      <td>-1.606908</td>\n",
       "    </tr>\n",
       "    <tr>\n",
       "      <th>2013-01-02</th>\n",
       "      <td>0.971350</td>\n",
       "      <td>0.225782</td>\n",
       "      <td>-1.116446</td>\n",
       "      <td>-0.154668</td>\n",
       "    </tr>\n",
       "    <tr>\n",
       "      <th>2013-01-03</th>\n",
       "      <td>0.341236</td>\n",
       "      <td>-0.658073</td>\n",
       "      <td>0.761576</td>\n",
       "      <td>-0.545779</td>\n",
       "    </tr>\n",
       "    <tr>\n",
       "      <th>2013-01-04</th>\n",
       "      <td>-0.326792</td>\n",
       "      <td>-0.062794</td>\n",
       "      <td>0.063181</td>\n",
       "      <td>-0.425134</td>\n",
       "    </tr>\n",
       "    <tr>\n",
       "      <th>2013-01-05</th>\n",
       "      <td>-0.737735</td>\n",
       "      <td>-0.679523</td>\n",
       "      <td>-1.930601</td>\n",
       "      <td>-1.162755</td>\n",
       "    </tr>\n",
       "    <tr>\n",
       "      <th>2013-01-06</th>\n",
       "      <td>1.222128</td>\n",
       "      <td>-0.294100</td>\n",
       "      <td>1.529396</td>\n",
       "      <td>1.753950</td>\n",
       "    </tr>\n",
       "  </tbody>\n",
       "</table>\n",
       "</div>"
      ],
      "text/plain": [
       "                   D         C         B         A\n",
       "2013-01-01  1.003750  0.128680  0.751458 -1.606908\n",
       "2013-01-02  0.971350  0.225782 -1.116446 -0.154668\n",
       "2013-01-03  0.341236 -0.658073  0.761576 -0.545779\n",
       "2013-01-04 -0.326792 -0.062794  0.063181 -0.425134\n",
       "2013-01-05 -0.737735 -0.679523 -1.930601 -1.162755\n",
       "2013-01-06  1.222128 -0.294100  1.529396  1.753950"
      ]
     },
     "execution_count": 16,
     "metadata": {},
     "output_type": "execute_result"
    }
   ],
   "source": [
    "'''\n",
    "    Parameters\n",
    "    ----------\n",
    "    axis : {0 or 'index', 1 or 'columns'}, default 0\n",
    "        The axis along which to sort.  The value 0 identifies the rows,\n",
    "        and 1 identifies the columns.\n",
    "'''\n",
    "\n",
    "df.sort_index(axis=1, ascending=False)"
   ]
  },
  {
   "cell_type": "markdown",
   "id": "a9efbda9",
   "metadata": {},
   "source": [
    "按值排序："
   ]
  },
  {
   "cell_type": "code",
   "execution_count": 17,
   "id": "58828340",
   "metadata": {},
   "outputs": [
    {
     "data": {
      "text/html": [
       "<div>\n",
       "<style scoped>\n",
       "    .dataframe tbody tr th:only-of-type {\n",
       "        vertical-align: middle;\n",
       "    }\n",
       "\n",
       "    .dataframe tbody tr th {\n",
       "        vertical-align: top;\n",
       "    }\n",
       "\n",
       "    .dataframe thead th {\n",
       "        text-align: right;\n",
       "    }\n",
       "</style>\n",
       "<table border=\"1\" class=\"dataframe\">\n",
       "  <thead>\n",
       "    <tr style=\"text-align: right;\">\n",
       "      <th></th>\n",
       "      <th>A</th>\n",
       "      <th>B</th>\n",
       "      <th>C</th>\n",
       "      <th>D</th>\n",
       "    </tr>\n",
       "  </thead>\n",
       "  <tbody>\n",
       "    <tr>\n",
       "      <th>2013-01-05</th>\n",
       "      <td>-1.162755</td>\n",
       "      <td>-1.930601</td>\n",
       "      <td>-0.679523</td>\n",
       "      <td>-0.737735</td>\n",
       "    </tr>\n",
       "    <tr>\n",
       "      <th>2013-01-02</th>\n",
       "      <td>-0.154668</td>\n",
       "      <td>-1.116446</td>\n",
       "      <td>0.225782</td>\n",
       "      <td>0.971350</td>\n",
       "    </tr>\n",
       "    <tr>\n",
       "      <th>2013-01-04</th>\n",
       "      <td>-0.425134</td>\n",
       "      <td>0.063181</td>\n",
       "      <td>-0.062794</td>\n",
       "      <td>-0.326792</td>\n",
       "    </tr>\n",
       "    <tr>\n",
       "      <th>2013-01-01</th>\n",
       "      <td>-1.606908</td>\n",
       "      <td>0.751458</td>\n",
       "      <td>0.128680</td>\n",
       "      <td>1.003750</td>\n",
       "    </tr>\n",
       "    <tr>\n",
       "      <th>2013-01-03</th>\n",
       "      <td>-0.545779</td>\n",
       "      <td>0.761576</td>\n",
       "      <td>-0.658073</td>\n",
       "      <td>0.341236</td>\n",
       "    </tr>\n",
       "    <tr>\n",
       "      <th>2013-01-06</th>\n",
       "      <td>1.753950</td>\n",
       "      <td>1.529396</td>\n",
       "      <td>-0.294100</td>\n",
       "      <td>1.222128</td>\n",
       "    </tr>\n",
       "  </tbody>\n",
       "</table>\n",
       "</div>"
      ],
      "text/plain": [
       "                   A         B         C         D\n",
       "2013-01-05 -1.162755 -1.930601 -0.679523 -0.737735\n",
       "2013-01-02 -0.154668 -1.116446  0.225782  0.971350\n",
       "2013-01-04 -0.425134  0.063181 -0.062794 -0.326792\n",
       "2013-01-01 -1.606908  0.751458  0.128680  1.003750\n",
       "2013-01-03 -0.545779  0.761576 -0.658073  0.341236\n",
       "2013-01-06  1.753950  1.529396 -0.294100  1.222128"
      ]
     },
     "execution_count": 17,
     "metadata": {},
     "output_type": "execute_result"
    }
   ],
   "source": [
    "'''\n",
    "    Parameters\n",
    "    ----------\n",
    "            by : str or list of str\n",
    "                Name or list of names to sort by.\n",
    "    \n",
    "                - if `axis` is 0 or `'index'` then `by` may contain index\n",
    "                  levels and/or column labels.\n",
    "                - if `axis` is 1 or `'columns'` then `by` may contain column\n",
    "                  levels and/or index labels.\n",
    "    axis : {0 or 'index', 1 or 'columns'}, default 0\n",
    "         Axis to be sorted.\n",
    "'''\n",
    "\n",
    "df.sort_values(by='B')"
   ]
  },
  {
   "cell_type": "markdown",
   "id": "458db4e6",
   "metadata": {},
   "source": [
    "## 选择"
   ]
  },
  {
   "cell_type": "markdown",
   "id": "207fea44",
   "metadata": {},
   "source": [
    "选择、设置标准 **Python / Numpy** 的表达式已经非常直观，交互也很方便，但对于**生产代码**，还是**推荐优化过的 Pandas 数据访问方法**：**.at**、**.iat**、**.loc** 和 **.iloc**。"
   ]
  },
  {
   "cell_type": "markdown",
   "id": "e5f0d5a8",
   "metadata": {},
   "source": [
    "### 获取数据"
   ]
  },
  {
   "cell_type": "markdown",
   "id": "717e9d53",
   "metadata": {},
   "source": [
    "选择**单列**，产生 **Series**，与 **df.A** 等效："
   ]
  },
  {
   "cell_type": "code",
   "execution_count": 18,
   "id": "42e8d43d",
   "metadata": {},
   "outputs": [
    {
     "data": {
      "text/plain": [
       "2013-01-01   -1.606908\n",
       "2013-01-02   -0.154668\n",
       "2013-01-03   -0.545779\n",
       "2013-01-04   -0.425134\n",
       "2013-01-05   -1.162755\n",
       "2013-01-06    1.753950\n",
       "Freq: D, Name: A, dtype: float64"
      ]
     },
     "execution_count": 18,
     "metadata": {},
     "output_type": "execute_result"
    }
   ],
   "source": [
    "df['A']"
   ]
  },
  {
   "cell_type": "markdown",
   "id": "d0a6ed15",
   "metadata": {},
   "source": [
    "用 **[]** 切片**行**："
   ]
  },
  {
   "cell_type": "code",
   "execution_count": 19,
   "id": "f6465713",
   "metadata": {},
   "outputs": [
    {
     "data": {
      "text/html": [
       "<div>\n",
       "<style scoped>\n",
       "    .dataframe tbody tr th:only-of-type {\n",
       "        vertical-align: middle;\n",
       "    }\n",
       "\n",
       "    .dataframe tbody tr th {\n",
       "        vertical-align: top;\n",
       "    }\n",
       "\n",
       "    .dataframe thead th {\n",
       "        text-align: right;\n",
       "    }\n",
       "</style>\n",
       "<table border=\"1\" class=\"dataframe\">\n",
       "  <thead>\n",
       "    <tr style=\"text-align: right;\">\n",
       "      <th></th>\n",
       "      <th>A</th>\n",
       "      <th>B</th>\n",
       "      <th>C</th>\n",
       "      <th>D</th>\n",
       "    </tr>\n",
       "  </thead>\n",
       "  <tbody>\n",
       "    <tr>\n",
       "      <th>2013-01-01</th>\n",
       "      <td>-1.606908</td>\n",
       "      <td>0.751458</td>\n",
       "      <td>0.128680</td>\n",
       "      <td>1.003750</td>\n",
       "    </tr>\n",
       "    <tr>\n",
       "      <th>2013-01-02</th>\n",
       "      <td>-0.154668</td>\n",
       "      <td>-1.116446</td>\n",
       "      <td>0.225782</td>\n",
       "      <td>0.971350</td>\n",
       "    </tr>\n",
       "    <tr>\n",
       "      <th>2013-01-03</th>\n",
       "      <td>-0.545779</td>\n",
       "      <td>0.761576</td>\n",
       "      <td>-0.658073</td>\n",
       "      <td>0.341236</td>\n",
       "    </tr>\n",
       "  </tbody>\n",
       "</table>\n",
       "</div>"
      ],
      "text/plain": [
       "                   A         B         C         D\n",
       "2013-01-01 -1.606908  0.751458  0.128680  1.003750\n",
       "2013-01-02 -0.154668 -1.116446  0.225782  0.971350\n",
       "2013-01-03 -0.545779  0.761576 -0.658073  0.341236"
      ]
     },
     "execution_count": 19,
     "metadata": {},
     "output_type": "execute_result"
    }
   ],
   "source": [
    "df[0:3]"
   ]
  },
  {
   "cell_type": "code",
   "execution_count": 20,
   "id": "3edea33e",
   "metadata": {},
   "outputs": [
    {
     "data": {
      "text/html": [
       "<div>\n",
       "<style scoped>\n",
       "    .dataframe tbody tr th:only-of-type {\n",
       "        vertical-align: middle;\n",
       "    }\n",
       "\n",
       "    .dataframe tbody tr th {\n",
       "        vertical-align: top;\n",
       "    }\n",
       "\n",
       "    .dataframe thead th {\n",
       "        text-align: right;\n",
       "    }\n",
       "</style>\n",
       "<table border=\"1\" class=\"dataframe\">\n",
       "  <thead>\n",
       "    <tr style=\"text-align: right;\">\n",
       "      <th></th>\n",
       "      <th>A</th>\n",
       "      <th>B</th>\n",
       "      <th>C</th>\n",
       "      <th>D</th>\n",
       "    </tr>\n",
       "  </thead>\n",
       "  <tbody>\n",
       "    <tr>\n",
       "      <th>2013-01-02</th>\n",
       "      <td>-0.154668</td>\n",
       "      <td>-1.116446</td>\n",
       "      <td>0.225782</td>\n",
       "      <td>0.971350</td>\n",
       "    </tr>\n",
       "    <tr>\n",
       "      <th>2013-01-03</th>\n",
       "      <td>-0.545779</td>\n",
       "      <td>0.761576</td>\n",
       "      <td>-0.658073</td>\n",
       "      <td>0.341236</td>\n",
       "    </tr>\n",
       "    <tr>\n",
       "      <th>2013-01-04</th>\n",
       "      <td>-0.425134</td>\n",
       "      <td>0.063181</td>\n",
       "      <td>-0.062794</td>\n",
       "      <td>-0.326792</td>\n",
       "    </tr>\n",
       "  </tbody>\n",
       "</table>\n",
       "</div>"
      ],
      "text/plain": [
       "                   A         B         C         D\n",
       "2013-01-02 -0.154668 -1.116446  0.225782  0.971350\n",
       "2013-01-03 -0.545779  0.761576 -0.658073  0.341236\n",
       "2013-01-04 -0.425134  0.063181 -0.062794 -0.326792"
      ]
     },
     "execution_count": 20,
     "metadata": {},
     "output_type": "execute_result"
    }
   ],
   "source": [
    "df['20130102':'20130104']"
   ]
  },
  {
   "cell_type": "code",
   "execution_count": 21,
   "id": "75d0c976",
   "metadata": {},
   "outputs": [
    {
     "data": {
      "text/html": [
       "<div>\n",
       "<style scoped>\n",
       "    .dataframe tbody tr th:only-of-type {\n",
       "        vertical-align: middle;\n",
       "    }\n",
       "\n",
       "    .dataframe tbody tr th {\n",
       "        vertical-align: top;\n",
       "    }\n",
       "\n",
       "    .dataframe thead th {\n",
       "        text-align: right;\n",
       "    }\n",
       "</style>\n",
       "<table border=\"1\" class=\"dataframe\">\n",
       "  <thead>\n",
       "    <tr style=\"text-align: right;\">\n",
       "      <th></th>\n",
       "      <th>A</th>\n",
       "      <th>B</th>\n",
       "      <th>C</th>\n",
       "      <th>D</th>\n",
       "    </tr>\n",
       "  </thead>\n",
       "  <tbody>\n",
       "    <tr>\n",
       "      <th>2013-01-02</th>\n",
       "      <td>-0.154668</td>\n",
       "      <td>-1.116446</td>\n",
       "      <td>0.225782</td>\n",
       "      <td>0.971350</td>\n",
       "    </tr>\n",
       "    <tr>\n",
       "      <th>2013-01-03</th>\n",
       "      <td>-0.545779</td>\n",
       "      <td>0.761576</td>\n",
       "      <td>-0.658073</td>\n",
       "      <td>0.341236</td>\n",
       "    </tr>\n",
       "    <tr>\n",
       "      <th>2013-01-04</th>\n",
       "      <td>-0.425134</td>\n",
       "      <td>0.063181</td>\n",
       "      <td>-0.062794</td>\n",
       "      <td>-0.326792</td>\n",
       "    </tr>\n",
       "  </tbody>\n",
       "</table>\n",
       "</div>"
      ],
      "text/plain": [
       "                   A         B         C         D\n",
       "2013-01-02 -0.154668 -1.116446  0.225782  0.971350\n",
       "2013-01-03 -0.545779  0.761576 -0.658073  0.341236\n",
       "2013-01-04 -0.425134  0.063181 -0.062794 -0.326792"
      ]
     },
     "execution_count": 21,
     "metadata": {},
     "output_type": "execute_result"
    }
   ],
   "source": [
    "df['2013-01-02':'2013-01-04']"
   ]
  },
  {
   "cell_type": "code",
   "execution_count": 22,
   "id": "4fa4e471",
   "metadata": {},
   "outputs": [
    {
     "data": {
      "text/html": [
       "<div>\n",
       "<style scoped>\n",
       "    .dataframe tbody tr th:only-of-type {\n",
       "        vertical-align: middle;\n",
       "    }\n",
       "\n",
       "    .dataframe tbody tr th {\n",
       "        vertical-align: top;\n",
       "    }\n",
       "\n",
       "    .dataframe thead th {\n",
       "        text-align: right;\n",
       "    }\n",
       "</style>\n",
       "<table border=\"1\" class=\"dataframe\">\n",
       "  <thead>\n",
       "    <tr style=\"text-align: right;\">\n",
       "      <th></th>\n",
       "      <th>A</th>\n",
       "      <th>B</th>\n",
       "      <th>C</th>\n",
       "      <th>D</th>\n",
       "    </tr>\n",
       "  </thead>\n",
       "  <tbody>\n",
       "    <tr>\n",
       "      <th>2013-01-02</th>\n",
       "      <td>-0.154668</td>\n",
       "      <td>-1.116446</td>\n",
       "      <td>0.225782</td>\n",
       "      <td>0.971350</td>\n",
       "    </tr>\n",
       "    <tr>\n",
       "      <th>2013-01-03</th>\n",
       "      <td>-0.545779</td>\n",
       "      <td>0.761576</td>\n",
       "      <td>-0.658073</td>\n",
       "      <td>0.341236</td>\n",
       "    </tr>\n",
       "    <tr>\n",
       "      <th>2013-01-04</th>\n",
       "      <td>-0.425134</td>\n",
       "      <td>0.063181</td>\n",
       "      <td>-0.062794</td>\n",
       "      <td>-0.326792</td>\n",
       "    </tr>\n",
       "  </tbody>\n",
       "</table>\n",
       "</div>"
      ],
      "text/plain": [
       "                   A         B         C         D\n",
       "2013-01-02 -0.154668 -1.116446  0.225782  0.971350\n",
       "2013-01-03 -0.545779  0.761576 -0.658073  0.341236\n",
       "2013-01-04 -0.425134  0.063181 -0.062794 -0.326792"
      ]
     },
     "execution_count": 22,
     "metadata": {},
     "output_type": "execute_result"
    }
   ],
   "source": [
    "df['2013/01/02':'2013/01/04']"
   ]
  },
  {
   "cell_type": "markdown",
   "id": "b35fbe5a",
   "metadata": {},
   "source": [
    "### 按标签选择"
   ]
  },
  {
   "cell_type": "markdown",
   "id": "eb358a54",
   "metadata": {},
   "source": [
    "用**标签**提取**一行数据**："
   ]
  },
  {
   "cell_type": "code",
   "execution_count": 23,
   "id": "11884944",
   "metadata": {},
   "outputs": [
    {
     "data": {
      "text/plain": [
       "A   -1.606908\n",
       "B    0.751458\n",
       "C    0.128680\n",
       "D    1.003750\n",
       "Name: 2013-01-01 00:00:00, dtype: float64"
      ]
     },
     "execution_count": 23,
     "metadata": {},
     "output_type": "execute_result"
    }
   ],
   "source": [
    "df.loc[dates[0]]"
   ]
  },
  {
   "cell_type": "markdown",
   "id": "f6d9f014",
   "metadata": {},
   "source": [
    "用**标签**选择**多列数据**："
   ]
  },
  {
   "cell_type": "code",
   "execution_count": 24,
   "id": "1d124285",
   "metadata": {},
   "outputs": [
    {
     "data": {
      "text/html": [
       "<div>\n",
       "<style scoped>\n",
       "    .dataframe tbody tr th:only-of-type {\n",
       "        vertical-align: middle;\n",
       "    }\n",
       "\n",
       "    .dataframe tbody tr th {\n",
       "        vertical-align: top;\n",
       "    }\n",
       "\n",
       "    .dataframe thead th {\n",
       "        text-align: right;\n",
       "    }\n",
       "</style>\n",
       "<table border=\"1\" class=\"dataframe\">\n",
       "  <thead>\n",
       "    <tr style=\"text-align: right;\">\n",
       "      <th></th>\n",
       "      <th>A</th>\n",
       "      <th>B</th>\n",
       "    </tr>\n",
       "  </thead>\n",
       "  <tbody>\n",
       "    <tr>\n",
       "      <th>2013-01-01</th>\n",
       "      <td>-1.606908</td>\n",
       "      <td>0.751458</td>\n",
       "    </tr>\n",
       "    <tr>\n",
       "      <th>2013-01-02</th>\n",
       "      <td>-0.154668</td>\n",
       "      <td>-1.116446</td>\n",
       "    </tr>\n",
       "    <tr>\n",
       "      <th>2013-01-03</th>\n",
       "      <td>-0.545779</td>\n",
       "      <td>0.761576</td>\n",
       "    </tr>\n",
       "    <tr>\n",
       "      <th>2013-01-04</th>\n",
       "      <td>-0.425134</td>\n",
       "      <td>0.063181</td>\n",
       "    </tr>\n",
       "    <tr>\n",
       "      <th>2013-01-05</th>\n",
       "      <td>-1.162755</td>\n",
       "      <td>-1.930601</td>\n",
       "    </tr>\n",
       "    <tr>\n",
       "      <th>2013-01-06</th>\n",
       "      <td>1.753950</td>\n",
       "      <td>1.529396</td>\n",
       "    </tr>\n",
       "  </tbody>\n",
       "</table>\n",
       "</div>"
      ],
      "text/plain": [
       "                   A         B\n",
       "2013-01-01 -1.606908  0.751458\n",
       "2013-01-02 -0.154668 -1.116446\n",
       "2013-01-03 -0.545779  0.761576\n",
       "2013-01-04 -0.425134  0.063181\n",
       "2013-01-05 -1.162755 -1.930601\n",
       "2013-01-06  1.753950  1.529396"
      ]
     },
     "execution_count": 24,
     "metadata": {},
     "output_type": "execute_result"
    }
   ],
   "source": [
    "df.loc[:, ['A', 'B']]"
   ]
  },
  {
   "cell_type": "markdown",
   "id": "dcbf0810",
   "metadata": {},
   "source": [
    "用**标签切片**，包含**行**与**列**结束点："
   ]
  },
  {
   "cell_type": "code",
   "execution_count": 25,
   "id": "1d064c59",
   "metadata": {},
   "outputs": [
    {
     "data": {
      "text/html": [
       "<div>\n",
       "<style scoped>\n",
       "    .dataframe tbody tr th:only-of-type {\n",
       "        vertical-align: middle;\n",
       "    }\n",
       "\n",
       "    .dataframe tbody tr th {\n",
       "        vertical-align: top;\n",
       "    }\n",
       "\n",
       "    .dataframe thead th {\n",
       "        text-align: right;\n",
       "    }\n",
       "</style>\n",
       "<table border=\"1\" class=\"dataframe\">\n",
       "  <thead>\n",
       "    <tr style=\"text-align: right;\">\n",
       "      <th></th>\n",
       "      <th>A</th>\n",
       "      <th>B</th>\n",
       "    </tr>\n",
       "  </thead>\n",
       "  <tbody>\n",
       "    <tr>\n",
       "      <th>2013-01-02</th>\n",
       "      <td>-0.154668</td>\n",
       "      <td>-1.116446</td>\n",
       "    </tr>\n",
       "    <tr>\n",
       "      <th>2013-01-03</th>\n",
       "      <td>-0.545779</td>\n",
       "      <td>0.761576</td>\n",
       "    </tr>\n",
       "    <tr>\n",
       "      <th>2013-01-04</th>\n",
       "      <td>-0.425134</td>\n",
       "      <td>0.063181</td>\n",
       "    </tr>\n",
       "  </tbody>\n",
       "</table>\n",
       "</div>"
      ],
      "text/plain": [
       "                   A         B\n",
       "2013-01-02 -0.154668 -1.116446\n",
       "2013-01-03 -0.545779  0.761576\n",
       "2013-01-04 -0.425134  0.063181"
      ]
     },
     "execution_count": 25,
     "metadata": {},
     "output_type": "execute_result"
    }
   ],
   "source": [
    "df.loc['20130102':'20130104', ['A', 'B']]"
   ]
  },
  {
   "cell_type": "markdown",
   "id": "9219c9f1",
   "metadata": {},
   "source": [
    "返回对象："
   ]
  },
  {
   "cell_type": "code",
   "execution_count": 26,
   "id": "7858ebca",
   "metadata": {},
   "outputs": [
    {
     "data": {
      "text/plain": [
       "A   -0.154668\n",
       "B   -1.116446\n",
       "Name: 2013-01-02 00:00:00, dtype: float64"
      ]
     },
     "execution_count": 26,
     "metadata": {},
     "output_type": "execute_result"
    }
   ],
   "source": [
    "df.loc['20130102', ['A', 'B']]"
   ]
  },
  {
   "cell_type": "markdown",
   "id": "7c184d9f",
   "metadata": {},
   "source": [
    "提取标量值："
   ]
  },
  {
   "cell_type": "code",
   "execution_count": 27,
   "id": "a93bfefa",
   "metadata": {},
   "outputs": [
    {
     "data": {
      "text/plain": [
       "-1.6069078729874142"
      ]
     },
     "execution_count": 27,
     "metadata": {},
     "output_type": "execute_result"
    }
   ],
   "source": [
    "df.loc[dates[0], 'A']"
   ]
  },
  {
   "cell_type": "markdown",
   "id": "e6dffcb5",
   "metadata": {},
   "source": [
    "快速访问标量，与上述方法等效："
   ]
  },
  {
   "cell_type": "code",
   "execution_count": 28,
   "id": "2a5034ee",
   "metadata": {},
   "outputs": [
    {
     "data": {
      "text/plain": [
       "-1.6069078729874142"
      ]
     },
     "execution_count": 28,
     "metadata": {},
     "output_type": "execute_result"
    }
   ],
   "source": [
    "df.at[dates[0], 'A']"
   ]
  },
  {
   "cell_type": "markdown",
   "id": "baeca5e5",
   "metadata": {},
   "source": [
    "### 按位置选择"
   ]
  },
  {
   "cell_type": "markdown",
   "id": "70f92547",
   "metadata": {},
   "source": [
    "用**整数位置**选择："
   ]
  },
  {
   "cell_type": "code",
   "execution_count": 29,
   "id": "dbeca9b3",
   "metadata": {},
   "outputs": [
    {
     "data": {
      "text/plain": [
       "A   -0.425134\n",
       "B    0.063181\n",
       "C   -0.062794\n",
       "D   -0.326792\n",
       "Name: 2013-01-04 00:00:00, dtype: float64"
      ]
     },
     "execution_count": 29,
     "metadata": {},
     "output_type": "execute_result"
    }
   ],
   "source": [
    "df.iloc[3]"
   ]
  },
  {
   "cell_type": "markdown",
   "id": "814cf797",
   "metadata": {},
   "source": [
    "类似 **NumPy / Python**，用**整数切片**："
   ]
  },
  {
   "cell_type": "code",
   "execution_count": 30,
   "id": "f669d000",
   "metadata": {},
   "outputs": [
    {
     "data": {
      "text/html": [
       "<div>\n",
       "<style scoped>\n",
       "    .dataframe tbody tr th:only-of-type {\n",
       "        vertical-align: middle;\n",
       "    }\n",
       "\n",
       "    .dataframe tbody tr th {\n",
       "        vertical-align: top;\n",
       "    }\n",
       "\n",
       "    .dataframe thead th {\n",
       "        text-align: right;\n",
       "    }\n",
       "</style>\n",
       "<table border=\"1\" class=\"dataframe\">\n",
       "  <thead>\n",
       "    <tr style=\"text-align: right;\">\n",
       "      <th></th>\n",
       "      <th>A</th>\n",
       "      <th>B</th>\n",
       "    </tr>\n",
       "  </thead>\n",
       "  <tbody>\n",
       "    <tr>\n",
       "      <th>2013-01-04</th>\n",
       "      <td>-0.425134</td>\n",
       "      <td>0.063181</td>\n",
       "    </tr>\n",
       "    <tr>\n",
       "      <th>2013-01-05</th>\n",
       "      <td>-1.162755</td>\n",
       "      <td>-1.930601</td>\n",
       "    </tr>\n",
       "  </tbody>\n",
       "</table>\n",
       "</div>"
      ],
      "text/plain": [
       "                   A         B\n",
       "2013-01-04 -0.425134  0.063181\n",
       "2013-01-05 -1.162755 -1.930601"
      ]
     },
     "execution_count": 30,
     "metadata": {},
     "output_type": "execute_result"
    }
   ],
   "source": [
    "df.iloc[3:5, 0:2]"
   ]
  },
  {
   "cell_type": "markdown",
   "id": "e7ac6060",
   "metadata": {},
   "source": [
    "类似 **NumPy / Python**，用**整数列表**按**位置切片**："
   ]
  },
  {
   "cell_type": "code",
   "execution_count": 31,
   "id": "f33e97ad",
   "metadata": {},
   "outputs": [
    {
     "data": {
      "text/html": [
       "<div>\n",
       "<style scoped>\n",
       "    .dataframe tbody tr th:only-of-type {\n",
       "        vertical-align: middle;\n",
       "    }\n",
       "\n",
       "    .dataframe tbody tr th {\n",
       "        vertical-align: top;\n",
       "    }\n",
       "\n",
       "    .dataframe thead th {\n",
       "        text-align: right;\n",
       "    }\n",
       "</style>\n",
       "<table border=\"1\" class=\"dataframe\">\n",
       "  <thead>\n",
       "    <tr style=\"text-align: right;\">\n",
       "      <th></th>\n",
       "      <th>A</th>\n",
       "      <th>C</th>\n",
       "    </tr>\n",
       "  </thead>\n",
       "  <tbody>\n",
       "    <tr>\n",
       "      <th>2013-01-02</th>\n",
       "      <td>-0.154668</td>\n",
       "      <td>0.225782</td>\n",
       "    </tr>\n",
       "    <tr>\n",
       "      <th>2013-01-03</th>\n",
       "      <td>-0.545779</td>\n",
       "      <td>-0.658073</td>\n",
       "    </tr>\n",
       "    <tr>\n",
       "      <th>2013-01-05</th>\n",
       "      <td>-1.162755</td>\n",
       "      <td>-0.679523</td>\n",
       "    </tr>\n",
       "  </tbody>\n",
       "</table>\n",
       "</div>"
      ],
      "text/plain": [
       "                   A         C\n",
       "2013-01-02 -0.154668  0.225782\n",
       "2013-01-03 -0.545779 -0.658073\n",
       "2013-01-05 -1.162755 -0.679523"
      ]
     },
     "execution_count": 31,
     "metadata": {},
     "output_type": "execute_result"
    }
   ],
   "source": [
    "df.iloc[[1, 2, 4], [0, 2]]"
   ]
  },
  {
   "cell_type": "markdown",
   "id": "353348d4",
   "metadata": {},
   "source": [
    "显式**整行切片**："
   ]
  },
  {
   "cell_type": "code",
   "execution_count": 32,
   "id": "0a36408e",
   "metadata": {},
   "outputs": [
    {
     "data": {
      "text/html": [
       "<div>\n",
       "<style scoped>\n",
       "    .dataframe tbody tr th:only-of-type {\n",
       "        vertical-align: middle;\n",
       "    }\n",
       "\n",
       "    .dataframe tbody tr th {\n",
       "        vertical-align: top;\n",
       "    }\n",
       "\n",
       "    .dataframe thead th {\n",
       "        text-align: right;\n",
       "    }\n",
       "</style>\n",
       "<table border=\"1\" class=\"dataframe\">\n",
       "  <thead>\n",
       "    <tr style=\"text-align: right;\">\n",
       "      <th></th>\n",
       "      <th>A</th>\n",
       "      <th>B</th>\n",
       "      <th>C</th>\n",
       "      <th>D</th>\n",
       "    </tr>\n",
       "  </thead>\n",
       "  <tbody>\n",
       "    <tr>\n",
       "      <th>2013-01-02</th>\n",
       "      <td>-0.154668</td>\n",
       "      <td>-1.116446</td>\n",
       "      <td>0.225782</td>\n",
       "      <td>0.971350</td>\n",
       "    </tr>\n",
       "    <tr>\n",
       "      <th>2013-01-03</th>\n",
       "      <td>-0.545779</td>\n",
       "      <td>0.761576</td>\n",
       "      <td>-0.658073</td>\n",
       "      <td>0.341236</td>\n",
       "    </tr>\n",
       "  </tbody>\n",
       "</table>\n",
       "</div>"
      ],
      "text/plain": [
       "                   A         B         C         D\n",
       "2013-01-02 -0.154668 -1.116446  0.225782  0.971350\n",
       "2013-01-03 -0.545779  0.761576 -0.658073  0.341236"
      ]
     },
     "execution_count": 32,
     "metadata": {},
     "output_type": "execute_result"
    }
   ],
   "source": [
    "df.iloc[1:3, :]"
   ]
  },
  {
   "cell_type": "markdown",
   "id": "f8dc5583",
   "metadata": {},
   "source": [
    "显式**整列切片**："
   ]
  },
  {
   "cell_type": "code",
   "execution_count": 33,
   "id": "a8c4d9dc",
   "metadata": {},
   "outputs": [
    {
     "data": {
      "text/html": [
       "<div>\n",
       "<style scoped>\n",
       "    .dataframe tbody tr th:only-of-type {\n",
       "        vertical-align: middle;\n",
       "    }\n",
       "\n",
       "    .dataframe tbody tr th {\n",
       "        vertical-align: top;\n",
       "    }\n",
       "\n",
       "    .dataframe thead th {\n",
       "        text-align: right;\n",
       "    }\n",
       "</style>\n",
       "<table border=\"1\" class=\"dataframe\">\n",
       "  <thead>\n",
       "    <tr style=\"text-align: right;\">\n",
       "      <th></th>\n",
       "      <th>B</th>\n",
       "      <th>C</th>\n",
       "    </tr>\n",
       "  </thead>\n",
       "  <tbody>\n",
       "    <tr>\n",
       "      <th>2013-01-01</th>\n",
       "      <td>0.751458</td>\n",
       "      <td>0.128680</td>\n",
       "    </tr>\n",
       "    <tr>\n",
       "      <th>2013-01-02</th>\n",
       "      <td>-1.116446</td>\n",
       "      <td>0.225782</td>\n",
       "    </tr>\n",
       "    <tr>\n",
       "      <th>2013-01-03</th>\n",
       "      <td>0.761576</td>\n",
       "      <td>-0.658073</td>\n",
       "    </tr>\n",
       "    <tr>\n",
       "      <th>2013-01-04</th>\n",
       "      <td>0.063181</td>\n",
       "      <td>-0.062794</td>\n",
       "    </tr>\n",
       "    <tr>\n",
       "      <th>2013-01-05</th>\n",
       "      <td>-1.930601</td>\n",
       "      <td>-0.679523</td>\n",
       "    </tr>\n",
       "    <tr>\n",
       "      <th>2013-01-06</th>\n",
       "      <td>1.529396</td>\n",
       "      <td>-0.294100</td>\n",
       "    </tr>\n",
       "  </tbody>\n",
       "</table>\n",
       "</div>"
      ],
      "text/plain": [
       "                   B         C\n",
       "2013-01-01  0.751458  0.128680\n",
       "2013-01-02 -1.116446  0.225782\n",
       "2013-01-03  0.761576 -0.658073\n",
       "2013-01-04  0.063181 -0.062794\n",
       "2013-01-05 -1.930601 -0.679523\n",
       "2013-01-06  1.529396 -0.294100"
      ]
     },
     "execution_count": 33,
     "metadata": {},
     "output_type": "execute_result"
    }
   ],
   "source": [
    "df.iloc[:, 1:3]"
   ]
  },
  {
   "cell_type": "markdown",
   "id": "7d170472",
   "metadata": {},
   "source": [
    "显式**提取值**："
   ]
  },
  {
   "cell_type": "code",
   "execution_count": 34,
   "id": "fae6864e",
   "metadata": {},
   "outputs": [
    {
     "data": {
      "text/plain": [
       "-1.1164456139299863"
      ]
     },
     "execution_count": 34,
     "metadata": {},
     "output_type": "execute_result"
    }
   ],
   "source": [
    "df.iloc[1, 1]"
   ]
  },
  {
   "cell_type": "markdown",
   "id": "a4e6c5ec",
   "metadata": {},
   "source": [
    "快速**访问标量**，与**上述方法**等效："
   ]
  },
  {
   "cell_type": "code",
   "execution_count": 35,
   "id": "b9c8d7a0",
   "metadata": {},
   "outputs": [
    {
     "data": {
      "text/plain": [
       "-1.1164456139299863"
      ]
     },
     "execution_count": 35,
     "metadata": {},
     "output_type": "execute_result"
    }
   ],
   "source": [
    "df.iat[1, 1]"
   ]
  },
  {
   "cell_type": "markdown",
   "id": "0f479543",
   "metadata": {},
   "source": [
    "### 布尔索引"
   ]
  },
  {
   "cell_type": "markdown",
   "id": "2da1fb3b",
   "metadata": {},
   "source": [
    "用**单列的值**选择数据："
   ]
  },
  {
   "cell_type": "code",
   "execution_count": 36,
   "id": "11469ae4",
   "metadata": {},
   "outputs": [
    {
     "data": {
      "text/html": [
       "<div>\n",
       "<style scoped>\n",
       "    .dataframe tbody tr th:only-of-type {\n",
       "        vertical-align: middle;\n",
       "    }\n",
       "\n",
       "    .dataframe tbody tr th {\n",
       "        vertical-align: top;\n",
       "    }\n",
       "\n",
       "    .dataframe thead th {\n",
       "        text-align: right;\n",
       "    }\n",
       "</style>\n",
       "<table border=\"1\" class=\"dataframe\">\n",
       "  <thead>\n",
       "    <tr style=\"text-align: right;\">\n",
       "      <th></th>\n",
       "      <th>A</th>\n",
       "      <th>B</th>\n",
       "      <th>C</th>\n",
       "      <th>D</th>\n",
       "    </tr>\n",
       "  </thead>\n",
       "  <tbody>\n",
       "    <tr>\n",
       "      <th>2013-01-06</th>\n",
       "      <td>1.75395</td>\n",
       "      <td>1.529396</td>\n",
       "      <td>-0.2941</td>\n",
       "      <td>1.222128</td>\n",
       "    </tr>\n",
       "  </tbody>\n",
       "</table>\n",
       "</div>"
      ],
      "text/plain": [
       "                  A         B       C         D\n",
       "2013-01-06  1.75395  1.529396 -0.2941  1.222128"
      ]
     },
     "execution_count": 36,
     "metadata": {},
     "output_type": "execute_result"
    }
   ],
   "source": [
    "df[df.A > 0]"
   ]
  },
  {
   "cell_type": "markdown",
   "id": "d93842bb",
   "metadata": {},
   "source": [
    "选择 **DataFrame** 里**满足条件**的值："
   ]
  },
  {
   "cell_type": "code",
   "execution_count": 37,
   "id": "bd63d1dd",
   "metadata": {},
   "outputs": [
    {
     "data": {
      "text/html": [
       "<div>\n",
       "<style scoped>\n",
       "    .dataframe tbody tr th:only-of-type {\n",
       "        vertical-align: middle;\n",
       "    }\n",
       "\n",
       "    .dataframe tbody tr th {\n",
       "        vertical-align: top;\n",
       "    }\n",
       "\n",
       "    .dataframe thead th {\n",
       "        text-align: right;\n",
       "    }\n",
       "</style>\n",
       "<table border=\"1\" class=\"dataframe\">\n",
       "  <thead>\n",
       "    <tr style=\"text-align: right;\">\n",
       "      <th></th>\n",
       "      <th>A</th>\n",
       "      <th>B</th>\n",
       "      <th>C</th>\n",
       "      <th>D</th>\n",
       "    </tr>\n",
       "  </thead>\n",
       "  <tbody>\n",
       "    <tr>\n",
       "      <th>2013-01-01</th>\n",
       "      <td>NaN</td>\n",
       "      <td>0.751458</td>\n",
       "      <td>0.128680</td>\n",
       "      <td>1.003750</td>\n",
       "    </tr>\n",
       "    <tr>\n",
       "      <th>2013-01-02</th>\n",
       "      <td>NaN</td>\n",
       "      <td>NaN</td>\n",
       "      <td>0.225782</td>\n",
       "      <td>0.971350</td>\n",
       "    </tr>\n",
       "    <tr>\n",
       "      <th>2013-01-03</th>\n",
       "      <td>NaN</td>\n",
       "      <td>0.761576</td>\n",
       "      <td>NaN</td>\n",
       "      <td>0.341236</td>\n",
       "    </tr>\n",
       "    <tr>\n",
       "      <th>2013-01-04</th>\n",
       "      <td>NaN</td>\n",
       "      <td>0.063181</td>\n",
       "      <td>NaN</td>\n",
       "      <td>NaN</td>\n",
       "    </tr>\n",
       "    <tr>\n",
       "      <th>2013-01-05</th>\n",
       "      <td>NaN</td>\n",
       "      <td>NaN</td>\n",
       "      <td>NaN</td>\n",
       "      <td>NaN</td>\n",
       "    </tr>\n",
       "    <tr>\n",
       "      <th>2013-01-06</th>\n",
       "      <td>1.75395</td>\n",
       "      <td>1.529396</td>\n",
       "      <td>NaN</td>\n",
       "      <td>1.222128</td>\n",
       "    </tr>\n",
       "  </tbody>\n",
       "</table>\n",
       "</div>"
      ],
      "text/plain": [
       "                  A         B         C         D\n",
       "2013-01-01      NaN  0.751458  0.128680  1.003750\n",
       "2013-01-02      NaN       NaN  0.225782  0.971350\n",
       "2013-01-03      NaN  0.761576       NaN  0.341236\n",
       "2013-01-04      NaN  0.063181       NaN       NaN\n",
       "2013-01-05      NaN       NaN       NaN       NaN\n",
       "2013-01-06  1.75395  1.529396       NaN  1.222128"
      ]
     },
     "execution_count": 37,
     "metadata": {},
     "output_type": "execute_result"
    }
   ],
   "source": [
    "df[df > 0]"
   ]
  },
  {
   "cell_type": "markdown",
   "id": "3100d075",
   "metadata": {},
   "source": [
    "用 **isin()** 筛选："
   ]
  },
  {
   "cell_type": "code",
   "execution_count": 38,
   "id": "db6b6a97",
   "metadata": {},
   "outputs": [
    {
     "data": {
      "text/html": [
       "<div>\n",
       "<style scoped>\n",
       "    .dataframe tbody tr th:only-of-type {\n",
       "        vertical-align: middle;\n",
       "    }\n",
       "\n",
       "    .dataframe tbody tr th {\n",
       "        vertical-align: top;\n",
       "    }\n",
       "\n",
       "    .dataframe thead th {\n",
       "        text-align: right;\n",
       "    }\n",
       "</style>\n",
       "<table border=\"1\" class=\"dataframe\">\n",
       "  <thead>\n",
       "    <tr style=\"text-align: right;\">\n",
       "      <th></th>\n",
       "      <th>A</th>\n",
       "      <th>B</th>\n",
       "      <th>C</th>\n",
       "      <th>D</th>\n",
       "      <th>E</th>\n",
       "    </tr>\n",
       "  </thead>\n",
       "  <tbody>\n",
       "    <tr>\n",
       "      <th>2013-01-01</th>\n",
       "      <td>-1.606908</td>\n",
       "      <td>0.751458</td>\n",
       "      <td>0.128680</td>\n",
       "      <td>1.003750</td>\n",
       "      <td>one</td>\n",
       "    </tr>\n",
       "    <tr>\n",
       "      <th>2013-01-02</th>\n",
       "      <td>-0.154668</td>\n",
       "      <td>-1.116446</td>\n",
       "      <td>0.225782</td>\n",
       "      <td>0.971350</td>\n",
       "      <td>one</td>\n",
       "    </tr>\n",
       "    <tr>\n",
       "      <th>2013-01-03</th>\n",
       "      <td>-0.545779</td>\n",
       "      <td>0.761576</td>\n",
       "      <td>-0.658073</td>\n",
       "      <td>0.341236</td>\n",
       "      <td>two</td>\n",
       "    </tr>\n",
       "    <tr>\n",
       "      <th>2013-01-04</th>\n",
       "      <td>-0.425134</td>\n",
       "      <td>0.063181</td>\n",
       "      <td>-0.062794</td>\n",
       "      <td>-0.326792</td>\n",
       "      <td>three</td>\n",
       "    </tr>\n",
       "    <tr>\n",
       "      <th>2013-01-05</th>\n",
       "      <td>-1.162755</td>\n",
       "      <td>-1.930601</td>\n",
       "      <td>-0.679523</td>\n",
       "      <td>-0.737735</td>\n",
       "      <td>four</td>\n",
       "    </tr>\n",
       "    <tr>\n",
       "      <th>2013-01-06</th>\n",
       "      <td>1.753950</td>\n",
       "      <td>1.529396</td>\n",
       "      <td>-0.294100</td>\n",
       "      <td>1.222128</td>\n",
       "      <td>three</td>\n",
       "    </tr>\n",
       "  </tbody>\n",
       "</table>\n",
       "</div>"
      ],
      "text/plain": [
       "                   A         B         C         D      E\n",
       "2013-01-01 -1.606908  0.751458  0.128680  1.003750    one\n",
       "2013-01-02 -0.154668 -1.116446  0.225782  0.971350    one\n",
       "2013-01-03 -0.545779  0.761576 -0.658073  0.341236    two\n",
       "2013-01-04 -0.425134  0.063181 -0.062794 -0.326792  three\n",
       "2013-01-05 -1.162755 -1.930601 -0.679523 -0.737735   four\n",
       "2013-01-06  1.753950  1.529396 -0.294100  1.222128  three"
      ]
     },
     "execution_count": 38,
     "metadata": {},
     "output_type": "execute_result"
    }
   ],
   "source": [
    "df2 = df.copy()\n",
    "df2['E'] = ['one', 'one', 'two', 'three', 'four', 'three']\n",
    "df2"
   ]
  },
  {
   "cell_type": "code",
   "execution_count": 39,
   "id": "3cc3256e",
   "metadata": {},
   "outputs": [
    {
     "data": {
      "text/html": [
       "<div>\n",
       "<style scoped>\n",
       "    .dataframe tbody tr th:only-of-type {\n",
       "        vertical-align: middle;\n",
       "    }\n",
       "\n",
       "    .dataframe tbody tr th {\n",
       "        vertical-align: top;\n",
       "    }\n",
       "\n",
       "    .dataframe thead th {\n",
       "        text-align: right;\n",
       "    }\n",
       "</style>\n",
       "<table border=\"1\" class=\"dataframe\">\n",
       "  <thead>\n",
       "    <tr style=\"text-align: right;\">\n",
       "      <th></th>\n",
       "      <th>A</th>\n",
       "      <th>B</th>\n",
       "      <th>C</th>\n",
       "      <th>D</th>\n",
       "      <th>E</th>\n",
       "    </tr>\n",
       "  </thead>\n",
       "  <tbody>\n",
       "    <tr>\n",
       "      <th>2013-01-03</th>\n",
       "      <td>-0.545779</td>\n",
       "      <td>0.761576</td>\n",
       "      <td>-0.658073</td>\n",
       "      <td>0.341236</td>\n",
       "      <td>two</td>\n",
       "    </tr>\n",
       "    <tr>\n",
       "      <th>2013-01-05</th>\n",
       "      <td>-1.162755</td>\n",
       "      <td>-1.930601</td>\n",
       "      <td>-0.679523</td>\n",
       "      <td>-0.737735</td>\n",
       "      <td>four</td>\n",
       "    </tr>\n",
       "  </tbody>\n",
       "</table>\n",
       "</div>"
      ],
      "text/plain": [
       "                   A         B         C         D     E\n",
       "2013-01-03 -0.545779  0.761576 -0.658073  0.341236   two\n",
       "2013-01-05 -1.162755 -1.930601 -0.679523 -0.737735  four"
      ]
     },
     "execution_count": 39,
     "metadata": {},
     "output_type": "execute_result"
    }
   ],
   "source": [
    "'''\n",
    "    Whether elements in Series are contained in `values`.\n",
    "    \n",
    "    Return a boolean Series showing whether each element in the Series\n",
    "    matches an element in the passed sequence of `values` exactly.\n",
    "    \n",
    "    Parameters\n",
    "    ----------\n",
    "    values : set or list-like\n",
    "        The sequence of values to test. Passing in a single string will\n",
    "        raise a ``TypeError``. Instead, turn a single string into a\n",
    "        list of one element.\n",
    "'''\n",
    "\n",
    "df2[df2['E'].isin(['two', 'four'])]"
   ]
  },
  {
   "cell_type": "markdown",
   "id": "77b62388",
   "metadata": {},
   "source": [
    "### 赋值"
   ]
  },
  {
   "cell_type": "markdown",
   "id": "c5697375",
   "metadata": {},
   "source": [
    "用**索引**自动对齐**新增列的数据**："
   ]
  },
  {
   "cell_type": "code",
   "execution_count": 40,
   "id": "6b5fd76c",
   "metadata": {},
   "outputs": [
    {
     "data": {
      "text/html": [
       "<div>\n",
       "<style scoped>\n",
       "    .dataframe tbody tr th:only-of-type {\n",
       "        vertical-align: middle;\n",
       "    }\n",
       "\n",
       "    .dataframe tbody tr th {\n",
       "        vertical-align: top;\n",
       "    }\n",
       "\n",
       "    .dataframe thead th {\n",
       "        text-align: right;\n",
       "    }\n",
       "</style>\n",
       "<table border=\"1\" class=\"dataframe\">\n",
       "  <thead>\n",
       "    <tr style=\"text-align: right;\">\n",
       "      <th></th>\n",
       "      <th>A</th>\n",
       "      <th>B</th>\n",
       "      <th>C</th>\n",
       "      <th>D</th>\n",
       "      <th>F</th>\n",
       "    </tr>\n",
       "  </thead>\n",
       "  <tbody>\n",
       "    <tr>\n",
       "      <th>2013-01-01</th>\n",
       "      <td>-1.606908</td>\n",
       "      <td>0.751458</td>\n",
       "      <td>0.128680</td>\n",
       "      <td>1.003750</td>\n",
       "      <td>NaN</td>\n",
       "    </tr>\n",
       "    <tr>\n",
       "      <th>2013-01-02</th>\n",
       "      <td>-0.154668</td>\n",
       "      <td>-1.116446</td>\n",
       "      <td>0.225782</td>\n",
       "      <td>0.971350</td>\n",
       "      <td>1.0</td>\n",
       "    </tr>\n",
       "    <tr>\n",
       "      <th>2013-01-03</th>\n",
       "      <td>-0.545779</td>\n",
       "      <td>0.761576</td>\n",
       "      <td>-0.658073</td>\n",
       "      <td>0.341236</td>\n",
       "      <td>2.0</td>\n",
       "    </tr>\n",
       "    <tr>\n",
       "      <th>2013-01-04</th>\n",
       "      <td>-0.425134</td>\n",
       "      <td>0.063181</td>\n",
       "      <td>-0.062794</td>\n",
       "      <td>-0.326792</td>\n",
       "      <td>3.0</td>\n",
       "    </tr>\n",
       "    <tr>\n",
       "      <th>2013-01-05</th>\n",
       "      <td>-1.162755</td>\n",
       "      <td>-1.930601</td>\n",
       "      <td>-0.679523</td>\n",
       "      <td>-0.737735</td>\n",
       "      <td>4.0</td>\n",
       "    </tr>\n",
       "    <tr>\n",
       "      <th>2013-01-06</th>\n",
       "      <td>1.753950</td>\n",
       "      <td>1.529396</td>\n",
       "      <td>-0.294100</td>\n",
       "      <td>1.222128</td>\n",
       "      <td>5.0</td>\n",
       "    </tr>\n",
       "  </tbody>\n",
       "</table>\n",
       "</div>"
      ],
      "text/plain": [
       "                   A         B         C         D    F\n",
       "2013-01-01 -1.606908  0.751458  0.128680  1.003750  NaN\n",
       "2013-01-02 -0.154668 -1.116446  0.225782  0.971350  1.0\n",
       "2013-01-03 -0.545779  0.761576 -0.658073  0.341236  2.0\n",
       "2013-01-04 -0.425134  0.063181 -0.062794 -0.326792  3.0\n",
       "2013-01-05 -1.162755 -1.930601 -0.679523 -0.737735  4.0\n",
       "2013-01-06  1.753950  1.529396 -0.294100  1.222128  5.0"
      ]
     },
     "execution_count": 40,
     "metadata": {},
     "output_type": "execute_result"
    }
   ],
   "source": [
    "s1 = pd.Series([1, 2, 3, 4, 5, 6], index=pd.date_range('20130102', periods=6))\n",
    "df['F'] = s1\n",
    "df"
   ]
  },
  {
   "cell_type": "markdown",
   "id": "8f824c95",
   "metadata": {},
   "source": [
    "按**标签赋值**："
   ]
  },
  {
   "cell_type": "code",
   "execution_count": 41,
   "id": "cfbeb94f",
   "metadata": {},
   "outputs": [],
   "source": [
    "df.at[dates[0], 'A'] = 0"
   ]
  },
  {
   "cell_type": "markdown",
   "id": "01abcf67",
   "metadata": {},
   "source": [
    "按**位置赋值**："
   ]
  },
  {
   "cell_type": "code",
   "execution_count": 42,
   "id": "3946926d",
   "metadata": {},
   "outputs": [],
   "source": [
    "df.iat[0, 1] = 0"
   ]
  },
  {
   "cell_type": "markdown",
   "id": "98b60c49",
   "metadata": {},
   "source": [
    "按 **NumPy 数组**赋值："
   ]
  },
  {
   "cell_type": "code",
   "execution_count": 43,
   "id": "032f616c",
   "metadata": {},
   "outputs": [],
   "source": [
    "df.loc[:, 'D'] = np.array([5] * len(df))"
   ]
  },
  {
   "cell_type": "markdown",
   "id": "ea098cb9",
   "metadata": {},
   "source": [
    "上述**赋值结果**："
   ]
  },
  {
   "cell_type": "code",
   "execution_count": 44,
   "id": "dde499e5",
   "metadata": {},
   "outputs": [
    {
     "data": {
      "text/html": [
       "<div>\n",
       "<style scoped>\n",
       "    .dataframe tbody tr th:only-of-type {\n",
       "        vertical-align: middle;\n",
       "    }\n",
       "\n",
       "    .dataframe tbody tr th {\n",
       "        vertical-align: top;\n",
       "    }\n",
       "\n",
       "    .dataframe thead th {\n",
       "        text-align: right;\n",
       "    }\n",
       "</style>\n",
       "<table border=\"1\" class=\"dataframe\">\n",
       "  <thead>\n",
       "    <tr style=\"text-align: right;\">\n",
       "      <th></th>\n",
       "      <th>A</th>\n",
       "      <th>B</th>\n",
       "      <th>C</th>\n",
       "      <th>D</th>\n",
       "      <th>F</th>\n",
       "    </tr>\n",
       "  </thead>\n",
       "  <tbody>\n",
       "    <tr>\n",
       "      <th>2013-01-01</th>\n",
       "      <td>0.000000</td>\n",
       "      <td>0.000000</td>\n",
       "      <td>0.128680</td>\n",
       "      <td>5</td>\n",
       "      <td>NaN</td>\n",
       "    </tr>\n",
       "    <tr>\n",
       "      <th>2013-01-02</th>\n",
       "      <td>-0.154668</td>\n",
       "      <td>-1.116446</td>\n",
       "      <td>0.225782</td>\n",
       "      <td>5</td>\n",
       "      <td>1.0</td>\n",
       "    </tr>\n",
       "    <tr>\n",
       "      <th>2013-01-03</th>\n",
       "      <td>-0.545779</td>\n",
       "      <td>0.761576</td>\n",
       "      <td>-0.658073</td>\n",
       "      <td>5</td>\n",
       "      <td>2.0</td>\n",
       "    </tr>\n",
       "    <tr>\n",
       "      <th>2013-01-04</th>\n",
       "      <td>-0.425134</td>\n",
       "      <td>0.063181</td>\n",
       "      <td>-0.062794</td>\n",
       "      <td>5</td>\n",
       "      <td>3.0</td>\n",
       "    </tr>\n",
       "    <tr>\n",
       "      <th>2013-01-05</th>\n",
       "      <td>-1.162755</td>\n",
       "      <td>-1.930601</td>\n",
       "      <td>-0.679523</td>\n",
       "      <td>5</td>\n",
       "      <td>4.0</td>\n",
       "    </tr>\n",
       "    <tr>\n",
       "      <th>2013-01-06</th>\n",
       "      <td>1.753950</td>\n",
       "      <td>1.529396</td>\n",
       "      <td>-0.294100</td>\n",
       "      <td>5</td>\n",
       "      <td>5.0</td>\n",
       "    </tr>\n",
       "  </tbody>\n",
       "</table>\n",
       "</div>"
      ],
      "text/plain": [
       "                   A         B         C  D    F\n",
       "2013-01-01  0.000000  0.000000  0.128680  5  NaN\n",
       "2013-01-02 -0.154668 -1.116446  0.225782  5  1.0\n",
       "2013-01-03 -0.545779  0.761576 -0.658073  5  2.0\n",
       "2013-01-04 -0.425134  0.063181 -0.062794  5  3.0\n",
       "2013-01-05 -1.162755 -1.930601 -0.679523  5  4.0\n",
       "2013-01-06  1.753950  1.529396 -0.294100  5  5.0"
      ]
     },
     "execution_count": 44,
     "metadata": {},
     "output_type": "execute_result"
    }
   ],
   "source": [
    "df"
   ]
  },
  {
   "cell_type": "markdown",
   "id": "417c97a8",
   "metadata": {},
   "source": [
    "用 **where** 条件赋值："
   ]
  },
  {
   "cell_type": "code",
   "execution_count": 45,
   "id": "0bc795d7",
   "metadata": {},
   "outputs": [
    {
     "data": {
      "text/html": [
       "<div>\n",
       "<style scoped>\n",
       "    .dataframe tbody tr th:only-of-type {\n",
       "        vertical-align: middle;\n",
       "    }\n",
       "\n",
       "    .dataframe tbody tr th {\n",
       "        vertical-align: top;\n",
       "    }\n",
       "\n",
       "    .dataframe thead th {\n",
       "        text-align: right;\n",
       "    }\n",
       "</style>\n",
       "<table border=\"1\" class=\"dataframe\">\n",
       "  <thead>\n",
       "    <tr style=\"text-align: right;\">\n",
       "      <th></th>\n",
       "      <th>A</th>\n",
       "      <th>B</th>\n",
       "      <th>C</th>\n",
       "      <th>D</th>\n",
       "      <th>F</th>\n",
       "    </tr>\n",
       "  </thead>\n",
       "  <tbody>\n",
       "    <tr>\n",
       "      <th>2013-01-01</th>\n",
       "      <td>0.000000</td>\n",
       "      <td>0.000000</td>\n",
       "      <td>-0.128680</td>\n",
       "      <td>-5</td>\n",
       "      <td>NaN</td>\n",
       "    </tr>\n",
       "    <tr>\n",
       "      <th>2013-01-02</th>\n",
       "      <td>-0.154668</td>\n",
       "      <td>-1.116446</td>\n",
       "      <td>-0.225782</td>\n",
       "      <td>-5</td>\n",
       "      <td>-1.0</td>\n",
       "    </tr>\n",
       "    <tr>\n",
       "      <th>2013-01-03</th>\n",
       "      <td>-0.545779</td>\n",
       "      <td>-0.761576</td>\n",
       "      <td>-0.658073</td>\n",
       "      <td>-5</td>\n",
       "      <td>-2.0</td>\n",
       "    </tr>\n",
       "    <tr>\n",
       "      <th>2013-01-04</th>\n",
       "      <td>-0.425134</td>\n",
       "      <td>-0.063181</td>\n",
       "      <td>-0.062794</td>\n",
       "      <td>-5</td>\n",
       "      <td>-3.0</td>\n",
       "    </tr>\n",
       "    <tr>\n",
       "      <th>2013-01-05</th>\n",
       "      <td>-1.162755</td>\n",
       "      <td>-1.930601</td>\n",
       "      <td>-0.679523</td>\n",
       "      <td>-5</td>\n",
       "      <td>-4.0</td>\n",
       "    </tr>\n",
       "    <tr>\n",
       "      <th>2013-01-06</th>\n",
       "      <td>-1.753950</td>\n",
       "      <td>-1.529396</td>\n",
       "      <td>-0.294100</td>\n",
       "      <td>-5</td>\n",
       "      <td>-5.0</td>\n",
       "    </tr>\n",
       "  </tbody>\n",
       "</table>\n",
       "</div>"
      ],
      "text/plain": [
       "                   A         B         C  D    F\n",
       "2013-01-01  0.000000  0.000000 -0.128680 -5  NaN\n",
       "2013-01-02 -0.154668 -1.116446 -0.225782 -5 -1.0\n",
       "2013-01-03 -0.545779 -0.761576 -0.658073 -5 -2.0\n",
       "2013-01-04 -0.425134 -0.063181 -0.062794 -5 -3.0\n",
       "2013-01-05 -1.162755 -1.930601 -0.679523 -5 -4.0\n",
       "2013-01-06 -1.753950 -1.529396 -0.294100 -5 -5.0"
      ]
     },
     "execution_count": 45,
     "metadata": {},
     "output_type": "execute_result"
    }
   ],
   "source": [
    "df2 = df.copy()\n",
    "df2[df2 > 0] = -df2\n",
    "df2"
   ]
  },
  {
   "cell_type": "markdown",
   "id": "69af8c25",
   "metadata": {},
   "source": [
    "## 缺失值"
   ]
  },
  {
   "cell_type": "markdown",
   "id": "eeef1241",
   "metadata": {},
   "source": [
    "**Pandas** 主要用 **np.nan** 表示**缺失数据**。计算时，默认不包含空值。\n",
    "\n",
    "**重建索引**（reindex）可以**更改**、**添加**、**删除**指定轴的索引，并**返回数据副本**，即不更改原数据。"
   ]
  },
  {
   "cell_type": "code",
   "execution_count": 46,
   "id": "7857ed39",
   "metadata": {},
   "outputs": [
    {
     "data": {
      "text/html": [
       "<div>\n",
       "<style scoped>\n",
       "    .dataframe tbody tr th:only-of-type {\n",
       "        vertical-align: middle;\n",
       "    }\n",
       "\n",
       "    .dataframe tbody tr th {\n",
       "        vertical-align: top;\n",
       "    }\n",
       "\n",
       "    .dataframe thead th {\n",
       "        text-align: right;\n",
       "    }\n",
       "</style>\n",
       "<table border=\"1\" class=\"dataframe\">\n",
       "  <thead>\n",
       "    <tr style=\"text-align: right;\">\n",
       "      <th></th>\n",
       "      <th>A</th>\n",
       "      <th>B</th>\n",
       "      <th>C</th>\n",
       "      <th>D</th>\n",
       "      <th>F</th>\n",
       "      <th>E</th>\n",
       "    </tr>\n",
       "  </thead>\n",
       "  <tbody>\n",
       "    <tr>\n",
       "      <th>2013-01-01</th>\n",
       "      <td>0.000000</td>\n",
       "      <td>0.000000</td>\n",
       "      <td>0.128680</td>\n",
       "      <td>5</td>\n",
       "      <td>NaN</td>\n",
       "      <td>1.0</td>\n",
       "    </tr>\n",
       "    <tr>\n",
       "      <th>2013-01-02</th>\n",
       "      <td>-0.154668</td>\n",
       "      <td>-1.116446</td>\n",
       "      <td>0.225782</td>\n",
       "      <td>5</td>\n",
       "      <td>1.0</td>\n",
       "      <td>1.0</td>\n",
       "    </tr>\n",
       "    <tr>\n",
       "      <th>2013-01-03</th>\n",
       "      <td>-0.545779</td>\n",
       "      <td>0.761576</td>\n",
       "      <td>-0.658073</td>\n",
       "      <td>5</td>\n",
       "      <td>2.0</td>\n",
       "      <td>NaN</td>\n",
       "    </tr>\n",
       "    <tr>\n",
       "      <th>2013-01-04</th>\n",
       "      <td>-0.425134</td>\n",
       "      <td>0.063181</td>\n",
       "      <td>-0.062794</td>\n",
       "      <td>5</td>\n",
       "      <td>3.0</td>\n",
       "      <td>NaN</td>\n",
       "    </tr>\n",
       "  </tbody>\n",
       "</table>\n",
       "</div>"
      ],
      "text/plain": [
       "                   A         B         C  D    F    E\n",
       "2013-01-01  0.000000  0.000000  0.128680  5  NaN  1.0\n",
       "2013-01-02 -0.154668 -1.116446  0.225782  5  1.0  1.0\n",
       "2013-01-03 -0.545779  0.761576 -0.658073  5  2.0  NaN\n",
       "2013-01-04 -0.425134  0.063181 -0.062794  5  3.0  NaN"
      ]
     },
     "execution_count": 46,
     "metadata": {},
     "output_type": "execute_result"
    }
   ],
   "source": [
    "df1 = df.reindex(index=dates[0:4], columns=list(df.columns) + ['E'])\n",
    "df1.loc[dates[0]:dates[1], 'E'] = 1\n",
    "df1"
   ]
  },
  {
   "cell_type": "markdown",
   "id": "78eeb526",
   "metadata": {},
   "source": [
    "**删除**所有**含缺失值的行**："
   ]
  },
  {
   "cell_type": "code",
   "execution_count": 47,
   "id": "49329869",
   "metadata": {},
   "outputs": [
    {
     "data": {
      "text/html": [
       "<div>\n",
       "<style scoped>\n",
       "    .dataframe tbody tr th:only-of-type {\n",
       "        vertical-align: middle;\n",
       "    }\n",
       "\n",
       "    .dataframe tbody tr th {\n",
       "        vertical-align: top;\n",
       "    }\n",
       "\n",
       "    .dataframe thead th {\n",
       "        text-align: right;\n",
       "    }\n",
       "</style>\n",
       "<table border=\"1\" class=\"dataframe\">\n",
       "  <thead>\n",
       "    <tr style=\"text-align: right;\">\n",
       "      <th></th>\n",
       "      <th>A</th>\n",
       "      <th>B</th>\n",
       "      <th>C</th>\n",
       "      <th>D</th>\n",
       "      <th>F</th>\n",
       "      <th>E</th>\n",
       "    </tr>\n",
       "  </thead>\n",
       "  <tbody>\n",
       "    <tr>\n",
       "      <th>2013-01-02</th>\n",
       "      <td>-0.154668</td>\n",
       "      <td>-1.116446</td>\n",
       "      <td>0.225782</td>\n",
       "      <td>5</td>\n",
       "      <td>1.0</td>\n",
       "      <td>1.0</td>\n",
       "    </tr>\n",
       "  </tbody>\n",
       "</table>\n",
       "</div>"
      ],
      "text/plain": [
       "                   A         B         C  D    F    E\n",
       "2013-01-02 -0.154668 -1.116446  0.225782  5  1.0  1.0"
      ]
     },
     "execution_count": 47,
     "metadata": {},
     "output_type": "execute_result"
    }
   ],
   "source": [
    "'''\n",
    "    Remove missing values.\n",
    "    \n",
    "    Parameters\n",
    "    ----------\n",
    "    axis : {0 or 'index', 1 or 'columns'}, default 0\n",
    "        Determine if rows or columns which contain missing values are\n",
    "        removed.\n",
    "    \n",
    "        * 0, or 'index' : Drop rows which contain missing values.\n",
    "        * 1, or 'columns' : Drop columns which contain missing value.\n",
    "    \n",
    "        .. versionchanged:: 1.0.0\n",
    "    \n",
    "           Pass tuple or list to drop on multiple axes.\n",
    "           Only a single axis is allowed.\n",
    "    \n",
    "    how : {'any', 'all'}, default 'any'\n",
    "        Determine if row or column is removed from DataFrame, when we have\n",
    "        at least one NA or all NA.\n",
    "    \n",
    "        * 'any' : If any NA values are present, drop that row or column.\n",
    "        * 'all' : If all values are NA, drop that row or column.\n",
    "'''\n",
    "\n",
    "df1.dropna(how='any')"
   ]
  },
  {
   "cell_type": "markdown",
   "id": "234ea7f9",
   "metadata": {},
   "source": [
    "填充缺失值："
   ]
  },
  {
   "cell_type": "code",
   "execution_count": 48,
   "id": "c5c757b6",
   "metadata": {},
   "outputs": [
    {
     "data": {
      "text/html": [
       "<div>\n",
       "<style scoped>\n",
       "    .dataframe tbody tr th:only-of-type {\n",
       "        vertical-align: middle;\n",
       "    }\n",
       "\n",
       "    .dataframe tbody tr th {\n",
       "        vertical-align: top;\n",
       "    }\n",
       "\n",
       "    .dataframe thead th {\n",
       "        text-align: right;\n",
       "    }\n",
       "</style>\n",
       "<table border=\"1\" class=\"dataframe\">\n",
       "  <thead>\n",
       "    <tr style=\"text-align: right;\">\n",
       "      <th></th>\n",
       "      <th>A</th>\n",
       "      <th>B</th>\n",
       "      <th>C</th>\n",
       "      <th>D</th>\n",
       "      <th>F</th>\n",
       "      <th>E</th>\n",
       "    </tr>\n",
       "  </thead>\n",
       "  <tbody>\n",
       "    <tr>\n",
       "      <th>2013-01-01</th>\n",
       "      <td>0.000000</td>\n",
       "      <td>0.000000</td>\n",
       "      <td>0.128680</td>\n",
       "      <td>5</td>\n",
       "      <td>5.0</td>\n",
       "      <td>1.0</td>\n",
       "    </tr>\n",
       "    <tr>\n",
       "      <th>2013-01-02</th>\n",
       "      <td>-0.154668</td>\n",
       "      <td>-1.116446</td>\n",
       "      <td>0.225782</td>\n",
       "      <td>5</td>\n",
       "      <td>1.0</td>\n",
       "      <td>1.0</td>\n",
       "    </tr>\n",
       "    <tr>\n",
       "      <th>2013-01-03</th>\n",
       "      <td>-0.545779</td>\n",
       "      <td>0.761576</td>\n",
       "      <td>-0.658073</td>\n",
       "      <td>5</td>\n",
       "      <td>2.0</td>\n",
       "      <td>5.0</td>\n",
       "    </tr>\n",
       "    <tr>\n",
       "      <th>2013-01-04</th>\n",
       "      <td>-0.425134</td>\n",
       "      <td>0.063181</td>\n",
       "      <td>-0.062794</td>\n",
       "      <td>5</td>\n",
       "      <td>3.0</td>\n",
       "      <td>5.0</td>\n",
       "    </tr>\n",
       "  </tbody>\n",
       "</table>\n",
       "</div>"
      ],
      "text/plain": [
       "                   A         B         C  D    F    E\n",
       "2013-01-01  0.000000  0.000000  0.128680  5  5.0  1.0\n",
       "2013-01-02 -0.154668 -1.116446  0.225782  5  1.0  1.0\n",
       "2013-01-03 -0.545779  0.761576 -0.658073  5  2.0  5.0\n",
       "2013-01-04 -0.425134  0.063181 -0.062794  5  3.0  5.0"
      ]
     },
     "execution_count": 48,
     "metadata": {},
     "output_type": "execute_result"
    }
   ],
   "source": [
    "df1.fillna(value=5)"
   ]
  },
  {
   "cell_type": "markdown",
   "id": "6b144075",
   "metadata": {},
   "source": [
    "提取 **nan** 值的**布尔掩码**："
   ]
  },
  {
   "cell_type": "code",
   "execution_count": 49,
   "id": "a74561a3",
   "metadata": {},
   "outputs": [
    {
     "data": {
      "text/html": [
       "<div>\n",
       "<style scoped>\n",
       "    .dataframe tbody tr th:only-of-type {\n",
       "        vertical-align: middle;\n",
       "    }\n",
       "\n",
       "    .dataframe tbody tr th {\n",
       "        vertical-align: top;\n",
       "    }\n",
       "\n",
       "    .dataframe thead th {\n",
       "        text-align: right;\n",
       "    }\n",
       "</style>\n",
       "<table border=\"1\" class=\"dataframe\">\n",
       "  <thead>\n",
       "    <tr style=\"text-align: right;\">\n",
       "      <th></th>\n",
       "      <th>A</th>\n",
       "      <th>B</th>\n",
       "      <th>C</th>\n",
       "      <th>D</th>\n",
       "      <th>F</th>\n",
       "      <th>E</th>\n",
       "    </tr>\n",
       "  </thead>\n",
       "  <tbody>\n",
       "    <tr>\n",
       "      <th>2013-01-01</th>\n",
       "      <td>False</td>\n",
       "      <td>False</td>\n",
       "      <td>False</td>\n",
       "      <td>False</td>\n",
       "      <td>True</td>\n",
       "      <td>False</td>\n",
       "    </tr>\n",
       "    <tr>\n",
       "      <th>2013-01-02</th>\n",
       "      <td>False</td>\n",
       "      <td>False</td>\n",
       "      <td>False</td>\n",
       "      <td>False</td>\n",
       "      <td>False</td>\n",
       "      <td>False</td>\n",
       "    </tr>\n",
       "    <tr>\n",
       "      <th>2013-01-03</th>\n",
       "      <td>False</td>\n",
       "      <td>False</td>\n",
       "      <td>False</td>\n",
       "      <td>False</td>\n",
       "      <td>False</td>\n",
       "      <td>True</td>\n",
       "    </tr>\n",
       "    <tr>\n",
       "      <th>2013-01-04</th>\n",
       "      <td>False</td>\n",
       "      <td>False</td>\n",
       "      <td>False</td>\n",
       "      <td>False</td>\n",
       "      <td>False</td>\n",
       "      <td>True</td>\n",
       "    </tr>\n",
       "  </tbody>\n",
       "</table>\n",
       "</div>"
      ],
      "text/plain": [
       "                A      B      C      D      F      E\n",
       "2013-01-01  False  False  False  False   True  False\n",
       "2013-01-02  False  False  False  False  False  False\n",
       "2013-01-03  False  False  False  False  False   True\n",
       "2013-01-04  False  False  False  False  False   True"
      ]
     },
     "execution_count": 49,
     "metadata": {},
     "output_type": "execute_result"
    }
   ],
   "source": [
    "pd.isna(df1)"
   ]
  },
  {
   "cell_type": "markdown",
   "id": "76380695",
   "metadata": {},
   "source": [
    "## 运算"
   ]
  },
  {
   "cell_type": "markdown",
   "id": "c032e2ac",
   "metadata": {},
   "source": [
    "### 统计"
   ]
  },
  {
   "cell_type": "markdown",
   "id": "434747b1",
   "metadata": {},
   "source": [
    "一般情况下，运算时**排除缺失值**。\n",
    "\n",
    "描述性统计："
   ]
  },
  {
   "cell_type": "code",
   "execution_count": 50,
   "id": "0b8e209b",
   "metadata": {},
   "outputs": [
    {
     "data": {
      "text/plain": [
       "A   -0.089064\n",
       "B   -0.115482\n",
       "C   -0.223338\n",
       "D    5.000000\n",
       "F    3.000000\n",
       "dtype: float64"
      ]
     },
     "execution_count": 50,
     "metadata": {},
     "output_type": "execute_result"
    }
   ],
   "source": [
    "df.mean()"
   ]
  },
  {
   "cell_type": "markdown",
   "id": "4b7149ce",
   "metadata": {},
   "source": [
    "在**另一个轴(即，行)**上执行同样的操作："
   ]
  },
  {
   "cell_type": "code",
   "execution_count": 51,
   "id": "089032b8",
   "metadata": {},
   "outputs": [
    {
     "data": {
      "text/plain": [
       "2013-01-01    1.282170\n",
       "2013-01-02    0.990934\n",
       "2013-01-03    1.311545\n",
       "2013-01-04    1.515051\n",
       "2013-01-05    1.045424\n",
       "2013-01-06    2.597849\n",
       "Freq: D, dtype: float64"
      ]
     },
     "execution_count": 51,
     "metadata": {},
     "output_type": "execute_result"
    }
   ],
   "source": [
    "df.mean(1)"
   ]
  },
  {
   "cell_type": "markdown",
   "id": "938f7de0",
   "metadata": {},
   "source": [
    "**不同维度对象运算**时，**要先对齐**。 此外，**Pandas** 自动**沿指定维度广播**。"
   ]
  },
  {
   "cell_type": "code",
   "execution_count": 52,
   "id": "22997059",
   "metadata": {},
   "outputs": [
    {
     "data": {
      "text/plain": [
       "2013-01-01    NaN\n",
       "2013-01-02    NaN\n",
       "2013-01-03    1.0\n",
       "2013-01-04    3.0\n",
       "2013-01-05    5.0\n",
       "2013-01-06    NaN\n",
       "Freq: D, dtype: float64"
      ]
     },
     "execution_count": 52,
     "metadata": {},
     "output_type": "execute_result"
    }
   ],
   "source": [
    "'''\n",
    "    Examples\n",
    "    --------\n",
    "    >>> df = pd.DataFrame({\"Col1\": [10, 20, 15, 30, 45],\n",
    "    ...                    \"Col2\": [13, 23, 18, 33, 48],\n",
    "    ...                    \"Col3\": [17, 27, 22, 37, 52]},\n",
    "    ...                   index=pd.date_range(\"2020-01-01\", \"2020-01-05\"))\n",
    "    >>> df\n",
    "                Col1  Col2  Col3\n",
    "    2020-01-01    10    13    17\n",
    "    2020-01-02    20    23    27\n",
    "    2020-01-03    15    18    22\n",
    "    2020-01-04    30    33    37\n",
    "    2020-01-05    45    48    52\n",
    "    \n",
    "    >>> df.shift(periods=3)\n",
    "                Col1  Col2  Col3\n",
    "    2020-01-01   NaN   NaN   NaN\n",
    "    2020-01-02   NaN   NaN   NaN\n",
    "    2020-01-03   NaN   NaN   NaN\n",
    "    2020-01-04  10.0  13.0  17.0\n",
    "    2020-01-05  20.0  23.0  27.0\n",
    "    \n",
    "    >>> df.shift(periods=1, axis=\"columns\")\n",
    "                Col1  Col2  Col3\n",
    "    2020-01-01   NaN    10    13\n",
    "    2020-01-02   NaN    20    23\n",
    "    2020-01-03   NaN    15    18\n",
    "    2020-01-04   NaN    30    33\n",
    "    2020-01-05   NaN    45    48\n",
    "    \n",
    "    >>> df.shift(periods=3, fill_value=0)\n",
    "                Col1  Col2  Col3\n",
    "    2020-01-01     0     0     0\n",
    "    2020-01-02     0     0     0\n",
    "    2020-01-03     0     0     0\n",
    "    2020-01-04    10    13    17\n",
    "    2020-01-05    20    23    27\n",
    "'''\n",
    "\n",
    "s = pd.Series([1, 3, 5, np.nan, 6, 8], index=dates).shift(2)\n",
    "s"
   ]
  },
  {
   "cell_type": "code",
   "execution_count": 53,
   "id": "cd6a868f",
   "metadata": {},
   "outputs": [
    {
     "data": {
      "text/html": [
       "<div>\n",
       "<style scoped>\n",
       "    .dataframe tbody tr th:only-of-type {\n",
       "        vertical-align: middle;\n",
       "    }\n",
       "\n",
       "    .dataframe tbody tr th {\n",
       "        vertical-align: top;\n",
       "    }\n",
       "\n",
       "    .dataframe thead th {\n",
       "        text-align: right;\n",
       "    }\n",
       "</style>\n",
       "<table border=\"1\" class=\"dataframe\">\n",
       "  <thead>\n",
       "    <tr style=\"text-align: right;\">\n",
       "      <th></th>\n",
       "      <th>A</th>\n",
       "      <th>B</th>\n",
       "      <th>C</th>\n",
       "      <th>D</th>\n",
       "      <th>F</th>\n",
       "    </tr>\n",
       "  </thead>\n",
       "  <tbody>\n",
       "    <tr>\n",
       "      <th>2013-01-01</th>\n",
       "      <td>NaN</td>\n",
       "      <td>NaN</td>\n",
       "      <td>NaN</td>\n",
       "      <td>NaN</td>\n",
       "      <td>NaN</td>\n",
       "    </tr>\n",
       "    <tr>\n",
       "      <th>2013-01-02</th>\n",
       "      <td>NaN</td>\n",
       "      <td>NaN</td>\n",
       "      <td>NaN</td>\n",
       "      <td>NaN</td>\n",
       "      <td>NaN</td>\n",
       "    </tr>\n",
       "    <tr>\n",
       "      <th>2013-01-03</th>\n",
       "      <td>-1.545779</td>\n",
       "      <td>-0.238424</td>\n",
       "      <td>-1.658073</td>\n",
       "      <td>4.0</td>\n",
       "      <td>1.0</td>\n",
       "    </tr>\n",
       "    <tr>\n",
       "      <th>2013-01-04</th>\n",
       "      <td>-3.425134</td>\n",
       "      <td>-2.936819</td>\n",
       "      <td>-3.062794</td>\n",
       "      <td>2.0</td>\n",
       "      <td>0.0</td>\n",
       "    </tr>\n",
       "    <tr>\n",
       "      <th>2013-01-05</th>\n",
       "      <td>-6.162755</td>\n",
       "      <td>-6.930601</td>\n",
       "      <td>-5.679523</td>\n",
       "      <td>0.0</td>\n",
       "      <td>-1.0</td>\n",
       "    </tr>\n",
       "    <tr>\n",
       "      <th>2013-01-06</th>\n",
       "      <td>NaN</td>\n",
       "      <td>NaN</td>\n",
       "      <td>NaN</td>\n",
       "      <td>NaN</td>\n",
       "      <td>NaN</td>\n",
       "    </tr>\n",
       "  </tbody>\n",
       "</table>\n",
       "</div>"
      ],
      "text/plain": [
       "                   A         B         C    D    F\n",
       "2013-01-01       NaN       NaN       NaN  NaN  NaN\n",
       "2013-01-02       NaN       NaN       NaN  NaN  NaN\n",
       "2013-01-03 -1.545779 -0.238424 -1.658073  4.0  1.0\n",
       "2013-01-04 -3.425134 -2.936819 -3.062794  2.0  0.0\n",
       "2013-01-05 -6.162755 -6.930601 -5.679523  0.0 -1.0\n",
       "2013-01-06       NaN       NaN       NaN  NaN  NaN"
      ]
     },
     "execution_count": 53,
     "metadata": {},
     "output_type": "execute_result"
    }
   ],
   "source": [
    "# Get Subtraction of dataframe and other, element-wise (binary operator `sub`).\n",
    "\n",
    "df.sub(s, axis='index')"
   ]
  },
  {
   "cell_type": "markdown",
   "id": "422add72",
   "metadata": {},
   "source": [
    "### Apply 函数"
   ]
  },
  {
   "cell_type": "markdown",
   "id": "c3f1f386",
   "metadata": {},
   "source": [
    "**Apply** 函数处理数据："
   ]
  },
  {
   "cell_type": "code",
   "execution_count": 54,
   "id": "2a4120fc",
   "metadata": {},
   "outputs": [
    {
     "data": {
      "text/html": [
       "<div>\n",
       "<style scoped>\n",
       "    .dataframe tbody tr th:only-of-type {\n",
       "        vertical-align: middle;\n",
       "    }\n",
       "\n",
       "    .dataframe tbody tr th {\n",
       "        vertical-align: top;\n",
       "    }\n",
       "\n",
       "    .dataframe thead th {\n",
       "        text-align: right;\n",
       "    }\n",
       "</style>\n",
       "<table border=\"1\" class=\"dataframe\">\n",
       "  <thead>\n",
       "    <tr style=\"text-align: right;\">\n",
       "      <th></th>\n",
       "      <th>A</th>\n",
       "      <th>B</th>\n",
       "      <th>C</th>\n",
       "      <th>D</th>\n",
       "      <th>F</th>\n",
       "    </tr>\n",
       "  </thead>\n",
       "  <tbody>\n",
       "    <tr>\n",
       "      <th>2013-01-01</th>\n",
       "      <td>0.000000</td>\n",
       "      <td>0.000000</td>\n",
       "      <td>0.128680</td>\n",
       "      <td>5</td>\n",
       "      <td>NaN</td>\n",
       "    </tr>\n",
       "    <tr>\n",
       "      <th>2013-01-02</th>\n",
       "      <td>-0.154668</td>\n",
       "      <td>-1.116446</td>\n",
       "      <td>0.354462</td>\n",
       "      <td>10</td>\n",
       "      <td>1.0</td>\n",
       "    </tr>\n",
       "    <tr>\n",
       "      <th>2013-01-03</th>\n",
       "      <td>-0.700446</td>\n",
       "      <td>-0.354870</td>\n",
       "      <td>-0.303611</td>\n",
       "      <td>15</td>\n",
       "      <td>3.0</td>\n",
       "    </tr>\n",
       "    <tr>\n",
       "      <th>2013-01-04</th>\n",
       "      <td>-1.125580</td>\n",
       "      <td>-0.291689</td>\n",
       "      <td>-0.366405</td>\n",
       "      <td>20</td>\n",
       "      <td>6.0</td>\n",
       "    </tr>\n",
       "    <tr>\n",
       "      <th>2013-01-05</th>\n",
       "      <td>-2.288335</td>\n",
       "      <td>-2.222290</td>\n",
       "      <td>-1.045928</td>\n",
       "      <td>25</td>\n",
       "      <td>10.0</td>\n",
       "    </tr>\n",
       "    <tr>\n",
       "      <th>2013-01-06</th>\n",
       "      <td>-0.534385</td>\n",
       "      <td>-0.692894</td>\n",
       "      <td>-1.340028</td>\n",
       "      <td>30</td>\n",
       "      <td>15.0</td>\n",
       "    </tr>\n",
       "  </tbody>\n",
       "</table>\n",
       "</div>"
      ],
      "text/plain": [
       "                   A         B         C   D     F\n",
       "2013-01-01  0.000000  0.000000  0.128680   5   NaN\n",
       "2013-01-02 -0.154668 -1.116446  0.354462  10   1.0\n",
       "2013-01-03 -0.700446 -0.354870 -0.303611  15   3.0\n",
       "2013-01-04 -1.125580 -0.291689 -0.366405  20   6.0\n",
       "2013-01-05 -2.288335 -2.222290 -1.045928  25  10.0\n",
       "2013-01-06 -0.534385 -0.692894 -1.340028  30  15.0"
      ]
     },
     "execution_count": 54,
     "metadata": {},
     "output_type": "execute_result"
    }
   ],
   "source": [
    "df.apply(np.cumsum)"
   ]
  },
  {
   "cell_type": "code",
   "execution_count": 55,
   "id": "b5e4a27c",
   "metadata": {},
   "outputs": [
    {
     "data": {
      "text/plain": [
       "A    2.916704\n",
       "B    3.459997\n",
       "C    0.905305\n",
       "D    0.000000\n",
       "F    4.000000\n",
       "dtype: float64"
      ]
     },
     "execution_count": 55,
     "metadata": {},
     "output_type": "execute_result"
    }
   ],
   "source": [
    "df.apply(lambda x: x.max() - x.min())"
   ]
  },
  {
   "cell_type": "markdown",
   "id": "d828673c",
   "metadata": {},
   "source": [
    "### 直方图"
   ]
  },
  {
   "cell_type": "code",
   "execution_count": 56,
   "id": "cd94d2cb",
   "metadata": {},
   "outputs": [
    {
     "data": {
      "text/plain": [
       "0    4\n",
       "1    2\n",
       "2    4\n",
       "3    6\n",
       "4    0\n",
       "5    3\n",
       "6    6\n",
       "7    0\n",
       "8    6\n",
       "9    3\n",
       "dtype: int64"
      ]
     },
     "execution_count": 56,
     "metadata": {},
     "output_type": "execute_result"
    }
   ],
   "source": [
    "s = pd.Series(np.random.randint(0, 7, size=10))\n",
    "s"
   ]
  },
  {
   "cell_type": "code",
   "execution_count": 57,
   "id": "bc88a1f9",
   "metadata": {},
   "outputs": [
    {
     "data": {
      "text/plain": [
       "6    3\n",
       "4    2\n",
       "0    2\n",
       "3    2\n",
       "2    1\n",
       "dtype: int64"
      ]
     },
     "execution_count": 57,
     "metadata": {},
     "output_type": "execute_result"
    }
   ],
   "source": [
    "s.value_counts()"
   ]
  },
  {
   "cell_type": "markdown",
   "id": "e00f63db",
   "metadata": {},
   "source": [
    "### 字符串方法"
   ]
  },
  {
   "cell_type": "markdown",
   "id": "e969626f",
   "metadata": {},
   "source": [
    "**Series** 的 **str** 属性包含**一组字符串处理功能**，如下列代码所示。"
   ]
  },
  {
   "cell_type": "code",
   "execution_count": 58,
   "id": "83b10bf3",
   "metadata": {},
   "outputs": [
    {
     "data": {
      "text/plain": [
       "0       a\n",
       "1       b\n",
       "2       c\n",
       "3    aaba\n",
       "4    baca\n",
       "5     NaN\n",
       "6    caba\n",
       "7     dog\n",
       "8     cat\n",
       "dtype: object"
      ]
     },
     "execution_count": 58,
     "metadata": {},
     "output_type": "execute_result"
    }
   ],
   "source": [
    "s = pd.Series(['A', 'B', 'C', 'Aaba', 'Baca', np.nan, 'CABA', 'dog', 'cat'])\n",
    "s.str.lower()"
   ]
  },
  {
   "cell_type": "markdown",
   "id": "15703e39",
   "metadata": {},
   "source": [
    "## 合并（Merge）"
   ]
  },
  {
   "cell_type": "markdown",
   "id": "b955464e",
   "metadata": {},
   "source": [
    "### 结合（Concat）"
   ]
  },
  {
   "cell_type": "markdown",
   "id": "3c91d3fd",
   "metadata": {},
   "source": [
    "**Pandas** 提供了多种**将 Series、DataFrame 对象组合**在一起的功能，用**索引**与**关联**代数功能的**多种设置逻辑**可执行**连接（join）与合并（merge）**操作。"
   ]
  },
  {
   "cell_type": "markdown",
   "id": "f9fe5940",
   "metadata": {},
   "source": [
    "**concat()** 用于连接 **Pandas** 对象："
   ]
  },
  {
   "cell_type": "code",
   "execution_count": 59,
   "id": "68b42bbd",
   "metadata": {},
   "outputs": [
    {
     "data": {
      "text/html": [
       "<div>\n",
       "<style scoped>\n",
       "    .dataframe tbody tr th:only-of-type {\n",
       "        vertical-align: middle;\n",
       "    }\n",
       "\n",
       "    .dataframe tbody tr th {\n",
       "        vertical-align: top;\n",
       "    }\n",
       "\n",
       "    .dataframe thead th {\n",
       "        text-align: right;\n",
       "    }\n",
       "</style>\n",
       "<table border=\"1\" class=\"dataframe\">\n",
       "  <thead>\n",
       "    <tr style=\"text-align: right;\">\n",
       "      <th></th>\n",
       "      <th>0</th>\n",
       "      <th>1</th>\n",
       "      <th>2</th>\n",
       "      <th>3</th>\n",
       "    </tr>\n",
       "  </thead>\n",
       "  <tbody>\n",
       "    <tr>\n",
       "      <th>0</th>\n",
       "      <td>-3.172040</td>\n",
       "      <td>0.254212</td>\n",
       "      <td>-0.233204</td>\n",
       "      <td>0.698153</td>\n",
       "    </tr>\n",
       "    <tr>\n",
       "      <th>1</th>\n",
       "      <td>-0.149921</td>\n",
       "      <td>-0.002897</td>\n",
       "      <td>0.257562</td>\n",
       "      <td>-1.015300</td>\n",
       "    </tr>\n",
       "    <tr>\n",
       "      <th>2</th>\n",
       "      <td>-0.231125</td>\n",
       "      <td>-0.838443</td>\n",
       "      <td>0.083489</td>\n",
       "      <td>1.543108</td>\n",
       "    </tr>\n",
       "    <tr>\n",
       "      <th>3</th>\n",
       "      <td>0.671106</td>\n",
       "      <td>0.073747</td>\n",
       "      <td>0.374843</td>\n",
       "      <td>0.149271</td>\n",
       "    </tr>\n",
       "    <tr>\n",
       "      <th>4</th>\n",
       "      <td>1.569045</td>\n",
       "      <td>0.804111</td>\n",
       "      <td>0.243453</td>\n",
       "      <td>0.706946</td>\n",
       "    </tr>\n",
       "    <tr>\n",
       "      <th>5</th>\n",
       "      <td>0.281626</td>\n",
       "      <td>1.790085</td>\n",
       "      <td>2.126711</td>\n",
       "      <td>0.165117</td>\n",
       "    </tr>\n",
       "    <tr>\n",
       "      <th>6</th>\n",
       "      <td>0.521698</td>\n",
       "      <td>-1.017154</td>\n",
       "      <td>-0.616618</td>\n",
       "      <td>1.017593</td>\n",
       "    </tr>\n",
       "    <tr>\n",
       "      <th>7</th>\n",
       "      <td>0.213499</td>\n",
       "      <td>-0.433022</td>\n",
       "      <td>0.468336</td>\n",
       "      <td>0.198350</td>\n",
       "    </tr>\n",
       "    <tr>\n",
       "      <th>8</th>\n",
       "      <td>-1.566067</td>\n",
       "      <td>-0.724884</td>\n",
       "      <td>-1.532241</td>\n",
       "      <td>-1.142955</td>\n",
       "    </tr>\n",
       "    <tr>\n",
       "      <th>9</th>\n",
       "      <td>-1.795322</td>\n",
       "      <td>-0.434581</td>\n",
       "      <td>-0.134777</td>\n",
       "      <td>-0.508489</td>\n",
       "    </tr>\n",
       "  </tbody>\n",
       "</table>\n",
       "</div>"
      ],
      "text/plain": [
       "          0         1         2         3\n",
       "0 -3.172040  0.254212 -0.233204  0.698153\n",
       "1 -0.149921 -0.002897  0.257562 -1.015300\n",
       "2 -0.231125 -0.838443  0.083489  1.543108\n",
       "3  0.671106  0.073747  0.374843  0.149271\n",
       "4  1.569045  0.804111  0.243453  0.706946\n",
       "5  0.281626  1.790085  2.126711  0.165117\n",
       "6  0.521698 -1.017154 -0.616618  1.017593\n",
       "7  0.213499 -0.433022  0.468336  0.198350\n",
       "8 -1.566067 -0.724884 -1.532241 -1.142955\n",
       "9 -1.795322 -0.434581 -0.134777 -0.508489"
      ]
     },
     "execution_count": 59,
     "metadata": {},
     "output_type": "execute_result"
    }
   ],
   "source": [
    "df = pd.DataFrame(np.random.randn(10, 4))\n",
    "df"
   ]
  },
  {
   "cell_type": "code",
   "execution_count": 60,
   "id": "5d6a3c86",
   "metadata": {},
   "outputs": [
    {
     "data": {
      "text/html": [
       "<div>\n",
       "<style scoped>\n",
       "    .dataframe tbody tr th:only-of-type {\n",
       "        vertical-align: middle;\n",
       "    }\n",
       "\n",
       "    .dataframe tbody tr th {\n",
       "        vertical-align: top;\n",
       "    }\n",
       "\n",
       "    .dataframe thead th {\n",
       "        text-align: right;\n",
       "    }\n",
       "</style>\n",
       "<table border=\"1\" class=\"dataframe\">\n",
       "  <thead>\n",
       "    <tr style=\"text-align: right;\">\n",
       "      <th></th>\n",
       "      <th>0</th>\n",
       "      <th>1</th>\n",
       "      <th>2</th>\n",
       "      <th>3</th>\n",
       "    </tr>\n",
       "  </thead>\n",
       "  <tbody>\n",
       "    <tr>\n",
       "      <th>0</th>\n",
       "      <td>-3.172040</td>\n",
       "      <td>0.254212</td>\n",
       "      <td>-0.233204</td>\n",
       "      <td>0.698153</td>\n",
       "    </tr>\n",
       "    <tr>\n",
       "      <th>1</th>\n",
       "      <td>-0.149921</td>\n",
       "      <td>-0.002897</td>\n",
       "      <td>0.257562</td>\n",
       "      <td>-1.015300</td>\n",
       "    </tr>\n",
       "    <tr>\n",
       "      <th>2</th>\n",
       "      <td>-0.231125</td>\n",
       "      <td>-0.838443</td>\n",
       "      <td>0.083489</td>\n",
       "      <td>1.543108</td>\n",
       "    </tr>\n",
       "    <tr>\n",
       "      <th>3</th>\n",
       "      <td>0.671106</td>\n",
       "      <td>0.073747</td>\n",
       "      <td>0.374843</td>\n",
       "      <td>0.149271</td>\n",
       "    </tr>\n",
       "    <tr>\n",
       "      <th>4</th>\n",
       "      <td>1.569045</td>\n",
       "      <td>0.804111</td>\n",
       "      <td>0.243453</td>\n",
       "      <td>0.706946</td>\n",
       "    </tr>\n",
       "    <tr>\n",
       "      <th>5</th>\n",
       "      <td>0.281626</td>\n",
       "      <td>1.790085</td>\n",
       "      <td>2.126711</td>\n",
       "      <td>0.165117</td>\n",
       "    </tr>\n",
       "    <tr>\n",
       "      <th>6</th>\n",
       "      <td>0.521698</td>\n",
       "      <td>-1.017154</td>\n",
       "      <td>-0.616618</td>\n",
       "      <td>1.017593</td>\n",
       "    </tr>\n",
       "    <tr>\n",
       "      <th>7</th>\n",
       "      <td>0.213499</td>\n",
       "      <td>-0.433022</td>\n",
       "      <td>0.468336</td>\n",
       "      <td>0.198350</td>\n",
       "    </tr>\n",
       "    <tr>\n",
       "      <th>8</th>\n",
       "      <td>-1.566067</td>\n",
       "      <td>-0.724884</td>\n",
       "      <td>-1.532241</td>\n",
       "      <td>-1.142955</td>\n",
       "    </tr>\n",
       "    <tr>\n",
       "      <th>9</th>\n",
       "      <td>-1.795322</td>\n",
       "      <td>-0.434581</td>\n",
       "      <td>-0.134777</td>\n",
       "      <td>-0.508489</td>\n",
       "    </tr>\n",
       "  </tbody>\n",
       "</table>\n",
       "</div>"
      ],
      "text/plain": [
       "          0         1         2         3\n",
       "0 -3.172040  0.254212 -0.233204  0.698153\n",
       "1 -0.149921 -0.002897  0.257562 -1.015300\n",
       "2 -0.231125 -0.838443  0.083489  1.543108\n",
       "3  0.671106  0.073747  0.374843  0.149271\n",
       "4  1.569045  0.804111  0.243453  0.706946\n",
       "5  0.281626  1.790085  2.126711  0.165117\n",
       "6  0.521698 -1.017154 -0.616618  1.017593\n",
       "7  0.213499 -0.433022  0.468336  0.198350\n",
       "8 -1.566067 -0.724884 -1.532241 -1.142955\n",
       "9 -1.795322 -0.434581 -0.134777 -0.508489"
      ]
     },
     "execution_count": 60,
     "metadata": {},
     "output_type": "execute_result"
    }
   ],
   "source": [
    "# 分解为多组\n",
    "pieces = [df[:3], df[3:7], df[7:]]\n",
    "pd.concat(pieces)"
   ]
  },
  {
   "cell_type": "markdown",
   "id": "3e09729c",
   "metadata": {},
   "source": [
    "### 连接（join）"
   ]
  },
  {
   "cell_type": "markdown",
   "id": "109ca074",
   "metadata": {},
   "source": [
    "**SQL** 风格的合并。"
   ]
  },
  {
   "cell_type": "code",
   "execution_count": 61,
   "id": "22d874c1",
   "metadata": {},
   "outputs": [
    {
     "data": {
      "text/html": [
       "<div>\n",
       "<style scoped>\n",
       "    .dataframe tbody tr th:only-of-type {\n",
       "        vertical-align: middle;\n",
       "    }\n",
       "\n",
       "    .dataframe tbody tr th {\n",
       "        vertical-align: top;\n",
       "    }\n",
       "\n",
       "    .dataframe thead th {\n",
       "        text-align: right;\n",
       "    }\n",
       "</style>\n",
       "<table border=\"1\" class=\"dataframe\">\n",
       "  <thead>\n",
       "    <tr style=\"text-align: right;\">\n",
       "      <th></th>\n",
       "      <th>key</th>\n",
       "      <th>lval</th>\n",
       "    </tr>\n",
       "  </thead>\n",
       "  <tbody>\n",
       "    <tr>\n",
       "      <th>0</th>\n",
       "      <td>foo</td>\n",
       "      <td>1</td>\n",
       "    </tr>\n",
       "    <tr>\n",
       "      <th>1</th>\n",
       "      <td>foo</td>\n",
       "      <td>2</td>\n",
       "    </tr>\n",
       "  </tbody>\n",
       "</table>\n",
       "</div>"
      ],
      "text/plain": [
       "   key  lval\n",
       "0  foo     1\n",
       "1  foo     2"
      ]
     },
     "execution_count": 61,
     "metadata": {},
     "output_type": "execute_result"
    }
   ],
   "source": [
    "left = pd.DataFrame({'key': ['foo', 'foo'], 'lval': [1, 2]})\n",
    "right = pd.DataFrame({'key': ['foo', 'foo'], 'rval': [4, 5]})\n",
    "left"
   ]
  },
  {
   "cell_type": "code",
   "execution_count": 62,
   "id": "135320ea",
   "metadata": {},
   "outputs": [
    {
     "data": {
      "text/html": [
       "<div>\n",
       "<style scoped>\n",
       "    .dataframe tbody tr th:only-of-type {\n",
       "        vertical-align: middle;\n",
       "    }\n",
       "\n",
       "    .dataframe tbody tr th {\n",
       "        vertical-align: top;\n",
       "    }\n",
       "\n",
       "    .dataframe thead th {\n",
       "        text-align: right;\n",
       "    }\n",
       "</style>\n",
       "<table border=\"1\" class=\"dataframe\">\n",
       "  <thead>\n",
       "    <tr style=\"text-align: right;\">\n",
       "      <th></th>\n",
       "      <th>key</th>\n",
       "      <th>rval</th>\n",
       "    </tr>\n",
       "  </thead>\n",
       "  <tbody>\n",
       "    <tr>\n",
       "      <th>0</th>\n",
       "      <td>foo</td>\n",
       "      <td>4</td>\n",
       "    </tr>\n",
       "    <tr>\n",
       "      <th>1</th>\n",
       "      <td>foo</td>\n",
       "      <td>5</td>\n",
       "    </tr>\n",
       "  </tbody>\n",
       "</table>\n",
       "</div>"
      ],
      "text/plain": [
       "   key  rval\n",
       "0  foo     4\n",
       "1  foo     5"
      ]
     },
     "execution_count": 62,
     "metadata": {},
     "output_type": "execute_result"
    }
   ],
   "source": [
    "right"
   ]
  },
  {
   "cell_type": "code",
   "execution_count": 63,
   "id": "42fbb74f",
   "metadata": {},
   "outputs": [
    {
     "data": {
      "text/html": [
       "<div>\n",
       "<style scoped>\n",
       "    .dataframe tbody tr th:only-of-type {\n",
       "        vertical-align: middle;\n",
       "    }\n",
       "\n",
       "    .dataframe tbody tr th {\n",
       "        vertical-align: top;\n",
       "    }\n",
       "\n",
       "    .dataframe thead th {\n",
       "        text-align: right;\n",
       "    }\n",
       "</style>\n",
       "<table border=\"1\" class=\"dataframe\">\n",
       "  <thead>\n",
       "    <tr style=\"text-align: right;\">\n",
       "      <th></th>\n",
       "      <th>key</th>\n",
       "      <th>lval</th>\n",
       "      <th>rval</th>\n",
       "    </tr>\n",
       "  </thead>\n",
       "  <tbody>\n",
       "    <tr>\n",
       "      <th>0</th>\n",
       "      <td>foo</td>\n",
       "      <td>1</td>\n",
       "      <td>4</td>\n",
       "    </tr>\n",
       "    <tr>\n",
       "      <th>1</th>\n",
       "      <td>foo</td>\n",
       "      <td>1</td>\n",
       "      <td>5</td>\n",
       "    </tr>\n",
       "    <tr>\n",
       "      <th>2</th>\n",
       "      <td>foo</td>\n",
       "      <td>2</td>\n",
       "      <td>4</td>\n",
       "    </tr>\n",
       "    <tr>\n",
       "      <th>3</th>\n",
       "      <td>foo</td>\n",
       "      <td>2</td>\n",
       "      <td>5</td>\n",
       "    </tr>\n",
       "  </tbody>\n",
       "</table>\n",
       "</div>"
      ],
      "text/plain": [
       "   key  lval  rval\n",
       "0  foo     1     4\n",
       "1  foo     1     5\n",
       "2  foo     2     4\n",
       "3  foo     2     5"
      ]
     },
     "execution_count": 63,
     "metadata": {},
     "output_type": "execute_result"
    }
   ],
   "source": [
    "pd.merge(left, right, on='key')"
   ]
  },
  {
   "cell_type": "markdown",
   "id": "8ff2f60b",
   "metadata": {},
   "source": [
    "---"
   ]
  },
  {
   "cell_type": "code",
   "execution_count": 64,
   "id": "fecaf14f",
   "metadata": {},
   "outputs": [
    {
     "data": {
      "text/html": [
       "<div>\n",
       "<style scoped>\n",
       "    .dataframe tbody tr th:only-of-type {\n",
       "        vertical-align: middle;\n",
       "    }\n",
       "\n",
       "    .dataframe tbody tr th {\n",
       "        vertical-align: top;\n",
       "    }\n",
       "\n",
       "    .dataframe thead th {\n",
       "        text-align: right;\n",
       "    }\n",
       "</style>\n",
       "<table border=\"1\" class=\"dataframe\">\n",
       "  <thead>\n",
       "    <tr style=\"text-align: right;\">\n",
       "      <th></th>\n",
       "      <th>key</th>\n",
       "      <th>lval</th>\n",
       "    </tr>\n",
       "  </thead>\n",
       "  <tbody>\n",
       "    <tr>\n",
       "      <th>0</th>\n",
       "      <td>foo</td>\n",
       "      <td>1</td>\n",
       "    </tr>\n",
       "    <tr>\n",
       "      <th>1</th>\n",
       "      <td>bar</td>\n",
       "      <td>2</td>\n",
       "    </tr>\n",
       "  </tbody>\n",
       "</table>\n",
       "</div>"
      ],
      "text/plain": [
       "   key  lval\n",
       "0  foo     1\n",
       "1  bar     2"
      ]
     },
     "execution_count": 64,
     "metadata": {},
     "output_type": "execute_result"
    }
   ],
   "source": [
    "left = pd.DataFrame({'key': ['foo', 'bar'], 'lval': [1, 2]})\n",
    "right = pd.DataFrame({'key': ['foo', 'bar'], 'rval': [4, 5]})\n",
    "left"
   ]
  },
  {
   "cell_type": "code",
   "execution_count": 65,
   "id": "265d0fcc",
   "metadata": {},
   "outputs": [
    {
     "data": {
      "text/html": [
       "<div>\n",
       "<style scoped>\n",
       "    .dataframe tbody tr th:only-of-type {\n",
       "        vertical-align: middle;\n",
       "    }\n",
       "\n",
       "    .dataframe tbody tr th {\n",
       "        vertical-align: top;\n",
       "    }\n",
       "\n",
       "    .dataframe thead th {\n",
       "        text-align: right;\n",
       "    }\n",
       "</style>\n",
       "<table border=\"1\" class=\"dataframe\">\n",
       "  <thead>\n",
       "    <tr style=\"text-align: right;\">\n",
       "      <th></th>\n",
       "      <th>key</th>\n",
       "      <th>rval</th>\n",
       "    </tr>\n",
       "  </thead>\n",
       "  <tbody>\n",
       "    <tr>\n",
       "      <th>0</th>\n",
       "      <td>foo</td>\n",
       "      <td>4</td>\n",
       "    </tr>\n",
       "    <tr>\n",
       "      <th>1</th>\n",
       "      <td>bar</td>\n",
       "      <td>5</td>\n",
       "    </tr>\n",
       "  </tbody>\n",
       "</table>\n",
       "</div>"
      ],
      "text/plain": [
       "   key  rval\n",
       "0  foo     4\n",
       "1  bar     5"
      ]
     },
     "execution_count": 65,
     "metadata": {},
     "output_type": "execute_result"
    }
   ],
   "source": [
    "right"
   ]
  },
  {
   "cell_type": "code",
   "execution_count": 66,
   "id": "e0f1180c",
   "metadata": {},
   "outputs": [
    {
     "data": {
      "text/html": [
       "<div>\n",
       "<style scoped>\n",
       "    .dataframe tbody tr th:only-of-type {\n",
       "        vertical-align: middle;\n",
       "    }\n",
       "\n",
       "    .dataframe tbody tr th {\n",
       "        vertical-align: top;\n",
       "    }\n",
       "\n",
       "    .dataframe thead th {\n",
       "        text-align: right;\n",
       "    }\n",
       "</style>\n",
       "<table border=\"1\" class=\"dataframe\">\n",
       "  <thead>\n",
       "    <tr style=\"text-align: right;\">\n",
       "      <th></th>\n",
       "      <th>key</th>\n",
       "      <th>lval</th>\n",
       "      <th>rval</th>\n",
       "    </tr>\n",
       "  </thead>\n",
       "  <tbody>\n",
       "    <tr>\n",
       "      <th>0</th>\n",
       "      <td>foo</td>\n",
       "      <td>1</td>\n",
       "      <td>4</td>\n",
       "    </tr>\n",
       "    <tr>\n",
       "      <th>1</th>\n",
       "      <td>bar</td>\n",
       "      <td>2</td>\n",
       "      <td>5</td>\n",
       "    </tr>\n",
       "  </tbody>\n",
       "</table>\n",
       "</div>"
      ],
      "text/plain": [
       "   key  lval  rval\n",
       "0  foo     1     4\n",
       "1  bar     2     5"
      ]
     },
     "execution_count": 66,
     "metadata": {},
     "output_type": "execute_result"
    }
   ],
   "source": [
    "pd.merge(left, right, on='key')"
   ]
  },
  {
   "cell_type": "markdown",
   "id": "caed3d8c",
   "metadata": {},
   "source": [
    "### 追加（Append）"
   ]
  },
  {
   "cell_type": "markdown",
   "id": "ccb3b53b",
   "metadata": {},
   "source": [
    "为 **DataFrame** 追加行。"
   ]
  },
  {
   "cell_type": "code",
   "execution_count": 67,
   "id": "ba256c45",
   "metadata": {},
   "outputs": [
    {
     "data": {
      "text/html": [
       "<div>\n",
       "<style scoped>\n",
       "    .dataframe tbody tr th:only-of-type {\n",
       "        vertical-align: middle;\n",
       "    }\n",
       "\n",
       "    .dataframe tbody tr th {\n",
       "        vertical-align: top;\n",
       "    }\n",
       "\n",
       "    .dataframe thead th {\n",
       "        text-align: right;\n",
       "    }\n",
       "</style>\n",
       "<table border=\"1\" class=\"dataframe\">\n",
       "  <thead>\n",
       "    <tr style=\"text-align: right;\">\n",
       "      <th></th>\n",
       "      <th>A</th>\n",
       "      <th>B</th>\n",
       "      <th>C</th>\n",
       "      <th>D</th>\n",
       "    </tr>\n",
       "  </thead>\n",
       "  <tbody>\n",
       "    <tr>\n",
       "      <th>0</th>\n",
       "      <td>-0.412184</td>\n",
       "      <td>1.745112</td>\n",
       "      <td>-0.433564</td>\n",
       "      <td>-0.418720</td>\n",
       "    </tr>\n",
       "    <tr>\n",
       "      <th>1</th>\n",
       "      <td>0.190834</td>\n",
       "      <td>0.830846</td>\n",
       "      <td>1.474797</td>\n",
       "      <td>-0.530756</td>\n",
       "    </tr>\n",
       "    <tr>\n",
       "      <th>2</th>\n",
       "      <td>0.111825</td>\n",
       "      <td>0.445863</td>\n",
       "      <td>0.315194</td>\n",
       "      <td>-0.500920</td>\n",
       "    </tr>\n",
       "    <tr>\n",
       "      <th>3</th>\n",
       "      <td>-1.454591</td>\n",
       "      <td>1.596350</td>\n",
       "      <td>-0.232047</td>\n",
       "      <td>-1.127333</td>\n",
       "    </tr>\n",
       "    <tr>\n",
       "      <th>4</th>\n",
       "      <td>-0.574508</td>\n",
       "      <td>0.631955</td>\n",
       "      <td>-0.018932</td>\n",
       "      <td>-0.415286</td>\n",
       "    </tr>\n",
       "    <tr>\n",
       "      <th>5</th>\n",
       "      <td>-0.993908</td>\n",
       "      <td>0.157857</td>\n",
       "      <td>2.755951</td>\n",
       "      <td>-1.011803</td>\n",
       "    </tr>\n",
       "    <tr>\n",
       "      <th>6</th>\n",
       "      <td>0.526994</td>\n",
       "      <td>-0.433859</td>\n",
       "      <td>1.307438</td>\n",
       "      <td>-0.390228</td>\n",
       "    </tr>\n",
       "    <tr>\n",
       "      <th>7</th>\n",
       "      <td>0.136791</td>\n",
       "      <td>0.565004</td>\n",
       "      <td>-1.637686</td>\n",
       "      <td>1.275329</td>\n",
       "    </tr>\n",
       "  </tbody>\n",
       "</table>\n",
       "</div>"
      ],
      "text/plain": [
       "          A         B         C         D\n",
       "0 -0.412184  1.745112 -0.433564 -0.418720\n",
       "1  0.190834  0.830846  1.474797 -0.530756\n",
       "2  0.111825  0.445863  0.315194 -0.500920\n",
       "3 -1.454591  1.596350 -0.232047 -1.127333\n",
       "4 -0.574508  0.631955 -0.018932 -0.415286\n",
       "5 -0.993908  0.157857  2.755951 -1.011803\n",
       "6  0.526994 -0.433859  1.307438 -0.390228\n",
       "7  0.136791  0.565004 -1.637686  1.275329"
      ]
     },
     "execution_count": 67,
     "metadata": {},
     "output_type": "execute_result"
    }
   ],
   "source": [
    "df = pd.DataFrame(np.random.randn(8, 4), columns=['A', 'B', 'C', 'D'])\n",
    "df"
   ]
  },
  {
   "cell_type": "code",
   "execution_count": 68,
   "id": "30144d58",
   "metadata": {},
   "outputs": [
    {
     "data": {
      "text/html": [
       "<div>\n",
       "<style scoped>\n",
       "    .dataframe tbody tr th:only-of-type {\n",
       "        vertical-align: middle;\n",
       "    }\n",
       "\n",
       "    .dataframe tbody tr th {\n",
       "        vertical-align: top;\n",
       "    }\n",
       "\n",
       "    .dataframe thead th {\n",
       "        text-align: right;\n",
       "    }\n",
       "</style>\n",
       "<table border=\"1\" class=\"dataframe\">\n",
       "  <thead>\n",
       "    <tr style=\"text-align: right;\">\n",
       "      <th></th>\n",
       "      <th>A</th>\n",
       "      <th>B</th>\n",
       "      <th>C</th>\n",
       "      <th>D</th>\n",
       "    </tr>\n",
       "  </thead>\n",
       "  <tbody>\n",
       "    <tr>\n",
       "      <th>0</th>\n",
       "      <td>-0.412184</td>\n",
       "      <td>1.745112</td>\n",
       "      <td>-0.433564</td>\n",
       "      <td>-0.418720</td>\n",
       "    </tr>\n",
       "    <tr>\n",
       "      <th>1</th>\n",
       "      <td>0.190834</td>\n",
       "      <td>0.830846</td>\n",
       "      <td>1.474797</td>\n",
       "      <td>-0.530756</td>\n",
       "    </tr>\n",
       "    <tr>\n",
       "      <th>2</th>\n",
       "      <td>0.111825</td>\n",
       "      <td>0.445863</td>\n",
       "      <td>0.315194</td>\n",
       "      <td>-0.500920</td>\n",
       "    </tr>\n",
       "    <tr>\n",
       "      <th>3</th>\n",
       "      <td>-1.454591</td>\n",
       "      <td>1.596350</td>\n",
       "      <td>-0.232047</td>\n",
       "      <td>-1.127333</td>\n",
       "    </tr>\n",
       "    <tr>\n",
       "      <th>4</th>\n",
       "      <td>-0.574508</td>\n",
       "      <td>0.631955</td>\n",
       "      <td>-0.018932</td>\n",
       "      <td>-0.415286</td>\n",
       "    </tr>\n",
       "    <tr>\n",
       "      <th>5</th>\n",
       "      <td>-0.993908</td>\n",
       "      <td>0.157857</td>\n",
       "      <td>2.755951</td>\n",
       "      <td>-1.011803</td>\n",
       "    </tr>\n",
       "    <tr>\n",
       "      <th>6</th>\n",
       "      <td>0.526994</td>\n",
       "      <td>-0.433859</td>\n",
       "      <td>1.307438</td>\n",
       "      <td>-0.390228</td>\n",
       "    </tr>\n",
       "    <tr>\n",
       "      <th>7</th>\n",
       "      <td>0.136791</td>\n",
       "      <td>0.565004</td>\n",
       "      <td>-1.637686</td>\n",
       "      <td>1.275329</td>\n",
       "    </tr>\n",
       "    <tr>\n",
       "      <th>8</th>\n",
       "      <td>-1.454591</td>\n",
       "      <td>1.596350</td>\n",
       "      <td>-0.232047</td>\n",
       "      <td>-1.127333</td>\n",
       "    </tr>\n",
       "  </tbody>\n",
       "</table>\n",
       "</div>"
      ],
      "text/plain": [
       "          A         B         C         D\n",
       "0 -0.412184  1.745112 -0.433564 -0.418720\n",
       "1  0.190834  0.830846  1.474797 -0.530756\n",
       "2  0.111825  0.445863  0.315194 -0.500920\n",
       "3 -1.454591  1.596350 -0.232047 -1.127333\n",
       "4 -0.574508  0.631955 -0.018932 -0.415286\n",
       "5 -0.993908  0.157857  2.755951 -1.011803\n",
       "6  0.526994 -0.433859  1.307438 -0.390228\n",
       "7  0.136791  0.565004 -1.637686  1.275329\n",
       "8 -1.454591  1.596350 -0.232047 -1.127333"
      ]
     },
     "execution_count": 68,
     "metadata": {},
     "output_type": "execute_result"
    }
   ],
   "source": [
    "s = df.iloc[3]\n",
    "df.append(s, ignore_index=True)"
   ]
  },
  {
   "cell_type": "markdown",
   "id": "36685bf5",
   "metadata": {},
   "source": [
    "## 分组（Grouping）"
   ]
  },
  {
   "cell_type": "markdown",
   "id": "6e937633",
   "metadata": {},
   "source": [
    "“group by” 指的是涵盖下列一项或多项步骤的处理流程：\n",
    "\n",
    "- **分割**：按条件把数据分割成多组；\n",
    "\n",
    "- **应用**：为每组单独应用函数；\n",
    "\n",
    "- **组合**：将处理结果组合成一个数据结构。"
   ]
  },
  {
   "cell_type": "code",
   "execution_count": 69,
   "id": "0b6b8b35",
   "metadata": {},
   "outputs": [
    {
     "data": {
      "text/html": [
       "<div>\n",
       "<style scoped>\n",
       "    .dataframe tbody tr th:only-of-type {\n",
       "        vertical-align: middle;\n",
       "    }\n",
       "\n",
       "    .dataframe tbody tr th {\n",
       "        vertical-align: top;\n",
       "    }\n",
       "\n",
       "    .dataframe thead th {\n",
       "        text-align: right;\n",
       "    }\n",
       "</style>\n",
       "<table border=\"1\" class=\"dataframe\">\n",
       "  <thead>\n",
       "    <tr style=\"text-align: right;\">\n",
       "      <th></th>\n",
       "      <th>A</th>\n",
       "      <th>B</th>\n",
       "      <th>C</th>\n",
       "      <th>D</th>\n",
       "    </tr>\n",
       "  </thead>\n",
       "  <tbody>\n",
       "    <tr>\n",
       "      <th>0</th>\n",
       "      <td>foo</td>\n",
       "      <td>one</td>\n",
       "      <td>2.078635</td>\n",
       "      <td>-0.766797</td>\n",
       "    </tr>\n",
       "    <tr>\n",
       "      <th>1</th>\n",
       "      <td>bar</td>\n",
       "      <td>one</td>\n",
       "      <td>-1.567693</td>\n",
       "      <td>2.873158</td>\n",
       "    </tr>\n",
       "    <tr>\n",
       "      <th>2</th>\n",
       "      <td>foo</td>\n",
       "      <td>two</td>\n",
       "      <td>0.339904</td>\n",
       "      <td>-1.563841</td>\n",
       "    </tr>\n",
       "    <tr>\n",
       "      <th>3</th>\n",
       "      <td>bar</td>\n",
       "      <td>three</td>\n",
       "      <td>-1.818566</td>\n",
       "      <td>0.395057</td>\n",
       "    </tr>\n",
       "    <tr>\n",
       "      <th>4</th>\n",
       "      <td>foo</td>\n",
       "      <td>two</td>\n",
       "      <td>0.783384</td>\n",
       "      <td>0.266815</td>\n",
       "    </tr>\n",
       "    <tr>\n",
       "      <th>5</th>\n",
       "      <td>bar</td>\n",
       "      <td>two</td>\n",
       "      <td>-0.373869</td>\n",
       "      <td>-0.476340</td>\n",
       "    </tr>\n",
       "    <tr>\n",
       "      <th>6</th>\n",
       "      <td>foo</td>\n",
       "      <td>one</td>\n",
       "      <td>-0.371590</td>\n",
       "      <td>0.391594</td>\n",
       "    </tr>\n",
       "    <tr>\n",
       "      <th>7</th>\n",
       "      <td>foo</td>\n",
       "      <td>three</td>\n",
       "      <td>-0.357266</td>\n",
       "      <td>-1.494998</td>\n",
       "    </tr>\n",
       "  </tbody>\n",
       "</table>\n",
       "</div>"
      ],
      "text/plain": [
       "     A      B         C         D\n",
       "0  foo    one  2.078635 -0.766797\n",
       "1  bar    one -1.567693  2.873158\n",
       "2  foo    two  0.339904 -1.563841\n",
       "3  bar  three -1.818566  0.395057\n",
       "4  foo    two  0.783384  0.266815\n",
       "5  bar    two -0.373869 -0.476340\n",
       "6  foo    one -0.371590  0.391594\n",
       "7  foo  three -0.357266 -1.494998"
      ]
     },
     "execution_count": 69,
     "metadata": {},
     "output_type": "execute_result"
    }
   ],
   "source": [
    "df = pd.DataFrame({'A': ['foo', 'bar', 'foo', 'bar',\n",
    "                         'foo', 'bar', 'foo', 'foo'],\n",
    "                   'B': ['one', 'one', 'two', 'three',\n",
    "                         'two', 'two', 'one', 'three'],\n",
    "                   'C': np.random.randn(8),\n",
    "                   'D': np.random.randn(8)})\n",
    "df"
   ]
  },
  {
   "cell_type": "markdown",
   "id": "95a36c36",
   "metadata": {},
   "source": [
    "先分组，再用 **sum()** 函数计算每组的汇总数据："
   ]
  },
  {
   "cell_type": "code",
   "execution_count": 70,
   "id": "ad250b40",
   "metadata": {},
   "outputs": [
    {
     "data": {
      "text/html": [
       "<div>\n",
       "<style scoped>\n",
       "    .dataframe tbody tr th:only-of-type {\n",
       "        vertical-align: middle;\n",
       "    }\n",
       "\n",
       "    .dataframe tbody tr th {\n",
       "        vertical-align: top;\n",
       "    }\n",
       "\n",
       "    .dataframe thead th {\n",
       "        text-align: right;\n",
       "    }\n",
       "</style>\n",
       "<table border=\"1\" class=\"dataframe\">\n",
       "  <thead>\n",
       "    <tr style=\"text-align: right;\">\n",
       "      <th></th>\n",
       "      <th>C</th>\n",
       "      <th>D</th>\n",
       "    </tr>\n",
       "    <tr>\n",
       "      <th>A</th>\n",
       "      <th></th>\n",
       "      <th></th>\n",
       "    </tr>\n",
       "  </thead>\n",
       "  <tbody>\n",
       "    <tr>\n",
       "      <th>bar</th>\n",
       "      <td>-3.760128</td>\n",
       "      <td>2.791874</td>\n",
       "    </tr>\n",
       "    <tr>\n",
       "      <th>foo</th>\n",
       "      <td>2.473067</td>\n",
       "      <td>-3.167227</td>\n",
       "    </tr>\n",
       "  </tbody>\n",
       "</table>\n",
       "</div>"
      ],
      "text/plain": [
       "            C         D\n",
       "A                      \n",
       "bar -3.760128  2.791874\n",
       "foo  2.473067 -3.167227"
      ]
     },
     "execution_count": 70,
     "metadata": {},
     "output_type": "execute_result"
    }
   ],
   "source": [
    "df.groupby('A').sum()"
   ]
  },
  {
   "cell_type": "markdown",
   "id": "4ea12d25",
   "metadata": {},
   "source": [
    "多列**分组**后，生成**多层索引**，也可以应用 **sum** 函数："
   ]
  },
  {
   "cell_type": "code",
   "execution_count": 71,
   "id": "e895f5ca",
   "metadata": {},
   "outputs": [
    {
     "data": {
      "text/html": [
       "<div>\n",
       "<style scoped>\n",
       "    .dataframe tbody tr th:only-of-type {\n",
       "        vertical-align: middle;\n",
       "    }\n",
       "\n",
       "    .dataframe tbody tr th {\n",
       "        vertical-align: top;\n",
       "    }\n",
       "\n",
       "    .dataframe thead th {\n",
       "        text-align: right;\n",
       "    }\n",
       "</style>\n",
       "<table border=\"1\" class=\"dataframe\">\n",
       "  <thead>\n",
       "    <tr style=\"text-align: right;\">\n",
       "      <th></th>\n",
       "      <th></th>\n",
       "      <th>C</th>\n",
       "      <th>D</th>\n",
       "    </tr>\n",
       "    <tr>\n",
       "      <th>A</th>\n",
       "      <th>B</th>\n",
       "      <th></th>\n",
       "      <th></th>\n",
       "    </tr>\n",
       "  </thead>\n",
       "  <tbody>\n",
       "    <tr>\n",
       "      <th rowspan=\"3\" valign=\"top\">bar</th>\n",
       "      <th>one</th>\n",
       "      <td>-1.567693</td>\n",
       "      <td>2.873158</td>\n",
       "    </tr>\n",
       "    <tr>\n",
       "      <th>three</th>\n",
       "      <td>-1.818566</td>\n",
       "      <td>0.395057</td>\n",
       "    </tr>\n",
       "    <tr>\n",
       "      <th>two</th>\n",
       "      <td>-0.373869</td>\n",
       "      <td>-0.476340</td>\n",
       "    </tr>\n",
       "    <tr>\n",
       "      <th rowspan=\"3\" valign=\"top\">foo</th>\n",
       "      <th>one</th>\n",
       "      <td>1.707044</td>\n",
       "      <td>-0.375203</td>\n",
       "    </tr>\n",
       "    <tr>\n",
       "      <th>three</th>\n",
       "      <td>-0.357266</td>\n",
       "      <td>-1.494998</td>\n",
       "    </tr>\n",
       "    <tr>\n",
       "      <th>two</th>\n",
       "      <td>1.123288</td>\n",
       "      <td>-1.297025</td>\n",
       "    </tr>\n",
       "  </tbody>\n",
       "</table>\n",
       "</div>"
      ],
      "text/plain": [
       "                  C         D\n",
       "A   B                        \n",
       "bar one   -1.567693  2.873158\n",
       "    three -1.818566  0.395057\n",
       "    two   -0.373869 -0.476340\n",
       "foo one    1.707044 -0.375203\n",
       "    three -0.357266 -1.494998\n",
       "    two    1.123288 -1.297025"
      ]
     },
     "execution_count": 71,
     "metadata": {},
     "output_type": "execute_result"
    }
   ],
   "source": [
    "df.groupby(['A', 'B']).sum()"
   ]
  },
  {
   "cell_type": "markdown",
   "id": "e852c19a",
   "metadata": {},
   "source": [
    "## 重塑（Reshaping）"
   ]
  },
  {
   "cell_type": "markdown",
   "id": "43fbe701",
   "metadata": {},
   "source": [
    "### 堆叠（Stack）"
   ]
  },
  {
   "cell_type": "code",
   "execution_count": 72,
   "id": "21e5e0bd",
   "metadata": {},
   "outputs": [
    {
     "data": {
      "text/plain": [
       "[('bar', 'one'),\n",
       " ('bar', 'two'),\n",
       " ('baz', 'one'),\n",
       " ('baz', 'two'),\n",
       " ('foo', 'one'),\n",
       " ('foo', 'two'),\n",
       " ('qux', 'one'),\n",
       " ('qux', 'two')]"
      ]
     },
     "execution_count": 72,
     "metadata": {},
     "output_type": "execute_result"
    }
   ],
   "source": [
    "tuples = list(zip(*[['bar', 'bar', 'baz', 'baz',\n",
    "                     'foo', 'foo', 'qux', 'qux'],\n",
    "                    ['one', 'two', 'one', 'two',\n",
    "                     'one', 'two', 'one', 'two']]))\n",
    "tuples"
   ]
  },
  {
   "cell_type": "code",
   "execution_count": 73,
   "id": "40d8033f",
   "metadata": {},
   "outputs": [
    {
     "data": {
      "text/html": [
       "<div>\n",
       "<style scoped>\n",
       "    .dataframe tbody tr th:only-of-type {\n",
       "        vertical-align: middle;\n",
       "    }\n",
       "\n",
       "    .dataframe tbody tr th {\n",
       "        vertical-align: top;\n",
       "    }\n",
       "\n",
       "    .dataframe thead th {\n",
       "        text-align: right;\n",
       "    }\n",
       "</style>\n",
       "<table border=\"1\" class=\"dataframe\">\n",
       "  <thead>\n",
       "    <tr style=\"text-align: right;\">\n",
       "      <th></th>\n",
       "      <th></th>\n",
       "      <th>A</th>\n",
       "      <th>B</th>\n",
       "    </tr>\n",
       "    <tr>\n",
       "      <th>first</th>\n",
       "      <th>second</th>\n",
       "      <th></th>\n",
       "      <th></th>\n",
       "    </tr>\n",
       "  </thead>\n",
       "  <tbody>\n",
       "    <tr>\n",
       "      <th rowspan=\"2\" valign=\"top\">bar</th>\n",
       "      <th>one</th>\n",
       "      <td>-0.031741</td>\n",
       "      <td>0.024598</td>\n",
       "    </tr>\n",
       "    <tr>\n",
       "      <th>two</th>\n",
       "      <td>-0.528920</td>\n",
       "      <td>0.671122</td>\n",
       "    </tr>\n",
       "    <tr>\n",
       "      <th rowspan=\"2\" valign=\"top\">baz</th>\n",
       "      <th>one</th>\n",
       "      <td>-0.012633</td>\n",
       "      <td>0.719639</td>\n",
       "    </tr>\n",
       "    <tr>\n",
       "      <th>two</th>\n",
       "      <td>-0.610120</td>\n",
       "      <td>-1.249487</td>\n",
       "    </tr>\n",
       "  </tbody>\n",
       "</table>\n",
       "</div>"
      ],
      "text/plain": [
       "                     A         B\n",
       "first second                    \n",
       "bar   one    -0.031741  0.024598\n",
       "      two    -0.528920  0.671122\n",
       "baz   one    -0.012633  0.719639\n",
       "      two    -0.610120 -1.249487"
      ]
     },
     "execution_count": 73,
     "metadata": {},
     "output_type": "execute_result"
    }
   ],
   "source": [
    "'''\n",
    "    Examples\n",
    "    --------\n",
    "    >>> tuples = [(1, 'red'), (1, 'blue'),\n",
    "    ...           (2, 'red'), (2, 'blue')]\n",
    "    >>> pd.MultiIndex.from_tuples(tuples, names=('number', 'color'))\n",
    "    MultiIndex([(1,  'red'),\n",
    "                (1, 'blue'),\n",
    "                (2,  'red'),\n",
    "                (2, 'blue')],\n",
    "               names=['number', 'color'])\n",
    "'''\n",
    "\n",
    "index = pd.MultiIndex.from_tuples(tuples, names=['first', 'second'])\n",
    "df = pd.DataFrame(np.random.randn(8, 2), index=index, columns=['A', 'B'])\n",
    "df2 = df[:4]\n",
    "df2"
   ]
  },
  {
   "cell_type": "markdown",
   "id": "fc808317",
   "metadata": {},
   "source": [
    "**stack()** 方法把 **DataFrame** 列压缩至一层："
   ]
  },
  {
   "cell_type": "code",
   "execution_count": 74,
   "id": "1df0fa9c",
   "metadata": {},
   "outputs": [
    {
     "data": {
      "text/plain": [
       "first  second   \n",
       "bar    one     A   -0.031741\n",
       "               B    0.024598\n",
       "       two     A   -0.528920\n",
       "               B    0.671122\n",
       "baz    one     A   -0.012633\n",
       "               B    0.719639\n",
       "       two     A   -0.610120\n",
       "               B   -1.249487\n",
       "dtype: float64"
      ]
     },
     "execution_count": 74,
     "metadata": {},
     "output_type": "execute_result"
    }
   ],
   "source": [
    "'''\n",
    "    Notes\n",
    "    -----\n",
    "    The function is named by analogy with a collection of books\n",
    "    being reorganized from being side by side on a horizontal\n",
    "    position (the columns of the dataframe) to being stacked\n",
    "    vertically on top of each other (in the index of the\n",
    "    dataframe).\n",
    "'''\n",
    "\n",
    "stacked = df2.stack()\n",
    "stacked"
   ]
  },
  {
   "cell_type": "markdown",
   "id": "7c8824b1",
   "metadata": {},
   "source": [
    "**压缩后**的 **DataFrame** 或 **Series** 具有多层索引，**stack()** 的逆操作是 **unstack()**，默认为**拆叠**最后一层："
   ]
  },
  {
   "cell_type": "code",
   "execution_count": 75,
   "id": "9c454555",
   "metadata": {},
   "outputs": [
    {
     "data": {
      "text/html": [
       "<div>\n",
       "<style scoped>\n",
       "    .dataframe tbody tr th:only-of-type {\n",
       "        vertical-align: middle;\n",
       "    }\n",
       "\n",
       "    .dataframe tbody tr th {\n",
       "        vertical-align: top;\n",
       "    }\n",
       "\n",
       "    .dataframe thead th {\n",
       "        text-align: right;\n",
       "    }\n",
       "</style>\n",
       "<table border=\"1\" class=\"dataframe\">\n",
       "  <thead>\n",
       "    <tr style=\"text-align: right;\">\n",
       "      <th></th>\n",
       "      <th></th>\n",
       "      <th>A</th>\n",
       "      <th>B</th>\n",
       "    </tr>\n",
       "    <tr>\n",
       "      <th>first</th>\n",
       "      <th>second</th>\n",
       "      <th></th>\n",
       "      <th></th>\n",
       "    </tr>\n",
       "  </thead>\n",
       "  <tbody>\n",
       "    <tr>\n",
       "      <th rowspan=\"2\" valign=\"top\">bar</th>\n",
       "      <th>one</th>\n",
       "      <td>-0.031741</td>\n",
       "      <td>0.024598</td>\n",
       "    </tr>\n",
       "    <tr>\n",
       "      <th>two</th>\n",
       "      <td>-0.528920</td>\n",
       "      <td>0.671122</td>\n",
       "    </tr>\n",
       "    <tr>\n",
       "      <th rowspan=\"2\" valign=\"top\">baz</th>\n",
       "      <th>one</th>\n",
       "      <td>-0.012633</td>\n",
       "      <td>0.719639</td>\n",
       "    </tr>\n",
       "    <tr>\n",
       "      <th>two</th>\n",
       "      <td>-0.610120</td>\n",
       "      <td>-1.249487</td>\n",
       "    </tr>\n",
       "  </tbody>\n",
       "</table>\n",
       "</div>"
      ],
      "text/plain": [
       "                     A         B\n",
       "first second                    \n",
       "bar   one    -0.031741  0.024598\n",
       "      two    -0.528920  0.671122\n",
       "baz   one    -0.012633  0.719639\n",
       "      two    -0.610120 -1.249487"
      ]
     },
     "execution_count": 75,
     "metadata": {},
     "output_type": "execute_result"
    }
   ],
   "source": [
    "stacked.unstack()"
   ]
  },
  {
   "cell_type": "code",
   "execution_count": 76,
   "id": "3246733a",
   "metadata": {},
   "outputs": [
    {
     "data": {
      "text/html": [
       "<div>\n",
       "<style scoped>\n",
       "    .dataframe tbody tr th:only-of-type {\n",
       "        vertical-align: middle;\n",
       "    }\n",
       "\n",
       "    .dataframe tbody tr th {\n",
       "        vertical-align: top;\n",
       "    }\n",
       "\n",
       "    .dataframe thead th {\n",
       "        text-align: right;\n",
       "    }\n",
       "</style>\n",
       "<table border=\"1\" class=\"dataframe\">\n",
       "  <thead>\n",
       "    <tr style=\"text-align: right;\">\n",
       "      <th></th>\n",
       "      <th></th>\n",
       "      <th>A</th>\n",
       "      <th>B</th>\n",
       "    </tr>\n",
       "    <tr>\n",
       "      <th>first</th>\n",
       "      <th>second</th>\n",
       "      <th></th>\n",
       "      <th></th>\n",
       "    </tr>\n",
       "  </thead>\n",
       "  <tbody>\n",
       "    <tr>\n",
       "      <th rowspan=\"2\" valign=\"top\">bar</th>\n",
       "      <th>one</th>\n",
       "      <td>-0.031741</td>\n",
       "      <td>0.024598</td>\n",
       "    </tr>\n",
       "    <tr>\n",
       "      <th>two</th>\n",
       "      <td>-0.528920</td>\n",
       "      <td>0.671122</td>\n",
       "    </tr>\n",
       "    <tr>\n",
       "      <th rowspan=\"2\" valign=\"top\">baz</th>\n",
       "      <th>one</th>\n",
       "      <td>-0.012633</td>\n",
       "      <td>0.719639</td>\n",
       "    </tr>\n",
       "    <tr>\n",
       "      <th>two</th>\n",
       "      <td>-0.610120</td>\n",
       "      <td>-1.249487</td>\n",
       "    </tr>\n",
       "  </tbody>\n",
       "</table>\n",
       "</div>"
      ],
      "text/plain": [
       "                     A         B\n",
       "first second                    \n",
       "bar   one    -0.031741  0.024598\n",
       "      two    -0.528920  0.671122\n",
       "baz   one    -0.012633  0.719639\n",
       "      two    -0.610120 -1.249487"
      ]
     },
     "execution_count": 76,
     "metadata": {},
     "output_type": "execute_result"
    }
   ],
   "source": [
    "stacked.unstack(2)"
   ]
  },
  {
   "cell_type": "code",
   "execution_count": 77,
   "id": "80aed5cf",
   "metadata": {},
   "outputs": [
    {
     "data": {
      "text/html": [
       "<div>\n",
       "<style scoped>\n",
       "    .dataframe tbody tr th:only-of-type {\n",
       "        vertical-align: middle;\n",
       "    }\n",
       "\n",
       "    .dataframe tbody tr th {\n",
       "        vertical-align: top;\n",
       "    }\n",
       "\n",
       "    .dataframe thead th {\n",
       "        text-align: right;\n",
       "    }\n",
       "</style>\n",
       "<table border=\"1\" class=\"dataframe\">\n",
       "  <thead>\n",
       "    <tr style=\"text-align: right;\">\n",
       "      <th></th>\n",
       "      <th>second</th>\n",
       "      <th>one</th>\n",
       "      <th>two</th>\n",
       "    </tr>\n",
       "    <tr>\n",
       "      <th>first</th>\n",
       "      <th></th>\n",
       "      <th></th>\n",
       "      <th></th>\n",
       "    </tr>\n",
       "  </thead>\n",
       "  <tbody>\n",
       "    <tr>\n",
       "      <th rowspan=\"2\" valign=\"top\">bar</th>\n",
       "      <th>A</th>\n",
       "      <td>-0.031741</td>\n",
       "      <td>-0.528920</td>\n",
       "    </tr>\n",
       "    <tr>\n",
       "      <th>B</th>\n",
       "      <td>0.024598</td>\n",
       "      <td>0.671122</td>\n",
       "    </tr>\n",
       "    <tr>\n",
       "      <th rowspan=\"2\" valign=\"top\">baz</th>\n",
       "      <th>A</th>\n",
       "      <td>-0.012633</td>\n",
       "      <td>-0.610120</td>\n",
       "    </tr>\n",
       "    <tr>\n",
       "      <th>B</th>\n",
       "      <td>0.719639</td>\n",
       "      <td>-1.249487</td>\n",
       "    </tr>\n",
       "  </tbody>\n",
       "</table>\n",
       "</div>"
      ],
      "text/plain": [
       "second        one       two\n",
       "first                      \n",
       "bar   A -0.031741 -0.528920\n",
       "      B  0.024598  0.671122\n",
       "baz   A -0.012633 -0.610120\n",
       "      B  0.719639 -1.249487"
      ]
     },
     "execution_count": 77,
     "metadata": {},
     "output_type": "execute_result"
    }
   ],
   "source": [
    "stacked.unstack(1)"
   ]
  },
  {
   "cell_type": "code",
   "execution_count": 78,
   "id": "204ddfdb",
   "metadata": {},
   "outputs": [
    {
     "data": {
      "text/html": [
       "<div>\n",
       "<style scoped>\n",
       "    .dataframe tbody tr th:only-of-type {\n",
       "        vertical-align: middle;\n",
       "    }\n",
       "\n",
       "    .dataframe tbody tr th {\n",
       "        vertical-align: top;\n",
       "    }\n",
       "\n",
       "    .dataframe thead th {\n",
       "        text-align: right;\n",
       "    }\n",
       "</style>\n",
       "<table border=\"1\" class=\"dataframe\">\n",
       "  <thead>\n",
       "    <tr style=\"text-align: right;\">\n",
       "      <th></th>\n",
       "      <th>first</th>\n",
       "      <th>bar</th>\n",
       "      <th>baz</th>\n",
       "    </tr>\n",
       "    <tr>\n",
       "      <th>second</th>\n",
       "      <th></th>\n",
       "      <th></th>\n",
       "      <th></th>\n",
       "    </tr>\n",
       "  </thead>\n",
       "  <tbody>\n",
       "    <tr>\n",
       "      <th rowspan=\"2\" valign=\"top\">one</th>\n",
       "      <th>A</th>\n",
       "      <td>-0.031741</td>\n",
       "      <td>-0.012633</td>\n",
       "    </tr>\n",
       "    <tr>\n",
       "      <th>B</th>\n",
       "      <td>0.024598</td>\n",
       "      <td>0.719639</td>\n",
       "    </tr>\n",
       "    <tr>\n",
       "      <th rowspan=\"2\" valign=\"top\">two</th>\n",
       "      <th>A</th>\n",
       "      <td>-0.528920</td>\n",
       "      <td>-0.610120</td>\n",
       "    </tr>\n",
       "    <tr>\n",
       "      <th>B</th>\n",
       "      <td>0.671122</td>\n",
       "      <td>-1.249487</td>\n",
       "    </tr>\n",
       "  </tbody>\n",
       "</table>\n",
       "</div>"
      ],
      "text/plain": [
       "first          bar       baz\n",
       "second                      \n",
       "one    A -0.031741 -0.012633\n",
       "       B  0.024598  0.719639\n",
       "two    A -0.528920 -0.610120\n",
       "       B  0.671122 -1.249487"
      ]
     },
     "execution_count": 78,
     "metadata": {},
     "output_type": "execute_result"
    }
   ],
   "source": [
    "stacked.unstack(0)"
   ]
  },
  {
   "cell_type": "markdown",
   "id": "773a0ddf",
   "metadata": {},
   "source": [
    "## 数据透视表（Pivot Tables）"
   ]
  },
  {
   "cell_type": "code",
   "execution_count": 79,
   "id": "26ad1179",
   "metadata": {},
   "outputs": [
    {
     "data": {
      "text/html": [
       "<div>\n",
       "<style scoped>\n",
       "    .dataframe tbody tr th:only-of-type {\n",
       "        vertical-align: middle;\n",
       "    }\n",
       "\n",
       "    .dataframe tbody tr th {\n",
       "        vertical-align: top;\n",
       "    }\n",
       "\n",
       "    .dataframe thead th {\n",
       "        text-align: right;\n",
       "    }\n",
       "</style>\n",
       "<table border=\"1\" class=\"dataframe\">\n",
       "  <thead>\n",
       "    <tr style=\"text-align: right;\">\n",
       "      <th></th>\n",
       "      <th>A</th>\n",
       "      <th>B</th>\n",
       "      <th>C</th>\n",
       "      <th>D</th>\n",
       "      <th>E</th>\n",
       "    </tr>\n",
       "  </thead>\n",
       "  <tbody>\n",
       "    <tr>\n",
       "      <th>0</th>\n",
       "      <td>one</td>\n",
       "      <td>A</td>\n",
       "      <td>foo</td>\n",
       "      <td>-0.568734</td>\n",
       "      <td>0.777763</td>\n",
       "    </tr>\n",
       "    <tr>\n",
       "      <th>1</th>\n",
       "      <td>one</td>\n",
       "      <td>B</td>\n",
       "      <td>foo</td>\n",
       "      <td>0.494222</td>\n",
       "      <td>0.807189</td>\n",
       "    </tr>\n",
       "    <tr>\n",
       "      <th>2</th>\n",
       "      <td>two</td>\n",
       "      <td>C</td>\n",
       "      <td>foo</td>\n",
       "      <td>-0.162052</td>\n",
       "      <td>0.315077</td>\n",
       "    </tr>\n",
       "    <tr>\n",
       "      <th>3</th>\n",
       "      <td>three</td>\n",
       "      <td>A</td>\n",
       "      <td>bar</td>\n",
       "      <td>1.419018</td>\n",
       "      <td>-0.203981</td>\n",
       "    </tr>\n",
       "    <tr>\n",
       "      <th>4</th>\n",
       "      <td>one</td>\n",
       "      <td>B</td>\n",
       "      <td>bar</td>\n",
       "      <td>0.096023</td>\n",
       "      <td>-1.573375</td>\n",
       "    </tr>\n",
       "    <tr>\n",
       "      <th>5</th>\n",
       "      <td>one</td>\n",
       "      <td>C</td>\n",
       "      <td>bar</td>\n",
       "      <td>-1.328791</td>\n",
       "      <td>-0.824634</td>\n",
       "    </tr>\n",
       "    <tr>\n",
       "      <th>6</th>\n",
       "      <td>two</td>\n",
       "      <td>A</td>\n",
       "      <td>foo</td>\n",
       "      <td>0.187589</td>\n",
       "      <td>0.948316</td>\n",
       "    </tr>\n",
       "    <tr>\n",
       "      <th>7</th>\n",
       "      <td>three</td>\n",
       "      <td>B</td>\n",
       "      <td>foo</td>\n",
       "      <td>1.160899</td>\n",
       "      <td>0.315829</td>\n",
       "    </tr>\n",
       "    <tr>\n",
       "      <th>8</th>\n",
       "      <td>one</td>\n",
       "      <td>C</td>\n",
       "      <td>foo</td>\n",
       "      <td>0.658493</td>\n",
       "      <td>-0.678323</td>\n",
       "    </tr>\n",
       "    <tr>\n",
       "      <th>9</th>\n",
       "      <td>one</td>\n",
       "      <td>A</td>\n",
       "      <td>bar</td>\n",
       "      <td>1.587032</td>\n",
       "      <td>-0.001939</td>\n",
       "    </tr>\n",
       "    <tr>\n",
       "      <th>10</th>\n",
       "      <td>two</td>\n",
       "      <td>B</td>\n",
       "      <td>bar</td>\n",
       "      <td>0.086376</td>\n",
       "      <td>1.691314</td>\n",
       "    </tr>\n",
       "    <tr>\n",
       "      <th>11</th>\n",
       "      <td>three</td>\n",
       "      <td>C</td>\n",
       "      <td>bar</td>\n",
       "      <td>0.150421</td>\n",
       "      <td>1.466832</td>\n",
       "    </tr>\n",
       "  </tbody>\n",
       "</table>\n",
       "</div>"
      ],
      "text/plain": [
       "        A  B    C         D         E\n",
       "0     one  A  foo -0.568734  0.777763\n",
       "1     one  B  foo  0.494222  0.807189\n",
       "2     two  C  foo -0.162052  0.315077\n",
       "3   three  A  bar  1.419018 -0.203981\n",
       "4     one  B  bar  0.096023 -1.573375\n",
       "5     one  C  bar -1.328791 -0.824634\n",
       "6     two  A  foo  0.187589  0.948316\n",
       "7   three  B  foo  1.160899  0.315829\n",
       "8     one  C  foo  0.658493 -0.678323\n",
       "9     one  A  bar  1.587032 -0.001939\n",
       "10    two  B  bar  0.086376  1.691314\n",
       "11  three  C  bar  0.150421  1.466832"
      ]
     },
     "execution_count": 79,
     "metadata": {},
     "output_type": "execute_result"
    }
   ],
   "source": [
    "df = pd.DataFrame({'A': ['one', 'one', 'two', 'three'] * 3,\n",
    "                   'B': ['A', 'B', 'C'] * 4,\n",
    "                   'C': ['foo', 'foo', 'foo', 'bar', 'bar', 'bar'] * 2,\n",
    "                   'D': np.random.randn(12),\n",
    "                   'E': np.random.randn(12)})\n",
    "df"
   ]
  },
  {
   "cell_type": "markdown",
   "id": "7cdf949a",
   "metadata": {},
   "source": [
    "用上述数据生成**数据透视表**非常简单："
   ]
  },
  {
   "cell_type": "code",
   "execution_count": 80,
   "id": "5446375a",
   "metadata": {},
   "outputs": [
    {
     "data": {
      "text/html": [
       "<div>\n",
       "<style scoped>\n",
       "    .dataframe tbody tr th:only-of-type {\n",
       "        vertical-align: middle;\n",
       "    }\n",
       "\n",
       "    .dataframe tbody tr th {\n",
       "        vertical-align: top;\n",
       "    }\n",
       "\n",
       "    .dataframe thead th {\n",
       "        text-align: right;\n",
       "    }\n",
       "</style>\n",
       "<table border=\"1\" class=\"dataframe\">\n",
       "  <thead>\n",
       "    <tr style=\"text-align: right;\">\n",
       "      <th></th>\n",
       "      <th>C</th>\n",
       "      <th>bar</th>\n",
       "      <th>foo</th>\n",
       "    </tr>\n",
       "    <tr>\n",
       "      <th>A</th>\n",
       "      <th>B</th>\n",
       "      <th></th>\n",
       "      <th></th>\n",
       "    </tr>\n",
       "  </thead>\n",
       "  <tbody>\n",
       "    <tr>\n",
       "      <th rowspan=\"3\" valign=\"top\">one</th>\n",
       "      <th>A</th>\n",
       "      <td>1.587032</td>\n",
       "      <td>-0.568734</td>\n",
       "    </tr>\n",
       "    <tr>\n",
       "      <th>B</th>\n",
       "      <td>0.096023</td>\n",
       "      <td>0.494222</td>\n",
       "    </tr>\n",
       "    <tr>\n",
       "      <th>C</th>\n",
       "      <td>-1.328791</td>\n",
       "      <td>0.658493</td>\n",
       "    </tr>\n",
       "    <tr>\n",
       "      <th rowspan=\"3\" valign=\"top\">three</th>\n",
       "      <th>A</th>\n",
       "      <td>1.419018</td>\n",
       "      <td>NaN</td>\n",
       "    </tr>\n",
       "    <tr>\n",
       "      <th>B</th>\n",
       "      <td>NaN</td>\n",
       "      <td>1.160899</td>\n",
       "    </tr>\n",
       "    <tr>\n",
       "      <th>C</th>\n",
       "      <td>0.150421</td>\n",
       "      <td>NaN</td>\n",
       "    </tr>\n",
       "    <tr>\n",
       "      <th rowspan=\"3\" valign=\"top\">two</th>\n",
       "      <th>A</th>\n",
       "      <td>NaN</td>\n",
       "      <td>0.187589</td>\n",
       "    </tr>\n",
       "    <tr>\n",
       "      <th>B</th>\n",
       "      <td>0.086376</td>\n",
       "      <td>NaN</td>\n",
       "    </tr>\n",
       "    <tr>\n",
       "      <th>C</th>\n",
       "      <td>NaN</td>\n",
       "      <td>-0.162052</td>\n",
       "    </tr>\n",
       "  </tbody>\n",
       "</table>\n",
       "</div>"
      ],
      "text/plain": [
       "C             bar       foo\n",
       "A     B                    \n",
       "one   A  1.587032 -0.568734\n",
       "      B  0.096023  0.494222\n",
       "      C -1.328791  0.658493\n",
       "three A  1.419018       NaN\n",
       "      B       NaN  1.160899\n",
       "      C  0.150421       NaN\n",
       "two   A       NaN  0.187589\n",
       "      B  0.086376       NaN\n",
       "      C       NaN -0.162052"
      ]
     },
     "execution_count": 80,
     "metadata": {},
     "output_type": "execute_result"
    }
   ],
   "source": [
    "# Create a spreadsheet-style pivot table as a DataFrame.\n",
    "\n",
    "pd.pivot_table(df, values='D', index=['A', 'B'], columns=['C'])"
   ]
  },
  {
   "cell_type": "markdown",
   "id": "679fded0",
   "metadata": {},
   "source": [
    "## 时间序列(TimeSeries)"
   ]
  },
  {
   "cell_type": "markdown",
   "id": "27d8deff",
   "metadata": {},
   "source": [
    "**Pandas** 为频率转换时**重采样**提供了虽然简单易用，但强大高效的功能，如，将秒级的数据转换为 **5** 分钟为频率的数据。"
   ]
  },
  {
   "cell_type": "code",
   "execution_count": 81,
   "id": "9b6ab8ec",
   "metadata": {},
   "outputs": [
    {
     "data": {
      "text/plain": [
       "DatetimeIndex(['2012-01-01 00:00:00', '2012-01-01 00:00:01',\n",
       "               '2012-01-01 00:00:02', '2012-01-01 00:00:03',\n",
       "               '2012-01-01 00:00:04', '2012-01-01 00:00:05',\n",
       "               '2012-01-01 00:00:06', '2012-01-01 00:00:07',\n",
       "               '2012-01-01 00:00:08', '2012-01-01 00:00:09',\n",
       "               '2012-01-01 00:00:10', '2012-01-01 00:00:11',\n",
       "               '2012-01-01 00:00:12', '2012-01-01 00:00:13',\n",
       "               '2012-01-01 00:00:14', '2012-01-01 00:00:15',\n",
       "               '2012-01-01 00:00:16', '2012-01-01 00:00:17',\n",
       "               '2012-01-01 00:00:18', '2012-01-01 00:00:19',\n",
       "               '2012-01-01 00:00:20', '2012-01-01 00:00:21',\n",
       "               '2012-01-01 00:00:22', '2012-01-01 00:00:23',\n",
       "               '2012-01-01 00:00:24', '2012-01-01 00:00:25',\n",
       "               '2012-01-01 00:00:26', '2012-01-01 00:00:27',\n",
       "               '2012-01-01 00:00:28', '2012-01-01 00:00:29',\n",
       "               '2012-01-01 00:00:30', '2012-01-01 00:00:31',\n",
       "               '2012-01-01 00:00:32', '2012-01-01 00:00:33',\n",
       "               '2012-01-01 00:00:34', '2012-01-01 00:00:35',\n",
       "               '2012-01-01 00:00:36', '2012-01-01 00:00:37',\n",
       "               '2012-01-01 00:00:38', '2012-01-01 00:00:39',\n",
       "               '2012-01-01 00:00:40', '2012-01-01 00:00:41',\n",
       "               '2012-01-01 00:00:42', '2012-01-01 00:00:43',\n",
       "               '2012-01-01 00:00:44', '2012-01-01 00:00:45',\n",
       "               '2012-01-01 00:00:46', '2012-01-01 00:00:47',\n",
       "               '2012-01-01 00:00:48', '2012-01-01 00:00:49',\n",
       "               '2012-01-01 00:00:50', '2012-01-01 00:00:51',\n",
       "               '2012-01-01 00:00:52', '2012-01-01 00:00:53',\n",
       "               '2012-01-01 00:00:54', '2012-01-01 00:00:55',\n",
       "               '2012-01-01 00:00:56', '2012-01-01 00:00:57',\n",
       "               '2012-01-01 00:00:58', '2012-01-01 00:00:59',\n",
       "               '2012-01-01 00:01:00', '2012-01-01 00:01:01',\n",
       "               '2012-01-01 00:01:02', '2012-01-01 00:01:03',\n",
       "               '2012-01-01 00:01:04', '2012-01-01 00:01:05',\n",
       "               '2012-01-01 00:01:06', '2012-01-01 00:01:07',\n",
       "               '2012-01-01 00:01:08', '2012-01-01 00:01:09',\n",
       "               '2012-01-01 00:01:10', '2012-01-01 00:01:11',\n",
       "               '2012-01-01 00:01:12', '2012-01-01 00:01:13',\n",
       "               '2012-01-01 00:01:14', '2012-01-01 00:01:15',\n",
       "               '2012-01-01 00:01:16', '2012-01-01 00:01:17',\n",
       "               '2012-01-01 00:01:18', '2012-01-01 00:01:19',\n",
       "               '2012-01-01 00:01:20', '2012-01-01 00:01:21',\n",
       "               '2012-01-01 00:01:22', '2012-01-01 00:01:23',\n",
       "               '2012-01-01 00:01:24', '2012-01-01 00:01:25',\n",
       "               '2012-01-01 00:01:26', '2012-01-01 00:01:27',\n",
       "               '2012-01-01 00:01:28', '2012-01-01 00:01:29',\n",
       "               '2012-01-01 00:01:30', '2012-01-01 00:01:31',\n",
       "               '2012-01-01 00:01:32', '2012-01-01 00:01:33',\n",
       "               '2012-01-01 00:01:34', '2012-01-01 00:01:35',\n",
       "               '2012-01-01 00:01:36', '2012-01-01 00:01:37',\n",
       "               '2012-01-01 00:01:38', '2012-01-01 00:01:39'],\n",
       "              dtype='datetime64[ns]', freq='S')"
      ]
     },
     "execution_count": 81,
     "metadata": {},
     "output_type": "execute_result"
    }
   ],
   "source": [
    "rng = pd.date_range('1/1/2012', periods=100, freq='S')\n",
    "rng"
   ]
  },
  {
   "cell_type": "code",
   "execution_count": 82,
   "id": "59e5be67",
   "metadata": {},
   "outputs": [
    {
     "data": {
      "text/plain": [
       "2012-01-01 00:00:00    408\n",
       "2012-01-01 00:00:01    458\n",
       "2012-01-01 00:00:02    482\n",
       "2012-01-01 00:00:03    123\n",
       "2012-01-01 00:00:04    173\n",
       "                      ... \n",
       "2012-01-01 00:01:35     84\n",
       "2012-01-01 00:01:36    410\n",
       "2012-01-01 00:01:37    218\n",
       "2012-01-01 00:01:38    435\n",
       "2012-01-01 00:01:39    155\n",
       "Freq: S, Length: 100, dtype: int64"
      ]
     },
     "execution_count": 82,
     "metadata": {},
     "output_type": "execute_result"
    }
   ],
   "source": [
    "# Return random integers from `low` (inclusive) to `high` (exclusive).\n",
    "\n",
    "ts = pd.Series(np.random.randint(0, 500, len(rng)), index=rng)\n",
    "ts"
   ]
  },
  {
   "cell_type": "code",
   "execution_count": 83,
   "id": "279de5d9",
   "metadata": {},
   "outputs": [
    {
     "data": {
      "text/plain": [
       "2012-01-01    27721\n",
       "Freq: 5T, dtype: int64"
      ]
     },
     "execution_count": 83,
     "metadata": {},
     "output_type": "execute_result"
    }
   ],
   "source": [
    "# Resample time-series data.\n",
    "\n",
    "ts.resample('5Min').sum()"
   ]
  },
  {
   "cell_type": "markdown",
   "id": "40809e80",
   "metadata": {},
   "source": [
    "时区表示："
   ]
  },
  {
   "cell_type": "code",
   "execution_count": 84,
   "id": "f051c181",
   "metadata": {},
   "outputs": [
    {
     "data": {
      "text/plain": [
       "2012-03-06    1.516644\n",
       "2012-03-07   -0.017687\n",
       "2012-03-08   -0.650399\n",
       "2012-03-09    0.787444\n",
       "2012-03-10    1.160993\n",
       "Freq: D, dtype: float64"
      ]
     },
     "execution_count": 84,
     "metadata": {},
     "output_type": "execute_result"
    }
   ],
   "source": [
    "'''\n",
    "class Series(pandas.core.base.IndexOpsMixin, pandas.core.generic.NDFrame)\n",
    " |  Series(data=None, index=None, dtype: 'Dtype | None' = None, name=None, copy: 'bool' = False, fastpath: 'bool' = False)\n",
    " |  \n",
    " |  One-dimensional ndarray with axis labels (including time series).\n",
    " |  \n",
    " |  Parameters\n",
    " |  ----------\n",
    " |  data : array-like, Iterable, dict, or scalar value\n",
    " |      Contains data stored in Series. If data is a dict, argument order is\n",
    " |      maintained.\n",
    " |  index : array-like or Index (1d)\n",
    " |      Values must be hashable and have the same length as `data`.\n",
    " |      Non-unique index values are allowed. Will default to\n",
    " |      RangeIndex (0, 1, 2, ..., n) if not provided. If data is dict-like\n",
    " |      and index is None, then the keys in the data are used as the index. If the\n",
    " |      index is not None, the resulting Series is reindexed with the index values.\n",
    "'''\n",
    "\n",
    "rng = pd.date_range('3/6/2012 00:00', periods=5, freq='D')\n",
    "ts = pd.Series(np.random.randn(len(rng)), rng)\n",
    "ts"
   ]
  },
  {
   "cell_type": "code",
   "execution_count": 85,
   "id": "51bae57d",
   "metadata": {},
   "outputs": [
    {
     "data": {
      "text/plain": [
       "2012-03-06 00:00:00+00:00    1.516644\n",
       "2012-03-07 00:00:00+00:00   -0.017687\n",
       "2012-03-08 00:00:00+00:00   -0.650399\n",
       "2012-03-09 00:00:00+00:00    0.787444\n",
       "2012-03-10 00:00:00+00:00    1.160993\n",
       "Freq: D, dtype: float64"
      ]
     },
     "execution_count": 85,
     "metadata": {},
     "output_type": "execute_result"
    }
   ],
   "source": [
    "# Localize tz-naive index of a Series or DataFrame to target time zone.\n",
    "\n",
    "ts_utc = ts.tz_localize('UTC')\n",
    "ts_utc"
   ]
  },
  {
   "cell_type": "markdown",
   "id": "f363217b",
   "metadata": {},
   "source": [
    "转换成其它时区："
   ]
  },
  {
   "cell_type": "code",
   "execution_count": 86,
   "id": "d8ee5d63",
   "metadata": {},
   "outputs": [
    {
     "data": {
      "text/plain": [
       "2012-03-05 19:00:00-05:00    1.516644\n",
       "2012-03-06 19:00:00-05:00   -0.017687\n",
       "2012-03-07 19:00:00-05:00   -0.650399\n",
       "2012-03-08 19:00:00-05:00    0.787444\n",
       "2012-03-09 19:00:00-05:00    1.160993\n",
       "Freq: D, dtype: float64"
      ]
     },
     "execution_count": 86,
     "metadata": {},
     "output_type": "execute_result"
    }
   ],
   "source": [
    "ts_utc.tz_convert('US/Eastern')"
   ]
  },
  {
   "cell_type": "markdown",
   "id": "38ad9063",
   "metadata": {},
   "source": [
    "转换时间段："
   ]
  },
  {
   "cell_type": "code",
   "execution_count": 87,
   "id": "e9cd3496",
   "metadata": {},
   "outputs": [
    {
     "data": {
      "text/plain": [
       "2012-01-31   -0.809673\n",
       "2012-02-29    0.076121\n",
       "2012-03-31    1.429349\n",
       "2012-04-30   -0.200348\n",
       "2012-05-31    0.724636\n",
       "Freq: M, dtype: float64"
      ]
     },
     "execution_count": 87,
     "metadata": {},
     "output_type": "execute_result"
    }
   ],
   "source": [
    "rng = pd.date_range('1/1/2012', periods=5, freq='M')\n",
    "ts = pd.Series(np.random.randn(len(rng)), index=rng)\n",
    "ts"
   ]
  },
  {
   "cell_type": "code",
   "execution_count": 88,
   "id": "d49bfb9f",
   "metadata": {},
   "outputs": [
    {
     "data": {
      "text/plain": [
       "2012-01   -0.809673\n",
       "2012-02    0.076121\n",
       "2012-03    1.429349\n",
       "2012-04   -0.200348\n",
       "2012-05    0.724636\n",
       "Freq: M, dtype: float64"
      ]
     },
     "execution_count": 88,
     "metadata": {},
     "output_type": "execute_result"
    }
   ],
   "source": [
    "# Convert Series from DatetimeIndex to PeriodIndex.\n",
    "\n",
    "ps = ts.to_period()\n",
    "ps"
   ]
  },
  {
   "cell_type": "code",
   "execution_count": 89,
   "id": "e4f47823",
   "metadata": {},
   "outputs": [
    {
     "data": {
      "text/plain": [
       "2012-01-01   -0.809673\n",
       "2012-02-01    0.076121\n",
       "2012-03-01    1.429349\n",
       "2012-04-01   -0.200348\n",
       "2012-05-01    0.724636\n",
       "Freq: MS, dtype: float64"
      ]
     },
     "execution_count": 89,
     "metadata": {},
     "output_type": "execute_result"
    }
   ],
   "source": [
    "# Cast to DatetimeIndex of Timestamps, at *beginning* of period.\n",
    "\n",
    "ps.to_timestamp()"
   ]
  },
  {
   "cell_type": "markdown",
   "id": "48ffcd13",
   "metadata": {},
   "source": [
    "**Pandas** 函数可以很方便地转换时间段与时间戳。下例把以 **11** 月为结束年份的季度频率转换为下一季度月末上午 **9** 点："
   ]
  },
  {
   "cell_type": "code",
   "execution_count": 90,
   "id": "2c90e328",
   "metadata": {},
   "outputs": [
    {
     "data": {
      "text/plain": [
       "1990Q1   -0.298946\n",
       "1990Q2    1.028112\n",
       "1990Q3   -0.295354\n",
       "1990Q4   -0.607972\n",
       "1991Q1    0.535154\n",
       "1991Q2   -0.705626\n",
       "1991Q3    0.583652\n",
       "1991Q4   -1.037342\n",
       "1992Q1   -1.324814\n",
       "1992Q2   -0.011561\n",
       "1992Q3    0.066528\n",
       "1992Q4    1.014955\n",
       "1993Q1   -0.370918\n",
       "1993Q2    0.380168\n",
       "1993Q3   -1.785215\n",
       "1993Q4   -0.178410\n",
       "1994Q1    0.026059\n",
       "1994Q2    0.138847\n",
       "1994Q3    0.666864\n",
       "1994Q4   -1.057763\n",
       "1995Q1    0.446270\n",
       "1995Q2    0.320394\n",
       "1995Q3    0.184425\n",
       "1995Q4   -1.315629\n",
       "1996Q1    0.550735\n",
       "1996Q2   -2.303643\n",
       "1996Q3    0.402088\n",
       "1996Q4   -0.151095\n",
       "1997Q1   -0.633079\n",
       "1997Q2   -0.571981\n",
       "1997Q3   -0.676016\n",
       "1997Q4   -1.623322\n",
       "1998Q1    0.805028\n",
       "1998Q2   -0.893589\n",
       "1998Q3   -1.915592\n",
       "1998Q4    0.903216\n",
       "1999Q1    0.199862\n",
       "1999Q2    2.119588\n",
       "1999Q3    1.116835\n",
       "1999Q4   -0.761739\n",
       "2000Q1    1.301644\n",
       "2000Q2   -1.237225\n",
       "2000Q3    0.427754\n",
       "2000Q4    0.371374\n",
       "Freq: Q-NOV, dtype: float64"
      ]
     },
     "execution_count": 90,
     "metadata": {},
     "output_type": "execute_result"
    }
   ],
   "source": [
    "'''\n",
    "period_range(start=None, end=None, periods: 'int | None' = None, freq=None, name=None) -> 'PeriodIndex'\n",
    "    Return a fixed frequency PeriodIndex.\n",
    "    \n",
    "    The day (calendar) is the default frequency.\n",
    "    \n",
    "    Parameters\n",
    "    ----------\n",
    "    start : str or period-like, default None\n",
    "        Left bound for generating periods.\n",
    "    end : str or period-like, default None\n",
    "        Right bound for generating periods.\n",
    "    periods : int, default None\n",
    "        Number of periods to generate.\n",
    "    freq : str or DateOffset, optional\n",
    "        Frequency alias. By default the freq is taken from `start` or `end`\n",
    "        if those are Period objects. Otherwise, the default is ``\"D\"`` for\n",
    "        daily frequency.\n",
    "    name : str, default None\n",
    "        Name of the resulting PeriodIndex.\n",
    "    \n",
    "    Returns\n",
    "    -------\n",
    "    PeriodIndex\n",
    "'''\n",
    "\n",
    "prng = pd.period_range('1990Q1', '2000Q4', freq='Q-NOV')\n",
    "ts = pd.Series(np.random.randn(len(prng)), prng)\n",
    "ts"
   ]
  },
  {
   "cell_type": "code",
   "execution_count": 91,
   "id": "bbea29fb",
   "metadata": {},
   "outputs": [
    {
     "data": {
      "text/plain": [
       "1990-03-01 09:00   -0.298946\n",
       "1990-06-01 09:00    1.028112\n",
       "1990-09-01 09:00   -0.295354\n",
       "1990-12-01 09:00   -0.607972\n",
       "1991-03-01 09:00    0.535154\n",
       "Freq: H, dtype: float64"
      ]
     },
     "execution_count": 91,
     "metadata": {},
     "output_type": "execute_result"
    }
   ],
   "source": [
    "'''\n",
    "asfreq(freq=None, how: 'str' = 'E') -> 'PeriodIndex' method of pandas.core.indexes.period.PeriodIndex instance\n",
    "    Convert the PeriodArray to the specified frequency `freq`.\n",
    "    \n",
    "    Parameters\n",
    "    ----------\n",
    "    freq : str\n",
    "        A frequency.\n",
    "    how : str {'E', 'S'}, default 'E'\n",
    "        Whether the elements should be aligned to the end\n",
    "        or start within pa period.\n",
    "    \n",
    "        * 'E', 'END', or 'FINISH' for end,\n",
    "        * 'S', 'START', or 'BEGIN' for start.\n",
    "    \n",
    "        January 31st ('END') vs. January 1st ('START') for example.\n",
    "    \n",
    "    Returns\n",
    "    -------\n",
    "    PeriodArray\n",
    "        The transformed PeriodArray with the new frequency.\n",
    "'''\n",
    "\n",
    "ts.index = (prng.asfreq('M', 'e') + 1).asfreq('H', 's') + 9\n",
    "ts.head()"
   ]
  },
  {
   "cell_type": "markdown",
   "id": "a2ffd853",
   "metadata": {},
   "source": [
    "## 类别型（Categoricals）"
   ]
  },
  {
   "cell_type": "markdown",
   "id": "08653924",
   "metadata": {},
   "source": [
    "**Pandas** 的 **DataFrame** 里可以包含**类别数据**。"
   ]
  },
  {
   "cell_type": "code",
   "execution_count": 92,
   "id": "bd3c6338",
   "metadata": {},
   "outputs": [
    {
     "data": {
      "text/html": [
       "<div>\n",
       "<style scoped>\n",
       "    .dataframe tbody tr th:only-of-type {\n",
       "        vertical-align: middle;\n",
       "    }\n",
       "\n",
       "    .dataframe tbody tr th {\n",
       "        vertical-align: top;\n",
       "    }\n",
       "\n",
       "    .dataframe thead th {\n",
       "        text-align: right;\n",
       "    }\n",
       "</style>\n",
       "<table border=\"1\" class=\"dataframe\">\n",
       "  <thead>\n",
       "    <tr style=\"text-align: right;\">\n",
       "      <th></th>\n",
       "      <th>id</th>\n",
       "      <th>raw_grade</th>\n",
       "    </tr>\n",
       "  </thead>\n",
       "  <tbody>\n",
       "    <tr>\n",
       "      <th>0</th>\n",
       "      <td>1</td>\n",
       "      <td>a</td>\n",
       "    </tr>\n",
       "    <tr>\n",
       "      <th>1</th>\n",
       "      <td>2</td>\n",
       "      <td>b</td>\n",
       "    </tr>\n",
       "    <tr>\n",
       "      <th>2</th>\n",
       "      <td>3</td>\n",
       "      <td>b</td>\n",
       "    </tr>\n",
       "    <tr>\n",
       "      <th>3</th>\n",
       "      <td>4</td>\n",
       "      <td>a</td>\n",
       "    </tr>\n",
       "    <tr>\n",
       "      <th>4</th>\n",
       "      <td>5</td>\n",
       "      <td>a</td>\n",
       "    </tr>\n",
       "    <tr>\n",
       "      <th>5</th>\n",
       "      <td>6</td>\n",
       "      <td>e</td>\n",
       "    </tr>\n",
       "  </tbody>\n",
       "</table>\n",
       "</div>"
      ],
      "text/plain": [
       "   id raw_grade\n",
       "0   1         a\n",
       "1   2         b\n",
       "2   3         b\n",
       "3   4         a\n",
       "4   5         a\n",
       "5   6         e"
      ]
     },
     "execution_count": 92,
     "metadata": {},
     "output_type": "execute_result"
    }
   ],
   "source": [
    "df = pd.DataFrame({\"id\": [1, 2, 3, 4, 5, 6],\n",
    "                   \"raw_grade\": ['a', 'b', 'b', 'a', 'a', 'e']})\n",
    "df"
   ]
  },
  {
   "cell_type": "markdown",
   "id": "774d5378",
   "metadata": {},
   "source": [
    "将 **grade** 的**原生数据**转换为**类别型数据**："
   ]
  },
  {
   "cell_type": "code",
   "execution_count": 93,
   "id": "342bf820",
   "metadata": {},
   "outputs": [
    {
     "data": {
      "text/plain": [
       "0    a\n",
       "1    b\n",
       "2    b\n",
       "3    a\n",
       "4    a\n",
       "5    e\n",
       "Name: grade, dtype: category\n",
       "Categories (3, object): ['a', 'b', 'e']"
      ]
     },
     "execution_count": 93,
     "metadata": {},
     "output_type": "execute_result"
    }
   ],
   "source": [
    "df[\"grade\"] = df[\"raw_grade\"].astype(\"category\")\n",
    "df[\"grade\"]"
   ]
  },
  {
   "cell_type": "code",
   "execution_count": 94,
   "id": "9a311dc9",
   "metadata": {},
   "outputs": [
    {
     "data": {
      "text/html": [
       "<div>\n",
       "<style scoped>\n",
       "    .dataframe tbody tr th:only-of-type {\n",
       "        vertical-align: middle;\n",
       "    }\n",
       "\n",
       "    .dataframe tbody tr th {\n",
       "        vertical-align: top;\n",
       "    }\n",
       "\n",
       "    .dataframe thead th {\n",
       "        text-align: right;\n",
       "    }\n",
       "</style>\n",
       "<table border=\"1\" class=\"dataframe\">\n",
       "  <thead>\n",
       "    <tr style=\"text-align: right;\">\n",
       "      <th></th>\n",
       "      <th>id</th>\n",
       "      <th>raw_grade</th>\n",
       "      <th>grade</th>\n",
       "    </tr>\n",
       "  </thead>\n",
       "  <tbody>\n",
       "    <tr>\n",
       "      <th>0</th>\n",
       "      <td>1</td>\n",
       "      <td>a</td>\n",
       "      <td>a</td>\n",
       "    </tr>\n",
       "    <tr>\n",
       "      <th>1</th>\n",
       "      <td>2</td>\n",
       "      <td>b</td>\n",
       "      <td>b</td>\n",
       "    </tr>\n",
       "    <tr>\n",
       "      <th>2</th>\n",
       "      <td>3</td>\n",
       "      <td>b</td>\n",
       "      <td>b</td>\n",
       "    </tr>\n",
       "    <tr>\n",
       "      <th>3</th>\n",
       "      <td>4</td>\n",
       "      <td>a</td>\n",
       "      <td>a</td>\n",
       "    </tr>\n",
       "    <tr>\n",
       "      <th>4</th>\n",
       "      <td>5</td>\n",
       "      <td>a</td>\n",
       "      <td>a</td>\n",
       "    </tr>\n",
       "    <tr>\n",
       "      <th>5</th>\n",
       "      <td>6</td>\n",
       "      <td>e</td>\n",
       "      <td>e</td>\n",
       "    </tr>\n",
       "  </tbody>\n",
       "</table>\n",
       "</div>"
      ],
      "text/plain": [
       "   id raw_grade grade\n",
       "0   1         a     a\n",
       "1   2         b     b\n",
       "2   3         b     b\n",
       "3   4         a     a\n",
       "4   5         a     a\n",
       "5   6         e     e"
      ]
     },
     "execution_count": 94,
     "metadata": {},
     "output_type": "execute_result"
    }
   ],
   "source": [
    "df"
   ]
  },
  {
   "cell_type": "markdown",
   "id": "b745ffbf",
   "metadata": {},
   "source": [
    "用**有含义的名字**重命名不同类型，调用 **Series.cat.categories**。"
   ]
  },
  {
   "cell_type": "code",
   "execution_count": 95,
   "id": "900e2f00",
   "metadata": {},
   "outputs": [
    {
     "data": {
      "text/html": [
       "<div>\n",
       "<style scoped>\n",
       "    .dataframe tbody tr th:only-of-type {\n",
       "        vertical-align: middle;\n",
       "    }\n",
       "\n",
       "    .dataframe tbody tr th {\n",
       "        vertical-align: top;\n",
       "    }\n",
       "\n",
       "    .dataframe thead th {\n",
       "        text-align: right;\n",
       "    }\n",
       "</style>\n",
       "<table border=\"1\" class=\"dataframe\">\n",
       "  <thead>\n",
       "    <tr style=\"text-align: right;\">\n",
       "      <th></th>\n",
       "      <th>id</th>\n",
       "      <th>raw_grade</th>\n",
       "      <th>grade</th>\n",
       "    </tr>\n",
       "  </thead>\n",
       "  <tbody>\n",
       "    <tr>\n",
       "      <th>0</th>\n",
       "      <td>1</td>\n",
       "      <td>a</td>\n",
       "      <td>very good</td>\n",
       "    </tr>\n",
       "    <tr>\n",
       "      <th>1</th>\n",
       "      <td>2</td>\n",
       "      <td>b</td>\n",
       "      <td>good</td>\n",
       "    </tr>\n",
       "    <tr>\n",
       "      <th>2</th>\n",
       "      <td>3</td>\n",
       "      <td>b</td>\n",
       "      <td>good</td>\n",
       "    </tr>\n",
       "    <tr>\n",
       "      <th>3</th>\n",
       "      <td>4</td>\n",
       "      <td>a</td>\n",
       "      <td>very good</td>\n",
       "    </tr>\n",
       "    <tr>\n",
       "      <th>4</th>\n",
       "      <td>5</td>\n",
       "      <td>a</td>\n",
       "      <td>very good</td>\n",
       "    </tr>\n",
       "    <tr>\n",
       "      <th>5</th>\n",
       "      <td>6</td>\n",
       "      <td>e</td>\n",
       "      <td>very bad</td>\n",
       "    </tr>\n",
       "  </tbody>\n",
       "</table>\n",
       "</div>"
      ],
      "text/plain": [
       "   id raw_grade      grade\n",
       "0   1         a  very good\n",
       "1   2         b       good\n",
       "2   3         b       good\n",
       "3   4         a  very good\n",
       "4   5         a  very good\n",
       "5   6         e   very bad"
      ]
     },
     "execution_count": 95,
     "metadata": {},
     "output_type": "execute_result"
    }
   ],
   "source": [
    "df[\"grade\"].cat.categories = [\"very good\", \"good\", \"very bad\"]\n",
    "df"
   ]
  },
  {
   "cell_type": "markdown",
   "id": "bb176eee",
   "metadata": {},
   "source": [
    "重新排序各类别，并添加**缺失类**，**Series.cat** 的方法**默认**返回新 **Series**。"
   ]
  },
  {
   "cell_type": "code",
   "execution_count": 96,
   "id": "a04ce8b3",
   "metadata": {},
   "outputs": [
    {
     "data": {
      "text/plain": [
       "0    very good\n",
       "1         good\n",
       "2         good\n",
       "3    very good\n",
       "4    very good\n",
       "5     very bad\n",
       "Name: grade, dtype: category\n",
       "Categories (5, object): ['very bad', 'bad', 'medium', 'good', 'very good']"
      ]
     },
     "execution_count": 96,
     "metadata": {},
     "output_type": "execute_result"
    }
   ],
   "source": [
    "df[\"grade\"] = df[\"grade\"].cat.set_categories([\"very bad\", \"bad\", \"medium\",\n",
    "                                              \"good\", \"very good\"])\n",
    "df[\"grade\"]"
   ]
  },
  {
   "cell_type": "code",
   "execution_count": 97,
   "id": "f3fbb486",
   "metadata": {},
   "outputs": [
    {
     "data": {
      "text/html": [
       "<div>\n",
       "<style scoped>\n",
       "    .dataframe tbody tr th:only-of-type {\n",
       "        vertical-align: middle;\n",
       "    }\n",
       "\n",
       "    .dataframe tbody tr th {\n",
       "        vertical-align: top;\n",
       "    }\n",
       "\n",
       "    .dataframe thead th {\n",
       "        text-align: right;\n",
       "    }\n",
       "</style>\n",
       "<table border=\"1\" class=\"dataframe\">\n",
       "  <thead>\n",
       "    <tr style=\"text-align: right;\">\n",
       "      <th></th>\n",
       "      <th>id</th>\n",
       "      <th>raw_grade</th>\n",
       "      <th>grade</th>\n",
       "    </tr>\n",
       "  </thead>\n",
       "  <tbody>\n",
       "    <tr>\n",
       "      <th>0</th>\n",
       "      <td>1</td>\n",
       "      <td>a</td>\n",
       "      <td>very good</td>\n",
       "    </tr>\n",
       "    <tr>\n",
       "      <th>1</th>\n",
       "      <td>2</td>\n",
       "      <td>b</td>\n",
       "      <td>good</td>\n",
       "    </tr>\n",
       "    <tr>\n",
       "      <th>2</th>\n",
       "      <td>3</td>\n",
       "      <td>b</td>\n",
       "      <td>good</td>\n",
       "    </tr>\n",
       "    <tr>\n",
       "      <th>3</th>\n",
       "      <td>4</td>\n",
       "      <td>a</td>\n",
       "      <td>very good</td>\n",
       "    </tr>\n",
       "    <tr>\n",
       "      <th>4</th>\n",
       "      <td>5</td>\n",
       "      <td>a</td>\n",
       "      <td>very good</td>\n",
       "    </tr>\n",
       "    <tr>\n",
       "      <th>5</th>\n",
       "      <td>6</td>\n",
       "      <td>e</td>\n",
       "      <td>very bad</td>\n",
       "    </tr>\n",
       "  </tbody>\n",
       "</table>\n",
       "</div>"
      ],
      "text/plain": [
       "   id raw_grade      grade\n",
       "0   1         a  very good\n",
       "1   2         b       good\n",
       "2   3         b       good\n",
       "3   4         a  very good\n",
       "4   5         a  very good\n",
       "5   6         e   very bad"
      ]
     },
     "execution_count": 97,
     "metadata": {},
     "output_type": "execute_result"
    }
   ],
   "source": [
    "df"
   ]
  },
  {
   "cell_type": "markdown",
   "id": "cddaca8f",
   "metadata": {},
   "source": [
    "注意，这里是**按生成类别时的顺序排序**，不是**按词汇排序**："
   ]
  },
  {
   "cell_type": "code",
   "execution_count": 98,
   "id": "0ed356f0",
   "metadata": {},
   "outputs": [
    {
     "data": {
      "text/html": [
       "<div>\n",
       "<style scoped>\n",
       "    .dataframe tbody tr th:only-of-type {\n",
       "        vertical-align: middle;\n",
       "    }\n",
       "\n",
       "    .dataframe tbody tr th {\n",
       "        vertical-align: top;\n",
       "    }\n",
       "\n",
       "    .dataframe thead th {\n",
       "        text-align: right;\n",
       "    }\n",
       "</style>\n",
       "<table border=\"1\" class=\"dataframe\">\n",
       "  <thead>\n",
       "    <tr style=\"text-align: right;\">\n",
       "      <th></th>\n",
       "      <th>id</th>\n",
       "      <th>raw_grade</th>\n",
       "      <th>grade</th>\n",
       "    </tr>\n",
       "  </thead>\n",
       "  <tbody>\n",
       "    <tr>\n",
       "      <th>5</th>\n",
       "      <td>6</td>\n",
       "      <td>e</td>\n",
       "      <td>very bad</td>\n",
       "    </tr>\n",
       "    <tr>\n",
       "      <th>1</th>\n",
       "      <td>2</td>\n",
       "      <td>b</td>\n",
       "      <td>good</td>\n",
       "    </tr>\n",
       "    <tr>\n",
       "      <th>2</th>\n",
       "      <td>3</td>\n",
       "      <td>b</td>\n",
       "      <td>good</td>\n",
       "    </tr>\n",
       "    <tr>\n",
       "      <th>0</th>\n",
       "      <td>1</td>\n",
       "      <td>a</td>\n",
       "      <td>very good</td>\n",
       "    </tr>\n",
       "    <tr>\n",
       "      <th>3</th>\n",
       "      <td>4</td>\n",
       "      <td>a</td>\n",
       "      <td>very good</td>\n",
       "    </tr>\n",
       "    <tr>\n",
       "      <th>4</th>\n",
       "      <td>5</td>\n",
       "      <td>a</td>\n",
       "      <td>very good</td>\n",
       "    </tr>\n",
       "  </tbody>\n",
       "</table>\n",
       "</div>"
      ],
      "text/plain": [
       "   id raw_grade      grade\n",
       "5   6         e   very bad\n",
       "1   2         b       good\n",
       "2   3         b       good\n",
       "0   1         a  very good\n",
       "3   4         a  very good\n",
       "4   5         a  very good"
      ]
     },
     "execution_count": 98,
     "metadata": {},
     "output_type": "execute_result"
    }
   ],
   "source": [
    "df.sort_values(by=\"grade\")"
   ]
  },
  {
   "cell_type": "markdown",
   "id": "f9adebdd",
   "metadata": {},
   "source": [
    "按**类别列**分组（groupby）时，即便某类别为空，也会显示："
   ]
  },
  {
   "cell_type": "code",
   "execution_count": 99,
   "id": "b39b7b86",
   "metadata": {},
   "outputs": [
    {
     "data": {
      "text/plain": [
       "grade\n",
       "very bad     1\n",
       "bad          0\n",
       "medium       0\n",
       "good         2\n",
       "very good    3\n",
       "dtype: int64"
      ]
     },
     "execution_count": 99,
     "metadata": {},
     "output_type": "execute_result"
    }
   ],
   "source": [
    "df.groupby(\"grade\").size()"
   ]
  },
  {
   "cell_type": "markdown",
   "id": "e7353c15",
   "metadata": {},
   "source": [
    "## 可视化"
   ]
  },
  {
   "cell_type": "code",
   "execution_count": 100,
   "id": "ee5a5628",
   "metadata": {},
   "outputs": [
    {
     "data": {
      "text/plain": [
       "<AxesSubplot:>"
      ]
     },
     "execution_count": 100,
     "metadata": {},
     "output_type": "execute_result"
    },
    {
     "data": {
      "image/png": "[encoded data removed]",
      "text/plain": [
       "<Figure size 432x288 with 1 Axes>"
      ]
     },
     "metadata": {
      "needs_background": "light"
     },
     "output_type": "display_data"
    }
   ],
   "source": [
    "ts = pd.Series(np.random.randn(1000),\n",
    "               index=pd.date_range('1/1/2000', periods=1000))\n",
    "ts = ts.cumsum()\n",
    "ts.plot()"
   ]
  },
  {
   "cell_type": "markdown",
   "id": "d2b9bb00",
   "metadata": {},
   "source": [
    "**DataFrame** 的 **plot()** 方法可以快速绘制**所有带标签的列**："
   ]
  },
  {
   "cell_type": "code",
   "execution_count": 101,
   "id": "75afef0c",
   "metadata": {},
   "outputs": [
    {
     "data": {
      "text/plain": [
       "<AxesSubplot:>"
      ]
     },
     "execution_count": 101,
     "metadata": {},
     "output_type": "execute_result"
    },
    {
     "data": {
      "image/png": "[encoded data removed]",
      "text/plain": [
       "<Figure size 432x288 with 1 Axes>"
      ]
     },
     "metadata": {
      "needs_background": "light"
     },
     "output_type": "display_data"
    }
   ],
   "source": [
    "df = pd.DataFrame(np.random.randn(1000, 4), index=ts.index,\n",
    "                  columns=['A', 'B', 'C', 'D'])\n",
    "df = df.cumsum()\n",
    "df.plot()"
   ]
  },
  {
   "cell_type": "markdown",
   "id": "c27c8ce9",
   "metadata": {},
   "source": [
    "## 数据输入 / 输出"
   ]
  },
  {
   "cell_type": "code",
   "execution_count": 102,
   "id": "7fe4ad6a",
   "metadata": {},
   "outputs": [],
   "source": [
    "!mkdir -p ./output"
   ]
  },
  {
   "cell_type": "markdown",
   "id": "2ad55d44",
   "metadata": {},
   "source": [
    "### CSV"
   ]
  },
  {
   "cell_type": "markdown",
   "id": "bdf54096",
   "metadata": {},
   "source": [
    "写入 **CSV** 文件。"
   ]
  },
  {
   "cell_type": "code",
   "execution_count": 103,
   "id": "fa563dd5",
   "metadata": {},
   "outputs": [],
   "source": [
    "df.to_csv('./output/foo.csv')"
   ]
  },
  {
   "cell_type": "markdown",
   "id": "c9731d6d",
   "metadata": {},
   "source": [
    "读取 **CSV** 文件数据："
   ]
  },
  {
   "cell_type": "code",
   "execution_count": 104,
   "id": "9665207d",
   "metadata": {},
   "outputs": [
    {
     "data": {
      "text/html": [
       "<div>\n",
       "<style scoped>\n",
       "    .dataframe tbody tr th:only-of-type {\n",
       "        vertical-align: middle;\n",
       "    }\n",
       "\n",
       "    .dataframe tbody tr th {\n",
       "        vertical-align: top;\n",
       "    }\n",
       "\n",
       "    .dataframe thead th {\n",
       "        text-align: right;\n",
       "    }\n",
       "</style>\n",
       "<table border=\"1\" class=\"dataframe\">\n",
       "  <thead>\n",
       "    <tr style=\"text-align: right;\">\n",
       "      <th></th>\n",
       "      <th>Unnamed: 0</th>\n",
       "      <th>A</th>\n",
       "      <th>B</th>\n",
       "      <th>C</th>\n",
       "      <th>D</th>\n",
       "    </tr>\n",
       "  </thead>\n",
       "  <tbody>\n",
       "    <tr>\n",
       "      <th>0</th>\n",
       "      <td>2000-01-01</td>\n",
       "      <td>-0.287432</td>\n",
       "      <td>-0.204320</td>\n",
       "      <td>-0.561414</td>\n",
       "      <td>-1.076385</td>\n",
       "    </tr>\n",
       "    <tr>\n",
       "      <th>1</th>\n",
       "      <td>2000-01-02</td>\n",
       "      <td>-0.114529</td>\n",
       "      <td>0.785912</td>\n",
       "      <td>0.213962</td>\n",
       "      <td>-1.795005</td>\n",
       "    </tr>\n",
       "    <tr>\n",
       "      <th>2</th>\n",
       "      <td>2000-01-03</td>\n",
       "      <td>-2.243507</td>\n",
       "      <td>0.300918</td>\n",
       "      <td>-1.160814</td>\n",
       "      <td>-0.893443</td>\n",
       "    </tr>\n",
       "    <tr>\n",
       "      <th>3</th>\n",
       "      <td>2000-01-04</td>\n",
       "      <td>-2.299776</td>\n",
       "      <td>1.092967</td>\n",
       "      <td>-2.357574</td>\n",
       "      <td>-1.461641</td>\n",
       "    </tr>\n",
       "    <tr>\n",
       "      <th>4</th>\n",
       "      <td>2000-01-05</td>\n",
       "      <td>-1.494638</td>\n",
       "      <td>0.910317</td>\n",
       "      <td>-4.124777</td>\n",
       "      <td>-2.269832</td>\n",
       "    </tr>\n",
       "    <tr>\n",
       "      <th>...</th>\n",
       "      <td>...</td>\n",
       "      <td>...</td>\n",
       "      <td>...</td>\n",
       "      <td>...</td>\n",
       "      <td>...</td>\n",
       "    </tr>\n",
       "    <tr>\n",
       "      <th>995</th>\n",
       "      <td>2002-09-22</td>\n",
       "      <td>-42.915327</td>\n",
       "      <td>7.083436</td>\n",
       "      <td>27.092473</td>\n",
       "      <td>-34.435528</td>\n",
       "    </tr>\n",
       "    <tr>\n",
       "      <th>996</th>\n",
       "      <td>2002-09-23</td>\n",
       "      <td>-44.278043</td>\n",
       "      <td>6.007638</td>\n",
       "      <td>25.555089</td>\n",
       "      <td>-34.389846</td>\n",
       "    </tr>\n",
       "    <tr>\n",
       "      <th>997</th>\n",
       "      <td>2002-09-24</td>\n",
       "      <td>-45.112781</td>\n",
       "      <td>7.234142</td>\n",
       "      <td>25.451100</td>\n",
       "      <td>-34.281998</td>\n",
       "    </tr>\n",
       "    <tr>\n",
       "      <th>998</th>\n",
       "      <td>2002-09-25</td>\n",
       "      <td>-44.679327</td>\n",
       "      <td>6.213690</td>\n",
       "      <td>23.421382</td>\n",
       "      <td>-34.485298</td>\n",
       "    </tr>\n",
       "    <tr>\n",
       "      <th>999</th>\n",
       "      <td>2002-09-26</td>\n",
       "      <td>-47.185979</td>\n",
       "      <td>6.019701</td>\n",
       "      <td>21.752744</td>\n",
       "      <td>-35.499811</td>\n",
       "    </tr>\n",
       "  </tbody>\n",
       "</table>\n",
       "<p>1000 rows × 5 columns</p>\n",
       "</div>"
      ],
      "text/plain": [
       "     Unnamed: 0          A         B          C          D\n",
       "0    2000-01-01  -0.287432 -0.204320  -0.561414  -1.076385\n",
       "1    2000-01-02  -0.114529  0.785912   0.213962  -1.795005\n",
       "2    2000-01-03  -2.243507  0.300918  -1.160814  -0.893443\n",
       "3    2000-01-04  -2.299776  1.092967  -2.357574  -1.461641\n",
       "4    2000-01-05  -1.494638  0.910317  -4.124777  -2.269832\n",
       "..          ...        ...       ...        ...        ...\n",
       "995  2002-09-22 -42.915327  7.083436  27.092473 -34.435528\n",
       "996  2002-09-23 -44.278043  6.007638  25.555089 -34.389846\n",
       "997  2002-09-24 -45.112781  7.234142  25.451100 -34.281998\n",
       "998  2002-09-25 -44.679327  6.213690  23.421382 -34.485298\n",
       "999  2002-09-26 -47.185979  6.019701  21.752744 -35.499811\n",
       "\n",
       "[1000 rows x 5 columns]"
      ]
     },
     "execution_count": 104,
     "metadata": {},
     "output_type": "execute_result"
    }
   ],
   "source": [
    "pd.read_csv('./output/foo.csv')"
   ]
  },
  {
   "cell_type": "markdown",
   "id": "cdbc78c8",
   "metadata": {},
   "source": [
    "### HDF5"
   ]
  },
  {
   "cell_type": "markdown",
   "id": "a5d1c1df",
   "metadata": {},
   "source": [
    "写入 **HDF5 Store**："
   ]
  },
  {
   "cell_type": "code",
   "execution_count": 105,
   "id": "485a71a0",
   "metadata": {},
   "outputs": [],
   "source": [
    "'''\n",
    "to_hdf(path_or_buf, key: 'str', mode: 'str' = 'a', complevel: 'int | None' = None, complib: 'str | None' = None, append: 'bool_t' = False, format: 'str | None' = None, index: 'bool_t' = True, min_itemsize: 'int | dict[str, int] | None' = None, nan_rep=None, dropna: 'bool_t | None' = None, data_columns: 'bool_t | list[str] | None' = None, errors: 'str' = 'strict', encoding: 'str' = 'UTF-8') -> 'None' method of pandas.core.frame.DataFrame instance\n",
    "    Write the contained data to an HDF5 file using HDFStore.\n",
    "    \n",
    "    Hierarchical Data Format (HDF) is self-describing, allowing an\n",
    "    application to interpret the structure and contents of a file with\n",
    "    no outside information. One HDF file can hold a mix of related objects\n",
    "    which can be accessed as a group or as individual objects.\n",
    "    \n",
    "    In order to add another DataFrame or Series to an existing HDF file\n",
    "    please use append mode and a different a key.\n",
    "    \n",
    "    Parameters\n",
    "    ----------\n",
    "    path_or_buf : str or pandas.HDFStore\n",
    "        File path or HDFStore object.\n",
    "    key : str\n",
    "        Identifier for the group in the store.\n",
    "'''\n",
    "\n",
    "df.to_hdf('./output/foo.h5', 'df')"
   ]
  },
  {
   "cell_type": "markdown",
   "id": "6c5a0373",
   "metadata": {},
   "source": [
    "读取 **HDF5 Store**："
   ]
  },
  {
   "cell_type": "code",
   "execution_count": 106,
   "id": "15df2b05",
   "metadata": {},
   "outputs": [
    {
     "data": {
      "text/html": [
       "<div>\n",
       "<style scoped>\n",
       "    .dataframe tbody tr th:only-of-type {\n",
       "        vertical-align: middle;\n",
       "    }\n",
       "\n",
       "    .dataframe tbody tr th {\n",
       "        vertical-align: top;\n",
       "    }\n",
       "\n",
       "    .dataframe thead th {\n",
       "        text-align: right;\n",
       "    }\n",
       "</style>\n",
       "<table border=\"1\" class=\"dataframe\">\n",
       "  <thead>\n",
       "    <tr style=\"text-align: right;\">\n",
       "      <th></th>\n",
       "      <th>A</th>\n",
       "      <th>B</th>\n",
       "      <th>C</th>\n",
       "      <th>D</th>\n",
       "    </tr>\n",
       "  </thead>\n",
       "  <tbody>\n",
       "    <tr>\n",
       "      <th>2000-01-01</th>\n",
       "      <td>-0.287432</td>\n",
       "      <td>-0.204320</td>\n",
       "      <td>-0.561414</td>\n",
       "      <td>-1.076385</td>\n",
       "    </tr>\n",
       "    <tr>\n",
       "      <th>2000-01-02</th>\n",
       "      <td>-0.114529</td>\n",
       "      <td>0.785912</td>\n",
       "      <td>0.213962</td>\n",
       "      <td>-1.795005</td>\n",
       "    </tr>\n",
       "    <tr>\n",
       "      <th>2000-01-03</th>\n",
       "      <td>-2.243507</td>\n",
       "      <td>0.300918</td>\n",
       "      <td>-1.160814</td>\n",
       "      <td>-0.893443</td>\n",
       "    </tr>\n",
       "    <tr>\n",
       "      <th>2000-01-04</th>\n",
       "      <td>-2.299776</td>\n",
       "      <td>1.092967</td>\n",
       "      <td>-2.357574</td>\n",
       "      <td>-1.461641</td>\n",
       "    </tr>\n",
       "    <tr>\n",
       "      <th>2000-01-05</th>\n",
       "      <td>-1.494638</td>\n",
       "      <td>0.910317</td>\n",
       "      <td>-4.124777</td>\n",
       "      <td>-2.269832</td>\n",
       "    </tr>\n",
       "    <tr>\n",
       "      <th>...</th>\n",
       "      <td>...</td>\n",
       "      <td>...</td>\n",
       "      <td>...</td>\n",
       "      <td>...</td>\n",
       "    </tr>\n",
       "    <tr>\n",
       "      <th>2002-09-22</th>\n",
       "      <td>-42.915327</td>\n",
       "      <td>7.083436</td>\n",
       "      <td>27.092473</td>\n",
       "      <td>-34.435528</td>\n",
       "    </tr>\n",
       "    <tr>\n",
       "      <th>2002-09-23</th>\n",
       "      <td>-44.278043</td>\n",
       "      <td>6.007638</td>\n",
       "      <td>25.555089</td>\n",
       "      <td>-34.389846</td>\n",
       "    </tr>\n",
       "    <tr>\n",
       "      <th>2002-09-24</th>\n",
       "      <td>-45.112781</td>\n",
       "      <td>7.234142</td>\n",
       "      <td>25.451100</td>\n",
       "      <td>-34.281998</td>\n",
       "    </tr>\n",
       "    <tr>\n",
       "      <th>2002-09-25</th>\n",
       "      <td>-44.679327</td>\n",
       "      <td>6.213690</td>\n",
       "      <td>23.421382</td>\n",
       "      <td>-34.485298</td>\n",
       "    </tr>\n",
       "    <tr>\n",
       "      <th>2002-09-26</th>\n",
       "      <td>-47.185979</td>\n",
       "      <td>6.019701</td>\n",
       "      <td>21.752744</td>\n",
       "      <td>-35.499811</td>\n",
       "    </tr>\n",
       "  </tbody>\n",
       "</table>\n",
       "<p>1000 rows × 4 columns</p>\n",
       "</div>"
      ],
      "text/plain": [
       "                    A         B          C          D\n",
       "2000-01-01  -0.287432 -0.204320  -0.561414  -1.076385\n",
       "2000-01-02  -0.114529  0.785912   0.213962  -1.795005\n",
       "2000-01-03  -2.243507  0.300918  -1.160814  -0.893443\n",
       "2000-01-04  -2.299776  1.092967  -2.357574  -1.461641\n",
       "2000-01-05  -1.494638  0.910317  -4.124777  -2.269832\n",
       "...               ...       ...        ...        ...\n",
       "2002-09-22 -42.915327  7.083436  27.092473 -34.435528\n",
       "2002-09-23 -44.278043  6.007638  25.555089 -34.389846\n",
       "2002-09-24 -45.112781  7.234142  25.451100 -34.281998\n",
       "2002-09-25 -44.679327  6.213690  23.421382 -34.485298\n",
       "2002-09-26 -47.185979  6.019701  21.752744 -35.499811\n",
       "\n",
       "[1000 rows x 4 columns]"
      ]
     },
     "execution_count": 106,
     "metadata": {},
     "output_type": "execute_result"
    }
   ],
   "source": [
    "pd.read_hdf('./output/foo.h5', 'df')"
   ]
  },
  {
   "cell_type": "markdown",
   "id": "10785160",
   "metadata": {},
   "source": [
    "### Excel"
   ]
  },
  {
   "cell_type": "markdown",
   "id": "0c97aece",
   "metadata": {},
   "source": [
    "写入 **Excel** 文件："
   ]
  },
  {
   "cell_type": "code",
   "execution_count": 107,
   "id": "ba4a1ea0",
   "metadata": {},
   "outputs": [],
   "source": [
    "df.to_excel('./output/foo.xlsx', sheet_name='Sheet1')"
   ]
  },
  {
   "cell_type": "markdown",
   "id": "2df48377",
   "metadata": {},
   "source": [
    "读取 **Excel** 文件："
   ]
  },
  {
   "cell_type": "code",
   "execution_count": 108,
   "id": "16aaa56d",
   "metadata": {},
   "outputs": [
    {
     "data": {
      "text/html": [
       "<div>\n",
       "<style scoped>\n",
       "    .dataframe tbody tr th:only-of-type {\n",
       "        vertical-align: middle;\n",
       "    }\n",
       "\n",
       "    .dataframe tbody tr th {\n",
       "        vertical-align: top;\n",
       "    }\n",
       "\n",
       "    .dataframe thead th {\n",
       "        text-align: right;\n",
       "    }\n",
       "</style>\n",
       "<table border=\"1\" class=\"dataframe\">\n",
       "  <thead>\n",
       "    <tr style=\"text-align: right;\">\n",
       "      <th></th>\n",
       "      <th>Unnamed: 0</th>\n",
       "      <th>A</th>\n",
       "      <th>B</th>\n",
       "      <th>C</th>\n",
       "      <th>D</th>\n",
       "    </tr>\n",
       "  </thead>\n",
       "  <tbody>\n",
       "    <tr>\n",
       "      <th>0</th>\n",
       "      <td>2000-01-01</td>\n",
       "      <td>-0.287432</td>\n",
       "      <td>-0.204320</td>\n",
       "      <td>-0.561414</td>\n",
       "      <td>-1.076385</td>\n",
       "    </tr>\n",
       "    <tr>\n",
       "      <th>1</th>\n",
       "      <td>2000-01-02</td>\n",
       "      <td>-0.114529</td>\n",
       "      <td>0.785912</td>\n",
       "      <td>0.213962</td>\n",
       "      <td>-1.795005</td>\n",
       "    </tr>\n",
       "    <tr>\n",
       "      <th>2</th>\n",
       "      <td>2000-01-03</td>\n",
       "      <td>-2.243507</td>\n",
       "      <td>0.300918</td>\n",
       "      <td>-1.160814</td>\n",
       "      <td>-0.893443</td>\n",
       "    </tr>\n",
       "    <tr>\n",
       "      <th>3</th>\n",
       "      <td>2000-01-04</td>\n",
       "      <td>-2.299776</td>\n",
       "      <td>1.092967</td>\n",
       "      <td>-2.357574</td>\n",
       "      <td>-1.461641</td>\n",
       "    </tr>\n",
       "    <tr>\n",
       "      <th>4</th>\n",
       "      <td>2000-01-05</td>\n",
       "      <td>-1.494638</td>\n",
       "      <td>0.910317</td>\n",
       "      <td>-4.124777</td>\n",
       "      <td>-2.269832</td>\n",
       "    </tr>\n",
       "    <tr>\n",
       "      <th>...</th>\n",
       "      <td>...</td>\n",
       "      <td>...</td>\n",
       "      <td>...</td>\n",
       "      <td>...</td>\n",
       "      <td>...</td>\n",
       "    </tr>\n",
       "    <tr>\n",
       "      <th>995</th>\n",
       "      <td>2002-09-22</td>\n",
       "      <td>-42.915327</td>\n",
       "      <td>7.083436</td>\n",
       "      <td>27.092473</td>\n",
       "      <td>-34.435528</td>\n",
       "    </tr>\n",
       "    <tr>\n",
       "      <th>996</th>\n",
       "      <td>2002-09-23</td>\n",
       "      <td>-44.278043</td>\n",
       "      <td>6.007638</td>\n",
       "      <td>25.555089</td>\n",
       "      <td>-34.389846</td>\n",
       "    </tr>\n",
       "    <tr>\n",
       "      <th>997</th>\n",
       "      <td>2002-09-24</td>\n",
       "      <td>-45.112781</td>\n",
       "      <td>7.234142</td>\n",
       "      <td>25.451100</td>\n",
       "      <td>-34.281998</td>\n",
       "    </tr>\n",
       "    <tr>\n",
       "      <th>998</th>\n",
       "      <td>2002-09-25</td>\n",
       "      <td>-44.679327</td>\n",
       "      <td>6.213690</td>\n",
       "      <td>23.421382</td>\n",
       "      <td>-34.485298</td>\n",
       "    </tr>\n",
       "    <tr>\n",
       "      <th>999</th>\n",
       "      <td>2002-09-26</td>\n",
       "      <td>-47.185979</td>\n",
       "      <td>6.019701</td>\n",
       "      <td>21.752744</td>\n",
       "      <td>-35.499811</td>\n",
       "    </tr>\n",
       "  </tbody>\n",
       "</table>\n",
       "<p>1000 rows × 5 columns</p>\n",
       "</div>"
      ],
      "text/plain": [
       "    Unnamed: 0          A         B          C          D\n",
       "0   2000-01-01  -0.287432 -0.204320  -0.561414  -1.076385\n",
       "1   2000-01-02  -0.114529  0.785912   0.213962  -1.795005\n",
       "2   2000-01-03  -2.243507  0.300918  -1.160814  -0.893443\n",
       "3   2000-01-04  -2.299776  1.092967  -2.357574  -1.461641\n",
       "4   2000-01-05  -1.494638  0.910317  -4.124777  -2.269832\n",
       "..         ...        ...       ...        ...        ...\n",
       "995 2002-09-22 -42.915327  7.083436  27.092473 -34.435528\n",
       "996 2002-09-23 -44.278043  6.007638  25.555089 -34.389846\n",
       "997 2002-09-24 -45.112781  7.234142  25.451100 -34.281998\n",
       "998 2002-09-25 -44.679327  6.213690  23.421382 -34.485298\n",
       "999 2002-09-26 -47.185979  6.019701  21.752744 -35.499811\n",
       "\n",
       "[1000 rows x 5 columns]"
      ]
     },
     "execution_count": 108,
     "metadata": {},
     "output_type": "execute_result"
    }
   ],
   "source": [
    "pd.read_excel('./output/foo.xlsx', 'Sheet1', index_col=None, na_values=['NA'])"
   ]
  },
  {
   "cell_type": "code",
   "execution_count": null,
   "id": "20f24bd7",
   "metadata": {},
   "outputs": [],
   "source": []
  }
 ],
 "metadata": {
  "kernelspec": {
   "display_name": "Python 3 (ipykernel)",
   "language": "python",
   "name": "python3"
  },
  "language_info": {
   "codemirror_mode": {
    "name": "ipython",
    "version": 3
   },
   "file_extension": ".py",
   "mimetype": "text/x-python",
   "name": "python",
   "nbconvert_exporter": "python",
   "pygments_lexer": "ipython3",
   "version": "3.9.7"
  }
 },
 "nbformat": 4,
 "nbformat_minor": 5
}
