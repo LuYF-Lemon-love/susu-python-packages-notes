{
 "cells": [
  {
   "cell_type": "markdown",
   "id": "227941c8",
   "metadata": {},
   "source": [
    "## 十分钟入门 Pandas"
   ]
  },
  {
   "cell_type": "code",
   "execution_count": 1,
   "id": "3bea394b",
   "metadata": {},
   "outputs": [],
   "source": [
    "# learn_pandas\n",
    "#\n",
    "# created by LuYF-Lemon-love <luyanfeng_nlp@qq.com> on November 27, 2022\n",
    "# updated by LuYF-Lemon-love <luyanfeng_nlp@qq.com> on February 3, 2023\n",
    "#\n",
    "# 参考文档链接: https://www.pypandas.cn/docs/getting_started/10min.html"
   ]
  },
  {
   "cell_type": "markdown",
   "id": "cb145d61",
   "metadata": {},
   "source": [
    "## 导入 Pandas 与 NumPy"
   ]
  },
  {
   "cell_type": "code",
   "execution_count": 2,
   "id": "109b75e0",
   "metadata": {},
   "outputs": [],
   "source": [
    "import numpy as np\n",
    "import pandas as pd"
   ]
  },
  {
   "cell_type": "markdown",
   "id": "fff8147f",
   "metadata": {},
   "source": [
    "## 生成对象"
   ]
  },
  {
   "cell_type": "markdown",
   "id": "e5854d77",
   "metadata": {},
   "source": [
    "用**列表**生成 **Series** 时，**Pandas** 默认**自动生成整数索引**："
   ]
  },
  {
   "cell_type": "code",
   "execution_count": 3,
   "id": "e2996a33",
   "metadata": {},
   "outputs": [
    {
     "data": {
      "text/plain": [
       "0    1.0\n",
       "1    3.0\n",
       "2    5.0\n",
       "3    NaN\n",
       "4    6.0\n",
       "5    8.0\n",
       "dtype: float64"
      ]
     },
     "execution_count": 3,
     "metadata": {},
     "output_type": "execute_result"
    }
   ],
   "source": [
    "s = pd.Series([1, 3, 5, np.nan, 6, 8])\n",
    "s"
   ]
  },
  {
   "cell_type": "markdown",
   "id": "5c7b82a1",
   "metadata": {},
   "source": [
    "用含**日期时间索引**与**标签 (列名)**的 **NumPy 数组**生成 **DataFrame** ："
   ]
  },
  {
   "cell_type": "code",
   "execution_count": 4,
   "id": "9974c972",
   "metadata": {},
   "outputs": [
    {
     "data": {
      "text/plain": [
       "DatetimeIndex(['2013-01-01', '2013-01-02', '2013-01-03', '2013-01-04',\n",
       "               '2013-01-05', '2013-01-06'],\n",
       "              dtype='datetime64[ns]', freq='D')"
      ]
     },
     "execution_count": 4,
     "metadata": {},
     "output_type": "execute_result"
    }
   ],
   "source": [
    "dates = pd.date_range('20130101', periods=6)\n",
    "dates"
   ]
  },
  {
   "cell_type": "code",
   "execution_count": 5,
   "id": "3fa34187",
   "metadata": {},
   "outputs": [
    {
     "data": {
      "text/html": [
       "<div>\n",
       "<style scoped>\n",
       "    .dataframe tbody tr th:only-of-type {\n",
       "        vertical-align: middle;\n",
       "    }\n",
       "\n",
       "    .dataframe tbody tr th {\n",
       "        vertical-align: top;\n",
       "    }\n",
       "\n",
       "    .dataframe thead th {\n",
       "        text-align: right;\n",
       "    }\n",
       "</style>\n",
       "<table border=\"1\" class=\"dataframe\">\n",
       "  <thead>\n",
       "    <tr style=\"text-align: right;\">\n",
       "      <th></th>\n",
       "      <th>A</th>\n",
       "      <th>B</th>\n",
       "      <th>C</th>\n",
       "      <th>D</th>\n",
       "    </tr>\n",
       "  </thead>\n",
       "  <tbody>\n",
       "    <tr>\n",
       "      <th>2013-01-01</th>\n",
       "      <td>1.959474</td>\n",
       "      <td>-0.388166</td>\n",
       "      <td>-1.698329</td>\n",
       "      <td>-0.216114</td>\n",
       "    </tr>\n",
       "    <tr>\n",
       "      <th>2013-01-02</th>\n",
       "      <td>0.295145</td>\n",
       "      <td>-1.598542</td>\n",
       "      <td>0.422077</td>\n",
       "      <td>0.960265</td>\n",
       "    </tr>\n",
       "    <tr>\n",
       "      <th>2013-01-03</th>\n",
       "      <td>0.854286</td>\n",
       "      <td>-0.386440</td>\n",
       "      <td>0.190415</td>\n",
       "      <td>1.520324</td>\n",
       "    </tr>\n",
       "    <tr>\n",
       "      <th>2013-01-04</th>\n",
       "      <td>1.566034</td>\n",
       "      <td>-2.575651</td>\n",
       "      <td>-0.949303</td>\n",
       "      <td>-1.670698</td>\n",
       "    </tr>\n",
       "    <tr>\n",
       "      <th>2013-01-05</th>\n",
       "      <td>-0.993085</td>\n",
       "      <td>1.611275</td>\n",
       "      <td>-0.204665</td>\n",
       "      <td>-0.183928</td>\n",
       "    </tr>\n",
       "    <tr>\n",
       "      <th>2013-01-06</th>\n",
       "      <td>0.002922</td>\n",
       "      <td>1.084618</td>\n",
       "      <td>-2.010518</td>\n",
       "      <td>-0.378324</td>\n",
       "    </tr>\n",
       "  </tbody>\n",
       "</table>\n",
       "</div>"
      ],
      "text/plain": [
       "                   A         B         C         D\n",
       "2013-01-01  1.959474 -0.388166 -1.698329 -0.216114\n",
       "2013-01-02  0.295145 -1.598542  0.422077  0.960265\n",
       "2013-01-03  0.854286 -0.386440  0.190415  1.520324\n",
       "2013-01-04  1.566034 -2.575651 -0.949303 -1.670698\n",
       "2013-01-05 -0.993085  1.611275 -0.204665 -0.183928\n",
       "2013-01-06  0.002922  1.084618 -2.010518 -0.378324"
      ]
     },
     "execution_count": 5,
     "metadata": {},
     "output_type": "execute_result"
    }
   ],
   "source": [
    "df = pd.DataFrame(np.random.randn(6, 4), index=dates, columns=list('ABCD'))\n",
    "df"
   ]
  },
  {
   "cell_type": "markdown",
   "id": "0eb6f264",
   "metadata": {},
   "source": [
    "用 **Series** **字典**对象生成 **DataFrame**："
   ]
  },
  {
   "cell_type": "code",
   "execution_count": 6,
   "id": "defa51df",
   "metadata": {},
   "outputs": [
    {
     "data": {
      "text/html": [
       "<div>\n",
       "<style scoped>\n",
       "    .dataframe tbody tr th:only-of-type {\n",
       "        vertical-align: middle;\n",
       "    }\n",
       "\n",
       "    .dataframe tbody tr th {\n",
       "        vertical-align: top;\n",
       "    }\n",
       "\n",
       "    .dataframe thead th {\n",
       "        text-align: right;\n",
       "    }\n",
       "</style>\n",
       "<table border=\"1\" class=\"dataframe\">\n",
       "  <thead>\n",
       "    <tr style=\"text-align: right;\">\n",
       "      <th></th>\n",
       "      <th>A</th>\n",
       "      <th>B</th>\n",
       "      <th>C</th>\n",
       "      <th>D</th>\n",
       "      <th>E</th>\n",
       "      <th>F</th>\n",
       "    </tr>\n",
       "  </thead>\n",
       "  <tbody>\n",
       "    <tr>\n",
       "      <th>0</th>\n",
       "      <td>1.0</td>\n",
       "      <td>2013-01-02</td>\n",
       "      <td>1.0</td>\n",
       "      <td>3</td>\n",
       "      <td>test</td>\n",
       "      <td>foo</td>\n",
       "    </tr>\n",
       "    <tr>\n",
       "      <th>1</th>\n",
       "      <td>1.0</td>\n",
       "      <td>2013-01-02</td>\n",
       "      <td>1.0</td>\n",
       "      <td>3</td>\n",
       "      <td>train</td>\n",
       "      <td>foo</td>\n",
       "    </tr>\n",
       "    <tr>\n",
       "      <th>2</th>\n",
       "      <td>1.0</td>\n",
       "      <td>2013-01-02</td>\n",
       "      <td>1.0</td>\n",
       "      <td>3</td>\n",
       "      <td>test</td>\n",
       "      <td>foo</td>\n",
       "    </tr>\n",
       "    <tr>\n",
       "      <th>3</th>\n",
       "      <td>1.0</td>\n",
       "      <td>2013-01-02</td>\n",
       "      <td>1.0</td>\n",
       "      <td>3</td>\n",
       "      <td>train</td>\n",
       "      <td>foo</td>\n",
       "    </tr>\n",
       "  </tbody>\n",
       "</table>\n",
       "</div>"
      ],
      "text/plain": [
       "     A          B    C  D      E    F\n",
       "0  1.0 2013-01-02  1.0  3   test  foo\n",
       "1  1.0 2013-01-02  1.0  3  train  foo\n",
       "2  1.0 2013-01-02  1.0  3   test  foo\n",
       "3  1.0 2013-01-02  1.0  3  train  foo"
      ]
     },
     "execution_count": 6,
     "metadata": {},
     "output_type": "execute_result"
    }
   ],
   "source": [
    "df2 = pd.DataFrame({'A': 1.,\n",
    "                    'B': pd.Timestamp('20130102'),\n",
    "                    'C': pd.Series(1, index=list(range(4)), dtype='float32'),\n",
    "                    'D': np.array([3] * 4, dtype='int32'),\n",
    "                    'E': pd.Categorical([\"test\", \"train\", \"test\", \"train\"]),\n",
    "                    'F': 'foo'})\n",
    "df2"
   ]
  },
  {
   "cell_type": "markdown",
   "id": "5f694e45",
   "metadata": {},
   "source": [
    "**DataFrame** 的**列**有**不同数据类型**。"
   ]
  },
  {
   "cell_type": "code",
   "execution_count": 7,
   "id": "a2d6b2ea",
   "metadata": {},
   "outputs": [
    {
     "data": {
      "text/plain": [
       "A           float64\n",
       "B    datetime64[ns]\n",
       "C           float32\n",
       "D             int32\n",
       "E          category\n",
       "F            object\n",
       "dtype: object"
      ]
     },
     "execution_count": 7,
     "metadata": {},
     "output_type": "execute_result"
    }
   ],
   "source": [
    "df2.dtypes"
   ]
  },
  {
   "cell_type": "markdown",
   "id": "c2794f64",
   "metadata": {},
   "source": [
    "**IPython** 支持 **tab** 键**自动补全列名与公共属性**。列 **A**、**B**、**C**、**D** 和 **E** 都可以**自动补全**。"
   ]
  },
  {
   "cell_type": "markdown",
   "id": "1468f28e",
   "metadata": {},
   "source": [
    "## 查看数据"
   ]
  },
  {
   "cell_type": "markdown",
   "id": "19ec8e8e",
   "metadata": {},
   "source": [
    "查看 **DataFrame** **头部**和**尾部**数据："
   ]
  },
  {
   "cell_type": "code",
   "execution_count": 8,
   "id": "d2a55afa",
   "metadata": {},
   "outputs": [
    {
     "data": {
      "text/html": [
       "<div>\n",
       "<style scoped>\n",
       "    .dataframe tbody tr th:only-of-type {\n",
       "        vertical-align: middle;\n",
       "    }\n",
       "\n",
       "    .dataframe tbody tr th {\n",
       "        vertical-align: top;\n",
       "    }\n",
       "\n",
       "    .dataframe thead th {\n",
       "        text-align: right;\n",
       "    }\n",
       "</style>\n",
       "<table border=\"1\" class=\"dataframe\">\n",
       "  <thead>\n",
       "    <tr style=\"text-align: right;\">\n",
       "      <th></th>\n",
       "      <th>A</th>\n",
       "      <th>B</th>\n",
       "      <th>C</th>\n",
       "      <th>D</th>\n",
       "    </tr>\n",
       "  </thead>\n",
       "  <tbody>\n",
       "    <tr>\n",
       "      <th>2013-01-01</th>\n",
       "      <td>1.959474</td>\n",
       "      <td>-0.388166</td>\n",
       "      <td>-1.698329</td>\n",
       "      <td>-0.216114</td>\n",
       "    </tr>\n",
       "    <tr>\n",
       "      <th>2013-01-02</th>\n",
       "      <td>0.295145</td>\n",
       "      <td>-1.598542</td>\n",
       "      <td>0.422077</td>\n",
       "      <td>0.960265</td>\n",
       "    </tr>\n",
       "    <tr>\n",
       "      <th>2013-01-03</th>\n",
       "      <td>0.854286</td>\n",
       "      <td>-0.386440</td>\n",
       "      <td>0.190415</td>\n",
       "      <td>1.520324</td>\n",
       "    </tr>\n",
       "    <tr>\n",
       "      <th>2013-01-04</th>\n",
       "      <td>1.566034</td>\n",
       "      <td>-2.575651</td>\n",
       "      <td>-0.949303</td>\n",
       "      <td>-1.670698</td>\n",
       "    </tr>\n",
       "    <tr>\n",
       "      <th>2013-01-05</th>\n",
       "      <td>-0.993085</td>\n",
       "      <td>1.611275</td>\n",
       "      <td>-0.204665</td>\n",
       "      <td>-0.183928</td>\n",
       "    </tr>\n",
       "  </tbody>\n",
       "</table>\n",
       "</div>"
      ],
      "text/plain": [
       "                   A         B         C         D\n",
       "2013-01-01  1.959474 -0.388166 -1.698329 -0.216114\n",
       "2013-01-02  0.295145 -1.598542  0.422077  0.960265\n",
       "2013-01-03  0.854286 -0.386440  0.190415  1.520324\n",
       "2013-01-04  1.566034 -2.575651 -0.949303 -1.670698\n",
       "2013-01-05 -0.993085  1.611275 -0.204665 -0.183928"
      ]
     },
     "execution_count": 8,
     "metadata": {},
     "output_type": "execute_result"
    }
   ],
   "source": [
    "df.head()"
   ]
  },
  {
   "cell_type": "code",
   "execution_count": 9,
   "id": "e49e18e4",
   "metadata": {},
   "outputs": [
    {
     "data": {
      "text/html": [
       "<div>\n",
       "<style scoped>\n",
       "    .dataframe tbody tr th:only-of-type {\n",
       "        vertical-align: middle;\n",
       "    }\n",
       "\n",
       "    .dataframe tbody tr th {\n",
       "        vertical-align: top;\n",
       "    }\n",
       "\n",
       "    .dataframe thead th {\n",
       "        text-align: right;\n",
       "    }\n",
       "</style>\n",
       "<table border=\"1\" class=\"dataframe\">\n",
       "  <thead>\n",
       "    <tr style=\"text-align: right;\">\n",
       "      <th></th>\n",
       "      <th>A</th>\n",
       "      <th>B</th>\n",
       "      <th>C</th>\n",
       "      <th>D</th>\n",
       "    </tr>\n",
       "  </thead>\n",
       "  <tbody>\n",
       "    <tr>\n",
       "      <th>2013-01-04</th>\n",
       "      <td>1.566034</td>\n",
       "      <td>-2.575651</td>\n",
       "      <td>-0.949303</td>\n",
       "      <td>-1.670698</td>\n",
       "    </tr>\n",
       "    <tr>\n",
       "      <th>2013-01-05</th>\n",
       "      <td>-0.993085</td>\n",
       "      <td>1.611275</td>\n",
       "      <td>-0.204665</td>\n",
       "      <td>-0.183928</td>\n",
       "    </tr>\n",
       "    <tr>\n",
       "      <th>2013-01-06</th>\n",
       "      <td>0.002922</td>\n",
       "      <td>1.084618</td>\n",
       "      <td>-2.010518</td>\n",
       "      <td>-0.378324</td>\n",
       "    </tr>\n",
       "  </tbody>\n",
       "</table>\n",
       "</div>"
      ],
      "text/plain": [
       "                   A         B         C         D\n",
       "2013-01-04  1.566034 -2.575651 -0.949303 -1.670698\n",
       "2013-01-05 -0.993085  1.611275 -0.204665 -0.183928\n",
       "2013-01-06  0.002922  1.084618 -2.010518 -0.378324"
      ]
     },
     "execution_count": 9,
     "metadata": {},
     "output_type": "execute_result"
    }
   ],
   "source": [
    "df.tail(3)"
   ]
  },
  {
   "cell_type": "markdown",
   "id": "65095466",
   "metadata": {},
   "source": [
    "显示**索引**与**列名**："
   ]
  },
  {
   "cell_type": "code",
   "execution_count": 10,
   "id": "86c202b5",
   "metadata": {},
   "outputs": [
    {
     "data": {
      "text/plain": [
       "DatetimeIndex(['2013-01-01', '2013-01-02', '2013-01-03', '2013-01-04',\n",
       "               '2013-01-05', '2013-01-06'],\n",
       "              dtype='datetime64[ns]', freq='D')"
      ]
     },
     "execution_count": 10,
     "metadata": {},
     "output_type": "execute_result"
    }
   ],
   "source": [
    "df.index"
   ]
  },
  {
   "cell_type": "code",
   "execution_count": 11,
   "id": "e11587e1",
   "metadata": {},
   "outputs": [
    {
     "data": {
      "text/plain": [
       "Index(['A', 'B', 'C', 'D'], dtype='object')"
      ]
     },
     "execution_count": 11,
     "metadata": {},
     "output_type": "execute_result"
    }
   ],
   "source": [
    "df.columns"
   ]
  },
  {
   "cell_type": "markdown",
   "id": "16c4ef84",
   "metadata": {},
   "source": [
    "**DataFrame.to_numpy()** 输出底层数据的 **NumPy** 对象。注意，**DataFrame** 的列由**多种数据类型**组成时，该操作**耗费系统资源较大**，这也是 **Pandas** 和 **NumPy** 的本质区别：**NumPy 数组只有一种数据类型，DataFrame 每列的数据类型各不相同**。调用 **DataFrame.to_numpy()** 时，**Pandas** 查找**支持 DataFrame 里所有数据类型**的 **NumPy 数据类型**。还有一种数据类型是 **object**，可以把 **DataFrame** 列里的值强制转换为 **Python** 对象。"
   ]
  },
  {
   "cell_type": "markdown",
   "id": "c5b5170b",
   "metadata": {},
   "source": [
    "下面的 **df** 这个 **DataFrame** 里的值都是**浮点数**，**DataFrame.to_numpy()** 的**操作会很快**，而且**不复制数据**。"
   ]
  },
  {
   "cell_type": "code",
   "execution_count": 12,
   "id": "6a56d60c",
   "metadata": {},
   "outputs": [
    {
     "data": {
      "text/plain": [
       "array([[ 1.95947356, -0.38816582, -1.69832948, -0.21611397],\n",
       "       [ 0.29514492, -1.59854165,  0.42207746,  0.9602649 ],\n",
       "       [ 0.85428621, -0.38644049,  0.19041467,  1.52032412],\n",
       "       [ 1.56603356, -2.5756506 , -0.94930305, -1.67069752],\n",
       "       [-0.99308499,  1.61127466, -0.20466474, -0.18392772],\n",
       "       [ 0.00292154,  1.08461817, -2.01051771, -0.37832399]])"
      ]
     },
     "execution_count": 12,
     "metadata": {},
     "output_type": "execute_result"
    }
   ],
   "source": [
    "df.to_numpy()"
   ]
  },
  {
   "cell_type": "markdown",
   "id": "dcf6e121",
   "metadata": {},
   "source": [
    "**df2** 这个 **DataFrame** 包含了**多种类型**，**DataFrame.to_numpy()** 操作会**耗费较多资源**。"
   ]
  },
  {
   "cell_type": "code",
   "execution_count": 13,
   "id": "13092986",
   "metadata": {},
   "outputs": [
    {
     "data": {
      "text/plain": [
       "array([[1.0, Timestamp('2013-01-02 00:00:00'), 1.0, 3, 'test', 'foo'],\n",
       "       [1.0, Timestamp('2013-01-02 00:00:00'), 1.0, 3, 'train', 'foo'],\n",
       "       [1.0, Timestamp('2013-01-02 00:00:00'), 1.0, 3, 'test', 'foo'],\n",
       "       [1.0, Timestamp('2013-01-02 00:00:00'), 1.0, 3, 'train', 'foo']],\n",
       "      dtype=object)"
      ]
     },
     "execution_count": 13,
     "metadata": {},
     "output_type": "execute_result"
    }
   ],
   "source": [
    "df2.to_numpy()"
   ]
  },
  {
   "cell_type": "markdown",
   "id": "980732ac",
   "metadata": {},
   "source": [
    ">**DataFrame.to_numpy()** 的**输出**不包含**行索引**和**列标签**。"
   ]
  },
  {
   "cell_type": "markdown",
   "id": "a94e83c5",
   "metadata": {},
   "source": [
    "**describe()** 可以**快速查看数据的统计摘要**："
   ]
  },
  {
   "cell_type": "code",
   "execution_count": 14,
   "id": "ca448695",
   "metadata": {},
   "outputs": [
    {
     "data": {
      "text/html": [
       "<div>\n",
       "<style scoped>\n",
       "    .dataframe tbody tr th:only-of-type {\n",
       "        vertical-align: middle;\n",
       "    }\n",
       "\n",
       "    .dataframe tbody tr th {\n",
       "        vertical-align: top;\n",
       "    }\n",
       "\n",
       "    .dataframe thead th {\n",
       "        text-align: right;\n",
       "    }\n",
       "</style>\n",
       "<table border=\"1\" class=\"dataframe\">\n",
       "  <thead>\n",
       "    <tr style=\"text-align: right;\">\n",
       "      <th></th>\n",
       "      <th>A</th>\n",
       "      <th>B</th>\n",
       "      <th>C</th>\n",
       "      <th>D</th>\n",
       "    </tr>\n",
       "  </thead>\n",
       "  <tbody>\n",
       "    <tr>\n",
       "      <th>count</th>\n",
       "      <td>6.000000</td>\n",
       "      <td>6.000000</td>\n",
       "      <td>6.000000</td>\n",
       "      <td>6.000000</td>\n",
       "    </tr>\n",
       "    <tr>\n",
       "      <th>mean</th>\n",
       "      <td>0.614129</td>\n",
       "      <td>-0.375484</td>\n",
       "      <td>-0.708387</td>\n",
       "      <td>0.005254</td>\n",
       "    </tr>\n",
       "    <tr>\n",
       "      <th>std</th>\n",
       "      <td>1.080020</td>\n",
       "      <td>1.575817</td>\n",
       "      <td>1.007284</td>\n",
       "      <td>1.117875</td>\n",
       "    </tr>\n",
       "    <tr>\n",
       "      <th>min</th>\n",
       "      <td>-0.993085</td>\n",
       "      <td>-2.575651</td>\n",
       "      <td>-2.010518</td>\n",
       "      <td>-1.670698</td>\n",
       "    </tr>\n",
       "    <tr>\n",
       "      <th>25%</th>\n",
       "      <td>0.075977</td>\n",
       "      <td>-1.295948</td>\n",
       "      <td>-1.511073</td>\n",
       "      <td>-0.337771</td>\n",
       "    </tr>\n",
       "    <tr>\n",
       "      <th>50%</th>\n",
       "      <td>0.574716</td>\n",
       "      <td>-0.387303</td>\n",
       "      <td>-0.576984</td>\n",
       "      <td>-0.200021</td>\n",
       "    </tr>\n",
       "    <tr>\n",
       "      <th>75%</th>\n",
       "      <td>1.388097</td>\n",
       "      <td>0.716854</td>\n",
       "      <td>0.091645</td>\n",
       "      <td>0.674217</td>\n",
       "    </tr>\n",
       "    <tr>\n",
       "      <th>max</th>\n",
       "      <td>1.959474</td>\n",
       "      <td>1.611275</td>\n",
       "      <td>0.422077</td>\n",
       "      <td>1.520324</td>\n",
       "    </tr>\n",
       "  </tbody>\n",
       "</table>\n",
       "</div>"
      ],
      "text/plain": [
       "              A         B         C         D\n",
       "count  6.000000  6.000000  6.000000  6.000000\n",
       "mean   0.614129 -0.375484 -0.708387  0.005254\n",
       "std    1.080020  1.575817  1.007284  1.117875\n",
       "min   -0.993085 -2.575651 -2.010518 -1.670698\n",
       "25%    0.075977 -1.295948 -1.511073 -0.337771\n",
       "50%    0.574716 -0.387303 -0.576984 -0.200021\n",
       "75%    1.388097  0.716854  0.091645  0.674217\n",
       "max    1.959474  1.611275  0.422077  1.520324"
      ]
     },
     "execution_count": 14,
     "metadata": {},
     "output_type": "execute_result"
    }
   ],
   "source": [
    "df.describe()"
   ]
  },
  {
   "cell_type": "markdown",
   "id": "438dd7e2",
   "metadata": {},
   "source": [
    "转置数据："
   ]
  },
  {
   "cell_type": "code",
   "execution_count": 15,
   "id": "fbf2e347",
   "metadata": {},
   "outputs": [
    {
     "data": {
      "text/html": [
       "<div>\n",
       "<style scoped>\n",
       "    .dataframe tbody tr th:only-of-type {\n",
       "        vertical-align: middle;\n",
       "    }\n",
       "\n",
       "    .dataframe tbody tr th {\n",
       "        vertical-align: top;\n",
       "    }\n",
       "\n",
       "    .dataframe thead th {\n",
       "        text-align: right;\n",
       "    }\n",
       "</style>\n",
       "<table border=\"1\" class=\"dataframe\">\n",
       "  <thead>\n",
       "    <tr style=\"text-align: right;\">\n",
       "      <th></th>\n",
       "      <th>2013-01-01</th>\n",
       "      <th>2013-01-02</th>\n",
       "      <th>2013-01-03</th>\n",
       "      <th>2013-01-04</th>\n",
       "      <th>2013-01-05</th>\n",
       "      <th>2013-01-06</th>\n",
       "    </tr>\n",
       "  </thead>\n",
       "  <tbody>\n",
       "    <tr>\n",
       "      <th>A</th>\n",
       "      <td>1.959474</td>\n",
       "      <td>0.295145</td>\n",
       "      <td>0.854286</td>\n",
       "      <td>1.566034</td>\n",
       "      <td>-0.993085</td>\n",
       "      <td>0.002922</td>\n",
       "    </tr>\n",
       "    <tr>\n",
       "      <th>B</th>\n",
       "      <td>-0.388166</td>\n",
       "      <td>-1.598542</td>\n",
       "      <td>-0.386440</td>\n",
       "      <td>-2.575651</td>\n",
       "      <td>1.611275</td>\n",
       "      <td>1.084618</td>\n",
       "    </tr>\n",
       "    <tr>\n",
       "      <th>C</th>\n",
       "      <td>-1.698329</td>\n",
       "      <td>0.422077</td>\n",
       "      <td>0.190415</td>\n",
       "      <td>-0.949303</td>\n",
       "      <td>-0.204665</td>\n",
       "      <td>-2.010518</td>\n",
       "    </tr>\n",
       "    <tr>\n",
       "      <th>D</th>\n",
       "      <td>-0.216114</td>\n",
       "      <td>0.960265</td>\n",
       "      <td>1.520324</td>\n",
       "      <td>-1.670698</td>\n",
       "      <td>-0.183928</td>\n",
       "      <td>-0.378324</td>\n",
       "    </tr>\n",
       "  </tbody>\n",
       "</table>\n",
       "</div>"
      ],
      "text/plain": [
       "   2013-01-01  2013-01-02  2013-01-03  2013-01-04  2013-01-05  2013-01-06\n",
       "A    1.959474    0.295145    0.854286    1.566034   -0.993085    0.002922\n",
       "B   -0.388166   -1.598542   -0.386440   -2.575651    1.611275    1.084618\n",
       "C   -1.698329    0.422077    0.190415   -0.949303   -0.204665   -2.010518\n",
       "D   -0.216114    0.960265    1.520324   -1.670698   -0.183928   -0.378324"
      ]
     },
     "execution_count": 15,
     "metadata": {},
     "output_type": "execute_result"
    }
   ],
   "source": [
    "df.T"
   ]
  },
  {
   "cell_type": "markdown",
   "id": "04b657da",
   "metadata": {},
   "source": [
    "按轴排序："
   ]
  },
  {
   "cell_type": "code",
   "execution_count": 16,
   "id": "3698a741",
   "metadata": {},
   "outputs": [
    {
     "data": {
      "text/html": [
       "<div>\n",
       "<style scoped>\n",
       "    .dataframe tbody tr th:only-of-type {\n",
       "        vertical-align: middle;\n",
       "    }\n",
       "\n",
       "    .dataframe tbody tr th {\n",
       "        vertical-align: top;\n",
       "    }\n",
       "\n",
       "    .dataframe thead th {\n",
       "        text-align: right;\n",
       "    }\n",
       "</style>\n",
       "<table border=\"1\" class=\"dataframe\">\n",
       "  <thead>\n",
       "    <tr style=\"text-align: right;\">\n",
       "      <th></th>\n",
       "      <th>D</th>\n",
       "      <th>C</th>\n",
       "      <th>B</th>\n",
       "      <th>A</th>\n",
       "    </tr>\n",
       "  </thead>\n",
       "  <tbody>\n",
       "    <tr>\n",
       "      <th>2013-01-01</th>\n",
       "      <td>-0.216114</td>\n",
       "      <td>-1.698329</td>\n",
       "      <td>-0.388166</td>\n",
       "      <td>1.959474</td>\n",
       "    </tr>\n",
       "    <tr>\n",
       "      <th>2013-01-02</th>\n",
       "      <td>0.960265</td>\n",
       "      <td>0.422077</td>\n",
       "      <td>-1.598542</td>\n",
       "      <td>0.295145</td>\n",
       "    </tr>\n",
       "    <tr>\n",
       "      <th>2013-01-03</th>\n",
       "      <td>1.520324</td>\n",
       "      <td>0.190415</td>\n",
       "      <td>-0.386440</td>\n",
       "      <td>0.854286</td>\n",
       "    </tr>\n",
       "    <tr>\n",
       "      <th>2013-01-04</th>\n",
       "      <td>-1.670698</td>\n",
       "      <td>-0.949303</td>\n",
       "      <td>-2.575651</td>\n",
       "      <td>1.566034</td>\n",
       "    </tr>\n",
       "    <tr>\n",
       "      <th>2013-01-05</th>\n",
       "      <td>-0.183928</td>\n",
       "      <td>-0.204665</td>\n",
       "      <td>1.611275</td>\n",
       "      <td>-0.993085</td>\n",
       "    </tr>\n",
       "    <tr>\n",
       "      <th>2013-01-06</th>\n",
       "      <td>-0.378324</td>\n",
       "      <td>-2.010518</td>\n",
       "      <td>1.084618</td>\n",
       "      <td>0.002922</td>\n",
       "    </tr>\n",
       "  </tbody>\n",
       "</table>\n",
       "</div>"
      ],
      "text/plain": [
       "                   D         C         B         A\n",
       "2013-01-01 -0.216114 -1.698329 -0.388166  1.959474\n",
       "2013-01-02  0.960265  0.422077 -1.598542  0.295145\n",
       "2013-01-03  1.520324  0.190415 -0.386440  0.854286\n",
       "2013-01-04 -1.670698 -0.949303 -2.575651  1.566034\n",
       "2013-01-05 -0.183928 -0.204665  1.611275 -0.993085\n",
       "2013-01-06 -0.378324 -2.010518  1.084618  0.002922"
      ]
     },
     "execution_count": 16,
     "metadata": {},
     "output_type": "execute_result"
    }
   ],
   "source": [
    "'''\n",
    "    Parameters\n",
    "    ----------\n",
    "    axis : {0 or 'index', 1 or 'columns'}, default 0\n",
    "        The axis along which to sort.  The value 0 identifies the rows,\n",
    "        and 1 identifies the columns.\n",
    "'''\n",
    "\n",
    "df.sort_index(axis=1, ascending=False)"
   ]
  },
  {
   "cell_type": "markdown",
   "id": "a9efbda9",
   "metadata": {},
   "source": [
    "按值排序："
   ]
  },
  {
   "cell_type": "code",
   "execution_count": 17,
   "id": "58828340",
   "metadata": {},
   "outputs": [
    {
     "data": {
      "text/html": [
       "<div>\n",
       "<style scoped>\n",
       "    .dataframe tbody tr th:only-of-type {\n",
       "        vertical-align: middle;\n",
       "    }\n",
       "\n",
       "    .dataframe tbody tr th {\n",
       "        vertical-align: top;\n",
       "    }\n",
       "\n",
       "    .dataframe thead th {\n",
       "        text-align: right;\n",
       "    }\n",
       "</style>\n",
       "<table border=\"1\" class=\"dataframe\">\n",
       "  <thead>\n",
       "    <tr style=\"text-align: right;\">\n",
       "      <th></th>\n",
       "      <th>A</th>\n",
       "      <th>B</th>\n",
       "      <th>C</th>\n",
       "      <th>D</th>\n",
       "    </tr>\n",
       "  </thead>\n",
       "  <tbody>\n",
       "    <tr>\n",
       "      <th>2013-01-04</th>\n",
       "      <td>1.566034</td>\n",
       "      <td>-2.575651</td>\n",
       "      <td>-0.949303</td>\n",
       "      <td>-1.670698</td>\n",
       "    </tr>\n",
       "    <tr>\n",
       "      <th>2013-01-02</th>\n",
       "      <td>0.295145</td>\n",
       "      <td>-1.598542</td>\n",
       "      <td>0.422077</td>\n",
       "      <td>0.960265</td>\n",
       "    </tr>\n",
       "    <tr>\n",
       "      <th>2013-01-01</th>\n",
       "      <td>1.959474</td>\n",
       "      <td>-0.388166</td>\n",
       "      <td>-1.698329</td>\n",
       "      <td>-0.216114</td>\n",
       "    </tr>\n",
       "    <tr>\n",
       "      <th>2013-01-03</th>\n",
       "      <td>0.854286</td>\n",
       "      <td>-0.386440</td>\n",
       "      <td>0.190415</td>\n",
       "      <td>1.520324</td>\n",
       "    </tr>\n",
       "    <tr>\n",
       "      <th>2013-01-06</th>\n",
       "      <td>0.002922</td>\n",
       "      <td>1.084618</td>\n",
       "      <td>-2.010518</td>\n",
       "      <td>-0.378324</td>\n",
       "    </tr>\n",
       "    <tr>\n",
       "      <th>2013-01-05</th>\n",
       "      <td>-0.993085</td>\n",
       "      <td>1.611275</td>\n",
       "      <td>-0.204665</td>\n",
       "      <td>-0.183928</td>\n",
       "    </tr>\n",
       "  </tbody>\n",
       "</table>\n",
       "</div>"
      ],
      "text/plain": [
       "                   A         B         C         D\n",
       "2013-01-04  1.566034 -2.575651 -0.949303 -1.670698\n",
       "2013-01-02  0.295145 -1.598542  0.422077  0.960265\n",
       "2013-01-01  1.959474 -0.388166 -1.698329 -0.216114\n",
       "2013-01-03  0.854286 -0.386440  0.190415  1.520324\n",
       "2013-01-06  0.002922  1.084618 -2.010518 -0.378324\n",
       "2013-01-05 -0.993085  1.611275 -0.204665 -0.183928"
      ]
     },
     "execution_count": 17,
     "metadata": {},
     "output_type": "execute_result"
    }
   ],
   "source": [
    "'''\n",
    "    Parameters\n",
    "    ----------\n",
    "            by : str or list of str\n",
    "                Name or list of names to sort by.\n",
    "    \n",
    "                - if `axis` is 0 or `'index'` then `by` may contain index\n",
    "                  levels and/or column labels.\n",
    "                - if `axis` is 1 or `'columns'` then `by` may contain column\n",
    "                  levels and/or index labels.\n",
    "    axis : {0 or 'index', 1 or 'columns'}, default 0\n",
    "         Axis to be sorted.\n",
    "'''\n",
    "\n",
    "df.sort_values(by='B')"
   ]
  },
  {
   "cell_type": "markdown",
   "id": "458db4e6",
   "metadata": {},
   "source": [
    "## 选择"
   ]
  },
  {
   "cell_type": "markdown",
   "id": "207fea44",
   "metadata": {},
   "source": [
    "选择、设置标准 **Python / Numpy** 的表达式已经非常直观，交互也很方便，但对于**生产代码**，还是**推荐优化过的 Pandas 数据访问方法**：**.at**、**.iat**、**.loc** 和 **.iloc**。"
   ]
  },
  {
   "cell_type": "markdown",
   "id": "e5f0d5a8",
   "metadata": {},
   "source": [
    "### 获取数据"
   ]
  },
  {
   "cell_type": "markdown",
   "id": "717e9d53",
   "metadata": {},
   "source": [
    "选择**单列**，产生 **Series**，与 **df.A** 等效："
   ]
  },
  {
   "cell_type": "code",
   "execution_count": 18,
   "id": "42e8d43d",
   "metadata": {},
   "outputs": [
    {
     "data": {
      "text/plain": [
       "2013-01-01    1.959474\n",
       "2013-01-02    0.295145\n",
       "2013-01-03    0.854286\n",
       "2013-01-04    1.566034\n",
       "2013-01-05   -0.993085\n",
       "2013-01-06    0.002922\n",
       "Freq: D, Name: A, dtype: float64"
      ]
     },
     "execution_count": 18,
     "metadata": {},
     "output_type": "execute_result"
    }
   ],
   "source": [
    "df['A']"
   ]
  },
  {
   "cell_type": "markdown",
   "id": "d0a6ed15",
   "metadata": {},
   "source": [
    "用 **[]** 切片**行**："
   ]
  },
  {
   "cell_type": "code",
   "execution_count": 19,
   "id": "f6465713",
   "metadata": {},
   "outputs": [
    {
     "data": {
      "text/html": [
       "<div>\n",
       "<style scoped>\n",
       "    .dataframe tbody tr th:only-of-type {\n",
       "        vertical-align: middle;\n",
       "    }\n",
       "\n",
       "    .dataframe tbody tr th {\n",
       "        vertical-align: top;\n",
       "    }\n",
       "\n",
       "    .dataframe thead th {\n",
       "        text-align: right;\n",
       "    }\n",
       "</style>\n",
       "<table border=\"1\" class=\"dataframe\">\n",
       "  <thead>\n",
       "    <tr style=\"text-align: right;\">\n",
       "      <th></th>\n",
       "      <th>A</th>\n",
       "      <th>B</th>\n",
       "      <th>C</th>\n",
       "      <th>D</th>\n",
       "    </tr>\n",
       "  </thead>\n",
       "  <tbody>\n",
       "    <tr>\n",
       "      <th>2013-01-01</th>\n",
       "      <td>1.959474</td>\n",
       "      <td>-0.388166</td>\n",
       "      <td>-1.698329</td>\n",
       "      <td>-0.216114</td>\n",
       "    </tr>\n",
       "    <tr>\n",
       "      <th>2013-01-02</th>\n",
       "      <td>0.295145</td>\n",
       "      <td>-1.598542</td>\n",
       "      <td>0.422077</td>\n",
       "      <td>0.960265</td>\n",
       "    </tr>\n",
       "    <tr>\n",
       "      <th>2013-01-03</th>\n",
       "      <td>0.854286</td>\n",
       "      <td>-0.386440</td>\n",
       "      <td>0.190415</td>\n",
       "      <td>1.520324</td>\n",
       "    </tr>\n",
       "  </tbody>\n",
       "</table>\n",
       "</div>"
      ],
      "text/plain": [
       "                   A         B         C         D\n",
       "2013-01-01  1.959474 -0.388166 -1.698329 -0.216114\n",
       "2013-01-02  0.295145 -1.598542  0.422077  0.960265\n",
       "2013-01-03  0.854286 -0.386440  0.190415  1.520324"
      ]
     },
     "execution_count": 19,
     "metadata": {},
     "output_type": "execute_result"
    }
   ],
   "source": [
    "df[0:3]"
   ]
  },
  {
   "cell_type": "code",
   "execution_count": 20,
   "id": "3edea33e",
   "metadata": {},
   "outputs": [
    {
     "data": {
      "text/html": [
       "<div>\n",
       "<style scoped>\n",
       "    .dataframe tbody tr th:only-of-type {\n",
       "        vertical-align: middle;\n",
       "    }\n",
       "\n",
       "    .dataframe tbody tr th {\n",
       "        vertical-align: top;\n",
       "    }\n",
       "\n",
       "    .dataframe thead th {\n",
       "        text-align: right;\n",
       "    }\n",
       "</style>\n",
       "<table border=\"1\" class=\"dataframe\">\n",
       "  <thead>\n",
       "    <tr style=\"text-align: right;\">\n",
       "      <th></th>\n",
       "      <th>A</th>\n",
       "      <th>B</th>\n",
       "      <th>C</th>\n",
       "      <th>D</th>\n",
       "    </tr>\n",
       "  </thead>\n",
       "  <tbody>\n",
       "    <tr>\n",
       "      <th>2013-01-02</th>\n",
       "      <td>0.295145</td>\n",
       "      <td>-1.598542</td>\n",
       "      <td>0.422077</td>\n",
       "      <td>0.960265</td>\n",
       "    </tr>\n",
       "    <tr>\n",
       "      <th>2013-01-03</th>\n",
       "      <td>0.854286</td>\n",
       "      <td>-0.386440</td>\n",
       "      <td>0.190415</td>\n",
       "      <td>1.520324</td>\n",
       "    </tr>\n",
       "    <tr>\n",
       "      <th>2013-01-04</th>\n",
       "      <td>1.566034</td>\n",
       "      <td>-2.575651</td>\n",
       "      <td>-0.949303</td>\n",
       "      <td>-1.670698</td>\n",
       "    </tr>\n",
       "  </tbody>\n",
       "</table>\n",
       "</div>"
      ],
      "text/plain": [
       "                   A         B         C         D\n",
       "2013-01-02  0.295145 -1.598542  0.422077  0.960265\n",
       "2013-01-03  0.854286 -0.386440  0.190415  1.520324\n",
       "2013-01-04  1.566034 -2.575651 -0.949303 -1.670698"
      ]
     },
     "execution_count": 20,
     "metadata": {},
     "output_type": "execute_result"
    }
   ],
   "source": [
    "df['20130102':'20130104']"
   ]
  },
  {
   "cell_type": "code",
   "execution_count": 21,
   "id": "75d0c976",
   "metadata": {},
   "outputs": [
    {
     "data": {
      "text/html": [
       "<div>\n",
       "<style scoped>\n",
       "    .dataframe tbody tr th:only-of-type {\n",
       "        vertical-align: middle;\n",
       "    }\n",
       "\n",
       "    .dataframe tbody tr th {\n",
       "        vertical-align: top;\n",
       "    }\n",
       "\n",
       "    .dataframe thead th {\n",
       "        text-align: right;\n",
       "    }\n",
       "</style>\n",
       "<table border=\"1\" class=\"dataframe\">\n",
       "  <thead>\n",
       "    <tr style=\"text-align: right;\">\n",
       "      <th></th>\n",
       "      <th>A</th>\n",
       "      <th>B</th>\n",
       "      <th>C</th>\n",
       "      <th>D</th>\n",
       "    </tr>\n",
       "  </thead>\n",
       "  <tbody>\n",
       "    <tr>\n",
       "      <th>2013-01-02</th>\n",
       "      <td>0.295145</td>\n",
       "      <td>-1.598542</td>\n",
       "      <td>0.422077</td>\n",
       "      <td>0.960265</td>\n",
       "    </tr>\n",
       "    <tr>\n",
       "      <th>2013-01-03</th>\n",
       "      <td>0.854286</td>\n",
       "      <td>-0.386440</td>\n",
       "      <td>0.190415</td>\n",
       "      <td>1.520324</td>\n",
       "    </tr>\n",
       "    <tr>\n",
       "      <th>2013-01-04</th>\n",
       "      <td>1.566034</td>\n",
       "      <td>-2.575651</td>\n",
       "      <td>-0.949303</td>\n",
       "      <td>-1.670698</td>\n",
       "    </tr>\n",
       "  </tbody>\n",
       "</table>\n",
       "</div>"
      ],
      "text/plain": [
       "                   A         B         C         D\n",
       "2013-01-02  0.295145 -1.598542  0.422077  0.960265\n",
       "2013-01-03  0.854286 -0.386440  0.190415  1.520324\n",
       "2013-01-04  1.566034 -2.575651 -0.949303 -1.670698"
      ]
     },
     "execution_count": 21,
     "metadata": {},
     "output_type": "execute_result"
    }
   ],
   "source": [
    "df['2013-01-02':'2013-01-04']"
   ]
  },
  {
   "cell_type": "code",
   "execution_count": 22,
   "id": "4fa4e471",
   "metadata": {},
   "outputs": [
    {
     "data": {
      "text/html": [
       "<div>\n",
       "<style scoped>\n",
       "    .dataframe tbody tr th:only-of-type {\n",
       "        vertical-align: middle;\n",
       "    }\n",
       "\n",
       "    .dataframe tbody tr th {\n",
       "        vertical-align: top;\n",
       "    }\n",
       "\n",
       "    .dataframe thead th {\n",
       "        text-align: right;\n",
       "    }\n",
       "</style>\n",
       "<table border=\"1\" class=\"dataframe\">\n",
       "  <thead>\n",
       "    <tr style=\"text-align: right;\">\n",
       "      <th></th>\n",
       "      <th>A</th>\n",
       "      <th>B</th>\n",
       "      <th>C</th>\n",
       "      <th>D</th>\n",
       "    </tr>\n",
       "  </thead>\n",
       "  <tbody>\n",
       "    <tr>\n",
       "      <th>2013-01-02</th>\n",
       "      <td>0.295145</td>\n",
       "      <td>-1.598542</td>\n",
       "      <td>0.422077</td>\n",
       "      <td>0.960265</td>\n",
       "    </tr>\n",
       "    <tr>\n",
       "      <th>2013-01-03</th>\n",
       "      <td>0.854286</td>\n",
       "      <td>-0.386440</td>\n",
       "      <td>0.190415</td>\n",
       "      <td>1.520324</td>\n",
       "    </tr>\n",
       "    <tr>\n",
       "      <th>2013-01-04</th>\n",
       "      <td>1.566034</td>\n",
       "      <td>-2.575651</td>\n",
       "      <td>-0.949303</td>\n",
       "      <td>-1.670698</td>\n",
       "    </tr>\n",
       "  </tbody>\n",
       "</table>\n",
       "</div>"
      ],
      "text/plain": [
       "                   A         B         C         D\n",
       "2013-01-02  0.295145 -1.598542  0.422077  0.960265\n",
       "2013-01-03  0.854286 -0.386440  0.190415  1.520324\n",
       "2013-01-04  1.566034 -2.575651 -0.949303 -1.670698"
      ]
     },
     "execution_count": 22,
     "metadata": {},
     "output_type": "execute_result"
    }
   ],
   "source": [
    "df['2013/01/02':'2013/01/04']"
   ]
  },
  {
   "cell_type": "markdown",
   "id": "b35fbe5a",
   "metadata": {},
   "source": [
    "### 按标签选择"
   ]
  },
  {
   "cell_type": "markdown",
   "id": "eb358a54",
   "metadata": {},
   "source": [
    "用**标签**提取**一行数据**："
   ]
  },
  {
   "cell_type": "code",
   "execution_count": 23,
   "id": "11884944",
   "metadata": {},
   "outputs": [
    {
     "data": {
      "text/plain": [
       "A    1.959474\n",
       "B   -0.388166\n",
       "C   -1.698329\n",
       "D   -0.216114\n",
       "Name: 2013-01-01 00:00:00, dtype: float64"
      ]
     },
     "execution_count": 23,
     "metadata": {},
     "output_type": "execute_result"
    }
   ],
   "source": [
    "df.loc[dates[0]]"
   ]
  },
  {
   "cell_type": "markdown",
   "id": "f6d9f014",
   "metadata": {},
   "source": [
    "用**标签**选择**多列数据**："
   ]
  },
  {
   "cell_type": "code",
   "execution_count": 24,
   "id": "1d124285",
   "metadata": {},
   "outputs": [
    {
     "data": {
      "text/html": [
       "<div>\n",
       "<style scoped>\n",
       "    .dataframe tbody tr th:only-of-type {\n",
       "        vertical-align: middle;\n",
       "    }\n",
       "\n",
       "    .dataframe tbody tr th {\n",
       "        vertical-align: top;\n",
       "    }\n",
       "\n",
       "    .dataframe thead th {\n",
       "        text-align: right;\n",
       "    }\n",
       "</style>\n",
       "<table border=\"1\" class=\"dataframe\">\n",
       "  <thead>\n",
       "    <tr style=\"text-align: right;\">\n",
       "      <th></th>\n",
       "      <th>A</th>\n",
       "      <th>B</th>\n",
       "    </tr>\n",
       "  </thead>\n",
       "  <tbody>\n",
       "    <tr>\n",
       "      <th>2013-01-01</th>\n",
       "      <td>1.959474</td>\n",
       "      <td>-0.388166</td>\n",
       "    </tr>\n",
       "    <tr>\n",
       "      <th>2013-01-02</th>\n",
       "      <td>0.295145</td>\n",
       "      <td>-1.598542</td>\n",
       "    </tr>\n",
       "    <tr>\n",
       "      <th>2013-01-03</th>\n",
       "      <td>0.854286</td>\n",
       "      <td>-0.386440</td>\n",
       "    </tr>\n",
       "    <tr>\n",
       "      <th>2013-01-04</th>\n",
       "      <td>1.566034</td>\n",
       "      <td>-2.575651</td>\n",
       "    </tr>\n",
       "    <tr>\n",
       "      <th>2013-01-05</th>\n",
       "      <td>-0.993085</td>\n",
       "      <td>1.611275</td>\n",
       "    </tr>\n",
       "    <tr>\n",
       "      <th>2013-01-06</th>\n",
       "      <td>0.002922</td>\n",
       "      <td>1.084618</td>\n",
       "    </tr>\n",
       "  </tbody>\n",
       "</table>\n",
       "</div>"
      ],
      "text/plain": [
       "                   A         B\n",
       "2013-01-01  1.959474 -0.388166\n",
       "2013-01-02  0.295145 -1.598542\n",
       "2013-01-03  0.854286 -0.386440\n",
       "2013-01-04  1.566034 -2.575651\n",
       "2013-01-05 -0.993085  1.611275\n",
       "2013-01-06  0.002922  1.084618"
      ]
     },
     "execution_count": 24,
     "metadata": {},
     "output_type": "execute_result"
    }
   ],
   "source": [
    "df.loc[:, ['A', 'B']]"
   ]
  },
  {
   "cell_type": "markdown",
   "id": "dcbf0810",
   "metadata": {},
   "source": [
    "用**标签切片**，包含**行**与**列**结束点："
   ]
  },
  {
   "cell_type": "code",
   "execution_count": 25,
   "id": "1d064c59",
   "metadata": {},
   "outputs": [
    {
     "data": {
      "text/html": [
       "<div>\n",
       "<style scoped>\n",
       "    .dataframe tbody tr th:only-of-type {\n",
       "        vertical-align: middle;\n",
       "    }\n",
       "\n",
       "    .dataframe tbody tr th {\n",
       "        vertical-align: top;\n",
       "    }\n",
       "\n",
       "    .dataframe thead th {\n",
       "        text-align: right;\n",
       "    }\n",
       "</style>\n",
       "<table border=\"1\" class=\"dataframe\">\n",
       "  <thead>\n",
       "    <tr style=\"text-align: right;\">\n",
       "      <th></th>\n",
       "      <th>A</th>\n",
       "      <th>B</th>\n",
       "    </tr>\n",
       "  </thead>\n",
       "  <tbody>\n",
       "    <tr>\n",
       "      <th>2013-01-02</th>\n",
       "      <td>0.295145</td>\n",
       "      <td>-1.598542</td>\n",
       "    </tr>\n",
       "    <tr>\n",
       "      <th>2013-01-03</th>\n",
       "      <td>0.854286</td>\n",
       "      <td>-0.386440</td>\n",
       "    </tr>\n",
       "    <tr>\n",
       "      <th>2013-01-04</th>\n",
       "      <td>1.566034</td>\n",
       "      <td>-2.575651</td>\n",
       "    </tr>\n",
       "  </tbody>\n",
       "</table>\n",
       "</div>"
      ],
      "text/plain": [
       "                   A         B\n",
       "2013-01-02  0.295145 -1.598542\n",
       "2013-01-03  0.854286 -0.386440\n",
       "2013-01-04  1.566034 -2.575651"
      ]
     },
     "execution_count": 25,
     "metadata": {},
     "output_type": "execute_result"
    }
   ],
   "source": [
    "df.loc['20130102':'20130104', ['A', 'B']]"
   ]
  },
  {
   "cell_type": "markdown",
   "id": "9219c9f1",
   "metadata": {},
   "source": [
    "返回对象："
   ]
  },
  {
   "cell_type": "code",
   "execution_count": 26,
   "id": "7858ebca",
   "metadata": {},
   "outputs": [
    {
     "data": {
      "text/plain": [
       "A    0.295145\n",
       "B   -1.598542\n",
       "Name: 2013-01-02 00:00:00, dtype: float64"
      ]
     },
     "execution_count": 26,
     "metadata": {},
     "output_type": "execute_result"
    }
   ],
   "source": [
    "df.loc['20130102', ['A', 'B']]"
   ]
  },
  {
   "cell_type": "markdown",
   "id": "7c184d9f",
   "metadata": {},
   "source": [
    "提取标量值："
   ]
  },
  {
   "cell_type": "code",
   "execution_count": 27,
   "id": "a93bfefa",
   "metadata": {},
   "outputs": [
    {
     "data": {
      "text/plain": [
       "1.9594735609834342"
      ]
     },
     "execution_count": 27,
     "metadata": {},
     "output_type": "execute_result"
    }
   ],
   "source": [
    "df.loc[dates[0], 'A']"
   ]
  },
  {
   "cell_type": "markdown",
   "id": "e6dffcb5",
   "metadata": {},
   "source": [
    "快速访问标量，与上述方法等效："
   ]
  },
  {
   "cell_type": "code",
   "execution_count": 28,
   "id": "2a5034ee",
   "metadata": {},
   "outputs": [
    {
     "data": {
      "text/plain": [
       "1.9594735609834342"
      ]
     },
     "execution_count": 28,
     "metadata": {},
     "output_type": "execute_result"
    }
   ],
   "source": [
    "df.at[dates[0], 'A']"
   ]
  },
  {
   "cell_type": "markdown",
   "id": "baeca5e5",
   "metadata": {},
   "source": [
    "### 按位置选择"
   ]
  },
  {
   "cell_type": "markdown",
   "id": "70f92547",
   "metadata": {},
   "source": [
    "用**整数位置**选择："
   ]
  },
  {
   "cell_type": "code",
   "execution_count": 29,
   "id": "dbeca9b3",
   "metadata": {},
   "outputs": [
    {
     "data": {
      "text/plain": [
       "A    1.566034\n",
       "B   -2.575651\n",
       "C   -0.949303\n",
       "D   -1.670698\n",
       "Name: 2013-01-04 00:00:00, dtype: float64"
      ]
     },
     "execution_count": 29,
     "metadata": {},
     "output_type": "execute_result"
    }
   ],
   "source": [
    "df.iloc[3]"
   ]
  },
  {
   "cell_type": "markdown",
   "id": "814cf797",
   "metadata": {},
   "source": [
    "类似 **NumPy / Python**，用**整数切片**："
   ]
  },
  {
   "cell_type": "code",
   "execution_count": 30,
   "id": "f669d000",
   "metadata": {},
   "outputs": [
    {
     "data": {
      "text/html": [
       "<div>\n",
       "<style scoped>\n",
       "    .dataframe tbody tr th:only-of-type {\n",
       "        vertical-align: middle;\n",
       "    }\n",
       "\n",
       "    .dataframe tbody tr th {\n",
       "        vertical-align: top;\n",
       "    }\n",
       "\n",
       "    .dataframe thead th {\n",
       "        text-align: right;\n",
       "    }\n",
       "</style>\n",
       "<table border=\"1\" class=\"dataframe\">\n",
       "  <thead>\n",
       "    <tr style=\"text-align: right;\">\n",
       "      <th></th>\n",
       "      <th>A</th>\n",
       "      <th>B</th>\n",
       "    </tr>\n",
       "  </thead>\n",
       "  <tbody>\n",
       "    <tr>\n",
       "      <th>2013-01-04</th>\n",
       "      <td>1.566034</td>\n",
       "      <td>-2.575651</td>\n",
       "    </tr>\n",
       "    <tr>\n",
       "      <th>2013-01-05</th>\n",
       "      <td>-0.993085</td>\n",
       "      <td>1.611275</td>\n",
       "    </tr>\n",
       "  </tbody>\n",
       "</table>\n",
       "</div>"
      ],
      "text/plain": [
       "                   A         B\n",
       "2013-01-04  1.566034 -2.575651\n",
       "2013-01-05 -0.993085  1.611275"
      ]
     },
     "execution_count": 30,
     "metadata": {},
     "output_type": "execute_result"
    }
   ],
   "source": [
    "df.iloc[3:5, 0:2]"
   ]
  },
  {
   "cell_type": "markdown",
   "id": "e7ac6060",
   "metadata": {},
   "source": [
    "类似 **NumPy / Python**，用**整数列表**按**位置切片**："
   ]
  },
  {
   "cell_type": "code",
   "execution_count": 31,
   "id": "f33e97ad",
   "metadata": {},
   "outputs": [
    {
     "data": {
      "text/html": [
       "<div>\n",
       "<style scoped>\n",
       "    .dataframe tbody tr th:only-of-type {\n",
       "        vertical-align: middle;\n",
       "    }\n",
       "\n",
       "    .dataframe tbody tr th {\n",
       "        vertical-align: top;\n",
       "    }\n",
       "\n",
       "    .dataframe thead th {\n",
       "        text-align: right;\n",
       "    }\n",
       "</style>\n",
       "<table border=\"1\" class=\"dataframe\">\n",
       "  <thead>\n",
       "    <tr style=\"text-align: right;\">\n",
       "      <th></th>\n",
       "      <th>A</th>\n",
       "      <th>C</th>\n",
       "    </tr>\n",
       "  </thead>\n",
       "  <tbody>\n",
       "    <tr>\n",
       "      <th>2013-01-02</th>\n",
       "      <td>0.295145</td>\n",
       "      <td>0.422077</td>\n",
       "    </tr>\n",
       "    <tr>\n",
       "      <th>2013-01-03</th>\n",
       "      <td>0.854286</td>\n",
       "      <td>0.190415</td>\n",
       "    </tr>\n",
       "    <tr>\n",
       "      <th>2013-01-05</th>\n",
       "      <td>-0.993085</td>\n",
       "      <td>-0.204665</td>\n",
       "    </tr>\n",
       "  </tbody>\n",
       "</table>\n",
       "</div>"
      ],
      "text/plain": [
       "                   A         C\n",
       "2013-01-02  0.295145  0.422077\n",
       "2013-01-03  0.854286  0.190415\n",
       "2013-01-05 -0.993085 -0.204665"
      ]
     },
     "execution_count": 31,
     "metadata": {},
     "output_type": "execute_result"
    }
   ],
   "source": [
    "df.iloc[[1, 2, 4], [0, 2]]"
   ]
  },
  {
   "cell_type": "markdown",
   "id": "353348d4",
   "metadata": {},
   "source": [
    "显式**整行切片**："
   ]
  },
  {
   "cell_type": "code",
   "execution_count": 32,
   "id": "0a36408e",
   "metadata": {},
   "outputs": [
    {
     "data": {
      "text/html": [
       "<div>\n",
       "<style scoped>\n",
       "    .dataframe tbody tr th:only-of-type {\n",
       "        vertical-align: middle;\n",
       "    }\n",
       "\n",
       "    .dataframe tbody tr th {\n",
       "        vertical-align: top;\n",
       "    }\n",
       "\n",
       "    .dataframe thead th {\n",
       "        text-align: right;\n",
       "    }\n",
       "</style>\n",
       "<table border=\"1\" class=\"dataframe\">\n",
       "  <thead>\n",
       "    <tr style=\"text-align: right;\">\n",
       "      <th></th>\n",
       "      <th>A</th>\n",
       "      <th>B</th>\n",
       "      <th>C</th>\n",
       "      <th>D</th>\n",
       "    </tr>\n",
       "  </thead>\n",
       "  <tbody>\n",
       "    <tr>\n",
       "      <th>2013-01-02</th>\n",
       "      <td>0.295145</td>\n",
       "      <td>-1.598542</td>\n",
       "      <td>0.422077</td>\n",
       "      <td>0.960265</td>\n",
       "    </tr>\n",
       "    <tr>\n",
       "      <th>2013-01-03</th>\n",
       "      <td>0.854286</td>\n",
       "      <td>-0.386440</td>\n",
       "      <td>0.190415</td>\n",
       "      <td>1.520324</td>\n",
       "    </tr>\n",
       "  </tbody>\n",
       "</table>\n",
       "</div>"
      ],
      "text/plain": [
       "                   A         B         C         D\n",
       "2013-01-02  0.295145 -1.598542  0.422077  0.960265\n",
       "2013-01-03  0.854286 -0.386440  0.190415  1.520324"
      ]
     },
     "execution_count": 32,
     "metadata": {},
     "output_type": "execute_result"
    }
   ],
   "source": [
    "df.iloc[1:3, :]"
   ]
  },
  {
   "cell_type": "markdown",
   "id": "f8dc5583",
   "metadata": {},
   "source": [
    "显式**整列切片**："
   ]
  },
  {
   "cell_type": "code",
   "execution_count": 33,
   "id": "a8c4d9dc",
   "metadata": {},
   "outputs": [
    {
     "data": {
      "text/html": [
       "<div>\n",
       "<style scoped>\n",
       "    .dataframe tbody tr th:only-of-type {\n",
       "        vertical-align: middle;\n",
       "    }\n",
       "\n",
       "    .dataframe tbody tr th {\n",
       "        vertical-align: top;\n",
       "    }\n",
       "\n",
       "    .dataframe thead th {\n",
       "        text-align: right;\n",
       "    }\n",
       "</style>\n",
       "<table border=\"1\" class=\"dataframe\">\n",
       "  <thead>\n",
       "    <tr style=\"text-align: right;\">\n",
       "      <th></th>\n",
       "      <th>B</th>\n",
       "      <th>C</th>\n",
       "    </tr>\n",
       "  </thead>\n",
       "  <tbody>\n",
       "    <tr>\n",
       "      <th>2013-01-01</th>\n",
       "      <td>-0.388166</td>\n",
       "      <td>-1.698329</td>\n",
       "    </tr>\n",
       "    <tr>\n",
       "      <th>2013-01-02</th>\n",
       "      <td>-1.598542</td>\n",
       "      <td>0.422077</td>\n",
       "    </tr>\n",
       "    <tr>\n",
       "      <th>2013-01-03</th>\n",
       "      <td>-0.386440</td>\n",
       "      <td>0.190415</td>\n",
       "    </tr>\n",
       "    <tr>\n",
       "      <th>2013-01-04</th>\n",
       "      <td>-2.575651</td>\n",
       "      <td>-0.949303</td>\n",
       "    </tr>\n",
       "    <tr>\n",
       "      <th>2013-01-05</th>\n",
       "      <td>1.611275</td>\n",
       "      <td>-0.204665</td>\n",
       "    </tr>\n",
       "    <tr>\n",
       "      <th>2013-01-06</th>\n",
       "      <td>1.084618</td>\n",
       "      <td>-2.010518</td>\n",
       "    </tr>\n",
       "  </tbody>\n",
       "</table>\n",
       "</div>"
      ],
      "text/plain": [
       "                   B         C\n",
       "2013-01-01 -0.388166 -1.698329\n",
       "2013-01-02 -1.598542  0.422077\n",
       "2013-01-03 -0.386440  0.190415\n",
       "2013-01-04 -2.575651 -0.949303\n",
       "2013-01-05  1.611275 -0.204665\n",
       "2013-01-06  1.084618 -2.010518"
      ]
     },
     "execution_count": 33,
     "metadata": {},
     "output_type": "execute_result"
    }
   ],
   "source": [
    "df.iloc[:, 1:3]"
   ]
  },
  {
   "cell_type": "markdown",
   "id": "7d170472",
   "metadata": {},
   "source": [
    "显式**提取值**："
   ]
  },
  {
   "cell_type": "code",
   "execution_count": 34,
   "id": "fae6864e",
   "metadata": {},
   "outputs": [
    {
     "data": {
      "text/plain": [
       "-1.5985416509892818"
      ]
     },
     "execution_count": 34,
     "metadata": {},
     "output_type": "execute_result"
    }
   ],
   "source": [
    "df.iloc[1, 1]"
   ]
  },
  {
   "cell_type": "markdown",
   "id": "a4e6c5ec",
   "metadata": {},
   "source": [
    "快速**访问标量**，与**上述方法**等效："
   ]
  },
  {
   "cell_type": "code",
   "execution_count": 35,
   "id": "b9c8d7a0",
   "metadata": {},
   "outputs": [
    {
     "data": {
      "text/plain": [
       "-1.5985416509892818"
      ]
     },
     "execution_count": 35,
     "metadata": {},
     "output_type": "execute_result"
    }
   ],
   "source": [
    "df.iat[1, 1]"
   ]
  },
  {
   "cell_type": "markdown",
   "id": "0f479543",
   "metadata": {},
   "source": [
    "### 布尔索引"
   ]
  },
  {
   "cell_type": "markdown",
   "id": "2da1fb3b",
   "metadata": {},
   "source": [
    "用**单列的值**选择数据："
   ]
  },
  {
   "cell_type": "code",
   "execution_count": 36,
   "id": "11469ae4",
   "metadata": {},
   "outputs": [
    {
     "data": {
      "text/html": [
       "<div>\n",
       "<style scoped>\n",
       "    .dataframe tbody tr th:only-of-type {\n",
       "        vertical-align: middle;\n",
       "    }\n",
       "\n",
       "    .dataframe tbody tr th {\n",
       "        vertical-align: top;\n",
       "    }\n",
       "\n",
       "    .dataframe thead th {\n",
       "        text-align: right;\n",
       "    }\n",
       "</style>\n",
       "<table border=\"1\" class=\"dataframe\">\n",
       "  <thead>\n",
       "    <tr style=\"text-align: right;\">\n",
       "      <th></th>\n",
       "      <th>A</th>\n",
       "      <th>B</th>\n",
       "      <th>C</th>\n",
       "      <th>D</th>\n",
       "    </tr>\n",
       "  </thead>\n",
       "  <tbody>\n",
       "    <tr>\n",
       "      <th>2013-01-01</th>\n",
       "      <td>1.959474</td>\n",
       "      <td>-0.388166</td>\n",
       "      <td>-1.698329</td>\n",
       "      <td>-0.216114</td>\n",
       "    </tr>\n",
       "    <tr>\n",
       "      <th>2013-01-02</th>\n",
       "      <td>0.295145</td>\n",
       "      <td>-1.598542</td>\n",
       "      <td>0.422077</td>\n",
       "      <td>0.960265</td>\n",
       "    </tr>\n",
       "    <tr>\n",
       "      <th>2013-01-03</th>\n",
       "      <td>0.854286</td>\n",
       "      <td>-0.386440</td>\n",
       "      <td>0.190415</td>\n",
       "      <td>1.520324</td>\n",
       "    </tr>\n",
       "    <tr>\n",
       "      <th>2013-01-04</th>\n",
       "      <td>1.566034</td>\n",
       "      <td>-2.575651</td>\n",
       "      <td>-0.949303</td>\n",
       "      <td>-1.670698</td>\n",
       "    </tr>\n",
       "    <tr>\n",
       "      <th>2013-01-06</th>\n",
       "      <td>0.002922</td>\n",
       "      <td>1.084618</td>\n",
       "      <td>-2.010518</td>\n",
       "      <td>-0.378324</td>\n",
       "    </tr>\n",
       "  </tbody>\n",
       "</table>\n",
       "</div>"
      ],
      "text/plain": [
       "                   A         B         C         D\n",
       "2013-01-01  1.959474 -0.388166 -1.698329 -0.216114\n",
       "2013-01-02  0.295145 -1.598542  0.422077  0.960265\n",
       "2013-01-03  0.854286 -0.386440  0.190415  1.520324\n",
       "2013-01-04  1.566034 -2.575651 -0.949303 -1.670698\n",
       "2013-01-06  0.002922  1.084618 -2.010518 -0.378324"
      ]
     },
     "execution_count": 36,
     "metadata": {},
     "output_type": "execute_result"
    }
   ],
   "source": [
    "df[df.A > 0]"
   ]
  },
  {
   "cell_type": "markdown",
   "id": "d93842bb",
   "metadata": {},
   "source": [
    "选择 **DataFrame** 里**满足条件**的值："
   ]
  },
  {
   "cell_type": "code",
   "execution_count": 37,
   "id": "bd63d1dd",
   "metadata": {},
   "outputs": [
    {
     "data": {
      "text/html": [
       "<div>\n",
       "<style scoped>\n",
       "    .dataframe tbody tr th:only-of-type {\n",
       "        vertical-align: middle;\n",
       "    }\n",
       "\n",
       "    .dataframe tbody tr th {\n",
       "        vertical-align: top;\n",
       "    }\n",
       "\n",
       "    .dataframe thead th {\n",
       "        text-align: right;\n",
       "    }\n",
       "</style>\n",
       "<table border=\"1\" class=\"dataframe\">\n",
       "  <thead>\n",
       "    <tr style=\"text-align: right;\">\n",
       "      <th></th>\n",
       "      <th>A</th>\n",
       "      <th>B</th>\n",
       "      <th>C</th>\n",
       "      <th>D</th>\n",
       "    </tr>\n",
       "  </thead>\n",
       "  <tbody>\n",
       "    <tr>\n",
       "      <th>2013-01-01</th>\n",
       "      <td>1.959474</td>\n",
       "      <td>NaN</td>\n",
       "      <td>NaN</td>\n",
       "      <td>NaN</td>\n",
       "    </tr>\n",
       "    <tr>\n",
       "      <th>2013-01-02</th>\n",
       "      <td>0.295145</td>\n",
       "      <td>NaN</td>\n",
       "      <td>0.422077</td>\n",
       "      <td>0.960265</td>\n",
       "    </tr>\n",
       "    <tr>\n",
       "      <th>2013-01-03</th>\n",
       "      <td>0.854286</td>\n",
       "      <td>NaN</td>\n",
       "      <td>0.190415</td>\n",
       "      <td>1.520324</td>\n",
       "    </tr>\n",
       "    <tr>\n",
       "      <th>2013-01-04</th>\n",
       "      <td>1.566034</td>\n",
       "      <td>NaN</td>\n",
       "      <td>NaN</td>\n",
       "      <td>NaN</td>\n",
       "    </tr>\n",
       "    <tr>\n",
       "      <th>2013-01-05</th>\n",
       "      <td>NaN</td>\n",
       "      <td>1.611275</td>\n",
       "      <td>NaN</td>\n",
       "      <td>NaN</td>\n",
       "    </tr>\n",
       "    <tr>\n",
       "      <th>2013-01-06</th>\n",
       "      <td>0.002922</td>\n",
       "      <td>1.084618</td>\n",
       "      <td>NaN</td>\n",
       "      <td>NaN</td>\n",
       "    </tr>\n",
       "  </tbody>\n",
       "</table>\n",
       "</div>"
      ],
      "text/plain": [
       "                   A         B         C         D\n",
       "2013-01-01  1.959474       NaN       NaN       NaN\n",
       "2013-01-02  0.295145       NaN  0.422077  0.960265\n",
       "2013-01-03  0.854286       NaN  0.190415  1.520324\n",
       "2013-01-04  1.566034       NaN       NaN       NaN\n",
       "2013-01-05       NaN  1.611275       NaN       NaN\n",
       "2013-01-06  0.002922  1.084618       NaN       NaN"
      ]
     },
     "execution_count": 37,
     "metadata": {},
     "output_type": "execute_result"
    }
   ],
   "source": [
    "df[df > 0]"
   ]
  },
  {
   "cell_type": "markdown",
   "id": "3100d075",
   "metadata": {},
   "source": [
    "用 **isin()** 筛选："
   ]
  },
  {
   "cell_type": "code",
   "execution_count": 38,
   "id": "db6b6a97",
   "metadata": {},
   "outputs": [
    {
     "data": {
      "text/html": [
       "<div>\n",
       "<style scoped>\n",
       "    .dataframe tbody tr th:only-of-type {\n",
       "        vertical-align: middle;\n",
       "    }\n",
       "\n",
       "    .dataframe tbody tr th {\n",
       "        vertical-align: top;\n",
       "    }\n",
       "\n",
       "    .dataframe thead th {\n",
       "        text-align: right;\n",
       "    }\n",
       "</style>\n",
       "<table border=\"1\" class=\"dataframe\">\n",
       "  <thead>\n",
       "    <tr style=\"text-align: right;\">\n",
       "      <th></th>\n",
       "      <th>A</th>\n",
       "      <th>B</th>\n",
       "      <th>C</th>\n",
       "      <th>D</th>\n",
       "      <th>E</th>\n",
       "    </tr>\n",
       "  </thead>\n",
       "  <tbody>\n",
       "    <tr>\n",
       "      <th>2013-01-01</th>\n",
       "      <td>1.959474</td>\n",
       "      <td>-0.388166</td>\n",
       "      <td>-1.698329</td>\n",
       "      <td>-0.216114</td>\n",
       "      <td>one</td>\n",
       "    </tr>\n",
       "    <tr>\n",
       "      <th>2013-01-02</th>\n",
       "      <td>0.295145</td>\n",
       "      <td>-1.598542</td>\n",
       "      <td>0.422077</td>\n",
       "      <td>0.960265</td>\n",
       "      <td>one</td>\n",
       "    </tr>\n",
       "    <tr>\n",
       "      <th>2013-01-03</th>\n",
       "      <td>0.854286</td>\n",
       "      <td>-0.386440</td>\n",
       "      <td>0.190415</td>\n",
       "      <td>1.520324</td>\n",
       "      <td>two</td>\n",
       "    </tr>\n",
       "    <tr>\n",
       "      <th>2013-01-04</th>\n",
       "      <td>1.566034</td>\n",
       "      <td>-2.575651</td>\n",
       "      <td>-0.949303</td>\n",
       "      <td>-1.670698</td>\n",
       "      <td>three</td>\n",
       "    </tr>\n",
       "    <tr>\n",
       "      <th>2013-01-05</th>\n",
       "      <td>-0.993085</td>\n",
       "      <td>1.611275</td>\n",
       "      <td>-0.204665</td>\n",
       "      <td>-0.183928</td>\n",
       "      <td>four</td>\n",
       "    </tr>\n",
       "    <tr>\n",
       "      <th>2013-01-06</th>\n",
       "      <td>0.002922</td>\n",
       "      <td>1.084618</td>\n",
       "      <td>-2.010518</td>\n",
       "      <td>-0.378324</td>\n",
       "      <td>three</td>\n",
       "    </tr>\n",
       "  </tbody>\n",
       "</table>\n",
       "</div>"
      ],
      "text/plain": [
       "                   A         B         C         D      E\n",
       "2013-01-01  1.959474 -0.388166 -1.698329 -0.216114    one\n",
       "2013-01-02  0.295145 -1.598542  0.422077  0.960265    one\n",
       "2013-01-03  0.854286 -0.386440  0.190415  1.520324    two\n",
       "2013-01-04  1.566034 -2.575651 -0.949303 -1.670698  three\n",
       "2013-01-05 -0.993085  1.611275 -0.204665 -0.183928   four\n",
       "2013-01-06  0.002922  1.084618 -2.010518 -0.378324  three"
      ]
     },
     "execution_count": 38,
     "metadata": {},
     "output_type": "execute_result"
    }
   ],
   "source": [
    "df2 = df.copy()\n",
    "df2['E'] = ['one', 'one', 'two', 'three', 'four', 'three']\n",
    "df2"
   ]
  },
  {
   "cell_type": "code",
   "execution_count": 39,
   "id": "3cc3256e",
   "metadata": {},
   "outputs": [
    {
     "data": {
      "text/html": [
       "<div>\n",
       "<style scoped>\n",
       "    .dataframe tbody tr th:only-of-type {\n",
       "        vertical-align: middle;\n",
       "    }\n",
       "\n",
       "    .dataframe tbody tr th {\n",
       "        vertical-align: top;\n",
       "    }\n",
       "\n",
       "    .dataframe thead th {\n",
       "        text-align: right;\n",
       "    }\n",
       "</style>\n",
       "<table border=\"1\" class=\"dataframe\">\n",
       "  <thead>\n",
       "    <tr style=\"text-align: right;\">\n",
       "      <th></th>\n",
       "      <th>A</th>\n",
       "      <th>B</th>\n",
       "      <th>C</th>\n",
       "      <th>D</th>\n",
       "      <th>E</th>\n",
       "    </tr>\n",
       "  </thead>\n",
       "  <tbody>\n",
       "    <tr>\n",
       "      <th>2013-01-03</th>\n",
       "      <td>0.854286</td>\n",
       "      <td>-0.386440</td>\n",
       "      <td>0.190415</td>\n",
       "      <td>1.520324</td>\n",
       "      <td>two</td>\n",
       "    </tr>\n",
       "    <tr>\n",
       "      <th>2013-01-05</th>\n",
       "      <td>-0.993085</td>\n",
       "      <td>1.611275</td>\n",
       "      <td>-0.204665</td>\n",
       "      <td>-0.183928</td>\n",
       "      <td>four</td>\n",
       "    </tr>\n",
       "  </tbody>\n",
       "</table>\n",
       "</div>"
      ],
      "text/plain": [
       "                   A         B         C         D     E\n",
       "2013-01-03  0.854286 -0.386440  0.190415  1.520324   two\n",
       "2013-01-05 -0.993085  1.611275 -0.204665 -0.183928  four"
      ]
     },
     "execution_count": 39,
     "metadata": {},
     "output_type": "execute_result"
    }
   ],
   "source": [
    "'''\n",
    "    Whether elements in Series are contained in `values`.\n",
    "    \n",
    "    Return a boolean Series showing whether each element in the Series\n",
    "    matches an element in the passed sequence of `values` exactly.\n",
    "    \n",
    "    Parameters\n",
    "    ----------\n",
    "    values : set or list-like\n",
    "        The sequence of values to test. Passing in a single string will\n",
    "        raise a ``TypeError``. Instead, turn a single string into a\n",
    "        list of one element.\n",
    "'''\n",
    "\n",
    "df2[df2['E'].isin(['two', 'four'])]"
   ]
  },
  {
   "cell_type": "markdown",
   "id": "77b62388",
   "metadata": {},
   "source": [
    "### 赋值"
   ]
  },
  {
   "cell_type": "markdown",
   "id": "c5697375",
   "metadata": {},
   "source": [
    "用**索引**自动对齐**新增列的数据**："
   ]
  },
  {
   "cell_type": "code",
   "execution_count": 40,
   "id": "6b5fd76c",
   "metadata": {},
   "outputs": [
    {
     "data": {
      "text/html": [
       "<div>\n",
       "<style scoped>\n",
       "    .dataframe tbody tr th:only-of-type {\n",
       "        vertical-align: middle;\n",
       "    }\n",
       "\n",
       "    .dataframe tbody tr th {\n",
       "        vertical-align: top;\n",
       "    }\n",
       "\n",
       "    .dataframe thead th {\n",
       "        text-align: right;\n",
       "    }\n",
       "</style>\n",
       "<table border=\"1\" class=\"dataframe\">\n",
       "  <thead>\n",
       "    <tr style=\"text-align: right;\">\n",
       "      <th></th>\n",
       "      <th>A</th>\n",
       "      <th>B</th>\n",
       "      <th>C</th>\n",
       "      <th>D</th>\n",
       "      <th>F</th>\n",
       "    </tr>\n",
       "  </thead>\n",
       "  <tbody>\n",
       "    <tr>\n",
       "      <th>2013-01-01</th>\n",
       "      <td>1.959474</td>\n",
       "      <td>-0.388166</td>\n",
       "      <td>-1.698329</td>\n",
       "      <td>-0.216114</td>\n",
       "      <td>NaN</td>\n",
       "    </tr>\n",
       "    <tr>\n",
       "      <th>2013-01-02</th>\n",
       "      <td>0.295145</td>\n",
       "      <td>-1.598542</td>\n",
       "      <td>0.422077</td>\n",
       "      <td>0.960265</td>\n",
       "      <td>1.0</td>\n",
       "    </tr>\n",
       "    <tr>\n",
       "      <th>2013-01-03</th>\n",
       "      <td>0.854286</td>\n",
       "      <td>-0.386440</td>\n",
       "      <td>0.190415</td>\n",
       "      <td>1.520324</td>\n",
       "      <td>2.0</td>\n",
       "    </tr>\n",
       "    <tr>\n",
       "      <th>2013-01-04</th>\n",
       "      <td>1.566034</td>\n",
       "      <td>-2.575651</td>\n",
       "      <td>-0.949303</td>\n",
       "      <td>-1.670698</td>\n",
       "      <td>3.0</td>\n",
       "    </tr>\n",
       "    <tr>\n",
       "      <th>2013-01-05</th>\n",
       "      <td>-0.993085</td>\n",
       "      <td>1.611275</td>\n",
       "      <td>-0.204665</td>\n",
       "      <td>-0.183928</td>\n",
       "      <td>4.0</td>\n",
       "    </tr>\n",
       "    <tr>\n",
       "      <th>2013-01-06</th>\n",
       "      <td>0.002922</td>\n",
       "      <td>1.084618</td>\n",
       "      <td>-2.010518</td>\n",
       "      <td>-0.378324</td>\n",
       "      <td>5.0</td>\n",
       "    </tr>\n",
       "  </tbody>\n",
       "</table>\n",
       "</div>"
      ],
      "text/plain": [
       "                   A         B         C         D    F\n",
       "2013-01-01  1.959474 -0.388166 -1.698329 -0.216114  NaN\n",
       "2013-01-02  0.295145 -1.598542  0.422077  0.960265  1.0\n",
       "2013-01-03  0.854286 -0.386440  0.190415  1.520324  2.0\n",
       "2013-01-04  1.566034 -2.575651 -0.949303 -1.670698  3.0\n",
       "2013-01-05 -0.993085  1.611275 -0.204665 -0.183928  4.0\n",
       "2013-01-06  0.002922  1.084618 -2.010518 -0.378324  5.0"
      ]
     },
     "execution_count": 40,
     "metadata": {},
     "output_type": "execute_result"
    }
   ],
   "source": [
    "s1 = pd.Series([1, 2, 3, 4, 5, 6], index=pd.date_range('20130102', periods=6))\n",
    "df['F'] = s1\n",
    "df"
   ]
  },
  {
   "cell_type": "markdown",
   "id": "8f824c95",
   "metadata": {},
   "source": [
    "按**标签赋值**："
   ]
  },
  {
   "cell_type": "code",
   "execution_count": 41,
   "id": "cfbeb94f",
   "metadata": {},
   "outputs": [],
   "source": [
    "df.at[dates[0], 'A'] = 0"
   ]
  },
  {
   "cell_type": "markdown",
   "id": "01abcf67",
   "metadata": {},
   "source": [
    "按**位置赋值**："
   ]
  },
  {
   "cell_type": "code",
   "execution_count": 42,
   "id": "3946926d",
   "metadata": {},
   "outputs": [],
   "source": [
    "df.iat[0, 1] = 0"
   ]
  },
  {
   "cell_type": "markdown",
   "id": "98b60c49",
   "metadata": {},
   "source": [
    "按 **NumPy 数组**赋值："
   ]
  },
  {
   "cell_type": "code",
   "execution_count": 43,
   "id": "032f616c",
   "metadata": {},
   "outputs": [],
   "source": [
    "df.loc[:, 'D'] = np.array([5] * len(df))"
   ]
  },
  {
   "cell_type": "markdown",
   "id": "ea098cb9",
   "metadata": {},
   "source": [
    "上述**赋值结果**："
   ]
  },
  {
   "cell_type": "code",
   "execution_count": 44,
   "id": "dde499e5",
   "metadata": {},
   "outputs": [
    {
     "data": {
      "text/html": [
       "<div>\n",
       "<style scoped>\n",
       "    .dataframe tbody tr th:only-of-type {\n",
       "        vertical-align: middle;\n",
       "    }\n",
       "\n",
       "    .dataframe tbody tr th {\n",
       "        vertical-align: top;\n",
       "    }\n",
       "\n",
       "    .dataframe thead th {\n",
       "        text-align: right;\n",
       "    }\n",
       "</style>\n",
       "<table border=\"1\" class=\"dataframe\">\n",
       "  <thead>\n",
       "    <tr style=\"text-align: right;\">\n",
       "      <th></th>\n",
       "      <th>A</th>\n",
       "      <th>B</th>\n",
       "      <th>C</th>\n",
       "      <th>D</th>\n",
       "      <th>F</th>\n",
       "    </tr>\n",
       "  </thead>\n",
       "  <tbody>\n",
       "    <tr>\n",
       "      <th>2013-01-01</th>\n",
       "      <td>0.000000</td>\n",
       "      <td>0.000000</td>\n",
       "      <td>-1.698329</td>\n",
       "      <td>5</td>\n",
       "      <td>NaN</td>\n",
       "    </tr>\n",
       "    <tr>\n",
       "      <th>2013-01-02</th>\n",
       "      <td>0.295145</td>\n",
       "      <td>-1.598542</td>\n",
       "      <td>0.422077</td>\n",
       "      <td>5</td>\n",
       "      <td>1.0</td>\n",
       "    </tr>\n",
       "    <tr>\n",
       "      <th>2013-01-03</th>\n",
       "      <td>0.854286</td>\n",
       "      <td>-0.386440</td>\n",
       "      <td>0.190415</td>\n",
       "      <td>5</td>\n",
       "      <td>2.0</td>\n",
       "    </tr>\n",
       "    <tr>\n",
       "      <th>2013-01-04</th>\n",
       "      <td>1.566034</td>\n",
       "      <td>-2.575651</td>\n",
       "      <td>-0.949303</td>\n",
       "      <td>5</td>\n",
       "      <td>3.0</td>\n",
       "    </tr>\n",
       "    <tr>\n",
       "      <th>2013-01-05</th>\n",
       "      <td>-0.993085</td>\n",
       "      <td>1.611275</td>\n",
       "      <td>-0.204665</td>\n",
       "      <td>5</td>\n",
       "      <td>4.0</td>\n",
       "    </tr>\n",
       "    <tr>\n",
       "      <th>2013-01-06</th>\n",
       "      <td>0.002922</td>\n",
       "      <td>1.084618</td>\n",
       "      <td>-2.010518</td>\n",
       "      <td>5</td>\n",
       "      <td>5.0</td>\n",
       "    </tr>\n",
       "  </tbody>\n",
       "</table>\n",
       "</div>"
      ],
      "text/plain": [
       "                   A         B         C  D    F\n",
       "2013-01-01  0.000000  0.000000 -1.698329  5  NaN\n",
       "2013-01-02  0.295145 -1.598542  0.422077  5  1.0\n",
       "2013-01-03  0.854286 -0.386440  0.190415  5  2.0\n",
       "2013-01-04  1.566034 -2.575651 -0.949303  5  3.0\n",
       "2013-01-05 -0.993085  1.611275 -0.204665  5  4.0\n",
       "2013-01-06  0.002922  1.084618 -2.010518  5  5.0"
      ]
     },
     "execution_count": 44,
     "metadata": {},
     "output_type": "execute_result"
    }
   ],
   "source": [
    "df"
   ]
  },
  {
   "cell_type": "markdown",
   "id": "417c97a8",
   "metadata": {},
   "source": [
    "用 **where** 条件赋值："
   ]
  },
  {
   "cell_type": "code",
   "execution_count": 45,
   "id": "0bc795d7",
   "metadata": {},
   "outputs": [
    {
     "data": {
      "text/html": [
       "<div>\n",
       "<style scoped>\n",
       "    .dataframe tbody tr th:only-of-type {\n",
       "        vertical-align: middle;\n",
       "    }\n",
       "\n",
       "    .dataframe tbody tr th {\n",
       "        vertical-align: top;\n",
       "    }\n",
       "\n",
       "    .dataframe thead th {\n",
       "        text-align: right;\n",
       "    }\n",
       "</style>\n",
       "<table border=\"1\" class=\"dataframe\">\n",
       "  <thead>\n",
       "    <tr style=\"text-align: right;\">\n",
       "      <th></th>\n",
       "      <th>A</th>\n",
       "      <th>B</th>\n",
       "      <th>C</th>\n",
       "      <th>D</th>\n",
       "      <th>F</th>\n",
       "    </tr>\n",
       "  </thead>\n",
       "  <tbody>\n",
       "    <tr>\n",
       "      <th>2013-01-01</th>\n",
       "      <td>0.000000</td>\n",
       "      <td>0.000000</td>\n",
       "      <td>-1.698329</td>\n",
       "      <td>-5</td>\n",
       "      <td>NaN</td>\n",
       "    </tr>\n",
       "    <tr>\n",
       "      <th>2013-01-02</th>\n",
       "      <td>-0.295145</td>\n",
       "      <td>-1.598542</td>\n",
       "      <td>-0.422077</td>\n",
       "      <td>-5</td>\n",
       "      <td>-1.0</td>\n",
       "    </tr>\n",
       "    <tr>\n",
       "      <th>2013-01-03</th>\n",
       "      <td>-0.854286</td>\n",
       "      <td>-0.386440</td>\n",
       "      <td>-0.190415</td>\n",
       "      <td>-5</td>\n",
       "      <td>-2.0</td>\n",
       "    </tr>\n",
       "    <tr>\n",
       "      <th>2013-01-04</th>\n",
       "      <td>-1.566034</td>\n",
       "      <td>-2.575651</td>\n",
       "      <td>-0.949303</td>\n",
       "      <td>-5</td>\n",
       "      <td>-3.0</td>\n",
       "    </tr>\n",
       "    <tr>\n",
       "      <th>2013-01-05</th>\n",
       "      <td>-0.993085</td>\n",
       "      <td>-1.611275</td>\n",
       "      <td>-0.204665</td>\n",
       "      <td>-5</td>\n",
       "      <td>-4.0</td>\n",
       "    </tr>\n",
       "    <tr>\n",
       "      <th>2013-01-06</th>\n",
       "      <td>-0.002922</td>\n",
       "      <td>-1.084618</td>\n",
       "      <td>-2.010518</td>\n",
       "      <td>-5</td>\n",
       "      <td>-5.0</td>\n",
       "    </tr>\n",
       "  </tbody>\n",
       "</table>\n",
       "</div>"
      ],
      "text/plain": [
       "                   A         B         C  D    F\n",
       "2013-01-01  0.000000  0.000000 -1.698329 -5  NaN\n",
       "2013-01-02 -0.295145 -1.598542 -0.422077 -5 -1.0\n",
       "2013-01-03 -0.854286 -0.386440 -0.190415 -5 -2.0\n",
       "2013-01-04 -1.566034 -2.575651 -0.949303 -5 -3.0\n",
       "2013-01-05 -0.993085 -1.611275 -0.204665 -5 -4.0\n",
       "2013-01-06 -0.002922 -1.084618 -2.010518 -5 -5.0"
      ]
     },
     "execution_count": 45,
     "metadata": {},
     "output_type": "execute_result"
    }
   ],
   "source": [
    "df2 = df.copy()\n",
    "df2[df2 > 0] = -df2\n",
    "df2"
   ]
  },
  {
   "cell_type": "markdown",
   "id": "69af8c25",
   "metadata": {},
   "source": [
    "## 缺失值"
   ]
  },
  {
   "cell_type": "markdown",
   "id": "eeef1241",
   "metadata": {},
   "source": [
    "**Pandas** 主要用 **np.nan** 表示**缺失数据**。计算时，默认不包含空值。\n",
    "\n",
    "**重建索引**（reindex）可以**更改**、**添加**、**删除**指定轴的索引，并**返回数据副本**，即不更改原数据。"
   ]
  },
  {
   "cell_type": "code",
   "execution_count": 46,
   "id": "7857ed39",
   "metadata": {},
   "outputs": [
    {
     "data": {
      "text/html": [
       "<div>\n",
       "<style scoped>\n",
       "    .dataframe tbody tr th:only-of-type {\n",
       "        vertical-align: middle;\n",
       "    }\n",
       "\n",
       "    .dataframe tbody tr th {\n",
       "        vertical-align: top;\n",
       "    }\n",
       "\n",
       "    .dataframe thead th {\n",
       "        text-align: right;\n",
       "    }\n",
       "</style>\n",
       "<table border=\"1\" class=\"dataframe\">\n",
       "  <thead>\n",
       "    <tr style=\"text-align: right;\">\n",
       "      <th></th>\n",
       "      <th>A</th>\n",
       "      <th>B</th>\n",
       "      <th>C</th>\n",
       "      <th>D</th>\n",
       "      <th>F</th>\n",
       "      <th>E</th>\n",
       "    </tr>\n",
       "  </thead>\n",
       "  <tbody>\n",
       "    <tr>\n",
       "      <th>2013-01-01</th>\n",
       "      <td>0.000000</td>\n",
       "      <td>0.000000</td>\n",
       "      <td>-1.698329</td>\n",
       "      <td>5</td>\n",
       "      <td>NaN</td>\n",
       "      <td>1.0</td>\n",
       "    </tr>\n",
       "    <tr>\n",
       "      <th>2013-01-02</th>\n",
       "      <td>0.295145</td>\n",
       "      <td>-1.598542</td>\n",
       "      <td>0.422077</td>\n",
       "      <td>5</td>\n",
       "      <td>1.0</td>\n",
       "      <td>1.0</td>\n",
       "    </tr>\n",
       "    <tr>\n",
       "      <th>2013-01-03</th>\n",
       "      <td>0.854286</td>\n",
       "      <td>-0.386440</td>\n",
       "      <td>0.190415</td>\n",
       "      <td>5</td>\n",
       "      <td>2.0</td>\n",
       "      <td>NaN</td>\n",
       "    </tr>\n",
       "    <tr>\n",
       "      <th>2013-01-04</th>\n",
       "      <td>1.566034</td>\n",
       "      <td>-2.575651</td>\n",
       "      <td>-0.949303</td>\n",
       "      <td>5</td>\n",
       "      <td>3.0</td>\n",
       "      <td>NaN</td>\n",
       "    </tr>\n",
       "  </tbody>\n",
       "</table>\n",
       "</div>"
      ],
      "text/plain": [
       "                   A         B         C  D    F    E\n",
       "2013-01-01  0.000000  0.000000 -1.698329  5  NaN  1.0\n",
       "2013-01-02  0.295145 -1.598542  0.422077  5  1.0  1.0\n",
       "2013-01-03  0.854286 -0.386440  0.190415  5  2.0  NaN\n",
       "2013-01-04  1.566034 -2.575651 -0.949303  5  3.0  NaN"
      ]
     },
     "execution_count": 46,
     "metadata": {},
     "output_type": "execute_result"
    }
   ],
   "source": [
    "df1 = df.reindex(index=dates[0:4], columns=list(df.columns) + ['E'])\n",
    "df1.loc[dates[0]:dates[1], 'E'] = 1\n",
    "df1"
   ]
  },
  {
   "cell_type": "markdown",
   "id": "78eeb526",
   "metadata": {},
   "source": [
    "**删除**所有**含缺失值的行**："
   ]
  },
  {
   "cell_type": "code",
   "execution_count": 47,
   "id": "49329869",
   "metadata": {},
   "outputs": [
    {
     "data": {
      "text/html": [
       "<div>\n",
       "<style scoped>\n",
       "    .dataframe tbody tr th:only-of-type {\n",
       "        vertical-align: middle;\n",
       "    }\n",
       "\n",
       "    .dataframe tbody tr th {\n",
       "        vertical-align: top;\n",
       "    }\n",
       "\n",
       "    .dataframe thead th {\n",
       "        text-align: right;\n",
       "    }\n",
       "</style>\n",
       "<table border=\"1\" class=\"dataframe\">\n",
       "  <thead>\n",
       "    <tr style=\"text-align: right;\">\n",
       "      <th></th>\n",
       "      <th>A</th>\n",
       "      <th>B</th>\n",
       "      <th>C</th>\n",
       "      <th>D</th>\n",
       "      <th>F</th>\n",
       "      <th>E</th>\n",
       "    </tr>\n",
       "  </thead>\n",
       "  <tbody>\n",
       "    <tr>\n",
       "      <th>2013-01-02</th>\n",
       "      <td>0.295145</td>\n",
       "      <td>-1.598542</td>\n",
       "      <td>0.422077</td>\n",
       "      <td>5</td>\n",
       "      <td>1.0</td>\n",
       "      <td>1.0</td>\n",
       "    </tr>\n",
       "  </tbody>\n",
       "</table>\n",
       "</div>"
      ],
      "text/plain": [
       "                   A         B         C  D    F    E\n",
       "2013-01-02  0.295145 -1.598542  0.422077  5  1.0  1.0"
      ]
     },
     "execution_count": 47,
     "metadata": {},
     "output_type": "execute_result"
    }
   ],
   "source": [
    "'''\n",
    "    Remove missing values.\n",
    "    \n",
    "    Parameters\n",
    "    ----------\n",
    "    axis : {0 or 'index', 1 or 'columns'}, default 0\n",
    "        Determine if rows or columns which contain missing values are\n",
    "        removed.\n",
    "    \n",
    "        * 0, or 'index' : Drop rows which contain missing values.\n",
    "        * 1, or 'columns' : Drop columns which contain missing value.\n",
    "    \n",
    "        .. versionchanged:: 1.0.0\n",
    "    \n",
    "           Pass tuple or list to drop on multiple axes.\n",
    "           Only a single axis is allowed.\n",
    "    \n",
    "    how : {'any', 'all'}, default 'any'\n",
    "        Determine if row or column is removed from DataFrame, when we have\n",
    "        at least one NA or all NA.\n",
    "    \n",
    "        * 'any' : If any NA values are present, drop that row or column.\n",
    "        * 'all' : If all values are NA, drop that row or column.\n",
    "'''\n",
    "\n",
    "df1.dropna(how='any')"
   ]
  },
  {
   "cell_type": "markdown",
   "id": "234ea7f9",
   "metadata": {},
   "source": [
    "填充缺失值："
   ]
  },
  {
   "cell_type": "code",
   "execution_count": 48,
   "id": "c5c757b6",
   "metadata": {},
   "outputs": [
    {
     "data": {
      "text/html": [
       "<div>\n",
       "<style scoped>\n",
       "    .dataframe tbody tr th:only-of-type {\n",
       "        vertical-align: middle;\n",
       "    }\n",
       "\n",
       "    .dataframe tbody tr th {\n",
       "        vertical-align: top;\n",
       "    }\n",
       "\n",
       "    .dataframe thead th {\n",
       "        text-align: right;\n",
       "    }\n",
       "</style>\n",
       "<table border=\"1\" class=\"dataframe\">\n",
       "  <thead>\n",
       "    <tr style=\"text-align: right;\">\n",
       "      <th></th>\n",
       "      <th>A</th>\n",
       "      <th>B</th>\n",
       "      <th>C</th>\n",
       "      <th>D</th>\n",
       "      <th>F</th>\n",
       "      <th>E</th>\n",
       "    </tr>\n",
       "  </thead>\n",
       "  <tbody>\n",
       "    <tr>\n",
       "      <th>2013-01-01</th>\n",
       "      <td>0.000000</td>\n",
       "      <td>0.000000</td>\n",
       "      <td>-1.698329</td>\n",
       "      <td>5</td>\n",
       "      <td>5.0</td>\n",
       "      <td>1.0</td>\n",
       "    </tr>\n",
       "    <tr>\n",
       "      <th>2013-01-02</th>\n",
       "      <td>0.295145</td>\n",
       "      <td>-1.598542</td>\n",
       "      <td>0.422077</td>\n",
       "      <td>5</td>\n",
       "      <td>1.0</td>\n",
       "      <td>1.0</td>\n",
       "    </tr>\n",
       "    <tr>\n",
       "      <th>2013-01-03</th>\n",
       "      <td>0.854286</td>\n",
       "      <td>-0.386440</td>\n",
       "      <td>0.190415</td>\n",
       "      <td>5</td>\n",
       "      <td>2.0</td>\n",
       "      <td>5.0</td>\n",
       "    </tr>\n",
       "    <tr>\n",
       "      <th>2013-01-04</th>\n",
       "      <td>1.566034</td>\n",
       "      <td>-2.575651</td>\n",
       "      <td>-0.949303</td>\n",
       "      <td>5</td>\n",
       "      <td>3.0</td>\n",
       "      <td>5.0</td>\n",
       "    </tr>\n",
       "  </tbody>\n",
       "</table>\n",
       "</div>"
      ],
      "text/plain": [
       "                   A         B         C  D    F    E\n",
       "2013-01-01  0.000000  0.000000 -1.698329  5  5.0  1.0\n",
       "2013-01-02  0.295145 -1.598542  0.422077  5  1.0  1.0\n",
       "2013-01-03  0.854286 -0.386440  0.190415  5  2.0  5.0\n",
       "2013-01-04  1.566034 -2.575651 -0.949303  5  3.0  5.0"
      ]
     },
     "execution_count": 48,
     "metadata": {},
     "output_type": "execute_result"
    }
   ],
   "source": [
    "df1.fillna(value=5)"
   ]
  },
  {
   "cell_type": "markdown",
   "id": "6b144075",
   "metadata": {},
   "source": [
    "提取 **nan** 值的**布尔掩码**："
   ]
  },
  {
   "cell_type": "code",
   "execution_count": 49,
   "id": "a74561a3",
   "metadata": {},
   "outputs": [
    {
     "data": {
      "text/html": [
       "<div>\n",
       "<style scoped>\n",
       "    .dataframe tbody tr th:only-of-type {\n",
       "        vertical-align: middle;\n",
       "    }\n",
       "\n",
       "    .dataframe tbody tr th {\n",
       "        vertical-align: top;\n",
       "    }\n",
       "\n",
       "    .dataframe thead th {\n",
       "        text-align: right;\n",
       "    }\n",
       "</style>\n",
       "<table border=\"1\" class=\"dataframe\">\n",
       "  <thead>\n",
       "    <tr style=\"text-align: right;\">\n",
       "      <th></th>\n",
       "      <th>A</th>\n",
       "      <th>B</th>\n",
       "      <th>C</th>\n",
       "      <th>D</th>\n",
       "      <th>F</th>\n",
       "      <th>E</th>\n",
       "    </tr>\n",
       "  </thead>\n",
       "  <tbody>\n",
       "    <tr>\n",
       "      <th>2013-01-01</th>\n",
       "      <td>False</td>\n",
       "      <td>False</td>\n",
       "      <td>False</td>\n",
       "      <td>False</td>\n",
       "      <td>True</td>\n",
       "      <td>False</td>\n",
       "    </tr>\n",
       "    <tr>\n",
       "      <th>2013-01-02</th>\n",
       "      <td>False</td>\n",
       "      <td>False</td>\n",
       "      <td>False</td>\n",
       "      <td>False</td>\n",
       "      <td>False</td>\n",
       "      <td>False</td>\n",
       "    </tr>\n",
       "    <tr>\n",
       "      <th>2013-01-03</th>\n",
       "      <td>False</td>\n",
       "      <td>False</td>\n",
       "      <td>False</td>\n",
       "      <td>False</td>\n",
       "      <td>False</td>\n",
       "      <td>True</td>\n",
       "    </tr>\n",
       "    <tr>\n",
       "      <th>2013-01-04</th>\n",
       "      <td>False</td>\n",
       "      <td>False</td>\n",
       "      <td>False</td>\n",
       "      <td>False</td>\n",
       "      <td>False</td>\n",
       "      <td>True</td>\n",
       "    </tr>\n",
       "  </tbody>\n",
       "</table>\n",
       "</div>"
      ],
      "text/plain": [
       "                A      B      C      D      F      E\n",
       "2013-01-01  False  False  False  False   True  False\n",
       "2013-01-02  False  False  False  False  False  False\n",
       "2013-01-03  False  False  False  False  False   True\n",
       "2013-01-04  False  False  False  False  False   True"
      ]
     },
     "execution_count": 49,
     "metadata": {},
     "output_type": "execute_result"
    }
   ],
   "source": [
    "pd.isna(df1)"
   ]
  },
  {
   "cell_type": "markdown",
   "id": "76380695",
   "metadata": {},
   "source": [
    "## 运算"
   ]
  },
  {
   "cell_type": "markdown",
   "id": "c032e2ac",
   "metadata": {},
   "source": [
    "### 统计"
   ]
  },
  {
   "cell_type": "markdown",
   "id": "434747b1",
   "metadata": {},
   "source": [
    "一般情况下，运算时**排除缺失值**。\n",
    "\n",
    "描述性统计："
   ]
  },
  {
   "cell_type": "code",
   "execution_count": 50,
   "id": "0b8e209b",
   "metadata": {},
   "outputs": [
    {
     "data": {
      "text/plain": [
       "A    0.287550\n",
       "B   -0.310790\n",
       "C   -0.708387\n",
       "D    5.000000\n",
       "F    3.000000\n",
       "dtype: float64"
      ]
     },
     "execution_count": 50,
     "metadata": {},
     "output_type": "execute_result"
    }
   ],
   "source": [
    "df.mean()"
   ]
  },
  {
   "cell_type": "markdown",
   "id": "4b7149ce",
   "metadata": {},
   "source": [
    "在**另一个轴(即，行)**上执行同样的操作："
   ]
  },
  {
   "cell_type": "code",
   "execution_count": 51,
   "id": "089032b8",
   "metadata": {},
   "outputs": [
    {
     "data": {
      "text/plain": [
       "2013-01-01    0.825418\n",
       "2013-01-02    1.023736\n",
       "2013-01-03    1.531652\n",
       "2013-01-04    1.208216\n",
       "2013-01-05    1.882705\n",
       "2013-01-06    1.815404\n",
       "Freq: D, dtype: float64"
      ]
     },
     "execution_count": 51,
     "metadata": {},
     "output_type": "execute_result"
    }
   ],
   "source": [
    "df.mean(1)"
   ]
  },
  {
   "cell_type": "markdown",
   "id": "938f7de0",
   "metadata": {},
   "source": [
    "**不同维度对象运算**时，**要先对齐**。 此外，**Pandas** 自动**沿指定维度广播**。"
   ]
  },
  {
   "cell_type": "code",
   "execution_count": 52,
   "id": "22997059",
   "metadata": {},
   "outputs": [
    {
     "data": {
      "text/plain": [
       "2013-01-01    NaN\n",
       "2013-01-02    NaN\n",
       "2013-01-03    1.0\n",
       "2013-01-04    3.0\n",
       "2013-01-05    5.0\n",
       "2013-01-06    NaN\n",
       "Freq: D, dtype: float64"
      ]
     },
     "execution_count": 52,
     "metadata": {},
     "output_type": "execute_result"
    }
   ],
   "source": [
    "'''\n",
    "    Examples\n",
    "    --------\n",
    "    >>> df = pd.DataFrame({\"Col1\": [10, 20, 15, 30, 45],\n",
    "    ...                    \"Col2\": [13, 23, 18, 33, 48],\n",
    "    ...                    \"Col3\": [17, 27, 22, 37, 52]},\n",
    "    ...                   index=pd.date_range(\"2020-01-01\", \"2020-01-05\"))\n",
    "    >>> df\n",
    "                Col1  Col2  Col3\n",
    "    2020-01-01    10    13    17\n",
    "    2020-01-02    20    23    27\n",
    "    2020-01-03    15    18    22\n",
    "    2020-01-04    30    33    37\n",
    "    2020-01-05    45    48    52\n",
    "    \n",
    "    >>> df.shift(periods=3)\n",
    "                Col1  Col2  Col3\n",
    "    2020-01-01   NaN   NaN   NaN\n",
    "    2020-01-02   NaN   NaN   NaN\n",
    "    2020-01-03   NaN   NaN   NaN\n",
    "    2020-01-04  10.0  13.0  17.0\n",
    "    2020-01-05  20.0  23.0  27.0\n",
    "    \n",
    "    >>> df.shift(periods=1, axis=\"columns\")\n",
    "                Col1  Col2  Col3\n",
    "    2020-01-01   NaN    10    13\n",
    "    2020-01-02   NaN    20    23\n",
    "    2020-01-03   NaN    15    18\n",
    "    2020-01-04   NaN    30    33\n",
    "    2020-01-05   NaN    45    48\n",
    "    \n",
    "    >>> df.shift(periods=3, fill_value=0)\n",
    "                Col1  Col2  Col3\n",
    "    2020-01-01     0     0     0\n",
    "    2020-01-02     0     0     0\n",
    "    2020-01-03     0     0     0\n",
    "    2020-01-04    10    13    17\n",
    "    2020-01-05    20    23    27\n",
    "'''\n",
    "\n",
    "s = pd.Series([1, 3, 5, np.nan, 6, 8], index=dates).shift(2)\n",
    "s"
   ]
  },
  {
   "cell_type": "code",
   "execution_count": 53,
   "id": "cd6a868f",
   "metadata": {},
   "outputs": [
    {
     "data": {
      "text/html": [
       "<div>\n",
       "<style scoped>\n",
       "    .dataframe tbody tr th:only-of-type {\n",
       "        vertical-align: middle;\n",
       "    }\n",
       "\n",
       "    .dataframe tbody tr th {\n",
       "        vertical-align: top;\n",
       "    }\n",
       "\n",
       "    .dataframe thead th {\n",
       "        text-align: right;\n",
       "    }\n",
       "</style>\n",
       "<table border=\"1\" class=\"dataframe\">\n",
       "  <thead>\n",
       "    <tr style=\"text-align: right;\">\n",
       "      <th></th>\n",
       "      <th>A</th>\n",
       "      <th>B</th>\n",
       "      <th>C</th>\n",
       "      <th>D</th>\n",
       "      <th>F</th>\n",
       "    </tr>\n",
       "  </thead>\n",
       "  <tbody>\n",
       "    <tr>\n",
       "      <th>2013-01-01</th>\n",
       "      <td>NaN</td>\n",
       "      <td>NaN</td>\n",
       "      <td>NaN</td>\n",
       "      <td>NaN</td>\n",
       "      <td>NaN</td>\n",
       "    </tr>\n",
       "    <tr>\n",
       "      <th>2013-01-02</th>\n",
       "      <td>NaN</td>\n",
       "      <td>NaN</td>\n",
       "      <td>NaN</td>\n",
       "      <td>NaN</td>\n",
       "      <td>NaN</td>\n",
       "    </tr>\n",
       "    <tr>\n",
       "      <th>2013-01-03</th>\n",
       "      <td>-0.145714</td>\n",
       "      <td>-1.386440</td>\n",
       "      <td>-0.809585</td>\n",
       "      <td>4.0</td>\n",
       "      <td>1.0</td>\n",
       "    </tr>\n",
       "    <tr>\n",
       "      <th>2013-01-04</th>\n",
       "      <td>-1.433966</td>\n",
       "      <td>-5.575651</td>\n",
       "      <td>-3.949303</td>\n",
       "      <td>2.0</td>\n",
       "      <td>0.0</td>\n",
       "    </tr>\n",
       "    <tr>\n",
       "      <th>2013-01-05</th>\n",
       "      <td>-5.993085</td>\n",
       "      <td>-3.388725</td>\n",
       "      <td>-5.204665</td>\n",
       "      <td>0.0</td>\n",
       "      <td>-1.0</td>\n",
       "    </tr>\n",
       "    <tr>\n",
       "      <th>2013-01-06</th>\n",
       "      <td>NaN</td>\n",
       "      <td>NaN</td>\n",
       "      <td>NaN</td>\n",
       "      <td>NaN</td>\n",
       "      <td>NaN</td>\n",
       "    </tr>\n",
       "  </tbody>\n",
       "</table>\n",
       "</div>"
      ],
      "text/plain": [
       "                   A         B         C    D    F\n",
       "2013-01-01       NaN       NaN       NaN  NaN  NaN\n",
       "2013-01-02       NaN       NaN       NaN  NaN  NaN\n",
       "2013-01-03 -0.145714 -1.386440 -0.809585  4.0  1.0\n",
       "2013-01-04 -1.433966 -5.575651 -3.949303  2.0  0.0\n",
       "2013-01-05 -5.993085 -3.388725 -5.204665  0.0 -1.0\n",
       "2013-01-06       NaN       NaN       NaN  NaN  NaN"
      ]
     },
     "execution_count": 53,
     "metadata": {},
     "output_type": "execute_result"
    }
   ],
   "source": [
    "# Get Subtraction of dataframe and other, element-wise (binary operator `sub`).\n",
    "\n",
    "df.sub(s, axis='index')"
   ]
  },
  {
   "cell_type": "markdown",
   "id": "422add72",
   "metadata": {},
   "source": [
    "### Apply 函数"
   ]
  },
  {
   "cell_type": "markdown",
   "id": "c3f1f386",
   "metadata": {},
   "source": [
    "**Apply** 函数处理数据："
   ]
  },
  {
   "cell_type": "code",
   "execution_count": 54,
   "id": "2a4120fc",
   "metadata": {},
   "outputs": [
    {
     "data": {
      "text/html": [
       "<div>\n",
       "<style scoped>\n",
       "    .dataframe tbody tr th:only-of-type {\n",
       "        vertical-align: middle;\n",
       "    }\n",
       "\n",
       "    .dataframe tbody tr th {\n",
       "        vertical-align: top;\n",
       "    }\n",
       "\n",
       "    .dataframe thead th {\n",
       "        text-align: right;\n",
       "    }\n",
       "</style>\n",
       "<table border=\"1\" class=\"dataframe\">\n",
       "  <thead>\n",
       "    <tr style=\"text-align: right;\">\n",
       "      <th></th>\n",
       "      <th>A</th>\n",
       "      <th>B</th>\n",
       "      <th>C</th>\n",
       "      <th>D</th>\n",
       "      <th>F</th>\n",
       "    </tr>\n",
       "  </thead>\n",
       "  <tbody>\n",
       "    <tr>\n",
       "      <th>2013-01-01</th>\n",
       "      <td>0.000000</td>\n",
       "      <td>0.000000</td>\n",
       "      <td>-1.698329</td>\n",
       "      <td>5</td>\n",
       "      <td>NaN</td>\n",
       "    </tr>\n",
       "    <tr>\n",
       "      <th>2013-01-02</th>\n",
       "      <td>0.295145</td>\n",
       "      <td>-1.598542</td>\n",
       "      <td>-1.276252</td>\n",
       "      <td>10</td>\n",
       "      <td>1.0</td>\n",
       "    </tr>\n",
       "    <tr>\n",
       "      <th>2013-01-03</th>\n",
       "      <td>1.149431</td>\n",
       "      <td>-1.984982</td>\n",
       "      <td>-1.085837</td>\n",
       "      <td>15</td>\n",
       "      <td>3.0</td>\n",
       "    </tr>\n",
       "    <tr>\n",
       "      <th>2013-01-04</th>\n",
       "      <td>2.715465</td>\n",
       "      <td>-4.560633</td>\n",
       "      <td>-2.035140</td>\n",
       "      <td>20</td>\n",
       "      <td>6.0</td>\n",
       "    </tr>\n",
       "    <tr>\n",
       "      <th>2013-01-05</th>\n",
       "      <td>1.722380</td>\n",
       "      <td>-2.949358</td>\n",
       "      <td>-2.239805</td>\n",
       "      <td>25</td>\n",
       "      <td>10.0</td>\n",
       "    </tr>\n",
       "    <tr>\n",
       "      <th>2013-01-06</th>\n",
       "      <td>1.725301</td>\n",
       "      <td>-1.864740</td>\n",
       "      <td>-4.250323</td>\n",
       "      <td>30</td>\n",
       "      <td>15.0</td>\n",
       "    </tr>\n",
       "  </tbody>\n",
       "</table>\n",
       "</div>"
      ],
      "text/plain": [
       "                   A         B         C   D     F\n",
       "2013-01-01  0.000000  0.000000 -1.698329   5   NaN\n",
       "2013-01-02  0.295145 -1.598542 -1.276252  10   1.0\n",
       "2013-01-03  1.149431 -1.984982 -1.085837  15   3.0\n",
       "2013-01-04  2.715465 -4.560633 -2.035140  20   6.0\n",
       "2013-01-05  1.722380 -2.949358 -2.239805  25  10.0\n",
       "2013-01-06  1.725301 -1.864740 -4.250323  30  15.0"
      ]
     },
     "execution_count": 54,
     "metadata": {},
     "output_type": "execute_result"
    }
   ],
   "source": [
    "df.apply(np.cumsum)"
   ]
  },
  {
   "cell_type": "code",
   "execution_count": 55,
   "id": "b5e4a27c",
   "metadata": {},
   "outputs": [
    {
     "data": {
      "text/plain": [
       "A    2.559119\n",
       "B    4.186925\n",
       "C    2.432595\n",
       "D    0.000000\n",
       "F    4.000000\n",
       "dtype: float64"
      ]
     },
     "execution_count": 55,
     "metadata": {},
     "output_type": "execute_result"
    }
   ],
   "source": [
    "df.apply(lambda x: x.max() - x.min())"
   ]
  },
  {
   "cell_type": "markdown",
   "id": "d828673c",
   "metadata": {},
   "source": [
    "### 直方图"
   ]
  },
  {
   "cell_type": "code",
   "execution_count": 56,
   "id": "cd94d2cb",
   "metadata": {},
   "outputs": [
    {
     "data": {
      "text/plain": [
       "0    5\n",
       "1    0\n",
       "2    2\n",
       "3    4\n",
       "4    0\n",
       "5    3\n",
       "6    2\n",
       "7    3\n",
       "8    2\n",
       "9    5\n",
       "dtype: int64"
      ]
     },
     "execution_count": 56,
     "metadata": {},
     "output_type": "execute_result"
    }
   ],
   "source": [
    "s = pd.Series(np.random.randint(0, 7, size=10))\n",
    "s"
   ]
  },
  {
   "cell_type": "code",
   "execution_count": 57,
   "id": "bc88a1f9",
   "metadata": {},
   "outputs": [
    {
     "data": {
      "text/plain": [
       "2    3\n",
       "5    2\n",
       "0    2\n",
       "3    2\n",
       "4    1\n",
       "dtype: int64"
      ]
     },
     "execution_count": 57,
     "metadata": {},
     "output_type": "execute_result"
    }
   ],
   "source": [
    "s.value_counts()"
   ]
  },
  {
   "cell_type": "markdown",
   "id": "e00f63db",
   "metadata": {},
   "source": [
    "### 字符串方法"
   ]
  },
  {
   "cell_type": "markdown",
   "id": "e969626f",
   "metadata": {},
   "source": [
    "**Series** 的 **str** 属性包含**一组字符串处理功能**，如下列代码所示。"
   ]
  },
  {
   "cell_type": "code",
   "execution_count": 58,
   "id": "83b10bf3",
   "metadata": {},
   "outputs": [
    {
     "data": {
      "text/plain": [
       "0       a\n",
       "1       b\n",
       "2       c\n",
       "3    aaba\n",
       "4    baca\n",
       "5     NaN\n",
       "6    caba\n",
       "7     dog\n",
       "8     cat\n",
       "dtype: object"
      ]
     },
     "execution_count": 58,
     "metadata": {},
     "output_type": "execute_result"
    }
   ],
   "source": [
    "s = pd.Series(['A', 'B', 'C', 'Aaba', 'Baca', np.nan, 'CABA', 'dog', 'cat'])\n",
    "s.str.lower()"
   ]
  },
  {
   "cell_type": "markdown",
   "id": "15703e39",
   "metadata": {},
   "source": [
    "## 合并（Merge）"
   ]
  },
  {
   "cell_type": "markdown",
   "id": "b955464e",
   "metadata": {},
   "source": [
    "### 结合（Concat）"
   ]
  },
  {
   "cell_type": "markdown",
   "id": "3c91d3fd",
   "metadata": {},
   "source": [
    "**Pandas** 提供了多种**将 Series、DataFrame 对象组合**在一起的功能，用**索引**与**关联**代数功能的**多种设置逻辑**可执行**连接（join）与合并（merge）**操作。"
   ]
  },
  {
   "cell_type": "markdown",
   "id": "f9fe5940",
   "metadata": {},
   "source": [
    "**concat()** 用于连接 **Pandas** 对象："
   ]
  },
  {
   "cell_type": "code",
   "execution_count": 59,
   "id": "68b42bbd",
   "metadata": {},
   "outputs": [
    {
     "data": {
      "text/html": [
       "<div>\n",
       "<style scoped>\n",
       "    .dataframe tbody tr th:only-of-type {\n",
       "        vertical-align: middle;\n",
       "    }\n",
       "\n",
       "    .dataframe tbody tr th {\n",
       "        vertical-align: top;\n",
       "    }\n",
       "\n",
       "    .dataframe thead th {\n",
       "        text-align: right;\n",
       "    }\n",
       "</style>\n",
       "<table border=\"1\" class=\"dataframe\">\n",
       "  <thead>\n",
       "    <tr style=\"text-align: right;\">\n",
       "      <th></th>\n",
       "      <th>0</th>\n",
       "      <th>1</th>\n",
       "      <th>2</th>\n",
       "      <th>3</th>\n",
       "    </tr>\n",
       "  </thead>\n",
       "  <tbody>\n",
       "    <tr>\n",
       "      <th>0</th>\n",
       "      <td>-1.298831</td>\n",
       "      <td>-0.025058</td>\n",
       "      <td>-1.308895</td>\n",
       "      <td>-0.010801</td>\n",
       "    </tr>\n",
       "    <tr>\n",
       "      <th>1</th>\n",
       "      <td>0.301147</td>\n",
       "      <td>1.155532</td>\n",
       "      <td>0.212685</td>\n",
       "      <td>-1.708894</td>\n",
       "    </tr>\n",
       "    <tr>\n",
       "      <th>2</th>\n",
       "      <td>1.218208</td>\n",
       "      <td>-0.021022</td>\n",
       "      <td>-0.642314</td>\n",
       "      <td>0.067432</td>\n",
       "    </tr>\n",
       "    <tr>\n",
       "      <th>3</th>\n",
       "      <td>-0.907003</td>\n",
       "      <td>0.235517</td>\n",
       "      <td>-0.933011</td>\n",
       "      <td>-0.554420</td>\n",
       "    </tr>\n",
       "    <tr>\n",
       "      <th>4</th>\n",
       "      <td>-1.002799</td>\n",
       "      <td>-2.400616</td>\n",
       "      <td>0.304972</td>\n",
       "      <td>1.517249</td>\n",
       "    </tr>\n",
       "    <tr>\n",
       "      <th>5</th>\n",
       "      <td>0.521865</td>\n",
       "      <td>-1.172632</td>\n",
       "      <td>-2.108958</td>\n",
       "      <td>0.312569</td>\n",
       "    </tr>\n",
       "    <tr>\n",
       "      <th>6</th>\n",
       "      <td>-0.385833</td>\n",
       "      <td>-1.494443</td>\n",
       "      <td>0.774374</td>\n",
       "      <td>-1.361690</td>\n",
       "    </tr>\n",
       "    <tr>\n",
       "      <th>7</th>\n",
       "      <td>-1.112471</td>\n",
       "      <td>1.064902</td>\n",
       "      <td>-0.578271</td>\n",
       "      <td>0.447592</td>\n",
       "    </tr>\n",
       "    <tr>\n",
       "      <th>8</th>\n",
       "      <td>-0.008732</td>\n",
       "      <td>-0.776785</td>\n",
       "      <td>0.648778</td>\n",
       "      <td>0.247020</td>\n",
       "    </tr>\n",
       "    <tr>\n",
       "      <th>9</th>\n",
       "      <td>0.793899</td>\n",
       "      <td>0.726442</td>\n",
       "      <td>1.145484</td>\n",
       "      <td>-0.014744</td>\n",
       "    </tr>\n",
       "  </tbody>\n",
       "</table>\n",
       "</div>"
      ],
      "text/plain": [
       "          0         1         2         3\n",
       "0 -1.298831 -0.025058 -1.308895 -0.010801\n",
       "1  0.301147  1.155532  0.212685 -1.708894\n",
       "2  1.218208 -0.021022 -0.642314  0.067432\n",
       "3 -0.907003  0.235517 -0.933011 -0.554420\n",
       "4 -1.002799 -2.400616  0.304972  1.517249\n",
       "5  0.521865 -1.172632 -2.108958  0.312569\n",
       "6 -0.385833 -1.494443  0.774374 -1.361690\n",
       "7 -1.112471  1.064902 -0.578271  0.447592\n",
       "8 -0.008732 -0.776785  0.648778  0.247020\n",
       "9  0.793899  0.726442  1.145484 -0.014744"
      ]
     },
     "execution_count": 59,
     "metadata": {},
     "output_type": "execute_result"
    }
   ],
   "source": [
    "df = pd.DataFrame(np.random.randn(10, 4))\n",
    "df"
   ]
  },
  {
   "cell_type": "code",
   "execution_count": 60,
   "id": "5d6a3c86",
   "metadata": {},
   "outputs": [
    {
     "data": {
      "text/html": [
       "<div>\n",
       "<style scoped>\n",
       "    .dataframe tbody tr th:only-of-type {\n",
       "        vertical-align: middle;\n",
       "    }\n",
       "\n",
       "    .dataframe tbody tr th {\n",
       "        vertical-align: top;\n",
       "    }\n",
       "\n",
       "    .dataframe thead th {\n",
       "        text-align: right;\n",
       "    }\n",
       "</style>\n",
       "<table border=\"1\" class=\"dataframe\">\n",
       "  <thead>\n",
       "    <tr style=\"text-align: right;\">\n",
       "      <th></th>\n",
       "      <th>0</th>\n",
       "      <th>1</th>\n",
       "      <th>2</th>\n",
       "      <th>3</th>\n",
       "    </tr>\n",
       "  </thead>\n",
       "  <tbody>\n",
       "    <tr>\n",
       "      <th>0</th>\n",
       "      <td>-1.298831</td>\n",
       "      <td>-0.025058</td>\n",
       "      <td>-1.308895</td>\n",
       "      <td>-0.010801</td>\n",
       "    </tr>\n",
       "    <tr>\n",
       "      <th>1</th>\n",
       "      <td>0.301147</td>\n",
       "      <td>1.155532</td>\n",
       "      <td>0.212685</td>\n",
       "      <td>-1.708894</td>\n",
       "    </tr>\n",
       "    <tr>\n",
       "      <th>2</th>\n",
       "      <td>1.218208</td>\n",
       "      <td>-0.021022</td>\n",
       "      <td>-0.642314</td>\n",
       "      <td>0.067432</td>\n",
       "    </tr>\n",
       "    <tr>\n",
       "      <th>3</th>\n",
       "      <td>-0.907003</td>\n",
       "      <td>0.235517</td>\n",
       "      <td>-0.933011</td>\n",
       "      <td>-0.554420</td>\n",
       "    </tr>\n",
       "    <tr>\n",
       "      <th>4</th>\n",
       "      <td>-1.002799</td>\n",
       "      <td>-2.400616</td>\n",
       "      <td>0.304972</td>\n",
       "      <td>1.517249</td>\n",
       "    </tr>\n",
       "    <tr>\n",
       "      <th>5</th>\n",
       "      <td>0.521865</td>\n",
       "      <td>-1.172632</td>\n",
       "      <td>-2.108958</td>\n",
       "      <td>0.312569</td>\n",
       "    </tr>\n",
       "    <tr>\n",
       "      <th>6</th>\n",
       "      <td>-0.385833</td>\n",
       "      <td>-1.494443</td>\n",
       "      <td>0.774374</td>\n",
       "      <td>-1.361690</td>\n",
       "    </tr>\n",
       "    <tr>\n",
       "      <th>7</th>\n",
       "      <td>-1.112471</td>\n",
       "      <td>1.064902</td>\n",
       "      <td>-0.578271</td>\n",
       "      <td>0.447592</td>\n",
       "    </tr>\n",
       "    <tr>\n",
       "      <th>8</th>\n",
       "      <td>-0.008732</td>\n",
       "      <td>-0.776785</td>\n",
       "      <td>0.648778</td>\n",
       "      <td>0.247020</td>\n",
       "    </tr>\n",
       "    <tr>\n",
       "      <th>9</th>\n",
       "      <td>0.793899</td>\n",
       "      <td>0.726442</td>\n",
       "      <td>1.145484</td>\n",
       "      <td>-0.014744</td>\n",
       "    </tr>\n",
       "  </tbody>\n",
       "</table>\n",
       "</div>"
      ],
      "text/plain": [
       "          0         1         2         3\n",
       "0 -1.298831 -0.025058 -1.308895 -0.010801\n",
       "1  0.301147  1.155532  0.212685 -1.708894\n",
       "2  1.218208 -0.021022 -0.642314  0.067432\n",
       "3 -0.907003  0.235517 -0.933011 -0.554420\n",
       "4 -1.002799 -2.400616  0.304972  1.517249\n",
       "5  0.521865 -1.172632 -2.108958  0.312569\n",
       "6 -0.385833 -1.494443  0.774374 -1.361690\n",
       "7 -1.112471  1.064902 -0.578271  0.447592\n",
       "8 -0.008732 -0.776785  0.648778  0.247020\n",
       "9  0.793899  0.726442  1.145484 -0.014744"
      ]
     },
     "execution_count": 60,
     "metadata": {},
     "output_type": "execute_result"
    }
   ],
   "source": [
    "# 分解为多组\n",
    "pieces = [df[:3], df[3:7], df[7:]]\n",
    "pd.concat(pieces)"
   ]
  },
  {
   "cell_type": "markdown",
   "id": "3e09729c",
   "metadata": {},
   "source": [
    "### 连接（join）"
   ]
  },
  {
   "cell_type": "markdown",
   "id": "109ca074",
   "metadata": {},
   "source": [
    "**SQL** 风格的合并。"
   ]
  },
  {
   "cell_type": "code",
   "execution_count": 61,
   "id": "22d874c1",
   "metadata": {},
   "outputs": [
    {
     "data": {
      "text/html": [
       "<div>\n",
       "<style scoped>\n",
       "    .dataframe tbody tr th:only-of-type {\n",
       "        vertical-align: middle;\n",
       "    }\n",
       "\n",
       "    .dataframe tbody tr th {\n",
       "        vertical-align: top;\n",
       "    }\n",
       "\n",
       "    .dataframe thead th {\n",
       "        text-align: right;\n",
       "    }\n",
       "</style>\n",
       "<table border=\"1\" class=\"dataframe\">\n",
       "  <thead>\n",
       "    <tr style=\"text-align: right;\">\n",
       "      <th></th>\n",
       "      <th>key</th>\n",
       "      <th>lval</th>\n",
       "    </tr>\n",
       "  </thead>\n",
       "  <tbody>\n",
       "    <tr>\n",
       "      <th>0</th>\n",
       "      <td>foo</td>\n",
       "      <td>1</td>\n",
       "    </tr>\n",
       "    <tr>\n",
       "      <th>1</th>\n",
       "      <td>foo</td>\n",
       "      <td>2</td>\n",
       "    </tr>\n",
       "  </tbody>\n",
       "</table>\n",
       "</div>"
      ],
      "text/plain": [
       "   key  lval\n",
       "0  foo     1\n",
       "1  foo     2"
      ]
     },
     "execution_count": 61,
     "metadata": {},
     "output_type": "execute_result"
    }
   ],
   "source": [
    "left = pd.DataFrame({'key': ['foo', 'foo'], 'lval': [1, 2]})\n",
    "right = pd.DataFrame({'key': ['foo', 'foo'], 'rval': [4, 5]})\n",
    "left"
   ]
  },
  {
   "cell_type": "code",
   "execution_count": 62,
   "id": "135320ea",
   "metadata": {},
   "outputs": [
    {
     "data": {
      "text/html": [
       "<div>\n",
       "<style scoped>\n",
       "    .dataframe tbody tr th:only-of-type {\n",
       "        vertical-align: middle;\n",
       "    }\n",
       "\n",
       "    .dataframe tbody tr th {\n",
       "        vertical-align: top;\n",
       "    }\n",
       "\n",
       "    .dataframe thead th {\n",
       "        text-align: right;\n",
       "    }\n",
       "</style>\n",
       "<table border=\"1\" class=\"dataframe\">\n",
       "  <thead>\n",
       "    <tr style=\"text-align: right;\">\n",
       "      <th></th>\n",
       "      <th>key</th>\n",
       "      <th>rval</th>\n",
       "    </tr>\n",
       "  </thead>\n",
       "  <tbody>\n",
       "    <tr>\n",
       "      <th>0</th>\n",
       "      <td>foo</td>\n",
       "      <td>4</td>\n",
       "    </tr>\n",
       "    <tr>\n",
       "      <th>1</th>\n",
       "      <td>foo</td>\n",
       "      <td>5</td>\n",
       "    </tr>\n",
       "  </tbody>\n",
       "</table>\n",
       "</div>"
      ],
      "text/plain": [
       "   key  rval\n",
       "0  foo     4\n",
       "1  foo     5"
      ]
     },
     "execution_count": 62,
     "metadata": {},
     "output_type": "execute_result"
    }
   ],
   "source": [
    "right"
   ]
  },
  {
   "cell_type": "code",
   "execution_count": 63,
   "id": "42fbb74f",
   "metadata": {},
   "outputs": [
    {
     "data": {
      "text/html": [
       "<div>\n",
       "<style scoped>\n",
       "    .dataframe tbody tr th:only-of-type {\n",
       "        vertical-align: middle;\n",
       "    }\n",
       "\n",
       "    .dataframe tbody tr th {\n",
       "        vertical-align: top;\n",
       "    }\n",
       "\n",
       "    .dataframe thead th {\n",
       "        text-align: right;\n",
       "    }\n",
       "</style>\n",
       "<table border=\"1\" class=\"dataframe\">\n",
       "  <thead>\n",
       "    <tr style=\"text-align: right;\">\n",
       "      <th></th>\n",
       "      <th>key</th>\n",
       "      <th>lval</th>\n",
       "      <th>rval</th>\n",
       "    </tr>\n",
       "  </thead>\n",
       "  <tbody>\n",
       "    <tr>\n",
       "      <th>0</th>\n",
       "      <td>foo</td>\n",
       "      <td>1</td>\n",
       "      <td>4</td>\n",
       "    </tr>\n",
       "    <tr>\n",
       "      <th>1</th>\n",
       "      <td>foo</td>\n",
       "      <td>1</td>\n",
       "      <td>5</td>\n",
       "    </tr>\n",
       "    <tr>\n",
       "      <th>2</th>\n",
       "      <td>foo</td>\n",
       "      <td>2</td>\n",
       "      <td>4</td>\n",
       "    </tr>\n",
       "    <tr>\n",
       "      <th>3</th>\n",
       "      <td>foo</td>\n",
       "      <td>2</td>\n",
       "      <td>5</td>\n",
       "    </tr>\n",
       "  </tbody>\n",
       "</table>\n",
       "</div>"
      ],
      "text/plain": [
       "   key  lval  rval\n",
       "0  foo     1     4\n",
       "1  foo     1     5\n",
       "2  foo     2     4\n",
       "3  foo     2     5"
      ]
     },
     "execution_count": 63,
     "metadata": {},
     "output_type": "execute_result"
    }
   ],
   "source": [
    "pd.merge(left, right, on='key')"
   ]
  },
  {
   "cell_type": "markdown",
   "id": "8ff2f60b",
   "metadata": {},
   "source": [
    "---"
   ]
  },
  {
   "cell_type": "code",
   "execution_count": 64,
   "id": "fecaf14f",
   "metadata": {},
   "outputs": [
    {
     "data": {
      "text/html": [
       "<div>\n",
       "<style scoped>\n",
       "    .dataframe tbody tr th:only-of-type {\n",
       "        vertical-align: middle;\n",
       "    }\n",
       "\n",
       "    .dataframe tbody tr th {\n",
       "        vertical-align: top;\n",
       "    }\n",
       "\n",
       "    .dataframe thead th {\n",
       "        text-align: right;\n",
       "    }\n",
       "</style>\n",
       "<table border=\"1\" class=\"dataframe\">\n",
       "  <thead>\n",
       "    <tr style=\"text-align: right;\">\n",
       "      <th></th>\n",
       "      <th>key</th>\n",
       "      <th>lval</th>\n",
       "    </tr>\n",
       "  </thead>\n",
       "  <tbody>\n",
       "    <tr>\n",
       "      <th>0</th>\n",
       "      <td>foo</td>\n",
       "      <td>1</td>\n",
       "    </tr>\n",
       "    <tr>\n",
       "      <th>1</th>\n",
       "      <td>bar</td>\n",
       "      <td>2</td>\n",
       "    </tr>\n",
       "  </tbody>\n",
       "</table>\n",
       "</div>"
      ],
      "text/plain": [
       "   key  lval\n",
       "0  foo     1\n",
       "1  bar     2"
      ]
     },
     "execution_count": 64,
     "metadata": {},
     "output_type": "execute_result"
    }
   ],
   "source": [
    "left = pd.DataFrame({'key': ['foo', 'bar'], 'lval': [1, 2]})\n",
    "right = pd.DataFrame({'key': ['foo', 'bar'], 'rval': [4, 5]})\n",
    "left"
   ]
  },
  {
   "cell_type": "code",
   "execution_count": 65,
   "id": "265d0fcc",
   "metadata": {},
   "outputs": [
    {
     "data": {
      "text/html": [
       "<div>\n",
       "<style scoped>\n",
       "    .dataframe tbody tr th:only-of-type {\n",
       "        vertical-align: middle;\n",
       "    }\n",
       "\n",
       "    .dataframe tbody tr th {\n",
       "        vertical-align: top;\n",
       "    }\n",
       "\n",
       "    .dataframe thead th {\n",
       "        text-align: right;\n",
       "    }\n",
       "</style>\n",
       "<table border=\"1\" class=\"dataframe\">\n",
       "  <thead>\n",
       "    <tr style=\"text-align: right;\">\n",
       "      <th></th>\n",
       "      <th>key</th>\n",
       "      <th>rval</th>\n",
       "    </tr>\n",
       "  </thead>\n",
       "  <tbody>\n",
       "    <tr>\n",
       "      <th>0</th>\n",
       "      <td>foo</td>\n",
       "      <td>4</td>\n",
       "    </tr>\n",
       "    <tr>\n",
       "      <th>1</th>\n",
       "      <td>bar</td>\n",
       "      <td>5</td>\n",
       "    </tr>\n",
       "  </tbody>\n",
       "</table>\n",
       "</div>"
      ],
      "text/plain": [
       "   key  rval\n",
       "0  foo     4\n",
       "1  bar     5"
      ]
     },
     "execution_count": 65,
     "metadata": {},
     "output_type": "execute_result"
    }
   ],
   "source": [
    "right"
   ]
  },
  {
   "cell_type": "code",
   "execution_count": 66,
   "id": "e0f1180c",
   "metadata": {},
   "outputs": [
    {
     "data": {
      "text/html": [
       "<div>\n",
       "<style scoped>\n",
       "    .dataframe tbody tr th:only-of-type {\n",
       "        vertical-align: middle;\n",
       "    }\n",
       "\n",
       "    .dataframe tbody tr th {\n",
       "        vertical-align: top;\n",
       "    }\n",
       "\n",
       "    .dataframe thead th {\n",
       "        text-align: right;\n",
       "    }\n",
       "</style>\n",
       "<table border=\"1\" class=\"dataframe\">\n",
       "  <thead>\n",
       "    <tr style=\"text-align: right;\">\n",
       "      <th></th>\n",
       "      <th>key</th>\n",
       "      <th>lval</th>\n",
       "      <th>rval</th>\n",
       "    </tr>\n",
       "  </thead>\n",
       "  <tbody>\n",
       "    <tr>\n",
       "      <th>0</th>\n",
       "      <td>foo</td>\n",
       "      <td>1</td>\n",
       "      <td>4</td>\n",
       "    </tr>\n",
       "    <tr>\n",
       "      <th>1</th>\n",
       "      <td>bar</td>\n",
       "      <td>2</td>\n",
       "      <td>5</td>\n",
       "    </tr>\n",
       "  </tbody>\n",
       "</table>\n",
       "</div>"
      ],
      "text/plain": [
       "   key  lval  rval\n",
       "0  foo     1     4\n",
       "1  bar     2     5"
      ]
     },
     "execution_count": 66,
     "metadata": {},
     "output_type": "execute_result"
    }
   ],
   "source": [
    "pd.merge(left, right, on='key')"
   ]
  },
  {
   "cell_type": "markdown",
   "id": "caed3d8c",
   "metadata": {},
   "source": [
    "### 追加（Append）"
   ]
  },
  {
   "cell_type": "markdown",
   "id": "ccb3b53b",
   "metadata": {},
   "source": [
    "为 **DataFrame** 追加行。"
   ]
  },
  {
   "cell_type": "code",
   "execution_count": 67,
   "id": "ba256c45",
   "metadata": {},
   "outputs": [
    {
     "data": {
      "text/html": [
       "<div>\n",
       "<style scoped>\n",
       "    .dataframe tbody tr th:only-of-type {\n",
       "        vertical-align: middle;\n",
       "    }\n",
       "\n",
       "    .dataframe tbody tr th {\n",
       "        vertical-align: top;\n",
       "    }\n",
       "\n",
       "    .dataframe thead th {\n",
       "        text-align: right;\n",
       "    }\n",
       "</style>\n",
       "<table border=\"1\" class=\"dataframe\">\n",
       "  <thead>\n",
       "    <tr style=\"text-align: right;\">\n",
       "      <th></th>\n",
       "      <th>A</th>\n",
       "      <th>B</th>\n",
       "      <th>C</th>\n",
       "      <th>D</th>\n",
       "    </tr>\n",
       "  </thead>\n",
       "  <tbody>\n",
       "    <tr>\n",
       "      <th>0</th>\n",
       "      <td>-1.531864</td>\n",
       "      <td>1.134136</td>\n",
       "      <td>0.965855</td>\n",
       "      <td>-1.101870</td>\n",
       "    </tr>\n",
       "    <tr>\n",
       "      <th>1</th>\n",
       "      <td>-0.642024</td>\n",
       "      <td>1.784325</td>\n",
       "      <td>0.147145</td>\n",
       "      <td>-0.972358</td>\n",
       "    </tr>\n",
       "    <tr>\n",
       "      <th>2</th>\n",
       "      <td>-0.544829</td>\n",
       "      <td>0.030198</td>\n",
       "      <td>2.175586</td>\n",
       "      <td>-1.732161</td>\n",
       "    </tr>\n",
       "    <tr>\n",
       "      <th>3</th>\n",
       "      <td>-0.120698</td>\n",
       "      <td>-0.132110</td>\n",
       "      <td>0.554756</td>\n",
       "      <td>-0.858650</td>\n",
       "    </tr>\n",
       "    <tr>\n",
       "      <th>4</th>\n",
       "      <td>-0.157758</td>\n",
       "      <td>1.012102</td>\n",
       "      <td>-0.129577</td>\n",
       "      <td>0.855507</td>\n",
       "    </tr>\n",
       "    <tr>\n",
       "      <th>5</th>\n",
       "      <td>0.034480</td>\n",
       "      <td>0.586147</td>\n",
       "      <td>-0.097765</td>\n",
       "      <td>0.467870</td>\n",
       "    </tr>\n",
       "    <tr>\n",
       "      <th>6</th>\n",
       "      <td>2.306937</td>\n",
       "      <td>-0.561578</td>\n",
       "      <td>-1.015693</td>\n",
       "      <td>0.551264</td>\n",
       "    </tr>\n",
       "    <tr>\n",
       "      <th>7</th>\n",
       "      <td>0.874933</td>\n",
       "      <td>0.221975</td>\n",
       "      <td>-0.503309</td>\n",
       "      <td>-0.394279</td>\n",
       "    </tr>\n",
       "  </tbody>\n",
       "</table>\n",
       "</div>"
      ],
      "text/plain": [
       "          A         B         C         D\n",
       "0 -1.531864  1.134136  0.965855 -1.101870\n",
       "1 -0.642024  1.784325  0.147145 -0.972358\n",
       "2 -0.544829  0.030198  2.175586 -1.732161\n",
       "3 -0.120698 -0.132110  0.554756 -0.858650\n",
       "4 -0.157758  1.012102 -0.129577  0.855507\n",
       "5  0.034480  0.586147 -0.097765  0.467870\n",
       "6  2.306937 -0.561578 -1.015693  0.551264\n",
       "7  0.874933  0.221975 -0.503309 -0.394279"
      ]
     },
     "execution_count": 67,
     "metadata": {},
     "output_type": "execute_result"
    }
   ],
   "source": [
    "df = pd.DataFrame(np.random.randn(8, 4), columns=['A', 'B', 'C', 'D'])\n",
    "df"
   ]
  },
  {
   "cell_type": "code",
   "execution_count": 68,
   "id": "30144d58",
   "metadata": {},
   "outputs": [
    {
     "data": {
      "text/html": [
       "<div>\n",
       "<style scoped>\n",
       "    .dataframe tbody tr th:only-of-type {\n",
       "        vertical-align: middle;\n",
       "    }\n",
       "\n",
       "    .dataframe tbody tr th {\n",
       "        vertical-align: top;\n",
       "    }\n",
       "\n",
       "    .dataframe thead th {\n",
       "        text-align: right;\n",
       "    }\n",
       "</style>\n",
       "<table border=\"1\" class=\"dataframe\">\n",
       "  <thead>\n",
       "    <tr style=\"text-align: right;\">\n",
       "      <th></th>\n",
       "      <th>A</th>\n",
       "      <th>B</th>\n",
       "      <th>C</th>\n",
       "      <th>D</th>\n",
       "    </tr>\n",
       "  </thead>\n",
       "  <tbody>\n",
       "    <tr>\n",
       "      <th>0</th>\n",
       "      <td>-1.531864</td>\n",
       "      <td>1.134136</td>\n",
       "      <td>0.965855</td>\n",
       "      <td>-1.101870</td>\n",
       "    </tr>\n",
       "    <tr>\n",
       "      <th>1</th>\n",
       "      <td>-0.642024</td>\n",
       "      <td>1.784325</td>\n",
       "      <td>0.147145</td>\n",
       "      <td>-0.972358</td>\n",
       "    </tr>\n",
       "    <tr>\n",
       "      <th>2</th>\n",
       "      <td>-0.544829</td>\n",
       "      <td>0.030198</td>\n",
       "      <td>2.175586</td>\n",
       "      <td>-1.732161</td>\n",
       "    </tr>\n",
       "    <tr>\n",
       "      <th>3</th>\n",
       "      <td>-0.120698</td>\n",
       "      <td>-0.132110</td>\n",
       "      <td>0.554756</td>\n",
       "      <td>-0.858650</td>\n",
       "    </tr>\n",
       "    <tr>\n",
       "      <th>4</th>\n",
       "      <td>-0.157758</td>\n",
       "      <td>1.012102</td>\n",
       "      <td>-0.129577</td>\n",
       "      <td>0.855507</td>\n",
       "    </tr>\n",
       "    <tr>\n",
       "      <th>5</th>\n",
       "      <td>0.034480</td>\n",
       "      <td>0.586147</td>\n",
       "      <td>-0.097765</td>\n",
       "      <td>0.467870</td>\n",
       "    </tr>\n",
       "    <tr>\n",
       "      <th>6</th>\n",
       "      <td>2.306937</td>\n",
       "      <td>-0.561578</td>\n",
       "      <td>-1.015693</td>\n",
       "      <td>0.551264</td>\n",
       "    </tr>\n",
       "    <tr>\n",
       "      <th>7</th>\n",
       "      <td>0.874933</td>\n",
       "      <td>0.221975</td>\n",
       "      <td>-0.503309</td>\n",
       "      <td>-0.394279</td>\n",
       "    </tr>\n",
       "    <tr>\n",
       "      <th>8</th>\n",
       "      <td>-0.120698</td>\n",
       "      <td>-0.132110</td>\n",
       "      <td>0.554756</td>\n",
       "      <td>-0.858650</td>\n",
       "    </tr>\n",
       "  </tbody>\n",
       "</table>\n",
       "</div>"
      ],
      "text/plain": [
       "          A         B         C         D\n",
       "0 -1.531864  1.134136  0.965855 -1.101870\n",
       "1 -0.642024  1.784325  0.147145 -0.972358\n",
       "2 -0.544829  0.030198  2.175586 -1.732161\n",
       "3 -0.120698 -0.132110  0.554756 -0.858650\n",
       "4 -0.157758  1.012102 -0.129577  0.855507\n",
       "5  0.034480  0.586147 -0.097765  0.467870\n",
       "6  2.306937 -0.561578 -1.015693  0.551264\n",
       "7  0.874933  0.221975 -0.503309 -0.394279\n",
       "8 -0.120698 -0.132110  0.554756 -0.858650"
      ]
     },
     "execution_count": 68,
     "metadata": {},
     "output_type": "execute_result"
    }
   ],
   "source": [
    "s = df.iloc[3]\n",
    "df.append(s, ignore_index=True)"
   ]
  },
  {
   "cell_type": "markdown",
   "id": "36685bf5",
   "metadata": {},
   "source": [
    "## 分组（Grouping）"
   ]
  },
  {
   "cell_type": "markdown",
   "id": "6e937633",
   "metadata": {},
   "source": [
    "“group by” 指的是涵盖下列一项或多项步骤的处理流程：\n",
    "\n",
    "- **分割**：按条件把数据分割成多组；\n",
    "\n",
    "- **应用**：为每组单独应用函数；\n",
    "\n",
    "- **组合**：将处理结果组合成一个数据结构。"
   ]
  },
  {
   "cell_type": "code",
   "execution_count": 69,
   "id": "0b6b8b35",
   "metadata": {},
   "outputs": [
    {
     "data": {
      "text/html": [
       "<div>\n",
       "<style scoped>\n",
       "    .dataframe tbody tr th:only-of-type {\n",
       "        vertical-align: middle;\n",
       "    }\n",
       "\n",
       "    .dataframe tbody tr th {\n",
       "        vertical-align: top;\n",
       "    }\n",
       "\n",
       "    .dataframe thead th {\n",
       "        text-align: right;\n",
       "    }\n",
       "</style>\n",
       "<table border=\"1\" class=\"dataframe\">\n",
       "  <thead>\n",
       "    <tr style=\"text-align: right;\">\n",
       "      <th></th>\n",
       "      <th>A</th>\n",
       "      <th>B</th>\n",
       "      <th>C</th>\n",
       "      <th>D</th>\n",
       "    </tr>\n",
       "  </thead>\n",
       "  <tbody>\n",
       "    <tr>\n",
       "      <th>0</th>\n",
       "      <td>foo</td>\n",
       "      <td>one</td>\n",
       "      <td>-0.516435</td>\n",
       "      <td>0.374738</td>\n",
       "    </tr>\n",
       "    <tr>\n",
       "      <th>1</th>\n",
       "      <td>bar</td>\n",
       "      <td>one</td>\n",
       "      <td>0.832723</td>\n",
       "      <td>-0.706673</td>\n",
       "    </tr>\n",
       "    <tr>\n",
       "      <th>2</th>\n",
       "      <td>foo</td>\n",
       "      <td>two</td>\n",
       "      <td>0.723589</td>\n",
       "      <td>-2.162071</td>\n",
       "    </tr>\n",
       "    <tr>\n",
       "      <th>3</th>\n",
       "      <td>bar</td>\n",
       "      <td>three</td>\n",
       "      <td>1.385739</td>\n",
       "      <td>-0.360866</td>\n",
       "    </tr>\n",
       "    <tr>\n",
       "      <th>4</th>\n",
       "      <td>foo</td>\n",
       "      <td>two</td>\n",
       "      <td>0.359695</td>\n",
       "      <td>-1.209703</td>\n",
       "    </tr>\n",
       "    <tr>\n",
       "      <th>5</th>\n",
       "      <td>bar</td>\n",
       "      <td>two</td>\n",
       "      <td>-0.494670</td>\n",
       "      <td>2.049923</td>\n",
       "    </tr>\n",
       "    <tr>\n",
       "      <th>6</th>\n",
       "      <td>foo</td>\n",
       "      <td>one</td>\n",
       "      <td>0.639089</td>\n",
       "      <td>-0.483579</td>\n",
       "    </tr>\n",
       "    <tr>\n",
       "      <th>7</th>\n",
       "      <td>foo</td>\n",
       "      <td>three</td>\n",
       "      <td>-0.415840</td>\n",
       "      <td>0.157921</td>\n",
       "    </tr>\n",
       "  </tbody>\n",
       "</table>\n",
       "</div>"
      ],
      "text/plain": [
       "     A      B         C         D\n",
       "0  foo    one -0.516435  0.374738\n",
       "1  bar    one  0.832723 -0.706673\n",
       "2  foo    two  0.723589 -2.162071\n",
       "3  bar  three  1.385739 -0.360866\n",
       "4  foo    two  0.359695 -1.209703\n",
       "5  bar    two -0.494670  2.049923\n",
       "6  foo    one  0.639089 -0.483579\n",
       "7  foo  three -0.415840  0.157921"
      ]
     },
     "execution_count": 69,
     "metadata": {},
     "output_type": "execute_result"
    }
   ],
   "source": [
    "df = pd.DataFrame({'A': ['foo', 'bar', 'foo', 'bar',\n",
    "                         'foo', 'bar', 'foo', 'foo'],\n",
    "                   'B': ['one', 'one', 'two', 'three',\n",
    "                         'two', 'two', 'one', 'three'],\n",
    "                   'C': np.random.randn(8),\n",
    "                   'D': np.random.randn(8)})\n",
    "df"
   ]
  },
  {
   "cell_type": "markdown",
   "id": "95a36c36",
   "metadata": {},
   "source": [
    "先分组，再用 **sum()** 函数计算每组的汇总数据："
   ]
  },
  {
   "cell_type": "code",
   "execution_count": 70,
   "id": "ad250b40",
   "metadata": {},
   "outputs": [
    {
     "data": {
      "text/html": [
       "<div>\n",
       "<style scoped>\n",
       "    .dataframe tbody tr th:only-of-type {\n",
       "        vertical-align: middle;\n",
       "    }\n",
       "\n",
       "    .dataframe tbody tr th {\n",
       "        vertical-align: top;\n",
       "    }\n",
       "\n",
       "    .dataframe thead th {\n",
       "        text-align: right;\n",
       "    }\n",
       "</style>\n",
       "<table border=\"1\" class=\"dataframe\">\n",
       "  <thead>\n",
       "    <tr style=\"text-align: right;\">\n",
       "      <th></th>\n",
       "      <th>C</th>\n",
       "      <th>D</th>\n",
       "    </tr>\n",
       "    <tr>\n",
       "      <th>A</th>\n",
       "      <th></th>\n",
       "      <th></th>\n",
       "    </tr>\n",
       "  </thead>\n",
       "  <tbody>\n",
       "    <tr>\n",
       "      <th>bar</th>\n",
       "      <td>1.723792</td>\n",
       "      <td>0.982383</td>\n",
       "    </tr>\n",
       "    <tr>\n",
       "      <th>foo</th>\n",
       "      <td>0.790097</td>\n",
       "      <td>-3.322694</td>\n",
       "    </tr>\n",
       "  </tbody>\n",
       "</table>\n",
       "</div>"
      ],
      "text/plain": [
       "            C         D\n",
       "A                      \n",
       "bar  1.723792  0.982383\n",
       "foo  0.790097 -3.322694"
      ]
     },
     "execution_count": 70,
     "metadata": {},
     "output_type": "execute_result"
    }
   ],
   "source": [
    "df.groupby('A').sum()"
   ]
  },
  {
   "cell_type": "markdown",
   "id": "4ea12d25",
   "metadata": {},
   "source": [
    "多列**分组**后，生成**多层索引**，也可以应用 **sum** 函数："
   ]
  },
  {
   "cell_type": "code",
   "execution_count": 71,
   "id": "e895f5ca",
   "metadata": {},
   "outputs": [
    {
     "data": {
      "text/html": [
       "<div>\n",
       "<style scoped>\n",
       "    .dataframe tbody tr th:only-of-type {\n",
       "        vertical-align: middle;\n",
       "    }\n",
       "\n",
       "    .dataframe tbody tr th {\n",
       "        vertical-align: top;\n",
       "    }\n",
       "\n",
       "    .dataframe thead th {\n",
       "        text-align: right;\n",
       "    }\n",
       "</style>\n",
       "<table border=\"1\" class=\"dataframe\">\n",
       "  <thead>\n",
       "    <tr style=\"text-align: right;\">\n",
       "      <th></th>\n",
       "      <th></th>\n",
       "      <th>C</th>\n",
       "      <th>D</th>\n",
       "    </tr>\n",
       "    <tr>\n",
       "      <th>A</th>\n",
       "      <th>B</th>\n",
       "      <th></th>\n",
       "      <th></th>\n",
       "    </tr>\n",
       "  </thead>\n",
       "  <tbody>\n",
       "    <tr>\n",
       "      <th rowspan=\"3\" valign=\"top\">bar</th>\n",
       "      <th>one</th>\n",
       "      <td>0.832723</td>\n",
       "      <td>-0.706673</td>\n",
       "    </tr>\n",
       "    <tr>\n",
       "      <th>three</th>\n",
       "      <td>1.385739</td>\n",
       "      <td>-0.360866</td>\n",
       "    </tr>\n",
       "    <tr>\n",
       "      <th>two</th>\n",
       "      <td>-0.494670</td>\n",
       "      <td>2.049923</td>\n",
       "    </tr>\n",
       "    <tr>\n",
       "      <th rowspan=\"3\" valign=\"top\">foo</th>\n",
       "      <th>one</th>\n",
       "      <td>0.122654</td>\n",
       "      <td>-0.108840</td>\n",
       "    </tr>\n",
       "    <tr>\n",
       "      <th>three</th>\n",
       "      <td>-0.415840</td>\n",
       "      <td>0.157921</td>\n",
       "    </tr>\n",
       "    <tr>\n",
       "      <th>two</th>\n",
       "      <td>1.083284</td>\n",
       "      <td>-3.371774</td>\n",
       "    </tr>\n",
       "  </tbody>\n",
       "</table>\n",
       "</div>"
      ],
      "text/plain": [
       "                  C         D\n",
       "A   B                        \n",
       "bar one    0.832723 -0.706673\n",
       "    three  1.385739 -0.360866\n",
       "    two   -0.494670  2.049923\n",
       "foo one    0.122654 -0.108840\n",
       "    three -0.415840  0.157921\n",
       "    two    1.083284 -3.371774"
      ]
     },
     "execution_count": 71,
     "metadata": {},
     "output_type": "execute_result"
    }
   ],
   "source": [
    "df.groupby(['A', 'B']).sum()"
   ]
  },
  {
   "cell_type": "markdown",
   "id": "e852c19a",
   "metadata": {},
   "source": [
    "## 重塑（Reshaping）"
   ]
  },
  {
   "cell_type": "markdown",
   "id": "43fbe701",
   "metadata": {},
   "source": [
    "### 堆叠（Stack）"
   ]
  },
  {
   "cell_type": "code",
   "execution_count": 72,
   "id": "21e5e0bd",
   "metadata": {},
   "outputs": [
    {
     "data": {
      "text/plain": [
       "[('bar', 'one'),\n",
       " ('bar', 'two'),\n",
       " ('baz', 'one'),\n",
       " ('baz', 'two'),\n",
       " ('foo', 'one'),\n",
       " ('foo', 'two'),\n",
       " ('qux', 'one'),\n",
       " ('qux', 'two')]"
      ]
     },
     "execution_count": 72,
     "metadata": {},
     "output_type": "execute_result"
    }
   ],
   "source": [
    "tuples = list(zip(*[['bar', 'bar', 'baz', 'baz',\n",
    "                     'foo', 'foo', 'qux', 'qux'],\n",
    "                    ['one', 'two', 'one', 'two',\n",
    "                     'one', 'two', 'one', 'two']]))\n",
    "tuples"
   ]
  },
  {
   "cell_type": "code",
   "execution_count": 73,
   "id": "40d8033f",
   "metadata": {},
   "outputs": [
    {
     "data": {
      "text/html": [
       "<div>\n",
       "<style scoped>\n",
       "    .dataframe tbody tr th:only-of-type {\n",
       "        vertical-align: middle;\n",
       "    }\n",
       "\n",
       "    .dataframe tbody tr th {\n",
       "        vertical-align: top;\n",
       "    }\n",
       "\n",
       "    .dataframe thead th {\n",
       "        text-align: right;\n",
       "    }\n",
       "</style>\n",
       "<table border=\"1\" class=\"dataframe\">\n",
       "  <thead>\n",
       "    <tr style=\"text-align: right;\">\n",
       "      <th></th>\n",
       "      <th></th>\n",
       "      <th>A</th>\n",
       "      <th>B</th>\n",
       "    </tr>\n",
       "    <tr>\n",
       "      <th>first</th>\n",
       "      <th>second</th>\n",
       "      <th></th>\n",
       "      <th></th>\n",
       "    </tr>\n",
       "  </thead>\n",
       "  <tbody>\n",
       "    <tr>\n",
       "      <th rowspan=\"2\" valign=\"top\">bar</th>\n",
       "      <th>one</th>\n",
       "      <td>2.318616</td>\n",
       "      <td>-0.022279</td>\n",
       "    </tr>\n",
       "    <tr>\n",
       "      <th>two</th>\n",
       "      <td>0.905563</td>\n",
       "      <td>-0.456407</td>\n",
       "    </tr>\n",
       "    <tr>\n",
       "      <th rowspan=\"2\" valign=\"top\">baz</th>\n",
       "      <th>one</th>\n",
       "      <td>-0.893234</td>\n",
       "      <td>-0.067406</td>\n",
       "    </tr>\n",
       "    <tr>\n",
       "      <th>two</th>\n",
       "      <td>0.056971</td>\n",
       "      <td>0.598208</td>\n",
       "    </tr>\n",
       "  </tbody>\n",
       "</table>\n",
       "</div>"
      ],
      "text/plain": [
       "                     A         B\n",
       "first second                    \n",
       "bar   one     2.318616 -0.022279\n",
       "      two     0.905563 -0.456407\n",
       "baz   one    -0.893234 -0.067406\n",
       "      two     0.056971  0.598208"
      ]
     },
     "execution_count": 73,
     "metadata": {},
     "output_type": "execute_result"
    }
   ],
   "source": [
    "'''\n",
    "    Examples\n",
    "    --------\n",
    "    >>> tuples = [(1, 'red'), (1, 'blue'),\n",
    "    ...           (2, 'red'), (2, 'blue')]\n",
    "    >>> pd.MultiIndex.from_tuples(tuples, names=('number', 'color'))\n",
    "    MultiIndex([(1,  'red'),\n",
    "                (1, 'blue'),\n",
    "                (2,  'red'),\n",
    "                (2, 'blue')],\n",
    "               names=['number', 'color'])\n",
    "'''\n",
    "\n",
    "index = pd.MultiIndex.from_tuples(tuples, names=['first', 'second'])\n",
    "df = pd.DataFrame(np.random.randn(8, 2), index=index, columns=['A', 'B'])\n",
    "df2 = df[:4]\n",
    "df2"
   ]
  },
  {
   "cell_type": "markdown",
   "id": "fc808317",
   "metadata": {},
   "source": [
    "**stack()** 方法把 **DataFrame** 列压缩至一层："
   ]
  },
  {
   "cell_type": "code",
   "execution_count": 74,
   "id": "1df0fa9c",
   "metadata": {},
   "outputs": [
    {
     "data": {
      "text/plain": [
       "first  second   \n",
       "bar    one     A    2.318616\n",
       "               B   -0.022279\n",
       "       two     A    0.905563\n",
       "               B   -0.456407\n",
       "baz    one     A   -0.893234\n",
       "               B   -0.067406\n",
       "       two     A    0.056971\n",
       "               B    0.598208\n",
       "dtype: float64"
      ]
     },
     "execution_count": 74,
     "metadata": {},
     "output_type": "execute_result"
    }
   ],
   "source": [
    "'''\n",
    "    Notes\n",
    "    -----\n",
    "    The function is named by analogy with a collection of books\n",
    "    being reorganized from being side by side on a horizontal\n",
    "    position (the columns of the dataframe) to being stacked\n",
    "    vertically on top of each other (in the index of the\n",
    "    dataframe).\n",
    "'''\n",
    "\n",
    "stacked = df2.stack()\n",
    "stacked"
   ]
  },
  {
   "cell_type": "markdown",
   "id": "7c8824b1",
   "metadata": {},
   "source": [
    "**压缩后**的 **DataFrame** 或 **Series** 具有多层索引，**stack()** 的逆操作是 **unstack()**，默认为**拆叠**最后一层："
   ]
  },
  {
   "cell_type": "code",
   "execution_count": 75,
   "id": "9c454555",
   "metadata": {},
   "outputs": [
    {
     "data": {
      "text/html": [
       "<div>\n",
       "<style scoped>\n",
       "    .dataframe tbody tr th:only-of-type {\n",
       "        vertical-align: middle;\n",
       "    }\n",
       "\n",
       "    .dataframe tbody tr th {\n",
       "        vertical-align: top;\n",
       "    }\n",
       "\n",
       "    .dataframe thead th {\n",
       "        text-align: right;\n",
       "    }\n",
       "</style>\n",
       "<table border=\"1\" class=\"dataframe\">\n",
       "  <thead>\n",
       "    <tr style=\"text-align: right;\">\n",
       "      <th></th>\n",
       "      <th></th>\n",
       "      <th>A</th>\n",
       "      <th>B</th>\n",
       "    </tr>\n",
       "    <tr>\n",
       "      <th>first</th>\n",
       "      <th>second</th>\n",
       "      <th></th>\n",
       "      <th></th>\n",
       "    </tr>\n",
       "  </thead>\n",
       "  <tbody>\n",
       "    <tr>\n",
       "      <th rowspan=\"2\" valign=\"top\">bar</th>\n",
       "      <th>one</th>\n",
       "      <td>2.318616</td>\n",
       "      <td>-0.022279</td>\n",
       "    </tr>\n",
       "    <tr>\n",
       "      <th>two</th>\n",
       "      <td>0.905563</td>\n",
       "      <td>-0.456407</td>\n",
       "    </tr>\n",
       "    <tr>\n",
       "      <th rowspan=\"2\" valign=\"top\">baz</th>\n",
       "      <th>one</th>\n",
       "      <td>-0.893234</td>\n",
       "      <td>-0.067406</td>\n",
       "    </tr>\n",
       "    <tr>\n",
       "      <th>two</th>\n",
       "      <td>0.056971</td>\n",
       "      <td>0.598208</td>\n",
       "    </tr>\n",
       "  </tbody>\n",
       "</table>\n",
       "</div>"
      ],
      "text/plain": [
       "                     A         B\n",
       "first second                    \n",
       "bar   one     2.318616 -0.022279\n",
       "      two     0.905563 -0.456407\n",
       "baz   one    -0.893234 -0.067406\n",
       "      two     0.056971  0.598208"
      ]
     },
     "execution_count": 75,
     "metadata": {},
     "output_type": "execute_result"
    }
   ],
   "source": [
    "stacked.unstack()"
   ]
  },
  {
   "cell_type": "code",
   "execution_count": 76,
   "id": "3246733a",
   "metadata": {},
   "outputs": [
    {
     "data": {
      "text/html": [
       "<div>\n",
       "<style scoped>\n",
       "    .dataframe tbody tr th:only-of-type {\n",
       "        vertical-align: middle;\n",
       "    }\n",
       "\n",
       "    .dataframe tbody tr th {\n",
       "        vertical-align: top;\n",
       "    }\n",
       "\n",
       "    .dataframe thead th {\n",
       "        text-align: right;\n",
       "    }\n",
       "</style>\n",
       "<table border=\"1\" class=\"dataframe\">\n",
       "  <thead>\n",
       "    <tr style=\"text-align: right;\">\n",
       "      <th></th>\n",
       "      <th></th>\n",
       "      <th>A</th>\n",
       "      <th>B</th>\n",
       "    </tr>\n",
       "    <tr>\n",
       "      <th>first</th>\n",
       "      <th>second</th>\n",
       "      <th></th>\n",
       "      <th></th>\n",
       "    </tr>\n",
       "  </thead>\n",
       "  <tbody>\n",
       "    <tr>\n",
       "      <th rowspan=\"2\" valign=\"top\">bar</th>\n",
       "      <th>one</th>\n",
       "      <td>2.318616</td>\n",
       "      <td>-0.022279</td>\n",
       "    </tr>\n",
       "    <tr>\n",
       "      <th>two</th>\n",
       "      <td>0.905563</td>\n",
       "      <td>-0.456407</td>\n",
       "    </tr>\n",
       "    <tr>\n",
       "      <th rowspan=\"2\" valign=\"top\">baz</th>\n",
       "      <th>one</th>\n",
       "      <td>-0.893234</td>\n",
       "      <td>-0.067406</td>\n",
       "    </tr>\n",
       "    <tr>\n",
       "      <th>two</th>\n",
       "      <td>0.056971</td>\n",
       "      <td>0.598208</td>\n",
       "    </tr>\n",
       "  </tbody>\n",
       "</table>\n",
       "</div>"
      ],
      "text/plain": [
       "                     A         B\n",
       "first second                    \n",
       "bar   one     2.318616 -0.022279\n",
       "      two     0.905563 -0.456407\n",
       "baz   one    -0.893234 -0.067406\n",
       "      two     0.056971  0.598208"
      ]
     },
     "execution_count": 76,
     "metadata": {},
     "output_type": "execute_result"
    }
   ],
   "source": [
    "stacked.unstack(2)"
   ]
  },
  {
   "cell_type": "code",
   "execution_count": 77,
   "id": "80aed5cf",
   "metadata": {},
   "outputs": [
    {
     "data": {
      "text/html": [
       "<div>\n",
       "<style scoped>\n",
       "    .dataframe tbody tr th:only-of-type {\n",
       "        vertical-align: middle;\n",
       "    }\n",
       "\n",
       "    .dataframe tbody tr th {\n",
       "        vertical-align: top;\n",
       "    }\n",
       "\n",
       "    .dataframe thead th {\n",
       "        text-align: right;\n",
       "    }\n",
       "</style>\n",
       "<table border=\"1\" class=\"dataframe\">\n",
       "  <thead>\n",
       "    <tr style=\"text-align: right;\">\n",
       "      <th></th>\n",
       "      <th>second</th>\n",
       "      <th>one</th>\n",
       "      <th>two</th>\n",
       "    </tr>\n",
       "    <tr>\n",
       "      <th>first</th>\n",
       "      <th></th>\n",
       "      <th></th>\n",
       "      <th></th>\n",
       "    </tr>\n",
       "  </thead>\n",
       "  <tbody>\n",
       "    <tr>\n",
       "      <th rowspan=\"2\" valign=\"top\">bar</th>\n",
       "      <th>A</th>\n",
       "      <td>2.318616</td>\n",
       "      <td>0.905563</td>\n",
       "    </tr>\n",
       "    <tr>\n",
       "      <th>B</th>\n",
       "      <td>-0.022279</td>\n",
       "      <td>-0.456407</td>\n",
       "    </tr>\n",
       "    <tr>\n",
       "      <th rowspan=\"2\" valign=\"top\">baz</th>\n",
       "      <th>A</th>\n",
       "      <td>-0.893234</td>\n",
       "      <td>0.056971</td>\n",
       "    </tr>\n",
       "    <tr>\n",
       "      <th>B</th>\n",
       "      <td>-0.067406</td>\n",
       "      <td>0.598208</td>\n",
       "    </tr>\n",
       "  </tbody>\n",
       "</table>\n",
       "</div>"
      ],
      "text/plain": [
       "second        one       two\n",
       "first                      \n",
       "bar   A  2.318616  0.905563\n",
       "      B -0.022279 -0.456407\n",
       "baz   A -0.893234  0.056971\n",
       "      B -0.067406  0.598208"
      ]
     },
     "execution_count": 77,
     "metadata": {},
     "output_type": "execute_result"
    }
   ],
   "source": [
    "stacked.unstack(1)"
   ]
  },
  {
   "cell_type": "code",
   "execution_count": 78,
   "id": "204ddfdb",
   "metadata": {},
   "outputs": [
    {
     "data": {
      "text/html": [
       "<div>\n",
       "<style scoped>\n",
       "    .dataframe tbody tr th:only-of-type {\n",
       "        vertical-align: middle;\n",
       "    }\n",
       "\n",
       "    .dataframe tbody tr th {\n",
       "        vertical-align: top;\n",
       "    }\n",
       "\n",
       "    .dataframe thead th {\n",
       "        text-align: right;\n",
       "    }\n",
       "</style>\n",
       "<table border=\"1\" class=\"dataframe\">\n",
       "  <thead>\n",
       "    <tr style=\"text-align: right;\">\n",
       "      <th></th>\n",
       "      <th>first</th>\n",
       "      <th>bar</th>\n",
       "      <th>baz</th>\n",
       "    </tr>\n",
       "    <tr>\n",
       "      <th>second</th>\n",
       "      <th></th>\n",
       "      <th></th>\n",
       "      <th></th>\n",
       "    </tr>\n",
       "  </thead>\n",
       "  <tbody>\n",
       "    <tr>\n",
       "      <th rowspan=\"2\" valign=\"top\">one</th>\n",
       "      <th>A</th>\n",
       "      <td>2.318616</td>\n",
       "      <td>-0.893234</td>\n",
       "    </tr>\n",
       "    <tr>\n",
       "      <th>B</th>\n",
       "      <td>-0.022279</td>\n",
       "      <td>-0.067406</td>\n",
       "    </tr>\n",
       "    <tr>\n",
       "      <th rowspan=\"2\" valign=\"top\">two</th>\n",
       "      <th>A</th>\n",
       "      <td>0.905563</td>\n",
       "      <td>0.056971</td>\n",
       "    </tr>\n",
       "    <tr>\n",
       "      <th>B</th>\n",
       "      <td>-0.456407</td>\n",
       "      <td>0.598208</td>\n",
       "    </tr>\n",
       "  </tbody>\n",
       "</table>\n",
       "</div>"
      ],
      "text/plain": [
       "first          bar       baz\n",
       "second                      \n",
       "one    A  2.318616 -0.893234\n",
       "       B -0.022279 -0.067406\n",
       "two    A  0.905563  0.056971\n",
       "       B -0.456407  0.598208"
      ]
     },
     "execution_count": 78,
     "metadata": {},
     "output_type": "execute_result"
    }
   ],
   "source": [
    "stacked.unstack(0)"
   ]
  },
  {
   "cell_type": "markdown",
   "id": "773a0ddf",
   "metadata": {},
   "source": [
    "## 数据透视表（Pivot Tables）"
   ]
  },
  {
   "cell_type": "code",
   "execution_count": 79,
   "id": "26ad1179",
   "metadata": {},
   "outputs": [
    {
     "data": {
      "text/html": [
       "<div>\n",
       "<style scoped>\n",
       "    .dataframe tbody tr th:only-of-type {\n",
       "        vertical-align: middle;\n",
       "    }\n",
       "\n",
       "    .dataframe tbody tr th {\n",
       "        vertical-align: top;\n",
       "    }\n",
       "\n",
       "    .dataframe thead th {\n",
       "        text-align: right;\n",
       "    }\n",
       "</style>\n",
       "<table border=\"1\" class=\"dataframe\">\n",
       "  <thead>\n",
       "    <tr style=\"text-align: right;\">\n",
       "      <th></th>\n",
       "      <th>A</th>\n",
       "      <th>B</th>\n",
       "      <th>C</th>\n",
       "      <th>D</th>\n",
       "      <th>E</th>\n",
       "    </tr>\n",
       "  </thead>\n",
       "  <tbody>\n",
       "    <tr>\n",
       "      <th>0</th>\n",
       "      <td>one</td>\n",
       "      <td>A</td>\n",
       "      <td>foo</td>\n",
       "      <td>-0.329618</td>\n",
       "      <td>-0.205728</td>\n",
       "    </tr>\n",
       "    <tr>\n",
       "      <th>1</th>\n",
       "      <td>one</td>\n",
       "      <td>B</td>\n",
       "      <td>foo</td>\n",
       "      <td>-1.794309</td>\n",
       "      <td>1.019414</td>\n",
       "    </tr>\n",
       "    <tr>\n",
       "      <th>2</th>\n",
       "      <td>two</td>\n",
       "      <td>C</td>\n",
       "      <td>foo</td>\n",
       "      <td>0.009133</td>\n",
       "      <td>-0.834671</td>\n",
       "    </tr>\n",
       "    <tr>\n",
       "      <th>3</th>\n",
       "      <td>three</td>\n",
       "      <td>A</td>\n",
       "      <td>bar</td>\n",
       "      <td>-0.597173</td>\n",
       "      <td>0.248001</td>\n",
       "    </tr>\n",
       "    <tr>\n",
       "      <th>4</th>\n",
       "      <td>one</td>\n",
       "      <td>B</td>\n",
       "      <td>bar</td>\n",
       "      <td>0.796034</td>\n",
       "      <td>0.155522</td>\n",
       "    </tr>\n",
       "    <tr>\n",
       "      <th>5</th>\n",
       "      <td>one</td>\n",
       "      <td>C</td>\n",
       "      <td>bar</td>\n",
       "      <td>0.007145</td>\n",
       "      <td>-0.199425</td>\n",
       "    </tr>\n",
       "    <tr>\n",
       "      <th>6</th>\n",
       "      <td>two</td>\n",
       "      <td>A</td>\n",
       "      <td>foo</td>\n",
       "      <td>-0.065284</td>\n",
       "      <td>-0.158025</td>\n",
       "    </tr>\n",
       "    <tr>\n",
       "      <th>7</th>\n",
       "      <td>three</td>\n",
       "      <td>B</td>\n",
       "      <td>foo</td>\n",
       "      <td>-1.922524</td>\n",
       "      <td>0.643263</td>\n",
       "    </tr>\n",
       "    <tr>\n",
       "      <th>8</th>\n",
       "      <td>one</td>\n",
       "      <td>C</td>\n",
       "      <td>foo</td>\n",
       "      <td>0.091569</td>\n",
       "      <td>0.105008</td>\n",
       "    </tr>\n",
       "    <tr>\n",
       "      <th>9</th>\n",
       "      <td>one</td>\n",
       "      <td>A</td>\n",
       "      <td>bar</td>\n",
       "      <td>-0.013803</td>\n",
       "      <td>-0.545056</td>\n",
       "    </tr>\n",
       "    <tr>\n",
       "      <th>10</th>\n",
       "      <td>two</td>\n",
       "      <td>B</td>\n",
       "      <td>bar</td>\n",
       "      <td>0.082661</td>\n",
       "      <td>-0.548024</td>\n",
       "    </tr>\n",
       "    <tr>\n",
       "      <th>11</th>\n",
       "      <td>three</td>\n",
       "      <td>C</td>\n",
       "      <td>bar</td>\n",
       "      <td>-0.481806</td>\n",
       "      <td>2.126233</td>\n",
       "    </tr>\n",
       "  </tbody>\n",
       "</table>\n",
       "</div>"
      ],
      "text/plain": [
       "        A  B    C         D         E\n",
       "0     one  A  foo -0.329618 -0.205728\n",
       "1     one  B  foo -1.794309  1.019414\n",
       "2     two  C  foo  0.009133 -0.834671\n",
       "3   three  A  bar -0.597173  0.248001\n",
       "4     one  B  bar  0.796034  0.155522\n",
       "5     one  C  bar  0.007145 -0.199425\n",
       "6     two  A  foo -0.065284 -0.158025\n",
       "7   three  B  foo -1.922524  0.643263\n",
       "8     one  C  foo  0.091569  0.105008\n",
       "9     one  A  bar -0.013803 -0.545056\n",
       "10    two  B  bar  0.082661 -0.548024\n",
       "11  three  C  bar -0.481806  2.126233"
      ]
     },
     "execution_count": 79,
     "metadata": {},
     "output_type": "execute_result"
    }
   ],
   "source": [
    "df = pd.DataFrame({'A': ['one', 'one', 'two', 'three'] * 3,\n",
    "                   'B': ['A', 'B', 'C'] * 4,\n",
    "                   'C': ['foo', 'foo', 'foo', 'bar', 'bar', 'bar'] * 2,\n",
    "                   'D': np.random.randn(12),\n",
    "                   'E': np.random.randn(12)})\n",
    "df"
   ]
  },
  {
   "cell_type": "markdown",
   "id": "7cdf949a",
   "metadata": {},
   "source": [
    "用上述数据生成**数据透视表**非常简单："
   ]
  },
  {
   "cell_type": "code",
   "execution_count": 80,
   "id": "5446375a",
   "metadata": {},
   "outputs": [
    {
     "data": {
      "text/html": [
       "<div>\n",
       "<style scoped>\n",
       "    .dataframe tbody tr th:only-of-type {\n",
       "        vertical-align: middle;\n",
       "    }\n",
       "\n",
       "    .dataframe tbody tr th {\n",
       "        vertical-align: top;\n",
       "    }\n",
       "\n",
       "    .dataframe thead th {\n",
       "        text-align: right;\n",
       "    }\n",
       "</style>\n",
       "<table border=\"1\" class=\"dataframe\">\n",
       "  <thead>\n",
       "    <tr style=\"text-align: right;\">\n",
       "      <th></th>\n",
       "      <th>C</th>\n",
       "      <th>bar</th>\n",
       "      <th>foo</th>\n",
       "    </tr>\n",
       "    <tr>\n",
       "      <th>A</th>\n",
       "      <th>B</th>\n",
       "      <th></th>\n",
       "      <th></th>\n",
       "    </tr>\n",
       "  </thead>\n",
       "  <tbody>\n",
       "    <tr>\n",
       "      <th rowspan=\"3\" valign=\"top\">one</th>\n",
       "      <th>A</th>\n",
       "      <td>-0.013803</td>\n",
       "      <td>-0.329618</td>\n",
       "    </tr>\n",
       "    <tr>\n",
       "      <th>B</th>\n",
       "      <td>0.796034</td>\n",
       "      <td>-1.794309</td>\n",
       "    </tr>\n",
       "    <tr>\n",
       "      <th>C</th>\n",
       "      <td>0.007145</td>\n",
       "      <td>0.091569</td>\n",
       "    </tr>\n",
       "    <tr>\n",
       "      <th rowspan=\"3\" valign=\"top\">three</th>\n",
       "      <th>A</th>\n",
       "      <td>-0.597173</td>\n",
       "      <td>NaN</td>\n",
       "    </tr>\n",
       "    <tr>\n",
       "      <th>B</th>\n",
       "      <td>NaN</td>\n",
       "      <td>-1.922524</td>\n",
       "    </tr>\n",
       "    <tr>\n",
       "      <th>C</th>\n",
       "      <td>-0.481806</td>\n",
       "      <td>NaN</td>\n",
       "    </tr>\n",
       "    <tr>\n",
       "      <th rowspan=\"3\" valign=\"top\">two</th>\n",
       "      <th>A</th>\n",
       "      <td>NaN</td>\n",
       "      <td>-0.065284</td>\n",
       "    </tr>\n",
       "    <tr>\n",
       "      <th>B</th>\n",
       "      <td>0.082661</td>\n",
       "      <td>NaN</td>\n",
       "    </tr>\n",
       "    <tr>\n",
       "      <th>C</th>\n",
       "      <td>NaN</td>\n",
       "      <td>0.009133</td>\n",
       "    </tr>\n",
       "  </tbody>\n",
       "</table>\n",
       "</div>"
      ],
      "text/plain": [
       "C             bar       foo\n",
       "A     B                    \n",
       "one   A -0.013803 -0.329618\n",
       "      B  0.796034 -1.794309\n",
       "      C  0.007145  0.091569\n",
       "three A -0.597173       NaN\n",
       "      B       NaN -1.922524\n",
       "      C -0.481806       NaN\n",
       "two   A       NaN -0.065284\n",
       "      B  0.082661       NaN\n",
       "      C       NaN  0.009133"
      ]
     },
     "execution_count": 80,
     "metadata": {},
     "output_type": "execute_result"
    }
   ],
   "source": [
    "# Create a spreadsheet-style pivot table as a DataFrame.\n",
    "\n",
    "pd.pivot_table(df, values='D', index=['A', 'B'], columns=['C'])"
   ]
  },
  {
   "cell_type": "markdown",
   "id": "679fded0",
   "metadata": {},
   "source": [
    "## 时间序列(TimeSeries)"
   ]
  },
  {
   "cell_type": "markdown",
   "id": "27d8deff",
   "metadata": {},
   "source": [
    "**Pandas** 为频率转换时**重采样**提供了虽然简单易用，但强大高效的功能，如，将秒级的数据转换为 **5** 分钟为频率的数据。"
   ]
  },
  {
   "cell_type": "code",
   "execution_count": 81,
   "id": "9b6ab8ec",
   "metadata": {},
   "outputs": [
    {
     "data": {
      "text/plain": [
       "DatetimeIndex(['2012-01-01 00:00:00', '2012-01-01 00:00:01',\n",
       "               '2012-01-01 00:00:02', '2012-01-01 00:00:03',\n",
       "               '2012-01-01 00:00:04', '2012-01-01 00:00:05',\n",
       "               '2012-01-01 00:00:06', '2012-01-01 00:00:07',\n",
       "               '2012-01-01 00:00:08', '2012-01-01 00:00:09',\n",
       "               '2012-01-01 00:00:10', '2012-01-01 00:00:11',\n",
       "               '2012-01-01 00:00:12', '2012-01-01 00:00:13',\n",
       "               '2012-01-01 00:00:14', '2012-01-01 00:00:15',\n",
       "               '2012-01-01 00:00:16', '2012-01-01 00:00:17',\n",
       "               '2012-01-01 00:00:18', '2012-01-01 00:00:19',\n",
       "               '2012-01-01 00:00:20', '2012-01-01 00:00:21',\n",
       "               '2012-01-01 00:00:22', '2012-01-01 00:00:23',\n",
       "               '2012-01-01 00:00:24', '2012-01-01 00:00:25',\n",
       "               '2012-01-01 00:00:26', '2012-01-01 00:00:27',\n",
       "               '2012-01-01 00:00:28', '2012-01-01 00:00:29',\n",
       "               '2012-01-01 00:00:30', '2012-01-01 00:00:31',\n",
       "               '2012-01-01 00:00:32', '2012-01-01 00:00:33',\n",
       "               '2012-01-01 00:00:34', '2012-01-01 00:00:35',\n",
       "               '2012-01-01 00:00:36', '2012-01-01 00:00:37',\n",
       "               '2012-01-01 00:00:38', '2012-01-01 00:00:39',\n",
       "               '2012-01-01 00:00:40', '2012-01-01 00:00:41',\n",
       "               '2012-01-01 00:00:42', '2012-01-01 00:00:43',\n",
       "               '2012-01-01 00:00:44', '2012-01-01 00:00:45',\n",
       "               '2012-01-01 00:00:46', '2012-01-01 00:00:47',\n",
       "               '2012-01-01 00:00:48', '2012-01-01 00:00:49',\n",
       "               '2012-01-01 00:00:50', '2012-01-01 00:00:51',\n",
       "               '2012-01-01 00:00:52', '2012-01-01 00:00:53',\n",
       "               '2012-01-01 00:00:54', '2012-01-01 00:00:55',\n",
       "               '2012-01-01 00:00:56', '2012-01-01 00:00:57',\n",
       "               '2012-01-01 00:00:58', '2012-01-01 00:00:59',\n",
       "               '2012-01-01 00:01:00', '2012-01-01 00:01:01',\n",
       "               '2012-01-01 00:01:02', '2012-01-01 00:01:03',\n",
       "               '2012-01-01 00:01:04', '2012-01-01 00:01:05',\n",
       "               '2012-01-01 00:01:06', '2012-01-01 00:01:07',\n",
       "               '2012-01-01 00:01:08', '2012-01-01 00:01:09',\n",
       "               '2012-01-01 00:01:10', '2012-01-01 00:01:11',\n",
       "               '2012-01-01 00:01:12', '2012-01-01 00:01:13',\n",
       "               '2012-01-01 00:01:14', '2012-01-01 00:01:15',\n",
       "               '2012-01-01 00:01:16', '2012-01-01 00:01:17',\n",
       "               '2012-01-01 00:01:18', '2012-01-01 00:01:19',\n",
       "               '2012-01-01 00:01:20', '2012-01-01 00:01:21',\n",
       "               '2012-01-01 00:01:22', '2012-01-01 00:01:23',\n",
       "               '2012-01-01 00:01:24', '2012-01-01 00:01:25',\n",
       "               '2012-01-01 00:01:26', '2012-01-01 00:01:27',\n",
       "               '2012-01-01 00:01:28', '2012-01-01 00:01:29',\n",
       "               '2012-01-01 00:01:30', '2012-01-01 00:01:31',\n",
       "               '2012-01-01 00:01:32', '2012-01-01 00:01:33',\n",
       "               '2012-01-01 00:01:34', '2012-01-01 00:01:35',\n",
       "               '2012-01-01 00:01:36', '2012-01-01 00:01:37',\n",
       "               '2012-01-01 00:01:38', '2012-01-01 00:01:39'],\n",
       "              dtype='datetime64[ns]', freq='S')"
      ]
     },
     "execution_count": 81,
     "metadata": {},
     "output_type": "execute_result"
    }
   ],
   "source": [
    "rng = pd.date_range('1/1/2012', periods=100, freq='S')\n",
    "rng"
   ]
  },
  {
   "cell_type": "code",
   "execution_count": 82,
   "id": "59e5be67",
   "metadata": {},
   "outputs": [
    {
     "data": {
      "text/plain": [
       "2012-01-01 00:00:00    436\n",
       "2012-01-01 00:00:01    394\n",
       "2012-01-01 00:00:02    452\n",
       "2012-01-01 00:00:03    382\n",
       "2012-01-01 00:00:04    395\n",
       "                      ... \n",
       "2012-01-01 00:01:35     71\n",
       "2012-01-01 00:01:36    324\n",
       "2012-01-01 00:01:37     17\n",
       "2012-01-01 00:01:38    143\n",
       "2012-01-01 00:01:39    152\n",
       "Freq: S, Length: 100, dtype: int64"
      ]
     },
     "execution_count": 82,
     "metadata": {},
     "output_type": "execute_result"
    }
   ],
   "source": [
    "# Return random integers from `low` (inclusive) to `high` (exclusive).\n",
    "\n",
    "ts = pd.Series(np.random.randint(0, 500, len(rng)), index=rng)\n",
    "ts"
   ]
  },
  {
   "cell_type": "code",
   "execution_count": 83,
   "id": "279de5d9",
   "metadata": {},
   "outputs": [
    {
     "data": {
      "text/plain": [
       "2012-01-01    23703\n",
       "Freq: 5T, dtype: int64"
      ]
     },
     "execution_count": 83,
     "metadata": {},
     "output_type": "execute_result"
    }
   ],
   "source": [
    "# Resample time-series data.\n",
    "\n",
    "ts.resample('5Min').sum()"
   ]
  },
  {
   "cell_type": "markdown",
   "id": "40809e80",
   "metadata": {},
   "source": [
    "时区表示："
   ]
  },
  {
   "cell_type": "code",
   "execution_count": 84,
   "id": "f051c181",
   "metadata": {},
   "outputs": [
    {
     "data": {
      "text/plain": [
       "2012-03-06    0.910761\n",
       "2012-03-07    0.412319\n",
       "2012-03-08    0.406012\n",
       "2012-03-09    0.678034\n",
       "2012-03-10   -0.159744\n",
       "Freq: D, dtype: float64"
      ]
     },
     "execution_count": 84,
     "metadata": {},
     "output_type": "execute_result"
    }
   ],
   "source": [
    "'''\n",
    "class Series(pandas.core.base.IndexOpsMixin, pandas.core.generic.NDFrame)\n",
    " |  Series(data=None, index=None, dtype: 'Dtype | None' = None, name=None, copy: 'bool' = False, fastpath: 'bool' = False)\n",
    " |  \n",
    " |  One-dimensional ndarray with axis labels (including time series).\n",
    " |  \n",
    " |  Parameters\n",
    " |  ----------\n",
    " |  data : array-like, Iterable, dict, or scalar value\n",
    " |      Contains data stored in Series. If data is a dict, argument order is\n",
    " |      maintained.\n",
    " |  index : array-like or Index (1d)\n",
    " |      Values must be hashable and have the same length as `data`.\n",
    " |      Non-unique index values are allowed. Will default to\n",
    " |      RangeIndex (0, 1, 2, ..., n) if not provided. If data is dict-like\n",
    " |      and index is None, then the keys in the data are used as the index. If the\n",
    " |      index is not None, the resulting Series is reindexed with the index values.\n",
    "'''\n",
    "\n",
    "rng = pd.date_range('3/6/2012 00:00', periods=5, freq='D')\n",
    "ts = pd.Series(np.random.randn(len(rng)), rng)\n",
    "ts"
   ]
  },
  {
   "cell_type": "code",
   "execution_count": 85,
   "id": "e64d2af0",
   "metadata": {},
   "outputs": [
    {
     "name": "stdout",
     "output_type": "stream",
     "text": [
      "Help on method tz_localize in module pandas.core.generic:\n",
      "\n",
      "tz_localize(tz, axis=0, level=None, copy: 'bool_t' = True, ambiguous='raise', nonexistent: 'str' = 'raise') -> 'FrameOrSeries' method of pandas.core.series.Series instance\n",
      "    Localize tz-naive index of a Series or DataFrame to target time zone.\n",
      "    \n",
      "    This operation localizes the Index. To localize the values in a\n",
      "    timezone-naive Series, use :meth:`Series.dt.tz_localize`.\n",
      "    \n",
      "    Parameters\n",
      "    ----------\n",
      "    tz : str or tzinfo\n",
      "    axis : the axis to localize\n",
      "    level : int, str, default None\n",
      "        If axis ia a MultiIndex, localize a specific level. Otherwise\n",
      "        must be None.\n",
      "    copy : bool, default True\n",
      "        Also make a copy of the underlying data.\n",
      "    ambiguous : 'infer', bool-ndarray, 'NaT', default 'raise'\n",
      "        When clocks moved backward due to DST, ambiguous times may arise.\n",
      "        For example in Central European Time (UTC+01), when going from\n",
      "        03:00 DST to 02:00 non-DST, 02:30:00 local time occurs both at\n",
      "        00:30:00 UTC and at 01:30:00 UTC. In such a situation, the\n",
      "        `ambiguous` parameter dictates how ambiguous times should be\n",
      "        handled.\n",
      "    \n",
      "        - 'infer' will attempt to infer fall dst-transition hours based on\n",
      "          order\n",
      "        - bool-ndarray where True signifies a DST time, False designates\n",
      "          a non-DST time (note that this flag is only applicable for\n",
      "          ambiguous times)\n",
      "        - 'NaT' will return NaT where there are ambiguous times\n",
      "        - 'raise' will raise an AmbiguousTimeError if there are ambiguous\n",
      "          times.\n",
      "    nonexistent : str, default 'raise'\n",
      "        A nonexistent time does not exist in a particular timezone\n",
      "        where clocks moved forward due to DST. Valid values are:\n",
      "    \n",
      "        - 'shift_forward' will shift the nonexistent time forward to the\n",
      "          closest existing time\n",
      "        - 'shift_backward' will shift the nonexistent time backward to the\n",
      "          closest existing time\n",
      "        - 'NaT' will return NaT where there are nonexistent times\n",
      "        - timedelta objects will shift nonexistent times by the timedelta\n",
      "        - 'raise' will raise an NonExistentTimeError if there are\n",
      "          nonexistent times.\n",
      "    \n",
      "    Returns\n",
      "    -------\n",
      "    Series or DataFrame\n",
      "        Same type as the input.\n",
      "    \n",
      "    Raises\n",
      "    ------\n",
      "    TypeError\n",
      "        If the TimeSeries is tz-aware and tz is not None.\n",
      "    \n",
      "    Examples\n",
      "    --------\n",
      "    Localize local times:\n",
      "    \n",
      "    >>> s = pd.Series([1],\n",
      "    ...               index=pd.DatetimeIndex(['2018-09-15 01:30:00']))\n",
      "    >>> s.tz_localize('CET')\n",
      "    2018-09-15 01:30:00+02:00    1\n",
      "    dtype: int64\n",
      "    \n",
      "    Be careful with DST changes. When there is sequential data, pandas\n",
      "    can infer the DST time:\n",
      "    \n",
      "    >>> s = pd.Series(range(7),\n",
      "    ...               index=pd.DatetimeIndex(['2018-10-28 01:30:00',\n",
      "    ...                                       '2018-10-28 02:00:00',\n",
      "    ...                                       '2018-10-28 02:30:00',\n",
      "    ...                                       '2018-10-28 02:00:00',\n",
      "    ...                                       '2018-10-28 02:30:00',\n",
      "    ...                                       '2018-10-28 03:00:00',\n",
      "    ...                                       '2018-10-28 03:30:00']))\n",
      "    >>> s.tz_localize('CET', ambiguous='infer')\n",
      "    2018-10-28 01:30:00+02:00    0\n",
      "    2018-10-28 02:00:00+02:00    1\n",
      "    2018-10-28 02:30:00+02:00    2\n",
      "    2018-10-28 02:00:00+01:00    3\n",
      "    2018-10-28 02:30:00+01:00    4\n",
      "    2018-10-28 03:00:00+01:00    5\n",
      "    2018-10-28 03:30:00+01:00    6\n",
      "    dtype: int64\n",
      "    \n",
      "    In some cases, inferring the DST is impossible. In such cases, you can\n",
      "    pass an ndarray to the ambiguous parameter to set the DST explicitly\n",
      "    \n",
      "    >>> s = pd.Series(range(3),\n",
      "    ...               index=pd.DatetimeIndex(['2018-10-28 01:20:00',\n",
      "    ...                                       '2018-10-28 02:36:00',\n",
      "    ...                                       '2018-10-28 03:46:00']))\n",
      "    >>> s.tz_localize('CET', ambiguous=np.array([True, True, False]))\n",
      "    2018-10-28 01:20:00+02:00    0\n",
      "    2018-10-28 02:36:00+02:00    1\n",
      "    2018-10-28 03:46:00+01:00    2\n",
      "    dtype: int64\n",
      "    \n",
      "    If the DST transition causes nonexistent times, you can shift these\n",
      "    dates forward or backward with a timedelta object or `'shift_forward'`\n",
      "    or `'shift_backward'`.\n",
      "    \n",
      "    >>> s = pd.Series(range(2),\n",
      "    ...               index=pd.DatetimeIndex(['2015-03-29 02:30:00',\n",
      "    ...                                       '2015-03-29 03:30:00']))\n",
      "    >>> s.tz_localize('Europe/Warsaw', nonexistent='shift_forward')\n",
      "    2015-03-29 03:00:00+02:00    0\n",
      "    2015-03-29 03:30:00+02:00    1\n",
      "    dtype: int64\n",
      "    >>> s.tz_localize('Europe/Warsaw', nonexistent='shift_backward')\n",
      "    2015-03-29 01:59:59.999999999+01:00    0\n",
      "    2015-03-29 03:30:00+02:00              1\n",
      "    dtype: int64\n",
      "    >>> s.tz_localize('Europe/Warsaw', nonexistent=pd.Timedelta('1H'))\n",
      "    2015-03-29 03:30:00+02:00    0\n",
      "    2015-03-29 03:30:00+02:00    1\n",
      "    dtype: int64\n",
      "\n"
     ]
    }
   ],
   "source": [
    "help(ts.tz_localize)"
   ]
  },
  {
   "cell_type": "code",
   "execution_count": 86,
   "id": "51bae57d",
   "metadata": {},
   "outputs": [
    {
     "data": {
      "text/plain": [
       "2012-03-06 00:00:00+00:00    0.910761\n",
       "2012-03-07 00:00:00+00:00    0.412319\n",
       "2012-03-08 00:00:00+00:00    0.406012\n",
       "2012-03-09 00:00:00+00:00    0.678034\n",
       "2012-03-10 00:00:00+00:00   -0.159744\n",
       "Freq: D, dtype: float64"
      ]
     },
     "execution_count": 86,
     "metadata": {},
     "output_type": "execute_result"
    }
   ],
   "source": [
    "ts_utc = ts.tz_localize('UTC')\n",
    "ts_utc"
   ]
  },
  {
   "cell_type": "markdown",
   "id": "f363217b",
   "metadata": {},
   "source": [
    "转换成其它时区："
   ]
  },
  {
   "cell_type": "code",
   "execution_count": 87,
   "id": "d8ee5d63",
   "metadata": {},
   "outputs": [
    {
     "data": {
      "text/plain": [
       "2012-03-05 19:00:00-05:00    0.910761\n",
       "2012-03-06 19:00:00-05:00    0.412319\n",
       "2012-03-07 19:00:00-05:00    0.406012\n",
       "2012-03-08 19:00:00-05:00    0.678034\n",
       "2012-03-09 19:00:00-05:00   -0.159744\n",
       "Freq: D, dtype: float64"
      ]
     },
     "execution_count": 87,
     "metadata": {},
     "output_type": "execute_result"
    }
   ],
   "source": [
    "ts_utc.tz_convert('US/Eastern')"
   ]
  },
  {
   "cell_type": "markdown",
   "id": "38ad9063",
   "metadata": {},
   "source": [
    "转换时间段："
   ]
  },
  {
   "cell_type": "code",
   "execution_count": 88,
   "id": "e9cd3496",
   "metadata": {},
   "outputs": [
    {
     "data": {
      "text/plain": [
       "2012-01-31    0.803011\n",
       "2012-02-29    0.984756\n",
       "2012-03-31   -0.751449\n",
       "2012-04-30    1.308424\n",
       "2012-05-31   -0.242987\n",
       "Freq: M, dtype: float64"
      ]
     },
     "execution_count": 88,
     "metadata": {},
     "output_type": "execute_result"
    }
   ],
   "source": [
    "rng = pd.date_range('1/1/2012', periods=5, freq='M')\n",
    "ts = pd.Series(np.random.randn(len(rng)), index=rng)\n",
    "ts"
   ]
  },
  {
   "cell_type": "code",
   "execution_count": 89,
   "id": "10e53c96",
   "metadata": {},
   "outputs": [
    {
     "name": "stdout",
     "output_type": "stream",
     "text": [
      "Help on method to_period in module pandas.core.series:\n",
      "\n",
      "to_period(freq=None, copy=True) -> 'Series' method of pandas.core.series.Series instance\n",
      "    Convert Series from DatetimeIndex to PeriodIndex.\n",
      "    \n",
      "    Parameters\n",
      "    ----------\n",
      "    freq : str, default None\n",
      "        Frequency associated with the PeriodIndex.\n",
      "    copy : bool, default True\n",
      "        Whether or not to return a copy.\n",
      "    \n",
      "    Returns\n",
      "    -------\n",
      "    Series\n",
      "        Series with index converted to PeriodIndex.\n",
      "\n"
     ]
    }
   ],
   "source": [
    "help(ts.to_period)"
   ]
  },
  {
   "cell_type": "code",
   "execution_count": 90,
   "id": "d49bfb9f",
   "metadata": {},
   "outputs": [
    {
     "data": {
      "text/plain": [
       "2012-01    0.803011\n",
       "2012-02    0.984756\n",
       "2012-03   -0.751449\n",
       "2012-04    1.308424\n",
       "2012-05   -0.242987\n",
       "Freq: M, dtype: float64"
      ]
     },
     "execution_count": 90,
     "metadata": {},
     "output_type": "execute_result"
    }
   ],
   "source": [
    "ps = ts.to_period()\n",
    "ps"
   ]
  },
  {
   "cell_type": "code",
   "execution_count": 91,
   "id": "87badfce",
   "metadata": {},
   "outputs": [
    {
     "name": "stdout",
     "output_type": "stream",
     "text": [
      "Help on method to_timestamp in module pandas.core.series:\n",
      "\n",
      "to_timestamp(freq=None, how='start', copy=True) -> 'Series' method of pandas.core.series.Series instance\n",
      "    Cast to DatetimeIndex of Timestamps, at *beginning* of period.\n",
      "    \n",
      "    Parameters\n",
      "    ----------\n",
      "    freq : str, default frequency of PeriodIndex\n",
      "        Desired frequency.\n",
      "    how : {'s', 'e', 'start', 'end'}\n",
      "        Convention for converting period to timestamp; start of period\n",
      "        vs. end.\n",
      "    copy : bool, default True\n",
      "        Whether or not to return a copy.\n",
      "    \n",
      "    Returns\n",
      "    -------\n",
      "    Series with DatetimeIndex\n",
      "\n"
     ]
    }
   ],
   "source": [
    "help(ps.to_timestamp)"
   ]
  },
  {
   "cell_type": "code",
   "execution_count": 92,
   "id": "e4f47823",
   "metadata": {},
   "outputs": [
    {
     "data": {
      "text/plain": [
       "2012-01-01    0.803011\n",
       "2012-02-01    0.984756\n",
       "2012-03-01   -0.751449\n",
       "2012-04-01    1.308424\n",
       "2012-05-01   -0.242987\n",
       "Freq: MS, dtype: float64"
      ]
     },
     "execution_count": 92,
     "metadata": {},
     "output_type": "execute_result"
    }
   ],
   "source": [
    "ps.to_timestamp()"
   ]
  },
  {
   "cell_type": "markdown",
   "id": "48ffcd13",
   "metadata": {},
   "source": [
    "**Pandas** 函数可以很方便地转换时间段与时间戳。下例把以 **11** 月为结束年份的季度频率转换为下一季度月末上午 **9** 点："
   ]
  },
  {
   "cell_type": "code",
   "execution_count": 93,
   "id": "50f2e839",
   "metadata": {},
   "outputs": [
    {
     "name": "stdout",
     "output_type": "stream",
     "text": [
      "Help on function period_range in module pandas.core.indexes.period:\n",
      "\n",
      "period_range(start=None, end=None, periods: 'int | None' = None, freq=None, name=None) -> 'PeriodIndex'\n",
      "    Return a fixed frequency PeriodIndex.\n",
      "    \n",
      "    The day (calendar) is the default frequency.\n",
      "    \n",
      "    Parameters\n",
      "    ----------\n",
      "    start : str or period-like, default None\n",
      "        Left bound for generating periods.\n",
      "    end : str or period-like, default None\n",
      "        Right bound for generating periods.\n",
      "    periods : int, default None\n",
      "        Number of periods to generate.\n",
      "    freq : str or DateOffset, optional\n",
      "        Frequency alias. By default the freq is taken from `start` or `end`\n",
      "        if those are Period objects. Otherwise, the default is ``\"D\"`` for\n",
      "        daily frequency.\n",
      "    name : str, default None\n",
      "        Name of the resulting PeriodIndex.\n",
      "    \n",
      "    Returns\n",
      "    -------\n",
      "    PeriodIndex\n",
      "    \n",
      "    Notes\n",
      "    -----\n",
      "    Of the three parameters: ``start``, ``end``, and ``periods``, exactly two\n",
      "    must be specified.\n",
      "    \n",
      "    To learn more about the frequency strings, please see `this link\n",
      "    <https://pandas.pydata.org/pandas-docs/stable/user_guide/timeseries.html#offset-aliases>`__.\n",
      "    \n",
      "    Examples\n",
      "    --------\n",
      "    >>> pd.period_range(start='2017-01-01', end='2018-01-01', freq='M')\n",
      "    PeriodIndex(['2017-01', '2017-02', '2017-03', '2017-04', '2017-05', '2017-06',\n",
      "             '2017-07', '2017-08', '2017-09', '2017-10', '2017-11', '2017-12',\n",
      "             '2018-01'],\n",
      "            dtype='period[M]')\n",
      "    \n",
      "    If ``start`` or ``end`` are ``Period`` objects, they will be used as anchor\n",
      "    endpoints for a ``PeriodIndex`` with frequency matching that of the\n",
      "    ``period_range`` constructor.\n",
      "    \n",
      "    >>> pd.period_range(start=pd.Period('2017Q1', freq='Q'),\n",
      "    ...                 end=pd.Period('2017Q2', freq='Q'), freq='M')\n",
      "    PeriodIndex(['2017-03', '2017-04', '2017-05', '2017-06'],\n",
      "                dtype='period[M]')\n",
      "\n"
     ]
    }
   ],
   "source": [
    "help(pd.period_range)"
   ]
  },
  {
   "cell_type": "code",
   "execution_count": 94,
   "id": "2c90e328",
   "metadata": {},
   "outputs": [
    {
     "data": {
      "text/plain": [
       "1990Q1    0.378404\n",
       "1990Q2   -1.555993\n",
       "1990Q3   -0.691739\n",
       "1990Q4    0.163211\n",
       "1991Q1   -0.144750\n",
       "1991Q2    0.310747\n",
       "1991Q3    0.323493\n",
       "1991Q4    0.690034\n",
       "1992Q1    2.467783\n",
       "1992Q2    0.084494\n",
       "1992Q3   -0.173833\n",
       "1992Q4   -0.753572\n",
       "1993Q1   -0.037627\n",
       "1993Q2    0.705282\n",
       "1993Q3   -0.365578\n",
       "1993Q4   -1.132043\n",
       "1994Q1    0.028499\n",
       "1994Q2    0.119090\n",
       "1994Q3   -0.584613\n",
       "1994Q4   -1.103398\n",
       "1995Q1    0.560374\n",
       "1995Q2    1.263141\n",
       "1995Q3    0.112831\n",
       "1995Q4   -1.755402\n",
       "1996Q1    0.082436\n",
       "1996Q2   -1.888470\n",
       "1996Q3   -1.415472\n",
       "1996Q4   -0.605019\n",
       "1997Q1    0.498807\n",
       "1997Q2   -0.515633\n",
       "1997Q3    1.763661\n",
       "1997Q4   -0.312391\n",
       "1998Q1   -2.707334\n",
       "1998Q2    0.185003\n",
       "1998Q3   -0.945328\n",
       "1998Q4   -0.585750\n",
       "1999Q1    1.514241\n",
       "1999Q2    1.000423\n",
       "1999Q3   -0.386122\n",
       "1999Q4   -0.191434\n",
       "2000Q1   -1.983125\n",
       "2000Q2    0.529795\n",
       "2000Q3    1.667159\n",
       "2000Q4   -0.551108\n",
       "Freq: Q-NOV, dtype: float64"
      ]
     },
     "execution_count": 94,
     "metadata": {},
     "output_type": "execute_result"
    }
   ],
   "source": [
    "prng = pd.period_range('1990Q1', '2000Q4', freq='Q-NOV')\n",
    "ts = pd.Series(np.random.randn(len(prng)), prng)\n",
    "ts"
   ]
  },
  {
   "cell_type": "code",
   "execution_count": 95,
   "id": "c7e0c184",
   "metadata": {},
   "outputs": [
    {
     "name": "stdout",
     "output_type": "stream",
     "text": [
      "Help on method asfreq in module pandas.core.indexes.period:\n",
      "\n",
      "asfreq(freq=None, how: 'str' = 'E') -> 'PeriodIndex' method of pandas.core.indexes.period.PeriodIndex instance\n",
      "    Convert the PeriodArray to the specified frequency `freq`.\n",
      "    \n",
      "    Equivalent to applying :meth:`pandas.Period.asfreq` with the given arguments\n",
      "    to each :class:`~pandas.Period` in this PeriodArray.\n",
      "    \n",
      "    Parameters\n",
      "    ----------\n",
      "    freq : str\n",
      "        A frequency.\n",
      "    how : str {'E', 'S'}, default 'E'\n",
      "        Whether the elements should be aligned to the end\n",
      "        or start within pa period.\n",
      "    \n",
      "        * 'E', 'END', or 'FINISH' for end,\n",
      "        * 'S', 'START', or 'BEGIN' for start.\n",
      "    \n",
      "        January 31st ('END') vs. January 1st ('START') for example.\n",
      "    \n",
      "    Returns\n",
      "    -------\n",
      "    PeriodArray\n",
      "        The transformed PeriodArray with the new frequency.\n",
      "    \n",
      "    See Also\n",
      "    --------\n",
      "    pandas.arrays.PeriodArray.asfreq: Convert each Period in a PeriodArray to the given frequency.\n",
      "    Period.asfreq : Convert a :class:`~pandas.Period` object to the given frequency.\n",
      "    \n",
      "    Examples\n",
      "    --------\n",
      "    >>> pidx = pd.period_range('2010-01-01', '2015-01-01', freq='A')\n",
      "    >>> pidx\n",
      "    PeriodIndex(['2010', '2011', '2012', '2013', '2014', '2015'],\n",
      "    dtype='period[A-DEC]')\n",
      "    \n",
      "    >>> pidx.asfreq('M')\n",
      "    PeriodIndex(['2010-12', '2011-12', '2012-12', '2013-12', '2014-12',\n",
      "    '2015-12'], dtype='period[M]')\n",
      "    \n",
      "    >>> pidx.asfreq('M', how='S')\n",
      "    PeriodIndex(['2010-01', '2011-01', '2012-01', '2013-01', '2014-01',\n",
      "    '2015-01'], dtype='period[M]')\n",
      "\n"
     ]
    }
   ],
   "source": [
    "help(prng.asfreq)"
   ]
  },
  {
   "cell_type": "code",
   "execution_count": 96,
   "id": "bbea29fb",
   "metadata": {},
   "outputs": [
    {
     "data": {
      "text/plain": [
       "1990-03-01 09:00    0.378404\n",
       "1990-06-01 09:00   -1.555993\n",
       "1990-09-01 09:00   -0.691739\n",
       "1990-12-01 09:00    0.163211\n",
       "1991-03-01 09:00   -0.144750\n",
       "Freq: H, dtype: float64"
      ]
     },
     "execution_count": 96,
     "metadata": {},
     "output_type": "execute_result"
    }
   ],
   "source": [
    "ts.index = (prng.asfreq('M', 'e') + 1).asfreq('H', 's') + 9\n",
    "ts.head()"
   ]
  },
  {
   "cell_type": "markdown",
   "id": "a2ffd853",
   "metadata": {},
   "source": [
    "## 类别型（Categoricals）"
   ]
  },
  {
   "cell_type": "markdown",
   "id": "08653924",
   "metadata": {},
   "source": [
    "**Pandas** 的 **DataFrame** 里可以包含**类别数据**。"
   ]
  },
  {
   "cell_type": "code",
   "execution_count": 97,
   "id": "bd3c6338",
   "metadata": {},
   "outputs": [
    {
     "data": {
      "text/html": [
       "<div>\n",
       "<style scoped>\n",
       "    .dataframe tbody tr th:only-of-type {\n",
       "        vertical-align: middle;\n",
       "    }\n",
       "\n",
       "    .dataframe tbody tr th {\n",
       "        vertical-align: top;\n",
       "    }\n",
       "\n",
       "    .dataframe thead th {\n",
       "        text-align: right;\n",
       "    }\n",
       "</style>\n",
       "<table border=\"1\" class=\"dataframe\">\n",
       "  <thead>\n",
       "    <tr style=\"text-align: right;\">\n",
       "      <th></th>\n",
       "      <th>id</th>\n",
       "      <th>raw_grade</th>\n",
       "    </tr>\n",
       "  </thead>\n",
       "  <tbody>\n",
       "    <tr>\n",
       "      <th>0</th>\n",
       "      <td>1</td>\n",
       "      <td>a</td>\n",
       "    </tr>\n",
       "    <tr>\n",
       "      <th>1</th>\n",
       "      <td>2</td>\n",
       "      <td>b</td>\n",
       "    </tr>\n",
       "    <tr>\n",
       "      <th>2</th>\n",
       "      <td>3</td>\n",
       "      <td>b</td>\n",
       "    </tr>\n",
       "    <tr>\n",
       "      <th>3</th>\n",
       "      <td>4</td>\n",
       "      <td>a</td>\n",
       "    </tr>\n",
       "    <tr>\n",
       "      <th>4</th>\n",
       "      <td>5</td>\n",
       "      <td>a</td>\n",
       "    </tr>\n",
       "    <tr>\n",
       "      <th>5</th>\n",
       "      <td>6</td>\n",
       "      <td>e</td>\n",
       "    </tr>\n",
       "  </tbody>\n",
       "</table>\n",
       "</div>"
      ],
      "text/plain": [
       "   id raw_grade\n",
       "0   1         a\n",
       "1   2         b\n",
       "2   3         b\n",
       "3   4         a\n",
       "4   5         a\n",
       "5   6         e"
      ]
     },
     "execution_count": 97,
     "metadata": {},
     "output_type": "execute_result"
    }
   ],
   "source": [
    "df = pd.DataFrame({\"id\": [1, 2, 3, 4, 5, 6],\n",
    "                   \"raw_grade\": ['a', 'b', 'b', 'a', 'a', 'e']})\n",
    "df"
   ]
  },
  {
   "cell_type": "markdown",
   "id": "774d5378",
   "metadata": {},
   "source": [
    "将 **grade** 的**原生数据**转换为**类别型数据**："
   ]
  },
  {
   "cell_type": "code",
   "execution_count": 98,
   "id": "342bf820",
   "metadata": {},
   "outputs": [
    {
     "data": {
      "text/plain": [
       "0    a\n",
       "1    b\n",
       "2    b\n",
       "3    a\n",
       "4    a\n",
       "5    e\n",
       "Name: grade, dtype: category\n",
       "Categories (3, object): ['a', 'b', 'e']"
      ]
     },
     "execution_count": 98,
     "metadata": {},
     "output_type": "execute_result"
    }
   ],
   "source": [
    "df[\"grade\"] = df[\"raw_grade\"].astype(\"category\")\n",
    "df[\"grade\"]"
   ]
  },
  {
   "cell_type": "code",
   "execution_count": 99,
   "id": "9a311dc9",
   "metadata": {},
   "outputs": [
    {
     "data": {
      "text/html": [
       "<div>\n",
       "<style scoped>\n",
       "    .dataframe tbody tr th:only-of-type {\n",
       "        vertical-align: middle;\n",
       "    }\n",
       "\n",
       "    .dataframe tbody tr th {\n",
       "        vertical-align: top;\n",
       "    }\n",
       "\n",
       "    .dataframe thead th {\n",
       "        text-align: right;\n",
       "    }\n",
       "</style>\n",
       "<table border=\"1\" class=\"dataframe\">\n",
       "  <thead>\n",
       "    <tr style=\"text-align: right;\">\n",
       "      <th></th>\n",
       "      <th>id</th>\n",
       "      <th>raw_grade</th>\n",
       "      <th>grade</th>\n",
       "    </tr>\n",
       "  </thead>\n",
       "  <tbody>\n",
       "    <tr>\n",
       "      <th>0</th>\n",
       "      <td>1</td>\n",
       "      <td>a</td>\n",
       "      <td>a</td>\n",
       "    </tr>\n",
       "    <tr>\n",
       "      <th>1</th>\n",
       "      <td>2</td>\n",
       "      <td>b</td>\n",
       "      <td>b</td>\n",
       "    </tr>\n",
       "    <tr>\n",
       "      <th>2</th>\n",
       "      <td>3</td>\n",
       "      <td>b</td>\n",
       "      <td>b</td>\n",
       "    </tr>\n",
       "    <tr>\n",
       "      <th>3</th>\n",
       "      <td>4</td>\n",
       "      <td>a</td>\n",
       "      <td>a</td>\n",
       "    </tr>\n",
       "    <tr>\n",
       "      <th>4</th>\n",
       "      <td>5</td>\n",
       "      <td>a</td>\n",
       "      <td>a</td>\n",
       "    </tr>\n",
       "    <tr>\n",
       "      <th>5</th>\n",
       "      <td>6</td>\n",
       "      <td>e</td>\n",
       "      <td>e</td>\n",
       "    </tr>\n",
       "  </tbody>\n",
       "</table>\n",
       "</div>"
      ],
      "text/plain": [
       "   id raw_grade grade\n",
       "0   1         a     a\n",
       "1   2         b     b\n",
       "2   3         b     b\n",
       "3   4         a     a\n",
       "4   5         a     a\n",
       "5   6         e     e"
      ]
     },
     "execution_count": 99,
     "metadata": {},
     "output_type": "execute_result"
    }
   ],
   "source": [
    "df"
   ]
  },
  {
   "cell_type": "markdown",
   "id": "b745ffbf",
   "metadata": {},
   "source": [
    "用**有含义的名字**重命名不同类型，调用 **Series.cat.categories**。"
   ]
  },
  {
   "cell_type": "code",
   "execution_count": 100,
   "id": "900e2f00",
   "metadata": {},
   "outputs": [
    {
     "data": {
      "text/html": [
       "<div>\n",
       "<style scoped>\n",
       "    .dataframe tbody tr th:only-of-type {\n",
       "        vertical-align: middle;\n",
       "    }\n",
       "\n",
       "    .dataframe tbody tr th {\n",
       "        vertical-align: top;\n",
       "    }\n",
       "\n",
       "    .dataframe thead th {\n",
       "        text-align: right;\n",
       "    }\n",
       "</style>\n",
       "<table border=\"1\" class=\"dataframe\">\n",
       "  <thead>\n",
       "    <tr style=\"text-align: right;\">\n",
       "      <th></th>\n",
       "      <th>id</th>\n",
       "      <th>raw_grade</th>\n",
       "      <th>grade</th>\n",
       "    </tr>\n",
       "  </thead>\n",
       "  <tbody>\n",
       "    <tr>\n",
       "      <th>0</th>\n",
       "      <td>1</td>\n",
       "      <td>a</td>\n",
       "      <td>very good</td>\n",
       "    </tr>\n",
       "    <tr>\n",
       "      <th>1</th>\n",
       "      <td>2</td>\n",
       "      <td>b</td>\n",
       "      <td>good</td>\n",
       "    </tr>\n",
       "    <tr>\n",
       "      <th>2</th>\n",
       "      <td>3</td>\n",
       "      <td>b</td>\n",
       "      <td>good</td>\n",
       "    </tr>\n",
       "    <tr>\n",
       "      <th>3</th>\n",
       "      <td>4</td>\n",
       "      <td>a</td>\n",
       "      <td>very good</td>\n",
       "    </tr>\n",
       "    <tr>\n",
       "      <th>4</th>\n",
       "      <td>5</td>\n",
       "      <td>a</td>\n",
       "      <td>very good</td>\n",
       "    </tr>\n",
       "    <tr>\n",
       "      <th>5</th>\n",
       "      <td>6</td>\n",
       "      <td>e</td>\n",
       "      <td>very bad</td>\n",
       "    </tr>\n",
       "  </tbody>\n",
       "</table>\n",
       "</div>"
      ],
      "text/plain": [
       "   id raw_grade      grade\n",
       "0   1         a  very good\n",
       "1   2         b       good\n",
       "2   3         b       good\n",
       "3   4         a  very good\n",
       "4   5         a  very good\n",
       "5   6         e   very bad"
      ]
     },
     "execution_count": 100,
     "metadata": {},
     "output_type": "execute_result"
    }
   ],
   "source": [
    "df[\"grade\"].cat.categories = [\"very good\", \"good\", \"very bad\"]\n",
    "df"
   ]
  },
  {
   "cell_type": "markdown",
   "id": "bb176eee",
   "metadata": {},
   "source": [
    "重新排序各类别，并添加**缺失类**，**Series.cat** 的方法**默认**返回新 **Series**。"
   ]
  },
  {
   "cell_type": "code",
   "execution_count": 101,
   "id": "a04ce8b3",
   "metadata": {},
   "outputs": [
    {
     "data": {
      "text/plain": [
       "0    very good\n",
       "1         good\n",
       "2         good\n",
       "3    very good\n",
       "4    very good\n",
       "5     very bad\n",
       "Name: grade, dtype: category\n",
       "Categories (5, object): ['very bad', 'bad', 'medium', 'good', 'very good']"
      ]
     },
     "execution_count": 101,
     "metadata": {},
     "output_type": "execute_result"
    }
   ],
   "source": [
    "df[\"grade\"] = df[\"grade\"].cat.set_categories([\"very bad\", \"bad\", \"medium\",\n",
    "                                              \"good\", \"very good\"])\n",
    "df[\"grade\"]"
   ]
  },
  {
   "cell_type": "code",
   "execution_count": 102,
   "id": "f3fbb486",
   "metadata": {},
   "outputs": [
    {
     "data": {
      "text/html": [
       "<div>\n",
       "<style scoped>\n",
       "    .dataframe tbody tr th:only-of-type {\n",
       "        vertical-align: middle;\n",
       "    }\n",
       "\n",
       "    .dataframe tbody tr th {\n",
       "        vertical-align: top;\n",
       "    }\n",
       "\n",
       "    .dataframe thead th {\n",
       "        text-align: right;\n",
       "    }\n",
       "</style>\n",
       "<table border=\"1\" class=\"dataframe\">\n",
       "  <thead>\n",
       "    <tr style=\"text-align: right;\">\n",
       "      <th></th>\n",
       "      <th>id</th>\n",
       "      <th>raw_grade</th>\n",
       "      <th>grade</th>\n",
       "    </tr>\n",
       "  </thead>\n",
       "  <tbody>\n",
       "    <tr>\n",
       "      <th>0</th>\n",
       "      <td>1</td>\n",
       "      <td>a</td>\n",
       "      <td>very good</td>\n",
       "    </tr>\n",
       "    <tr>\n",
       "      <th>1</th>\n",
       "      <td>2</td>\n",
       "      <td>b</td>\n",
       "      <td>good</td>\n",
       "    </tr>\n",
       "    <tr>\n",
       "      <th>2</th>\n",
       "      <td>3</td>\n",
       "      <td>b</td>\n",
       "      <td>good</td>\n",
       "    </tr>\n",
       "    <tr>\n",
       "      <th>3</th>\n",
       "      <td>4</td>\n",
       "      <td>a</td>\n",
       "      <td>very good</td>\n",
       "    </tr>\n",
       "    <tr>\n",
       "      <th>4</th>\n",
       "      <td>5</td>\n",
       "      <td>a</td>\n",
       "      <td>very good</td>\n",
       "    </tr>\n",
       "    <tr>\n",
       "      <th>5</th>\n",
       "      <td>6</td>\n",
       "      <td>e</td>\n",
       "      <td>very bad</td>\n",
       "    </tr>\n",
       "  </tbody>\n",
       "</table>\n",
       "</div>"
      ],
      "text/plain": [
       "   id raw_grade      grade\n",
       "0   1         a  very good\n",
       "1   2         b       good\n",
       "2   3         b       good\n",
       "3   4         a  very good\n",
       "4   5         a  very good\n",
       "5   6         e   very bad"
      ]
     },
     "execution_count": 102,
     "metadata": {},
     "output_type": "execute_result"
    }
   ],
   "source": [
    "df"
   ]
  },
  {
   "cell_type": "markdown",
   "id": "cddaca8f",
   "metadata": {},
   "source": [
    "注意，这里是**按生成类别时的顺序排序**，不是**按词汇排序**："
   ]
  },
  {
   "cell_type": "code",
   "execution_count": 103,
   "id": "0ed356f0",
   "metadata": {},
   "outputs": [
    {
     "data": {
      "text/html": [
       "<div>\n",
       "<style scoped>\n",
       "    .dataframe tbody tr th:only-of-type {\n",
       "        vertical-align: middle;\n",
       "    }\n",
       "\n",
       "    .dataframe tbody tr th {\n",
       "        vertical-align: top;\n",
       "    }\n",
       "\n",
       "    .dataframe thead th {\n",
       "        text-align: right;\n",
       "    }\n",
       "</style>\n",
       "<table border=\"1\" class=\"dataframe\">\n",
       "  <thead>\n",
       "    <tr style=\"text-align: right;\">\n",
       "      <th></th>\n",
       "      <th>id</th>\n",
       "      <th>raw_grade</th>\n",
       "      <th>grade</th>\n",
       "    </tr>\n",
       "  </thead>\n",
       "  <tbody>\n",
       "    <tr>\n",
       "      <th>5</th>\n",
       "      <td>6</td>\n",
       "      <td>e</td>\n",
       "      <td>very bad</td>\n",
       "    </tr>\n",
       "    <tr>\n",
       "      <th>1</th>\n",
       "      <td>2</td>\n",
       "      <td>b</td>\n",
       "      <td>good</td>\n",
       "    </tr>\n",
       "    <tr>\n",
       "      <th>2</th>\n",
       "      <td>3</td>\n",
       "      <td>b</td>\n",
       "      <td>good</td>\n",
       "    </tr>\n",
       "    <tr>\n",
       "      <th>0</th>\n",
       "      <td>1</td>\n",
       "      <td>a</td>\n",
       "      <td>very good</td>\n",
       "    </tr>\n",
       "    <tr>\n",
       "      <th>3</th>\n",
       "      <td>4</td>\n",
       "      <td>a</td>\n",
       "      <td>very good</td>\n",
       "    </tr>\n",
       "    <tr>\n",
       "      <th>4</th>\n",
       "      <td>5</td>\n",
       "      <td>a</td>\n",
       "      <td>very good</td>\n",
       "    </tr>\n",
       "  </tbody>\n",
       "</table>\n",
       "</div>"
      ],
      "text/plain": [
       "   id raw_grade      grade\n",
       "5   6         e   very bad\n",
       "1   2         b       good\n",
       "2   3         b       good\n",
       "0   1         a  very good\n",
       "3   4         a  very good\n",
       "4   5         a  very good"
      ]
     },
     "execution_count": 103,
     "metadata": {},
     "output_type": "execute_result"
    }
   ],
   "source": [
    "df.sort_values(by=\"grade\")"
   ]
  },
  {
   "cell_type": "markdown",
   "id": "f9adebdd",
   "metadata": {},
   "source": [
    "按**类别列**分组（groupby）时，即便某类别为空，也会显示："
   ]
  },
  {
   "cell_type": "code",
   "execution_count": 104,
   "id": "b39b7b86",
   "metadata": {},
   "outputs": [
    {
     "data": {
      "text/plain": [
       "grade\n",
       "very bad     1\n",
       "bad          0\n",
       "medium       0\n",
       "good         2\n",
       "very good    3\n",
       "dtype: int64"
      ]
     },
     "execution_count": 104,
     "metadata": {},
     "output_type": "execute_result"
    }
   ],
   "source": [
    "df.groupby(\"grade\").size()"
   ]
  },
  {
   "cell_type": "markdown",
   "id": "e7353c15",
   "metadata": {},
   "source": [
    "## 可视化"
   ]
  },
  {
   "cell_type": "code",
   "execution_count": 105,
   "id": "ee5a5628",
   "metadata": {},
   "outputs": [
    {
     "data": {
      "text/plain": [
       "<AxesSubplot:>"
      ]
     },
     "execution_count": 105,
     "metadata": {},
     "output_type": "execute_result"
    },
    {
     "data": {
      "image/png": "[encoded data removed]",
      "text/plain": [
       "<Figure size 432x288 with 1 Axes>"
      ]
     },
     "metadata": {
      "needs_background": "light"
     },
     "output_type": "display_data"
    }
   ],
   "source": [
    "ts = pd.Series(np.random.randn(1000),\n",
    "               index=pd.date_range('1/1/2000', periods=1000))\n",
    "ts = ts.cumsum()\n",
    "ts.plot()"
   ]
  },
  {
   "cell_type": "markdown",
   "id": "d2b9bb00",
   "metadata": {},
   "source": [
    "**DataFrame** 的 **plot()** 方法可以快速绘制**所有带标签的列**："
   ]
  },
  {
   "cell_type": "code",
   "execution_count": 106,
   "id": "75afef0c",
   "metadata": {},
   "outputs": [
    {
     "data": {
      "text/plain": [
       "<AxesSubplot:>"
      ]
     },
     "execution_count": 106,
     "metadata": {},
     "output_type": "execute_result"
    },
    {
     "data": {
      "image/png": "[encoded data removed]",
      "text/plain": [
       "<Figure size 432x288 with 1 Axes>"
      ]
     },
     "metadata": {
      "needs_background": "light"
     },
     "output_type": "display_data"
    }
   ],
   "source": [
    "df = pd.DataFrame(np.random.randn(1000, 4), index=ts.index,\n",
    "                  columns=['A', 'B', 'C', 'D'])\n",
    "df = df.cumsum()\n",
    "df.plot()"
   ]
  },
  {
   "cell_type": "markdown",
   "id": "c27c8ce9",
   "metadata": {},
   "source": [
    "## 数据输入 / 输出"
   ]
  },
  {
   "cell_type": "code",
   "execution_count": 107,
   "id": "7fe4ad6a",
   "metadata": {},
   "outputs": [],
   "source": [
    "!mkdir -p ./output"
   ]
  },
  {
   "cell_type": "markdown",
   "id": "2ad55d44",
   "metadata": {},
   "source": [
    "### CSV"
   ]
  },
  {
   "cell_type": "markdown",
   "id": "bdf54096",
   "metadata": {},
   "source": [
    "写入 **CSV** 文件。"
   ]
  },
  {
   "cell_type": "code",
   "execution_count": 108,
   "id": "fa563dd5",
   "metadata": {},
   "outputs": [],
   "source": [
    "df.to_csv('./output/foo.csv')"
   ]
  },
  {
   "cell_type": "markdown",
   "id": "c9731d6d",
   "metadata": {},
   "source": [
    "读取 **CSV** 文件数据："
   ]
  },
  {
   "cell_type": "code",
   "execution_count": 109,
   "id": "9665207d",
   "metadata": {},
   "outputs": [
    {
     "data": {
      "text/html": [
       "<div>\n",
       "<style scoped>\n",
       "    .dataframe tbody tr th:only-of-type {\n",
       "        vertical-align: middle;\n",
       "    }\n",
       "\n",
       "    .dataframe tbody tr th {\n",
       "        vertical-align: top;\n",
       "    }\n",
       "\n",
       "    .dataframe thead th {\n",
       "        text-align: right;\n",
       "    }\n",
       "</style>\n",
       "<table border=\"1\" class=\"dataframe\">\n",
       "  <thead>\n",
       "    <tr style=\"text-align: right;\">\n",
       "      <th></th>\n",
       "      <th>Unnamed: 0</th>\n",
       "      <th>A</th>\n",
       "      <th>B</th>\n",
       "      <th>C</th>\n",
       "      <th>D</th>\n",
       "    </tr>\n",
       "  </thead>\n",
       "  <tbody>\n",
       "    <tr>\n",
       "      <th>0</th>\n",
       "      <td>2000-01-01</td>\n",
       "      <td>1.407336</td>\n",
       "      <td>-1.366758</td>\n",
       "      <td>1.321699</td>\n",
       "      <td>1.689886</td>\n",
       "    </tr>\n",
       "    <tr>\n",
       "      <th>1</th>\n",
       "      <td>2000-01-02</td>\n",
       "      <td>1.773102</td>\n",
       "      <td>-1.297804</td>\n",
       "      <td>1.501675</td>\n",
       "      <td>1.655079</td>\n",
       "    </tr>\n",
       "    <tr>\n",
       "      <th>2</th>\n",
       "      <td>2000-01-03</td>\n",
       "      <td>2.158958</td>\n",
       "      <td>-0.023204</td>\n",
       "      <td>2.952180</td>\n",
       "      <td>-0.146267</td>\n",
       "    </tr>\n",
       "    <tr>\n",
       "      <th>3</th>\n",
       "      <td>2000-01-04</td>\n",
       "      <td>1.928531</td>\n",
       "      <td>1.007273</td>\n",
       "      <td>2.068409</td>\n",
       "      <td>-0.440240</td>\n",
       "    </tr>\n",
       "    <tr>\n",
       "      <th>4</th>\n",
       "      <td>2000-01-05</td>\n",
       "      <td>4.199505</td>\n",
       "      <td>3.331968</td>\n",
       "      <td>3.179862</td>\n",
       "      <td>-0.266628</td>\n",
       "    </tr>\n",
       "    <tr>\n",
       "      <th>...</th>\n",
       "      <td>...</td>\n",
       "      <td>...</td>\n",
       "      <td>...</td>\n",
       "      <td>...</td>\n",
       "      <td>...</td>\n",
       "    </tr>\n",
       "    <tr>\n",
       "      <th>995</th>\n",
       "      <td>2002-09-22</td>\n",
       "      <td>26.947362</td>\n",
       "      <td>59.791781</td>\n",
       "      <td>-15.845410</td>\n",
       "      <td>-6.624966</td>\n",
       "    </tr>\n",
       "    <tr>\n",
       "      <th>996</th>\n",
       "      <td>2002-09-23</td>\n",
       "      <td>26.630807</td>\n",
       "      <td>58.815843</td>\n",
       "      <td>-17.130237</td>\n",
       "      <td>-5.849773</td>\n",
       "    </tr>\n",
       "    <tr>\n",
       "      <th>997</th>\n",
       "      <td>2002-09-24</td>\n",
       "      <td>27.528561</td>\n",
       "      <td>57.922209</td>\n",
       "      <td>-16.660029</td>\n",
       "      <td>-6.069054</td>\n",
       "    </tr>\n",
       "    <tr>\n",
       "      <th>998</th>\n",
       "      <td>2002-09-25</td>\n",
       "      <td>26.029153</td>\n",
       "      <td>56.824301</td>\n",
       "      <td>-16.086449</td>\n",
       "      <td>-4.871377</td>\n",
       "    </tr>\n",
       "    <tr>\n",
       "      <th>999</th>\n",
       "      <td>2002-09-26</td>\n",
       "      <td>26.927981</td>\n",
       "      <td>57.657625</td>\n",
       "      <td>-15.087182</td>\n",
       "      <td>-3.756642</td>\n",
       "    </tr>\n",
       "  </tbody>\n",
       "</table>\n",
       "<p>1000 rows × 5 columns</p>\n",
       "</div>"
      ],
      "text/plain": [
       "     Unnamed: 0          A          B          C         D\n",
       "0    2000-01-01   1.407336  -1.366758   1.321699  1.689886\n",
       "1    2000-01-02   1.773102  -1.297804   1.501675  1.655079\n",
       "2    2000-01-03   2.158958  -0.023204   2.952180 -0.146267\n",
       "3    2000-01-04   1.928531   1.007273   2.068409 -0.440240\n",
       "4    2000-01-05   4.199505   3.331968   3.179862 -0.266628\n",
       "..          ...        ...        ...        ...       ...\n",
       "995  2002-09-22  26.947362  59.791781 -15.845410 -6.624966\n",
       "996  2002-09-23  26.630807  58.815843 -17.130237 -5.849773\n",
       "997  2002-09-24  27.528561  57.922209 -16.660029 -6.069054\n",
       "998  2002-09-25  26.029153  56.824301 -16.086449 -4.871377\n",
       "999  2002-09-26  26.927981  57.657625 -15.087182 -3.756642\n",
       "\n",
       "[1000 rows x 5 columns]"
      ]
     },
     "execution_count": 109,
     "metadata": {},
     "output_type": "execute_result"
    }
   ],
   "source": [
    "pd.read_csv('./output/foo.csv')"
   ]
  },
  {
   "cell_type": "markdown",
   "id": "cdbc78c8",
   "metadata": {},
   "source": [
    "### HDF5"
   ]
  },
  {
   "cell_type": "markdown",
   "id": "a5d1c1df",
   "metadata": {},
   "source": [
    "写入 **HDF5 Store**："
   ]
  },
  {
   "cell_type": "code",
   "execution_count": 110,
   "id": "ac385d32",
   "metadata": {},
   "outputs": [
    {
     "name": "stdout",
     "output_type": "stream",
     "text": [
      "Help on method to_hdf in module pandas.core.generic:\n",
      "\n",
      "to_hdf(path_or_buf, key: 'str', mode: 'str' = 'a', complevel: 'int | None' = None, complib: 'str | None' = None, append: 'bool_t' = False, format: 'str | None' = None, index: 'bool_t' = True, min_itemsize: 'int | dict[str, int] | None' = None, nan_rep=None, dropna: 'bool_t | None' = None, data_columns: 'bool_t | list[str] | None' = None, errors: 'str' = 'strict', encoding: 'str' = 'UTF-8') -> 'None' method of pandas.core.frame.DataFrame instance\n",
      "    Write the contained data to an HDF5 file using HDFStore.\n",
      "    \n",
      "    Hierarchical Data Format (HDF) is self-describing, allowing an\n",
      "    application to interpret the structure and contents of a file with\n",
      "    no outside information. One HDF file can hold a mix of related objects\n",
      "    which can be accessed as a group or as individual objects.\n",
      "    \n",
      "    In order to add another DataFrame or Series to an existing HDF file\n",
      "    please use append mode and a different a key.\n",
      "    \n",
      "    .. warning::\n",
      "    \n",
      "       One can store a subclass of ``DataFrame`` or ``Series`` to HDF5,\n",
      "       but the type of the subclass is lost upon storing.\n",
      "    \n",
      "    For more information see the :ref:`user guide <io.hdf5>`.\n",
      "    \n",
      "    Parameters\n",
      "    ----------\n",
      "    path_or_buf : str or pandas.HDFStore\n",
      "        File path or HDFStore object.\n",
      "    key : str\n",
      "        Identifier for the group in the store.\n",
      "    mode : {'a', 'w', 'r+'}, default 'a'\n",
      "        Mode to open file:\n",
      "    \n",
      "        - 'w': write, a new file is created (an existing file with\n",
      "          the same name would be deleted).\n",
      "        - 'a': append, an existing file is opened for reading and\n",
      "          writing, and if the file does not exist it is created.\n",
      "        - 'r+': similar to 'a', but the file must already exist.\n",
      "    complevel : {0-9}, optional\n",
      "        Specifies a compression level for data.\n",
      "        A value of 0 disables compression.\n",
      "    complib : {'zlib', 'lzo', 'bzip2', 'blosc'}, default 'zlib'\n",
      "        Specifies the compression library to be used.\n",
      "        As of v0.20.2 these additional compressors for Blosc are supported\n",
      "        (default if no compressor specified: 'blosc:blosclz'):\n",
      "        {'blosc:blosclz', 'blosc:lz4', 'blosc:lz4hc', 'blosc:snappy',\n",
      "        'blosc:zlib', 'blosc:zstd'}.\n",
      "        Specifying a compression library which is not available issues\n",
      "        a ValueError.\n",
      "    append : bool, default False\n",
      "        For Table formats, append the input data to the existing.\n",
      "    format : {'fixed', 'table', None}, default 'fixed'\n",
      "        Possible values:\n",
      "    \n",
      "        - 'fixed': Fixed format. Fast writing/reading. Not-appendable,\n",
      "          nor searchable.\n",
      "        - 'table': Table format. Write as a PyTables Table structure\n",
      "          which may perform worse but allow more flexible operations\n",
      "          like searching / selecting subsets of the data.\n",
      "        - If None, pd.get_option('io.hdf.default_format') is checked,\n",
      "          followed by fallback to \"fixed\"\n",
      "    errors : str, default 'strict'\n",
      "        Specifies how encoding and decoding errors are to be handled.\n",
      "        See the errors argument for :func:`open` for a full list\n",
      "        of options.\n",
      "    encoding : str, default \"UTF-8\"\n",
      "    min_itemsize : dict or int, optional\n",
      "        Map column names to minimum string sizes for columns.\n",
      "    nan_rep : Any, optional\n",
      "        How to represent null values as str.\n",
      "        Not allowed with append=True.\n",
      "    data_columns : list of columns or True, optional\n",
      "        List of columns to create as indexed data columns for on-disk\n",
      "        queries, or True to use all columns. By default only the axes\n",
      "        of the object are indexed. See :ref:`io.hdf5-query-data-columns`.\n",
      "        Applicable only to format='table'.\n",
      "    \n",
      "    See Also\n",
      "    --------\n",
      "    read_hdf : Read from HDF file.\n",
      "    DataFrame.to_parquet : Write a DataFrame to the binary parquet format.\n",
      "    DataFrame.to_sql : Write to a SQL table.\n",
      "    DataFrame.to_feather : Write out feather-format for DataFrames.\n",
      "    DataFrame.to_csv : Write out to a csv file.\n",
      "    \n",
      "    Examples\n",
      "    --------\n",
      "    >>> df = pd.DataFrame({'A': [1, 2, 3], 'B': [4, 5, 6]},\n",
      "    ...                   index=['a', 'b', 'c'])\n",
      "    >>> df.to_hdf('data.h5', key='df', mode='w')\n",
      "    \n",
      "    We can add another object to the same file:\n",
      "    \n",
      "    >>> s = pd.Series([1, 2, 3, 4])\n",
      "    >>> s.to_hdf('data.h5', key='s')\n",
      "    \n",
      "    Reading from HDF file:\n",
      "    \n",
      "    >>> pd.read_hdf('data.h5', 'df')\n",
      "    A  B\n",
      "    a  1  4\n",
      "    b  2  5\n",
      "    c  3  6\n",
      "    >>> pd.read_hdf('data.h5', 's')\n",
      "    0    1\n",
      "    1    2\n",
      "    2    3\n",
      "    3    4\n",
      "    dtype: int64\n",
      "    \n",
      "    Deleting file with data:\n",
      "    \n",
      "    >>> import os\n",
      "    >>> os.remove('data.h5')\n",
      "\n"
     ]
    }
   ],
   "source": [
    "help(df.to_hdf)"
   ]
  },
  {
   "cell_type": "code",
   "execution_count": 111,
   "id": "485a71a0",
   "metadata": {},
   "outputs": [],
   "source": [
    "df.to_hdf('./output/foo.h5', 'df')"
   ]
  },
  {
   "cell_type": "markdown",
   "id": "6c5a0373",
   "metadata": {},
   "source": [
    "读取 **HDF5 Store**："
   ]
  },
  {
   "cell_type": "code",
   "execution_count": 112,
   "id": "15df2b05",
   "metadata": {},
   "outputs": [
    {
     "data": {
      "text/html": [
       "<div>\n",
       "<style scoped>\n",
       "    .dataframe tbody tr th:only-of-type {\n",
       "        vertical-align: middle;\n",
       "    }\n",
       "\n",
       "    .dataframe tbody tr th {\n",
       "        vertical-align: top;\n",
       "    }\n",
       "\n",
       "    .dataframe thead th {\n",
       "        text-align: right;\n",
       "    }\n",
       "</style>\n",
       "<table border=\"1\" class=\"dataframe\">\n",
       "  <thead>\n",
       "    <tr style=\"text-align: right;\">\n",
       "      <th></th>\n",
       "      <th>A</th>\n",
       "      <th>B</th>\n",
       "      <th>C</th>\n",
       "      <th>D</th>\n",
       "    </tr>\n",
       "  </thead>\n",
       "  <tbody>\n",
       "    <tr>\n",
       "      <th>2000-01-01</th>\n",
       "      <td>1.407336</td>\n",
       "      <td>-1.366758</td>\n",
       "      <td>1.321699</td>\n",
       "      <td>1.689886</td>\n",
       "    </tr>\n",
       "    <tr>\n",
       "      <th>2000-01-02</th>\n",
       "      <td>1.773102</td>\n",
       "      <td>-1.297804</td>\n",
       "      <td>1.501675</td>\n",
       "      <td>1.655079</td>\n",
       "    </tr>\n",
       "    <tr>\n",
       "      <th>2000-01-03</th>\n",
       "      <td>2.158958</td>\n",
       "      <td>-0.023204</td>\n",
       "      <td>2.952180</td>\n",
       "      <td>-0.146267</td>\n",
       "    </tr>\n",
       "    <tr>\n",
       "      <th>2000-01-04</th>\n",
       "      <td>1.928531</td>\n",
       "      <td>1.007273</td>\n",
       "      <td>2.068409</td>\n",
       "      <td>-0.440240</td>\n",
       "    </tr>\n",
       "    <tr>\n",
       "      <th>2000-01-05</th>\n",
       "      <td>4.199505</td>\n",
       "      <td>3.331968</td>\n",
       "      <td>3.179862</td>\n",
       "      <td>-0.266628</td>\n",
       "    </tr>\n",
       "    <tr>\n",
       "      <th>...</th>\n",
       "      <td>...</td>\n",
       "      <td>...</td>\n",
       "      <td>...</td>\n",
       "      <td>...</td>\n",
       "    </tr>\n",
       "    <tr>\n",
       "      <th>2002-09-22</th>\n",
       "      <td>26.947362</td>\n",
       "      <td>59.791781</td>\n",
       "      <td>-15.845410</td>\n",
       "      <td>-6.624966</td>\n",
       "    </tr>\n",
       "    <tr>\n",
       "      <th>2002-09-23</th>\n",
       "      <td>26.630807</td>\n",
       "      <td>58.815843</td>\n",
       "      <td>-17.130237</td>\n",
       "      <td>-5.849773</td>\n",
       "    </tr>\n",
       "    <tr>\n",
       "      <th>2002-09-24</th>\n",
       "      <td>27.528561</td>\n",
       "      <td>57.922209</td>\n",
       "      <td>-16.660029</td>\n",
       "      <td>-6.069054</td>\n",
       "    </tr>\n",
       "    <tr>\n",
       "      <th>2002-09-25</th>\n",
       "      <td>26.029153</td>\n",
       "      <td>56.824301</td>\n",
       "      <td>-16.086449</td>\n",
       "      <td>-4.871377</td>\n",
       "    </tr>\n",
       "    <tr>\n",
       "      <th>2002-09-26</th>\n",
       "      <td>26.927981</td>\n",
       "      <td>57.657625</td>\n",
       "      <td>-15.087182</td>\n",
       "      <td>-3.756642</td>\n",
       "    </tr>\n",
       "  </tbody>\n",
       "</table>\n",
       "<p>1000 rows × 4 columns</p>\n",
       "</div>"
      ],
      "text/plain": [
       "                    A          B          C         D\n",
       "2000-01-01   1.407336  -1.366758   1.321699  1.689886\n",
       "2000-01-02   1.773102  -1.297804   1.501675  1.655079\n",
       "2000-01-03   2.158958  -0.023204   2.952180 -0.146267\n",
       "2000-01-04   1.928531   1.007273   2.068409 -0.440240\n",
       "2000-01-05   4.199505   3.331968   3.179862 -0.266628\n",
       "...               ...        ...        ...       ...\n",
       "2002-09-22  26.947362  59.791781 -15.845410 -6.624966\n",
       "2002-09-23  26.630807  58.815843 -17.130237 -5.849773\n",
       "2002-09-24  27.528561  57.922209 -16.660029 -6.069054\n",
       "2002-09-25  26.029153  56.824301 -16.086449 -4.871377\n",
       "2002-09-26  26.927981  57.657625 -15.087182 -3.756642\n",
       "\n",
       "[1000 rows x 4 columns]"
      ]
     },
     "execution_count": 112,
     "metadata": {},
     "output_type": "execute_result"
    }
   ],
   "source": [
    "pd.read_hdf('./output/foo.h5', 'df')"
   ]
  },
  {
   "cell_type": "markdown",
   "id": "10785160",
   "metadata": {},
   "source": [
    "### Excel"
   ]
  },
  {
   "cell_type": "markdown",
   "id": "0c97aece",
   "metadata": {},
   "source": [
    "写入 **Excel** 文件："
   ]
  },
  {
   "cell_type": "code",
   "execution_count": 113,
   "id": "ba4a1ea0",
   "metadata": {},
   "outputs": [],
   "source": [
    "df.to_excel('./output/foo.xlsx', sheet_name='Sheet1')"
   ]
  },
  {
   "cell_type": "markdown",
   "id": "2df48377",
   "metadata": {},
   "source": [
    "读取 **Excel** 文件："
   ]
  },
  {
   "cell_type": "code",
   "execution_count": 114,
   "id": "16aaa56d",
   "metadata": {},
   "outputs": [
    {
     "data": {
      "text/html": [
       "<div>\n",
       "<style scoped>\n",
       "    .dataframe tbody tr th:only-of-type {\n",
       "        vertical-align: middle;\n",
       "    }\n",
       "\n",
       "    .dataframe tbody tr th {\n",
       "        vertical-align: top;\n",
       "    }\n",
       "\n",
       "    .dataframe thead th {\n",
       "        text-align: right;\n",
       "    }\n",
       "</style>\n",
       "<table border=\"1\" class=\"dataframe\">\n",
       "  <thead>\n",
       "    <tr style=\"text-align: right;\">\n",
       "      <th></th>\n",
       "      <th>Unnamed: 0</th>\n",
       "      <th>A</th>\n",
       "      <th>B</th>\n",
       "      <th>C</th>\n",
       "      <th>D</th>\n",
       "    </tr>\n",
       "  </thead>\n",
       "  <tbody>\n",
       "    <tr>\n",
       "      <th>0</th>\n",
       "      <td>2000-01-01</td>\n",
       "      <td>1.407336</td>\n",
       "      <td>-1.366758</td>\n",
       "      <td>1.321699</td>\n",
       "      <td>1.689886</td>\n",
       "    </tr>\n",
       "    <tr>\n",
       "      <th>1</th>\n",
       "      <td>2000-01-02</td>\n",
       "      <td>1.773102</td>\n",
       "      <td>-1.297804</td>\n",
       "      <td>1.501675</td>\n",
       "      <td>1.655079</td>\n",
       "    </tr>\n",
       "    <tr>\n",
       "      <th>2</th>\n",
       "      <td>2000-01-03</td>\n",
       "      <td>2.158958</td>\n",
       "      <td>-0.023204</td>\n",
       "      <td>2.952180</td>\n",
       "      <td>-0.146267</td>\n",
       "    </tr>\n",
       "    <tr>\n",
       "      <th>3</th>\n",
       "      <td>2000-01-04</td>\n",
       "      <td>1.928531</td>\n",
       "      <td>1.007273</td>\n",
       "      <td>2.068409</td>\n",
       "      <td>-0.440240</td>\n",
       "    </tr>\n",
       "    <tr>\n",
       "      <th>4</th>\n",
       "      <td>2000-01-05</td>\n",
       "      <td>4.199505</td>\n",
       "      <td>3.331968</td>\n",
       "      <td>3.179862</td>\n",
       "      <td>-0.266628</td>\n",
       "    </tr>\n",
       "    <tr>\n",
       "      <th>...</th>\n",
       "      <td>...</td>\n",
       "      <td>...</td>\n",
       "      <td>...</td>\n",
       "      <td>...</td>\n",
       "      <td>...</td>\n",
       "    </tr>\n",
       "    <tr>\n",
       "      <th>995</th>\n",
       "      <td>2002-09-22</td>\n",
       "      <td>26.947362</td>\n",
       "      <td>59.791781</td>\n",
       "      <td>-15.845410</td>\n",
       "      <td>-6.624966</td>\n",
       "    </tr>\n",
       "    <tr>\n",
       "      <th>996</th>\n",
       "      <td>2002-09-23</td>\n",
       "      <td>26.630807</td>\n",
       "      <td>58.815843</td>\n",
       "      <td>-17.130237</td>\n",
       "      <td>-5.849773</td>\n",
       "    </tr>\n",
       "    <tr>\n",
       "      <th>997</th>\n",
       "      <td>2002-09-24</td>\n",
       "      <td>27.528561</td>\n",
       "      <td>57.922209</td>\n",
       "      <td>-16.660029</td>\n",
       "      <td>-6.069054</td>\n",
       "    </tr>\n",
       "    <tr>\n",
       "      <th>998</th>\n",
       "      <td>2002-09-25</td>\n",
       "      <td>26.029153</td>\n",
       "      <td>56.824301</td>\n",
       "      <td>-16.086449</td>\n",
       "      <td>-4.871377</td>\n",
       "    </tr>\n",
       "    <tr>\n",
       "      <th>999</th>\n",
       "      <td>2002-09-26</td>\n",
       "      <td>26.927981</td>\n",
       "      <td>57.657625</td>\n",
       "      <td>-15.087182</td>\n",
       "      <td>-3.756642</td>\n",
       "    </tr>\n",
       "  </tbody>\n",
       "</table>\n",
       "<p>1000 rows × 5 columns</p>\n",
       "</div>"
      ],
      "text/plain": [
       "    Unnamed: 0          A          B          C         D\n",
       "0   2000-01-01   1.407336  -1.366758   1.321699  1.689886\n",
       "1   2000-01-02   1.773102  -1.297804   1.501675  1.655079\n",
       "2   2000-01-03   2.158958  -0.023204   2.952180 -0.146267\n",
       "3   2000-01-04   1.928531   1.007273   2.068409 -0.440240\n",
       "4   2000-01-05   4.199505   3.331968   3.179862 -0.266628\n",
       "..         ...        ...        ...        ...       ...\n",
       "995 2002-09-22  26.947362  59.791781 -15.845410 -6.624966\n",
       "996 2002-09-23  26.630807  58.815843 -17.130237 -5.849773\n",
       "997 2002-09-24  27.528561  57.922209 -16.660029 -6.069054\n",
       "998 2002-09-25  26.029153  56.824301 -16.086449 -4.871377\n",
       "999 2002-09-26  26.927981  57.657625 -15.087182 -3.756642\n",
       "\n",
       "[1000 rows x 5 columns]"
      ]
     },
     "execution_count": 114,
     "metadata": {},
     "output_type": "execute_result"
    }
   ],
   "source": [
    "pd.read_excel('./output/foo.xlsx', 'Sheet1', index_col=None, na_values=['NA'])"
   ]
  },
  {
   "cell_type": "markdown",
   "id": "750671b3",
   "metadata": {},
   "source": [
    "## 各种坑（Gotchas）"
   ]
  },
  {
   "cell_type": "markdown",
   "id": "dcf1b6b8",
   "metadata": {},
   "source": [
    "执行某些操作，将**触发异常**，如:"
   ]
  },
  {
   "cell_type": "code",
   "execution_count": 115,
   "id": "5cb4e8c3",
   "metadata": {},
   "outputs": [
    {
     "ename": "ValueError",
     "evalue": "The truth value of a Series is ambiguous. Use a.empty, a.bool(), a.item(), a.any() or a.all().",
     "output_type": "error",
     "traceback": [
      "\u001b[0;31m---------------------------------------------------------------------------\u001b[0m",
      "\u001b[0;31mValueError\u001b[0m                                Traceback (most recent call last)",
      "\u001b[0;32m/tmp/ipykernel_14721/2648304181.py\u001b[0m in \u001b[0;36m<module>\u001b[0;34m\u001b[0m\n\u001b[0;32m----> 1\u001b[0;31m \u001b[0;32mif\u001b[0m \u001b[0mpd\u001b[0m\u001b[0;34m.\u001b[0m\u001b[0mSeries\u001b[0m\u001b[0;34m(\u001b[0m\u001b[0;34m[\u001b[0m\u001b[0;32mFalse\u001b[0m\u001b[0;34m,\u001b[0m \u001b[0;32mTrue\u001b[0m\u001b[0;34m,\u001b[0m \u001b[0;32mFalse\u001b[0m\u001b[0;34m]\u001b[0m\u001b[0;34m)\u001b[0m\u001b[0;34m:\u001b[0m\u001b[0;34m\u001b[0m\u001b[0;34m\u001b[0m\u001b[0m\n\u001b[0m\u001b[1;32m      2\u001b[0m     \u001b[0mprint\u001b[0m\u001b[0;34m(\u001b[0m\u001b[0;34m\"I was true\"\u001b[0m\u001b[0;34m)\u001b[0m\u001b[0;34m\u001b[0m\u001b[0;34m\u001b[0m\u001b[0m\n",
      "\u001b[0;32m~/anaconda3/lib/python3.9/site-packages/pandas/core/generic.py\u001b[0m in \u001b[0;36m__nonzero__\u001b[0;34m(self)\u001b[0m\n\u001b[1;32m   1535\u001b[0m     \u001b[0;34m@\u001b[0m\u001b[0mfinal\u001b[0m\u001b[0;34m\u001b[0m\u001b[0;34m\u001b[0m\u001b[0m\n\u001b[1;32m   1536\u001b[0m     \u001b[0;32mdef\u001b[0m \u001b[0m__nonzero__\u001b[0m\u001b[0;34m(\u001b[0m\u001b[0mself\u001b[0m\u001b[0;34m)\u001b[0m\u001b[0;34m:\u001b[0m\u001b[0;34m\u001b[0m\u001b[0;34m\u001b[0m\u001b[0m\n\u001b[0;32m-> 1537\u001b[0;31m         raise ValueError(\n\u001b[0m\u001b[1;32m   1538\u001b[0m             \u001b[0;34mf\"The truth value of a {type(self).__name__} is ambiguous. \"\u001b[0m\u001b[0;34m\u001b[0m\u001b[0;34m\u001b[0m\u001b[0m\n\u001b[1;32m   1539\u001b[0m             \u001b[0;34m\"Use a.empty, a.bool(), a.item(), a.any() or a.all().\"\u001b[0m\u001b[0;34m\u001b[0m\u001b[0;34m\u001b[0m\u001b[0m\n",
      "\u001b[0;31mValueError\u001b[0m: The truth value of a Series is ambiguous. Use a.empty, a.bool(), a.item(), a.any() or a.all()."
     ]
    }
   ],
   "source": [
    "if pd.Series([False, True, False]):\n",
    "    print(\"I was true\")"
   ]
  },
  {
   "cell_type": "code",
   "execution_count": null,
   "id": "c048ccdd",
   "metadata": {},
   "outputs": [],
   "source": [
    "pd.Series([False, True, False])"
   ]
  },
  {
   "cell_type": "code",
   "execution_count": null,
   "id": "20f24bd7",
   "metadata": {},
   "outputs": [],
   "source": []
  }
 ],
 "metadata": {
  "kernelspec": {
   "display_name": "Python 3 (ipykernel)",
   "language": "python",
   "name": "python3"
  },
  "language_info": {
   "codemirror_mode": {
    "name": "ipython",
    "version": 3
   },
   "file_extension": ".py",
   "mimetype": "text/x-python",
   "name": "python",
   "nbconvert_exporter": "python",
   "pygments_lexer": "ipython3",
   "version": "3.9.7"
  }
 },
 "nbformat": 4,
 "nbformat_minor": 5
}
